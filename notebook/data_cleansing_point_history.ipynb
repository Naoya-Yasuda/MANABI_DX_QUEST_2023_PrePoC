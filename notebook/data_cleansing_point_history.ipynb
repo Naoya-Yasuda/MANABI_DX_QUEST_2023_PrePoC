{
 "cells": [
  {
   "cell_type": "code",
   "execution_count": null,
   "metadata": {},
   "outputs": [],
   "source": [
    "from itertools import islice\n",
    "import pandas as pd\n",
    "import numpy as np\n",
    "import matplotlib.pyplot as plt\n",
    "import os\n",
    "import sys\n",
    "\n",
    "# カレントディレクトリを.pyと合わせるために以下を実行\n",
    "from pathlib import Path\n",
    "if Path.cwd().name == \"notebook\":\n",
    "    os.chdir(\"..\")\n",
    "\n",
    "\n",
    "# 設定\n",
    "pd.set_option('display.max_rows', 500)\n",
    "pd.set_option('display.min_rows', 500)\n",
    "pd.set_option('display.max_columns', 500)"
   ]
  },
  {
   "cell_type": "code",
   "execution_count": null,
   "metadata": {},
   "outputs": [],
   "source": [
    "def process_chunk(df):\n",
    "    # NaNを含む行を表示\n",
    "    nan_rows = df[df.isna().any(axis=1)]\n",
    "    return nan_rows"
   ]
  },
  {
   "cell_type": "code",
   "execution_count": null,
   "metadata": {},
   "outputs": [],
   "source": [
    "    chunk_size = 10e5  # 一度に読み込む行数\n",
    "    chunks = []  # 各チャンクを保存するためのリスト\n",
    "\n",
    "    for chunk in pd.read_csv('data/input/point_history.csv', chunksize=chunk_size):\n",
    "        # ここで各チャンクに対してデータクレンジング処理を行う\n",
    "        # 例：欠損値の処理、型変換、フィルタリングなど\n",
    "        processed_chunk = process_chunk(chunk)\n",
    "        processed_chunk\n",
    "\n",
    "        # 処理済みのチャンクをリストに追加\n",
    "        # chunks.append(processed_chunk)\n",
    "        #chunks.append(chunk)\n",
    "        break"
   ]
  },
  {
   "cell_type": "code",
   "execution_count": null,
   "metadata": {},
   "outputs": [],
   "source": [
    "print(processed_chunk)"
   ]
  },
  {
   "cell_type": "code",
   "execution_count": null,
   "metadata": {},
   "outputs": [],
   "source": [
    "\n",
    "chunk"
   ]
  },
  {
   "cell_type": "code",
   "execution_count": null,
   "metadata": {},
   "outputs": [],
   "source": [
    "\"\"\"\n",
    "メモ\n",
    "csv詳細に誤りあり→修正版をgdriveに保存（20231205_ER図_データ定義書_ver2(PWで修正）.csv）\n",
    "ほぼすべてNan、Nの行あり→行削除する\n",
    "user_idがNanの場合ぐるっとポン非利用者→行削除する\n",
    "shop_url、free_text、rps_target_store必要ない→列削除する\n",
    "collect_itemに記載の内容は店舗依存に見える→QA表に記載\n",
    "\n",
    "\"\"\""
   ]
  }
 ],
 "metadata": {
  "kernelspec": {
   "display_name": "Python 3",
   "language": "python",
   "name": "python3"
  },
  "language_info": {
   "codemirror_mode": {
    "name": "ipython",
    "version": 3
   },
   "file_extension": ".py",
   "mimetype": "text/x-python",
   "name": "python",
   "nbconvert_exporter": "python",
   "pygments_lexer": "ipython3",
   "version": "3.8.5"
  }
 },
 "nbformat": 4,
 "nbformat_minor": 4
}

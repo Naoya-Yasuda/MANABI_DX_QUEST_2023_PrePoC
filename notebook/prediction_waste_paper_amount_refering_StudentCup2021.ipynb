{
 "cells": [
  {
   "cell_type": "markdown",
   "id": "e7fce208-c3a4-444f-9faf-40eb43445e4e",
   "metadata": {},
   "source": [
    "https://signate.jp/competitions/567/tutorials/39"
   ]
  },
  {
   "cell_type": "markdown",
   "id": "f261e941",
   "metadata": {},
   "source": [
    "# 1. 準備"
   ]
  },
  {
   "cell_type": "markdown",
   "id": "a5646cc3-f07b-4503-be1b-35a5f64d84d1",
   "metadata": {},
   "source": [
    "### 1.1. 基本設定"
   ]
  },
  {
   "cell_type": "code",
   "execution_count": null,
   "id": "762cc329-373b-47e2-839e-0b5838e12554",
   "metadata": {},
   "outputs": [],
   "source": [
    "import pandas as pd\n",
    "import matplotlib.pyplot as plt\n",
    "import seaborn as sns #seabornない人はpip installしてね\n",
    "import os\n",
    "from datetime import datetime\n",
    "import numpy as np\n",
    "from pathlib import Path\n",
    "from sklearn.model_selection import train_test_split\n",
    "from tensorflow.keras.models import Sequential\n",
    "from tensorflow.keras.layers import LSTM, Dense\n",
    "from sklearn.preprocessing import MinMaxScaler\n",
    "from tensorflow.keras.optimizers import Adam\n",
    "import tensorflow as tf\n",
    "from sklearn.model_selection import train_test_split\n",
    "from sklearn.metrics import mean_absolute_error\n",
    "import matplotlib.dates as mdates\n",
    "from sklearn.preprocessing import StandardScaler\n",
    "\n",
    "# カレントディレクトリを.pyと合わせるために以下を実行\n",
    "if Path.cwd().name == \"notebook\":\n",
    "    os.chdir(\"..\")\n",
    "\n",
    "# 設定\n",
    "pd.set_option('display.max_rows', 500)\n",
    "pd.set_option('display.min_rows', 500)\n",
    "pd.set_option('display.max_columns', 500)\n",
    "\n",
    "# 浮動小数点数を小数点以下3桁で表示するように設定\n",
    "pd.set_option('display.float_format', '{:.3f}'.format)"
   ]
  },
  {
   "cell_type": "code",
   "execution_count": null,
   "id": "8f82109b-f924-452e-abc3-fa3b20c4d3b0",
   "metadata": {},
   "outputs": [],
   "source": [
    "# Mac Matplotlibのデフォルトフォントをヒラギノ角ゴシックに設定\n",
    "plt.rcParams['font.family'] = 'Hiragino Sans'"
   ]
  },
  {
   "cell_type": "code",
   "execution_count": null,
   "id": "8251e4e5-10f5-4f55-bf7d-848e21d171ea",
   "metadata": {},
   "outputs": [],
   "source": [
    "# Windows MatplotlibのデフォルトフォントをMeiryoに設定\n",
    "plt.rcParams['font.family'] = 'Meiryo'"
   ]
  },
  {
   "cell_type": "markdown",
   "id": "3af1590e-8ec0-42b2-a2dd-63486506b8bc",
   "metadata": {},
   "source": [
    "### 1.2. csv読み込み"
   ]
  },
  {
   "cell_type": "code",
   "execution_count": null,
   "id": "4d9a51c9",
   "metadata": {},
   "outputs": [],
   "source": [
    "# point_history.csvの読み込み\n",
    "df_point_history_sorce = pd.read_csv('data/input/point_history_cleansing.csv')"
   ]
  },
  {
   "cell_type": "code",
   "execution_count": null,
   "id": "a8c7aad2",
   "metadata": {},
   "outputs": [],
   "source": [
    "# ユーザー基本情報の読み込み\n",
    "df_user_base_sorce = pd.read_csv(\"data/input/user_info_merged.csv\")"
   ]
  },
  {
   "cell_type": "markdown",
   "id": "f7363482-2aa6-455a-a3fe-56fef7ec89e7",
   "metadata": {},
   "source": [
    "### 1.3. データクレンジング"
   ]
  },
  {
   "cell_type": "markdown",
   "id": "1df9883d-42a1-492d-89b3-ddcd9e0a1179",
   "metadata": {},
   "source": [
    "#### 1.3.1. df_user_base(ユーザ基本情報)のクレンジング"
   ]
  },
  {
   "cell_type": "code",
   "execution_count": null,
   "id": "d046f777-24e4-482d-ad0d-76edbe81d1f0",
   "metadata": {},
   "outputs": [],
   "source": [
    "# DataFrameのコピーを作成\n",
    "feature_list = [\n",
    "    'id',\n",
    "    'club_coin',\n",
    "    'recycle_point',\n",
    "    'total_recycle_amount',\n",
    "    'recycle_amount_per_year',\n",
    "    'recycle_amount_after_gold_member',\n",
    "    'rank_continuation_class',\n",
    "    'gender',\n",
    "    #'緯度',   # nan があり、損失関数が出せないので一時的にコメントアウト\n",
    "    #'経度',\n",
    "    '登録日時',\n",
    "    'カード登録',\n",
    "    '最終利用日',\n",
    "    #'登録店舗との距離',\n",
    "    '毎月平均リサイクル量',\n",
    "    '毎月平均リサイクル回数',\n",
    "    '毎月平均クラブコインの使用量',\n",
    "    '毎月平均ガチャの取得量',\n",
    "    '毎月平均ガチャの使用量',\n",
    "    '平均rank',\n",
    "    'サービス利用開始からの経過日数',\n",
    "    'birthday'\n",
    "    ]\n",
    "\n",
    "df_user_base = df_user_base_sorce.copy()\n",
    "df_user_base = df_user_base[feature_list]\n",
    "\n",
    "# 紛らわしい列名を改名\n",
    "df_user_base = df_user_base.rename(columns={'登録日時': 'アプリ登録日時', '最終利用日': 'アプリ最終利用日'})\n",
    "\n",
    "# objectをdatetimeに変更\n",
    "df_user_base['アプリ登録日時'] = pd.to_datetime(df_user_base['アプリ登録日時'], errors='coerce')\n",
    "df_user_base['アプリ最終利用日'] = pd.to_datetime(df_user_base['アプリ最終利用日'], errors='coerce')\n",
    "df_user_base['カード登録'] = pd.to_datetime(df_user_base['カード登録'], errors='coerce')\n",
    "df_user_base['アプリ最終利用日'] = pd.to_datetime(df_user_base['アプリ最終利用日'], errors='coerce')\n",
    "df_user_base['birthday'] = pd.to_datetime(df_user_base['birthday'], errors='coerce')\n",
    "\n",
    "# 6歳未満(1543個)と100歳以上(12個)を削除\n",
    "df_user_base = df_user_base[ (df_user_base['birthday'] < pd.to_datetime('2017-01-01')) & (df_user_base['birthday'] > pd.to_datetime('1924-01-01'))]\n",
    "\n",
    "# df_user_baseに\"age\"と\"age_group\"のカラムを追加\n",
    "df_user_base['age'] = pd.Timestamp.now().year - df_user_base['birthday'].dt.year    # ageの算出・追加\n",
    "\n",
    "# 今回使用しない可能性が高いカラムは削除\n",
    "df_user_base = df_user_base.sort_values(by='アプリ登録日時')"
   ]
  },
  {
   "cell_type": "markdown",
   "id": "c9cd6468-24fd-4fdc-bd0b-bedf6ec72c46",
   "metadata": {},
   "source": [
    "#### 1.3.2. df_point_history(point_history.csv)のクレンジング"
   ]
  },
  {
   "cell_type": "markdown",
   "id": "0826b2c8-c664-404a-bb08-059d8318088c",
   "metadata": {},
   "source": [
    "## TODO:　store_latitude,store_longitudeと、userの緯度経度から、利用店舗との距離を算出してカラムに追加する"
   ]
  },
  {
   "cell_type": "code",
   "execution_count": null,
   "id": "c0171db7-b27e-4c02-839b-83c0d8c16cbb",
   "metadata": {},
   "outputs": [],
   "source": [
    "# DataFrameのコピーを作成\n",
    "df_point_history = df_point_history_sorce.copy()\n",
    "\n",
    "# objectをdatetimeに変更\n",
    "df_point_history['use_date'] = pd.to_datetime(df_point_history['use_date'], errors='coerce')\n",
    "\n",
    "feature_list_point = [\n",
    "    'user_id',\n",
    "    'super',\n",
    "    'status',\n",
    "    'shop_name_1',\n",
    "    'amount_kg',\n",
    "    'rank_id',\n",
    "    'use_date',\n",
    "    'store_latitude',\n",
    "    'store_longitude',\n",
    "    ]\n",
    "df_point_history = df_point_history[feature_list_point]\n",
    "df_point_history = df_point_history.sort_values(by='use_date')\n",
    "\n",
    "# statusが1以外は削除\n",
    "df_point_history = df_point_history[df_point_history['status'] == 1]\n",
    "\n",
    "# amount_kgが0以下は削除\n",
    "df_point_history = df_point_history[df_point_history['amount_kg'] > 0]\n"
   ]
  },
  {
   "cell_type": "markdown",
   "id": "1e72f35c-b01a-40a2-9a6f-9d5738e98365",
   "metadata": {},
   "source": [
    "#### 1.3.3. 分析に必要なカラムの作成"
   ]
  },
  {
   "cell_type": "markdown",
   "id": "60eba03c",
   "metadata": {},
   "source": [
    "継続利用期間（point_historyのuse_date列からRPS最終利用日を抽出したver.）　231228 norosen"
   ]
  },
  {
   "cell_type": "code",
   "execution_count": null,
   "id": "097b28c1",
   "metadata": {},
   "outputs": [],
   "source": [
    "# 各利用者id に対して「RPS利用開始日」「RPS最終利用日」を抽出\n",
    "first_entries_RPS = df_point_history.groupby('user_id').first().reset_index()\n",
    "last_entries_RPS = df_point_history.groupby('user_id').last().reset_index()"
   ]
  },
  {
   "cell_type": "code",
   "execution_count": null,
   "id": "b10f2780",
   "metadata": {},
   "outputs": [],
   "source": [
    "# df_user_baseに利用開始日をマージ\n",
    "df_user_base = pd.merge(df_user_base, first_entries_RPS[['user_id', 'use_date']], left_on='id', right_on='user_id', how='left')\n",
    "df_user_base = df_user_base.rename(columns={'use_date':'RPS利用開始日'})\n",
    "\n",
    "# df_user_baseに最終利用日をマージ\n",
    "df_user_base = pd.merge(df_user_base, last_entries_RPS[['user_id', 'use_date']], left_on='id', right_on='user_id', how='left')\n",
    "df_user_base = df_user_base.rename(columns={'use_date':'RPS最終利用日'})\n",
    "\n",
    "\n",
    "df_user_base['RPS利用開始日'] = pd.to_datetime(df_user_base['RPS利用開始日'], errors='coerce')\n",
    "df_user_base['RPS最終利用日'] = pd.to_datetime(df_user_base['RPS最終利用日'], errors='coerce')"
   ]
  },
  {
   "cell_type": "code",
   "execution_count": null,
   "id": "97fe9b65",
   "metadata": {},
   "outputs": [],
   "source": [
    "df_user_base = df_user_base.drop(columns=['user_id_x', 'user_id_y'])"
   ]
  },
  {
   "cell_type": "code",
   "execution_count": null,
   "id": "742e3833",
   "metadata": {},
   "outputs": [],
   "source": [
    "# RPS継続利用期間を計算\n",
    "df_user_base['RPS継続利用期間(月)'] = (df_user_base['RPS最終利用日'] - df_user_base['RPS利用開始日']).dt.days / 30  # 月単位で計算\n",
    "df_user_base = df_user_base[df_user_base['RPS継続利用期間(月)'] >= 0]"
   ]
  },
  {
   "cell_type": "markdown",
   "id": "f236de65-078b-4ca7-8481-924fda9b01e4",
   "metadata": {},
   "source": [
    "#### 1.3.4. マージ"
   ]
  },
  {
   "cell_type": "code",
   "execution_count": null,
   "id": "65b2243b-7d64-44ac-a2c3-986a827dc05e",
   "metadata": {},
   "outputs": [],
   "source": [
    "df_point_history.head(1)"
   ]
  },
  {
   "cell_type": "code",
   "execution_count": null,
   "id": "6127821c-0832-4aab-aeea-5d36f0fc8fc0",
   "metadata": {},
   "outputs": [],
   "source": [
    "monthly_grouped_point = df_point_history.groupby(['user_id', df_point_history['use_date'].dt.to_period('M')])['amount_kg'].sum()\n",
    "monthly_grouped_point = monthly_grouped_point.reset_index()"
   ]
  },
  {
   "cell_type": "code",
   "execution_count": null,
   "id": "0bb83be8-6989-445f-a7b0-c7b069ca863b",
   "metadata": {},
   "outputs": [],
   "source": [
    "# 全ユーザーに対して、カバーすべき年月の範囲を特定します。\n",
    "date_range = pd.period_range(monthly_grouped_point['use_date'].min(), monthly_grouped_point['use_date'].max(), freq='M')\n",
    "\n",
    "# 全ユーザーIDを取得します。\n",
    "user_ids = monthly_grouped_point['user_id'].unique()\n",
    "\n",
    "# 全てのユーザーIDと年月の組み合わせを持つDataFrameを作成します。\n",
    "all_combinations = pd.MultiIndex.from_product([user_ids, date_range], names=['user_id', 'use_date'])\n",
    "\n",
    "# この新しいDataFrameを元のDataFrameとマージします。これにより、元になかった年月の組み合わせはNaNで埋められます。\n",
    "expanded_df = pd.DataFrame(index=all_combinations).reset_index()\n",
    "expanded_df = expanded_df.merge(monthly_grouped_point, on=['user_id', 'use_date'], how='left')\n",
    "\n",
    "# NaNを0で埋めます。\n",
    "expanded_df['amount_kg'] = expanded_df['amount_kg'].fillna(0)\n",
    "\n",
    "# 最後に'YearMonth'の形式を'YYYY-MM'に戻します。\n",
    "expanded_df['use_date'] = expanded_df['use_date'].dt.strftime('%Y-%m')"
   ]
  },
  {
   "cell_type": "code",
   "execution_count": null,
   "id": "e1dbe1b3-870a-48ae-b6a9-5ed51ce9bf53",
   "metadata": {},
   "outputs": [],
   "source": [
    "merged_df = pd.merge(expanded_df, df_user_base,  left_on='user_id', right_on='id', how='inner')"
   ]
  },
  {
   "cell_type": "code",
   "execution_count": null,
   "id": "83d5a10e-50ed-40eb-80d0-360aa5ad3e2f",
   "metadata": {},
   "outputs": [],
   "source": [
    "merged_df['use_date'] = pd.to_datetime(merged_df['use_date'])\n",
    "merged_df['use_year'] = merged_df['use_date'].dt.year\n",
    "merged_df['use_month'] = merged_df['use_date'].dt.month\n",
    "merged_df['day_name'] = merged_df['use_date'].dt.day_name()\n",
    "merged_df = merged_df.drop(columns = ['user_id',\n",
    "                                      'birthday',\n",
    "                                      'use_date',\n",
    "                                      'RPS利用開始日',\n",
    "                                      'RPS最終利用日',\n",
    "                                      'アプリ最終利用日',\n",
    "                                      'アプリ登録日時',\n",
    "                                      'カード登録'                                      \n",
    "                                     ])"
   ]
  },
  {
   "cell_type": "code",
   "execution_count": null,
   "id": "b2557443-f50e-4f3e-82dc-e71cc886d94b",
   "metadata": {},
   "outputs": [],
   "source": [
    "merged_df = pd.get_dummies(merged_df,columns=['gender','day_name'])"
   ]
  },
  {
   "cell_type": "code",
   "execution_count": null,
   "id": "8f5c5ac0-242f-49a6-a791-0f5a6c7ba5c5",
   "metadata": {},
   "outputs": [],
   "source": [
    "merged_df = merged_df.astype(float)"
   ]
  },
  {
   "cell_type": "code",
   "execution_count": null,
   "id": "6f3569a7-0a46-4dda-93a2-748f35c587bc",
   "metadata": {},
   "outputs": [],
   "source": [
    "first_columns = ['use_year', 'use_month', 'id', 'amount_kg']\n",
    "\n",
    "# first_columns に含まれていないカラムを抽出\n",
    "remaining_columns = [col for col in merged_df.columns if col not in first_columns]\n",
    "\n",
    "# 新しいカラムの順序を生成\n",
    "new_columns_order = first_columns + remaining_columns\n",
    "\n",
    "# DataFrameのカラムを新しい順序で再配置\n",
    "merged_df = merged_df[new_columns_order]"
   ]
  },
  {
   "cell_type": "code",
   "execution_count": null,
   "id": "49e2100b-b75c-4516-802a-64003d38829d",
   "metadata": {},
   "outputs": [],
   "source": [
    "merged_df.head(50)"
   ]
  },
  {
   "cell_type": "code",
   "execution_count": null,
   "id": "fab3066e-59f3-4de0-9a7d-27da8c07c2f7",
   "metadata": {},
   "outputs": [],
   "source": [
    "merged_df.info()"
   ]
  },
  {
   "cell_type": "code",
   "execution_count": null,
   "id": "11bbd248-7567-4e3f-b2d4-858fbd0c904a",
   "metadata": {},
   "outputs": [],
   "source": [
    "merged_df.isna().sum()"
   ]
  },
  {
   "cell_type": "markdown",
   "id": "36971143",
   "metadata": {},
   "source": [
    "# 2. 予測"
   ]
  },
  {
   "cell_type": "code",
   "execution_count": null,
   "id": "bcfccd4e-0bf3-4746-a900-cbcf24eb1c51",
   "metadata": {},
   "outputs": [],
   "source": [
    "#学習用のデータフレームを作成\n",
    "dataset = merged_df.copy()\n",
    "# #評価用のデータフレームを作成(使用するモデルの関係上、前日のデータが必要なため2014-08-31から取得)\n",
    "# evaluation_dataset_df = merged_df[merged_df[\"date\"]>=\"2014-08-31\"]"
   ]
  },
  {
   "cell_type": "code",
   "execution_count": null,
   "id": "e243268c-5ecd-4eb6-a60b-0a35a34eef07",
   "metadata": {},
   "outputs": [],
   "source": [
    "dataset = dataset.sort_values(['use_year','use_month','id'],ascending = True)"
   ]
  },
  {
   "cell_type": "code",
   "execution_count": null,
   "id": "efbc8dbd-49e1-4358-bdcf-069967b5fdfe",
   "metadata": {},
   "outputs": [],
   "source": [
    "# StandardScalerのインスタンスを作成\n",
    "scaler = StandardScaler()\n",
    "\n",
    "# データフレームの全列を標準化\n",
    "# ここでは、ID列など、標準化不要な列は除外する必要があります\n",
    "columns_to_scale = dataset.columns.difference(['id', 'use_year', 'use_month',\n",
    "                                               'gender_女', 'gender_無回答', 'gender_男',\n",
    "                                               'day_name_Friday', 'day_name_Monday', 'day_name_Saturday',\n",
    "                                               'day_name_Sunday', 'day_name_Thursday', 'day_name_Tuesday',\n",
    "                                               'day_name_Wednesday',])\n",
    "dataset[columns_to_scale] = scaler.fit_transform(dataset[columns_to_scale])"
   ]
  },
  {
   "cell_type": "code",
   "execution_count": null,
   "id": "50df3690-b64f-4732-a842-55f01e50941f",
   "metadata": {},
   "outputs": [],
   "source": [
    "dataset.head()"
   ]
  },
  {
   "cell_type": "code",
   "execution_count": null,
   "id": "a4c95472-3de6-43c8-93a0-c6d636aeef54",
   "metadata": {},
   "outputs": [],
   "source": [
    "len(dataset)"
   ]
  },
  {
   "cell_type": "code",
   "execution_count": null,
   "id": "169ba431-9de7-4af1-b608-3428c9c70ce0",
   "metadata": {},
   "outputs": [],
   "source": [
    "#学習用のデータをモデルの学習用とモデルの精度の検証用に分割\n",
    "#今回は、モデル用学習データ:精度用の検証データ = 8 : 2 に分割\n",
    "train_size = int(len(dataset) * 0.8)\n",
    "train, test = dataset[:train_size], dataset[train_size:]\n",
    "\n",
    "print(train.shape)\n",
    "print(test.shape)\n",
    "\n",
    "n_id = dataset['id'].nunique()\n",
    "\n",
    "n_one_set =  6*n_id # 学習する過去データの長さ x idの個数\n",
    "\n",
    "def create_dataset(dataset):\n",
    "    dataX = []\n",
    "    dataY = np.array([])\n",
    "    #1680で1つのデータセットであるため、余りの分は使わない\n",
    "    extra_num = len(dataset) % n_id\n",
    "    max_len = len(dataset)-extra_num\n",
    "    for i in range(n_one_set, max_len, n_id):\n",
    "        xset = []\n",
    "        for j in range(dataset.shape[1]):\n",
    "            a = dataset.iloc[i-n_one_set:i, j]\n",
    "            xset.append(a)\n",
    "        temp_array = np.array(dataset.iloc[i:i+n_id, 3])\n",
    "        dataY = np.concatenate([dataY,temp_array])\n",
    "        dataX.append(xset)\n",
    "    dataY = dataY.reshape(-1,n_id)\n",
    "    return np.array(dataX), dataY "
   ]
  },
  {
   "cell_type": "code",
   "execution_count": null,
   "id": "4a4e0e31-4bb3-41d8-bea0-d6a0a6fd5cb1",
   "metadata": {},
   "outputs": [],
   "source": [
    "trainX, trainY = create_dataset(train)\n",
    "testX, testY = create_dataset(test)"
   ]
  },
  {
   "cell_type": "code",
   "execution_count": null,
   "id": "0f9eb870-f7fe-4a0c-9e5e-c74d3637e81f",
   "metadata": {},
   "outputs": [],
   "source": [
    "print(testX.shape)"
   ]
  },
  {
   "cell_type": "code",
   "execution_count": null,
   "id": "d23a3f68-5e76-4a63-85f6-1a9d84ac3f39",
   "metadata": {},
   "outputs": [],
   "source": [
    "#LSTMのモデルに入力用にデータの形を整形\n",
    "trainX = np.reshape(trainX, (trainX.shape[0], trainX.shape[1], trainX.shape[2]))\n",
    "testX = np.reshape(testX, (testX.shape[0], testX.shape[1], testX.shape[2]))\n",
    "\n",
    "#入力データと正解データの形を確認\n",
    "print(trainX.shape)\n",
    "print(trainY.shape)"
   ]
  },
  {
   "cell_type": "code",
   "execution_count": null,
   "id": "2ca007b6-5ba5-4377-81ae-5634ebf1c9ab",
   "metadata": {},
   "outputs": [],
   "source": [
    "trainX"
   ]
  },
  {
   "cell_type": "code",
   "execution_count": null,
   "id": "ff6956de-51b6-4b16-b210-c3842965d614",
   "metadata": {},
   "outputs": [],
   "source": [
    "trainY"
   ]
  },
  {
   "cell_type": "code",
   "execution_count": null,
   "id": "bde77827-16de-4372-b193-854a0ccf383c",
   "metadata": {},
   "outputs": [],
   "source": [
    "# LSTM モデル構築\n",
    "model = Sequential()\n",
    "model.add(LSTM(2, input_shape=(trainX.shape[1], n_one_set)))\n",
    "model.add(Dense(n_id))\n",
    "model.compile(loss='mean_squared_error', optimizer='adam')"
   ]
  },
  {
   "cell_type": "code",
   "execution_count": null,
   "id": "d56bf807-1c3d-4db1-99ab-bebd3596bb6b",
   "metadata": {},
   "outputs": [],
   "source": [
    "hist = model.fit(trainX, trainY, epochs=3, batch_size=1, verbose=1)"
   ]
  },
  {
   "cell_type": "code",
   "execution_count": null,
   "id": "71f48017-8773-4368-aba7-d63fcab821ef",
   "metadata": {},
   "outputs": [],
   "source": []
  }
 ],
 "metadata": {
  "kernelspec": {
   "display_name": "Python 3 (ipykernel)",
   "language": "python",
   "name": "python3"
  },
  "language_info": {
   "codemirror_mode": {
    "name": "ipython",
    "version": 3
   },
   "file_extension": ".py",
   "mimetype": "text/x-python",
   "name": "python",
   "nbconvert_exporter": "python",
   "pygments_lexer": "ipython3",
   "version": "3.11.5"
  }
 },
 "nbformat": 4,
 "nbformat_minor": 5
}

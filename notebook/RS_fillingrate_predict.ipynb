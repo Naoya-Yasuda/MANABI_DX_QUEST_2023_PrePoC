{
 "cells": [
  {
   "cell_type": "code",
   "execution_count": null,
   "metadata": {},
   "outputs": [],
   "source": [
    "from itertools import islice\n",
    "import pandas as pd\n",
    "import numpy as np\n",
    "import matplotlib.pyplot as plt\n",
    "import matplotlib.dates as mdates\n",
    "import os\n",
    "from tqdm import tqdm \n",
    "import sys\n",
    "from datetime import datetime, timedelta, time\n",
    "from scipy.optimize import curve_fit\n",
    "from scipy import stats\n",
    "import datetime\n",
    "from sklearn.model_selection import train_test_split\n",
    "from sklearn.preprocessing import OneHotEncoder\n",
    "import lightgbm as lgb\n",
    "from sklearn.metrics import mean_squared_error, mean_absolute_error, r2_score\n",
    "import seaborn as sns\n",
    "\n",
    "# カレントディレクトリを.pyと合わせるために以下を実行\n",
    "from pathlib import Path\n",
    "if Path.cwd().name == \"notebook\":\n",
    "    os.chdir(\"..\")\n",
    "\n",
    "# 親ディレクトリをsys.pathに追加\n",
    "sys.path.append(os.path.dirname(os.getcwd()))\n",
    "\n",
    "# Windows MatplotlibのデフォルトフォントをMeiryoに設定\n",
    "plt.rcParams['font.family'] = 'Meiryo'\n",
    "\n",
    "\n",
    "# 設定\n",
    "pd.set_option('display.max_rows', 500)\n",
    "pd.set_option('display.min_rows', 500)\n",
    "pd.set_option('display.max_columns', 500)\n",
    "\n",
    "# 自作モジュール\n",
    "from utils.point_history_utils import open_point_history_per_shop, aggregate_date, replace_nan, set_dtype\n",
    "from RS_filliing_rate.RS_fillingrate_test import plot_recycle_period, chi_squared_statistic, exp_func, power_law, KS_statistic, calc_recycle_period\n"
   ]
  },
  {
   "cell_type": "code",
   "execution_count": null,
   "metadata": {},
   "outputs": [],
   "source": [
    "\n",
    "\n",
    "# 日付特徴量の追加\n",
    "def add_date_features(df):\n",
    "    df[\"month\"] = df[\"年月日\"].dt.month\n",
    "    df[\"day\"] = df[\"年月日\"].dt.day\n",
    "    df[\"year\"] = df[\"年月日\"].dt.year\n",
    "\n",
    "    df[\"day_sin\"] = np.sin(df[\"day\"] / 31 * 2* np.pi)\n",
    "    df[\"day_cos\"] = np.cos(df[\"day\"] / 31 * 2* np.pi)\n",
    "    df.drop(columns=[\"day\"], inplace=True)\n",
    "    \n",
    "    df[\"month_sin\"] = np.sin(df[\"month\"] / 31 * 2* np.pi)\n",
    "    df[\"month_cos\"] = np.cos(df[\"month\"] / 31 * 2* np.pi)\n",
    "    df.drop(columns=[\"month\"], inplace=True)\n",
    "\n",
    "    return df\n",
    "\n",
    "df = pd.read_csv('data/input/point_history_per_shop_date.csv', encoding='utf-8')\n",
    "\n",
    "df = set_dtype(df)\n",
    "df = replace_nan(df)\n",
    "df = add_date_features(df)\n",
    "df.loc[df[\"filling_rate\"] > 1, \"filling_rate\"] = 1\n",
    "df['day_of_week'] = df['年月日'].dt.day_name()\n",
    "\n",
    "# Drop unnecessary columns\n",
    "columns_to_drop = ['series_id', 'shop_id', 'shop_name', 'shop_id_1', 'リサイクル分類ID', '支店ID', 'store_opening_time',\\\n",
    "                    'store_closing_time', 'rps_opening_time', 'rps_closing_time','年月日', 'interval_compared_to_next', \\\n",
    "                        'amount','amount_kg','point','total_point','total_amount','coin', 'interval_compared_to_previous', 'total_amount_kg_per_day',\\\n",
    "                            'store_latitude', 'store_longitude', 'total_amount_kg_per_day', 'store_']\n",
    "df.drop(columns=columns_to_drop, inplace=True, errors='ignore')"
   ]
  },
  {
   "cell_type": "code",
   "execution_count": null,
   "metadata": {},
   "outputs": [],
   "source": [
    "df.head()"
   ]
  },
  {
   "cell_type": "code",
   "execution_count": null,
   "metadata": {},
   "outputs": [],
   "source": [
    "\n",
    "\n",
    "# Handle categorical variables with one-hot encoding\n",
    "categorical_columns = ['prefectures', 'municipality','shop_name_1','super', '天気', 'day_of_week']\n",
    "df = pd.get_dummies(df, columns=categorical_columns)\n",
    "\n",
    "# Split the data into features and target\n",
    "X = df.drop('filling_rate', axis=1)\n",
    "y = df['filling_rate']"
   ]
  },
  {
   "cell_type": "code",
   "execution_count": null,
   "metadata": {},
   "outputs": [],
   "source": [
    "df.head()"
   ]
  },
  {
   "cell_type": "code",
   "execution_count": null,
   "metadata": {},
   "outputs": [],
   "source": [
    "# Split the data into training and testing sets\n",
    "X_train, X_test, y_train, y_test = train_test_split(X, y, test_size=0.2, random_state=42)\n",
    "\n",
    "# Train the LightGBM model\n",
    "train_data = lgb.Dataset(X_train, label=y_train)\n",
    "param = {'num_leaves': 31, 'objective': 'regression'}\n",
    "num_round = 100\n",
    "bst = lgb.train(param, train_data, num_round)\n",
    "\n",
    "# Predict and evaluate the model\n",
    "y_pred = bst.predict(X_test, num_iteration=bst.best_iteration)\n",
    "\n",
    "# Evaluate the predictions\n",
    "# Calculate and print evaluation metrics\n",
    "mse = mean_squared_error(y_test, y_pred)\n",
    "mae = mean_absolute_error(y_test, y_pred)\n",
    "rmse = np.sqrt(mse)\n",
    "r2 = r2_score(y_test, y_pred)\n",
    "\n",
    "print(f'Mean Squared Error (MSE): {mse}')\n",
    "print(f'Mean Absolute Error (MAE): {mae}')\n",
    "print(f'Root Mean Squared Error (RMSE): {rmse}')\n",
    "print(f'R-squared (R2): {r2}')\n",
    "\n",
    "print(\"actual\")\n",
    "print(y_test[:10].values)\n",
    "print(\"pred\")\n",
    "print(y_pred[:10])"
   ]
  },
  {
   "cell_type": "code",
   "execution_count": null,
   "metadata": {},
   "outputs": [],
   "source": [
    "plt.figure(figsize=(10, 6))\n",
    "sns.scatterplot(x=y_test, y=y_pred)\n",
    "plt.title('Actual vs Predicted Values')\n",
    "plt.xlabel('Actual Values')\n",
    "plt.ylabel('Predicted Values')\n",
    "\n",
    "# Plot a line representing perfect predictions\n",
    "plt.plot([y_test.min(), y_test.max()], [y_test.min(), y_test.max()], color='red', lw=2, linestyle='--')\n",
    "plt.show()"
   ]
  },
  {
   "cell_type": "code",
   "execution_count": null,
   "metadata": {},
   "outputs": [],
   "source": [
    "# 1. 特徴量の重要性を取得\n",
    "feature_importances = bst.feature_importance(importance_type='split')\n",
    "feature_names = X_train.columns\n",
    "\n",
    "# 2. 特徴量の名前とその重要性を組み合わせてDataFrameを作成\n",
    "feature_importance_df = pd.DataFrame({'Feature': feature_names, 'Importance': feature_importances})\n",
    "\n",
    "# 3. DataFrameを重要性でソート\n",
    "feature_importance_df = feature_importance_df.sort_values(by='Importance', ascending=False)\n",
    "\n",
    "# 4. 特徴量の重要性を棒グラフで表示\n",
    "plt.figure(figsize=(10, 100))\n",
    "sns.barplot(x='Importance', y='Feature', data=feature_importance_df)\n",
    "plt.title('Feature Importances')\n",
    "plt.xlabel('Importance')\n",
    "plt.ylabel('Feature')\n",
    "plt.tight_layout()\n",
    "plt.show()"
   ]
  },
  {
   "cell_type": "code",
   "execution_count": null,
   "metadata": {},
   "outputs": [],
   "source": []
  },
  {
   "cell_type": "code",
   "execution_count": null,
   "metadata": {},
   "outputs": [],
   "source": []
  },
  {
   "cell_type": "code",
   "execution_count": null,
   "metadata": {},
   "outputs": [],
   "source": []
  },
  {
   "cell_type": "code",
   "execution_count": null,
   "metadata": {},
   "outputs": [],
   "source": []
  },
  {
   "cell_type": "code",
   "execution_count": null,
   "metadata": {},
   "outputs": [],
   "source": []
  },
  {
   "cell_type": "code",
   "execution_count": null,
   "metadata": {},
   "outputs": [],
   "source": []
  }
 ],
 "metadata": {
  "kernelspec": {
   "display_name": "patchworks",
   "language": "python",
   "name": "python3"
  },
  "language_info": {
   "codemirror_mode": {
    "name": "ipython",
    "version": 3
   },
   "file_extension": ".py",
   "mimetype": "text/x-python",
   "name": "python",
   "nbconvert_exporter": "python",
   "pygments_lexer": "ipython3",
   "version": "3.11.5"
  }
 },
 "nbformat": 4,
 "nbformat_minor": 2
}

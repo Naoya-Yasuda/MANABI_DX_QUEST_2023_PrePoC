{
 "cells": [
  {
   "cell_type": "code",
   "execution_count": null,
   "metadata": {},
   "outputs": [],
   "source": [
    "import requests\n",
    "import os\n",
    "from datetime import datetime, timedelta\n",
    "import pandas as pd\n",
    "import json\n",
    "import numpy as np\n",
    "\n",
    "\n",
    "# カレントディレクトリを.pyと合わせるために以下を実行\n",
    "from pathlib import Path\n",
    "if Path.cwd().name == \"notebook\":\n",
    "    os.chdir(\"..\")\n",
    "\n",
    "\n",
    "# 設定\n",
    "pd.set_option('display.max_rows', 100)\n",
    "pd.set_option('display.min_rows', 100)\n",
    "pd.set_option('display.max_columns', 100)"
   ]
  },
  {
   "cell_type": "markdown",
   "metadata": {},
   "source": [
    "天気データを結合"
   ]
  },
  {
   "cell_type": "code",
   "execution_count": null,
   "metadata": {},
   "outputs": [],
   "source": [
    "# 仙台.csvとdata.csv(平均雲量(10分比)  降雪量合計(cm) 降雪量合計(cm).1  日照時間(時間)等を記載）について、年月日で密結合し、data2.csvに上書き\n",
    "file = 'data/input/weather_data/我孫子.csv'\n",
    "df1 = pd.read_csv(file, encoding=\"shift-jis\")\n",
    "df2 = pd.read_csv('data/input/weather_data/data.csv', encoding=\"cp932\")\n",
    "\n",
    "\n",
    "df_concat = pd.merge(df1, df2, on='年月日')\n",
    "print(df_concat[:10])\n",
    "# 天気概況(昼：06時～18時)を天気(06時～18時)に変更\n",
    "df_concat = df_concat.rename(columns={'天気概況(昼：06時～18時)': '天気'})\n",
    "# 天気列について[晴, 曇, 雨, 雪]の文字列のみを抽出する。複数抽出された場合は左側の文字を優先（例：雨曇晴→雨）。みぞれは雨とする。\n",
    "df_concat['天気'] = df_concat['天気'].str.extract('(晴|曇|雨|雪)', expand=False).fillna('雨')\n",
    "#df_concat = df_concat.drop(columns=['日照時間(時間).1', '降雪量合計(cm).1','降水量の合計(mm).1','天気概況(夜：18時～翌日06時)'])\n",
    "df_concat = df_concat.drop(columns=['日照時間(時間).1', '天気概況(夜：18時～翌日06時)'])\n",
    "\n",
    "\n",
    "df_concat.to_csv('data/input/weather_data/data2.csv', index=False, encoding=\"cp932\")"
   ]
  },
  {
   "cell_type": "code",
   "execution_count": null,
   "metadata": {},
   "outputs": [],
   "source": [
    "df_concat[:10]"
   ]
  },
  {
   "cell_type": "code",
   "execution_count": null,
   "metadata": {},
   "outputs": [],
   "source": [
    "# data/input/CityToFileMapping.csvを読み込む\n",
    "city_to_file_mapping = pd.read_csv(\"data/input/weather_data/CityToFileMapping.csv\", encoding=\"utf-8\")\n",
    "\n",
    "df_weather = pd.DataFrame()\n",
    "# city_to_file_mappingのfile_nameに.csvがついたファイルをdata/input/から順に読み込み、先頭列にファイル名を付け足し、行方向に結合する\n",
    "for index, row in city_to_file_mapping.iterrows():\n",
    "    prefecture = row[\"県\"]\n",
    "    municipality = row[\"市\"]\n",
    "    file_name = row[\"ファイル名\"]\n",
    "    lat = row[\"lat\"]\n",
    "    lon = row[\"lon\"]\n",
    "    df_tmp = pd.read_csv(f\"data/input/weather_data/{file_name}.csv\", encoding=\"cp932\")\n",
    "    df_tmp['県'] = prefecture\n",
    "    df_tmp['市'] = municipality\n",
    "    df_tmp['lat'] = lat\n",
    "    df_tmp['lon'] = lon\n",
    "    # df_tmpに「日付」列があれば、それを「年月日」列に変更\n",
    "    if '日付' in df_tmp.columns:\n",
    "        df_tmp = df_tmp.rename(columns={'日付': '年月日'})\n",
    "    \n",
    "    \n",
    "    while df_tmp['年月日'].isnull().any():\n",
    "        df_tmp = df_tmp[1:]\n",
    "        \n",
    "    df_weather = pd.concat([df_weather, df_tmp], axis=0)\n",
    "    # '降水量の合計(mm).1'という列があれば、削除\n",
    "    if '降水量の合計(mm).1' in df_weather.columns:\n",
    "        df_weather = df_weather.drop(columns=['降水量の合計(mm).1'])\n",
    "    \n",
    "    # 降雪量合計(cm).1という列があれば、削除\n",
    "    if '降雪量合計(cm).1' in df_weather.columns:\n",
    "        df_weather = df_weather.drop(columns=['降雪量合計(cm).1'])\n",
    "\n",
    "        \n",
    "\n",
    "# df_weatherの列順を年月日、県、市、天気、それ以外の順にする\n",
    "df_weather = df_weather[['年月日', '県', '市', '天気'] + [col for col in df_weather.columns if col not in ['年月日', '県', '市', '天気']]]"
   ]
  },
  {
   "cell_type": "code",
   "execution_count": null,
   "metadata": {},
   "outputs": [],
   "source": [
    "# カスタム関数を定義\n",
    "def parse_date(date):\n",
    "    try:\n",
    "        return pd.to_datetime(date)\n",
    "    except ValueError:\n",
    "        try:\n",
    "            return pd.to_datetime(date, format='%Y年%m月%d日')\n",
    "        except ValueError:\n",
    "            return pd.to_datetime(date, format='%Y/%m/%d')"
   ]
  },
  {
   "cell_type": "code",
   "execution_count": null,
   "metadata": {},
   "outputs": [],
   "source": [
    "df_weather = df_weather.replace('--', np.nan)\n",
    "df_weather = df_weather.replace('NaN', np.nan)\n",
    "df_weather = df_weather.replace('///', np.nan)\n",
    "df_weather = df_weather.replace('nan', np.nan)\n",
    "column_types = {\n",
    "    '県': str,\n",
    "    '市': str,\n",
    "    '天気': str,\n",
    "    '平均気温(℃)': np.float16,\n",
    "    '最高気温(℃)': np.float16,\n",
    "    '最低気温(℃)': np.float16,\n",
    "    '降水量の合計(mm)': np.float16,\n",
    "    '平均風速(m/s)': np.float16,\n",
    "    '平均湿度(％)': np.float16,\n",
    "    '平均現地気圧(hPa)': np.float16,\n",
    "    'lat': np.double,\n",
    "    'lon': np.double,\n",
    "    '平均雲量(10分比)': np.float16,\n",
    "    '降雪量合計(cm)': np.float16,\n",
    "    '日照時間(時間)': np.float16,\n",
    "    '合計全天日射量(MJ/㎡)': np.float16,\n",
    "}\n",
    "df_weather['年月日'] = df_weather['年月日'].apply(parse_date)\n",
    "df_weather['年月日'] = pd.to_datetime(df_weather['年月日'])\n",
    "df_weather = df_weather.astype(column_types)    # 型変換"
   ]
  },
  {
   "cell_type": "code",
   "execution_count": null,
   "metadata": {},
   "outputs": [],
   "source": [
    "df_weather = df_weather.replace('--', np.nan)\n",
    "df_weather = df_weather.replace('NaN', np.nan)\n",
    "df_weather = df_weather.replace('///', np.nan)\n",
    "df_weather = df_weather.replace('nan', np.nan)\n"
   ]
  },
  {
   "cell_type": "code",
   "execution_count": null,
   "metadata": {},
   "outputs": [],
   "source": [
    "df_weather[:10]"
   ]
  },
  {
   "cell_type": "markdown",
   "metadata": {},
   "source": [
    "不足データは近い地点のもので代替"
   ]
  },
  {
   "cell_type": "code",
   "execution_count": null,
   "metadata": {},
   "outputs": [],
   "source": [
    "df_weather['天気'].value_counts()"
   ]
  },
  {
   "cell_type": "code",
   "execution_count": null,
   "metadata": {},
   "outputs": [],
   "source": [
    "df_weather[df_weather['天気'] == \"nan\"]"
   ]
  },
  {
   "cell_type": "code",
   "execution_count": null,
   "metadata": {},
   "outputs": [],
   "source": [
    "# 同じ「年月日」と「県」のグループでdf_weather2の文字列NaNをmax()に置き換える\n",
    "df_weather['天気'] = df_weather.groupby(['年月日', '県'])['天気'].transform(lambda x: x.fillna(x.dropna().max()))\n",
    "df_weather['平均気温(℃)'] = df_weather.groupby(['年月日', '県'])['平均気温(℃)'].transform(lambda x: x.fillna(x.dropna().max()))\n",
    "df_weather['最高気温(℃)'] = df_weather.groupby(['年月日', '県'])['最高気温(℃)'].transform(lambda x: x.fillna(x.dropna().max()))\n",
    "df_weather['最低気温(℃)'] = df_weather.groupby(['年月日', '県'])['最低気温(℃)'].transform(lambda x: x.fillna(x.dropna().max()))\n",
    "df_weather['降水量の合計(mm)'] = df_weather.groupby(['年月日', '県'])['降水量の合計(mm)'].transform(lambda x: x.fillna(x.dropna().max()))\n",
    "df_weather['日照時間(時間)'] = df_weather.groupby(['年月日', '県'])['日照時間(時間)'].transform(lambda x: x.fillna(x.dropna().max()))\n",
    "df_weather['降雪量合計(cm)'] = df_weather.groupby(['年月日', '県'])['降雪量合計(cm)'].transform(lambda x: x.fillna(x.dropna().max()))\n",
    "df_weather['平均風速(m/s)'] = df_weather.groupby(['年月日', '県'])['平均風速(m/s)'].transform(lambda x: x.fillna(x.dropna().max()))\n",
    "df_weather['平均湿度(％)'] = df_weather.groupby(['年月日', '県'])['平均湿度(％)'].transform(lambda x: x.fillna(x.dropna().max()))\n",
    "df_weather['平均雲量(10分比)'] = df_weather.groupby(['年月日', '県'])['平均雲量(10分比)'].transform(lambda x: x.fillna(x.dropna().max()))\n",
    "df_weather['合計全天日射量(MJ/㎡)'] = df_weather.groupby(['年月日', '県'])['合計全天日射量(MJ/㎡)'].transform(lambda x: x.fillna(x.dropna().max()))\n",
    "df_weather['平均現地気圧(hPa)'] = df_weather.groupby(['年月日', '県'])['平均現地気圧(hPa)'].transform(lambda x: x.fillna(x.dropna().max()))\n"
   ]
  },
  {
   "cell_type": "code",
   "execution_count": null,
   "metadata": {},
   "outputs": [],
   "source": [
    "df_weather['天気'].value_counts()"
   ]
  },
  {
   "cell_type": "code",
   "execution_count": null,
   "metadata": {},
   "outputs": [],
   "source": [
    "df_weather[(df_weather[\"天気\"] != \"晴\") & (df_weather[\"天気\"] != \"曇\") & (df_weather[\"天気\"] != \"雨\") & (df_weather[\"天気\"] != \"雪\")]"
   ]
  },
  {
   "cell_type": "code",
   "execution_count": null,
   "metadata": {},
   "outputs": [],
   "source": [
    "df_weather.to_csv('data/input/weather_data/weather.csv', index=False, encoding=\"utf-8\")"
   ]
  },
  {
   "cell_type": "markdown",
   "metadata": {},
   "source": [
    "point_historyと結合"
   ]
  },
  {
   "cell_type": "code",
   "execution_count": null,
   "metadata": {},
   "outputs": [],
   "source": [
    "df_weather = pd.read_csv('data/input/weather_data/weather.csv', encoding=\"utf-8\")"
   ]
  },
  {
   "cell_type": "code",
   "execution_count": null,
   "metadata": {},
   "outputs": [],
   "source": [
    "df_point_history = pd.read_csv('data/input/point_history_cleansing_2.csv', encoding=\"utf-8\")  # point_history_2.csv（都道府県、市を含む）を読み込む\n",
    "df_point_history[:3]"
   ]
  },
  {
   "cell_type": "code",
   "execution_count": null,
   "metadata": {},
   "outputs": [],
   "source": [
    "# 同じ「shop_id」のグループでdf_weather2の文字列NaNをmax()に置き換える\n",
    "df_weather['天気'] = df_weather.groupby(['年月日', '県'])['天気'].transform(lambda x: x.fillna(x.dropna().max()))\n",
    "df_weather['平均気温(℃)'] = df_weather.groupby(['年月日', '県'])['平均気温(℃)'].transform(lambda x: x.fillna(x.dropna().max()))\n",
    "df_weather['最高気温(℃)'] = df_weather.groupby(['年月日', '県'])['最高気温(℃)'].transform(lambda x: x.fillna(x.dropna().max()))\n",
    "df_weather['最低気温(℃)'] = df_weather.groupby(['年月日', '県'])['最低気温(℃)'].transform(lambda x: x.fillna(x.dropna().max()))\n",
    "df_weather['降水量の合計(mm)'] = df_weather.groupby(['年月日', '県'])['降水量の合計(mm)'].transform(lambda x: x.fillna(x.dropna().max()))\n",
    "df_weather['日照時間(時間)'] = df_weather.groupby(['年月日', '県'])['日照時間(時間)'].transform(lambda x: x.fillna(x.dropna().max()))\n",
    "df_weather['降雪量合計(cm)'] = df_weather.groupby(['年月日', '県'])['降雪量合計(cm)'].transform(lambda x: x.fillna(x.dropna().max()))\n",
    "df_weather['平均風速(m/s)'] = df_weather.groupby(['年月日', '県'])['平均風速(m/s)'].transform(lambda x: x.fillna(x.dropna().max()))\n",
    "df_weather['平均湿度(％)'] = df_weather.groupby(['年月日', '県'])['平均湿度(％)'].transform(lambda x: x.fillna(x.dropna().max()))\n",
    "df_weather['平均雲量(10分比)'] = df_weather.groupby(['年月日', '県'])['平均雲量(10分比)'].transform(lambda x: x.fillna(x.dropna().max()))\n",
    "df_weather['合計全天日射量(MJ/㎡)'] = df_weather.groupby(['年月日', '県'])['合計全天日射量(MJ/㎡)'].transform(lambda x: x.fillna(x.dropna().max()))\n",
    "df_weather['平均現地気圧(hPa)'] = df_weather.groupby(['年月日', '県'])['平均現地気圧(hPa)'].transform(lambda x: x.fillna(x.dropna().max()))\n"
   ]
  },
  {
   "cell_type": "code",
   "execution_count": null,
   "metadata": {},
   "outputs": [],
   "source": [
    "# use_date列をparse_date関数で日付型に変換し、時間は切り捨てし、[use_date_2]列に格納\n",
    "df_point_history['use_date_2'] = pd.to_datetime(df_point_history['use_date']).dt.floor('d')\n",
    "df_point_history[:3]"
   ]
  },
  {
   "cell_type": "code",
   "execution_count": null,
   "metadata": {},
   "outputs": [],
   "source": [
    "# '市'または'群'に続く文字を削除\n",
    "df_point_history['municipality'] = df_point_history['municipality'].str.replace(r'(市|郡).*', r'\\1', regex=True)"
   ]
  },
  {
   "cell_type": "code",
   "execution_count": null,
   "metadata": {},
   "outputs": [],
   "source": [
    "df_point_history.loc[df_point_history['municipality'] == \"群\"].loc['municipality'] = \"郡山群\"\n",
    "df_point_history.loc[df_point_history['municipality'] == \"塩竉市\"].loc['municipality'] = \"塩竈市\""
   ]
  },
  {
   "cell_type": "code",
   "execution_count": null,
   "metadata": {},
   "outputs": [],
   "source": [
    "unique_municipalities = df_point_history['municipality'].unique()\n",
    "unique_municipalities"
   ]
  },
  {
   "cell_type": "code",
   "execution_count": null,
   "metadata": {},
   "outputs": [],
   "source": [
    "# 'use_date_2'列をdatetime型に変換\n",
    "df_point_history['use_date_2'] = pd.to_datetime(df_point_history['use_date_2'])\n",
    "\n",
    "# '年月日'列をdatetime型に変換\n",
    "df_weather['年月日'] = pd.to_datetime(df_weather['年月日'])\n",
    "\n",
    "# df_weatherのlat, lon列を削除\n",
    "#df_weather = df_weather.drop(columns=['lat', 'lon'])\n",
    "\n",
    "# df_point_historyのmunicipalityとuse_date_2、df_weatherの市と年月日で結合し、df_point_history_weatherに格納\n",
    "df_point_history_weather = pd.merge(df_point_history, df_weather, left_on=['municipality', 'use_date_2'], right_on=['市', '年月日'], how='left')\n",
    "\n",
    "# 削除\n",
    "# df_point_history_weather = df_point_history_weather.drop(columns=['use_date_2'])\n",
    "\n",
    "df_point_history_weather = df_point_history_weather.drop(columns=['県','市'])\n",
    "\n",
    "df_point_history_weather[:3]"
   ]
  },
  {
   "cell_type": "code",
   "execution_count": null,
   "metadata": {},
   "outputs": [],
   "source": [
    "df_point_history_weather[\"天気\"].value_counts()"
   ]
  },
  {
   "cell_type": "code",
   "execution_count": null,
   "metadata": {},
   "outputs": [],
   "source": [
    "df_point_history = df_point_history.replace('--', np.nan)\n",
    "df_point_history = df_point_history.replace('NaN', np.nan)\n",
    "df_point_history = df_point_history.replace('nan', np.nan)\n",
    "#df_point_history.loc[(df_point_history[\"shop_id\"]==51.0) & (df_point_history[\"prefectures\"]!=np.nan)]"
   ]
  },
  {
   "cell_type": "code",
   "execution_count": null,
   "metadata": {},
   "outputs": [],
   "source": [
    "a = df_point_history_weather[(df_point_history_weather[\"天気\"] != \"晴\") & (df_point_history_weather[\"天気\"] != \"曇\") & (df_point_history_weather[\"天気\"] != \"雨\") & (df_point_history_weather[\"天気\"] != \"雪\")]"
   ]
  },
  {
   "cell_type": "code",
   "execution_count": null,
   "metadata": {},
   "outputs": [],
   "source": [
    "a.shape"
   ]
  },
  {
   "cell_type": "code",
   "execution_count": null,
   "metadata": {},
   "outputs": [],
   "source": [
    "a[\"prefectures\"].value_counts()"
   ]
  },
  {
   "cell_type": "code",
   "execution_count": null,
   "metadata": {},
   "outputs": [],
   "source": [
    "a[\"shop_name\"].value_counts()"
   ]
  },
  {
   "cell_type": "code",
   "execution_count": null,
   "metadata": {},
   "outputs": [],
   "source": [
    "df_point_history_weather[(df_point_history_weather[\"天気\"] != \"晴\") & (df_point_history_weather[\"天気\"] != \"曇\") & (df_point_history_weather[\"天気\"] != \"雨\") & (df_point_history_weather[\"天気\"] != \"雪\")][100:120]"
   ]
  },
  {
   "cell_type": "code",
   "execution_count": null,
   "metadata": {},
   "outputs": [],
   "source": []
  },
  {
   "cell_type": "code",
   "execution_count": null,
   "metadata": {},
   "outputs": [],
   "source": [
    "df_point_history_weather = df_point_history_weather.replace('N', np.nan)\n",
    "df_point_history_weather = df_point_history_weather.replace('nan', np.nan)\n",
    "df_point_history_weather = df_point_history_weather.replace('NaN', np.nan)\n",
    "df_point_history_weather[df_point_history_weather[\"shop_name\"] == \"スーパービッグ吉成店\"][df_point_history_weather[\"prefectures\"] != np.nan]"
   ]
  },
  {
   "cell_type": "code",
   "execution_count": null,
   "metadata": {},
   "outputs": [],
   "source": [
    "df_point_history_weather.to_csv('data/input/point_history_cleansing_weather.csv', index=False, encoding=\"utf-8\")"
   ]
  },
  {
   "cell_type": "markdown",
   "metadata": {},
   "source": [
    "試しに分析"
   ]
  },
  {
   "cell_type": "code",
   "execution_count": null,
   "metadata": {},
   "outputs": [],
   "source": [
    "df = pd.read_csv('data/input/point_history_cleansing_weather.csv', encoding=\"utf-8\")"
   ]
  },
  {
   "cell_type": "code",
   "execution_count": null,
   "metadata": {},
   "outputs": [],
   "source": [
    "# 天気でグループ化し、amount_kgの平均を取得\n",
    "df.groupby('天気')['amount_kg'].mean()"
   ]
  },
  {
   "cell_type": "markdown",
   "metadata": {},
   "source": [
    "# 以降はボツ"
   ]
  },
  {
   "cell_type": "code",
   "execution_count": null,
   "metadata": {},
   "outputs": [],
   "source": [
    "\n",
    "\n",
    "def get_weather_forecast(api_key, lat, lon):\n",
    "    \"\"\"\n",
    "    緯度経度を指定してOpenWeatherMap APIから天気予報を取得する\n",
    "    arges:\n",
    "        api_key: OpenWeatherMap APIのキー\n",
    "        lat: 緯度\n",
    "        lon: 経度\n",
    "    return:\n",
    "        天気データのリスト\n",
    "    \"\"\"\n",
    "    url = \"https://api.openweathermap.org/data/2.5/forecast\"\n",
    "    \n",
    "    weather_data = []\n",
    "    params = {\n",
    "            'lat': lat,\n",
    "            'lon': lon,\n",
    "            'appid': api_key\n",
    "    }\n",
    "    response = requests.get(url, params=params)\n",
    "    if response.status_code == 200:\n",
    "        data = response.json()\n",
    "        weather_data.extend(data.get('list', []))\n",
    "    else:\n",
    "        print(response)\n",
    "    \n",
    "    return weather_data\n",
    "\n",
    "\n"
   ]
  },
  {
   "cell_type": "code",
   "execution_count": null,
   "metadata": {},
   "outputs": [],
   "source": [
    "# get_weather_from_cityから仙台市の天気予報を取得\n",
    "lat = 38.2682\n",
    "lon = 140.8694\n",
    "api_key = os.environ[\"WEATHER_API_KEY\"]\n",
    "\n",
    "jsondata = get_weather_forecast(api_key, lat, lon)\n",
    "jsondata"
   ]
  },
  {
   "cell_type": "code",
   "execution_count": null,
   "metadata": {},
   "outputs": [],
   "source": [
    "print(\"天気：\",jsondata[0][\"weather\"][0][\"main\"])\n",
    "print(\"天気詳細：\",jsondata[0][\"weather\"][0][\"description\"])\n",
    "\n",
    "print(\"気温：\",jsondata[0][\"main\"][\"temp\"])\n",
    "print(\"最高気温：\",jsondata[0][\"main\"][\"temp_max\"])\n",
    "print(\"最低気温：\",jsondata[0][\"main\"][\"temp_min\"])\n",
    "print(\"体感気温：\",jsondata[0][\"main\"][\"feels_like\"])\n",
    "print(\"最低気温：\",jsondata[0][\"main\"][\"temp_min\"])\n",
    "print(\"最高気温：\",jsondata[0][\"main\"][\"temp_max\"])\n",
    "print(\"気圧：\",jsondata[0][\"main\"][\"grnd_level\"])\n",
    "print(\"湿度：\",jsondata[0][\"main\"][\"humidity\"])\n",
    "#print(\"降水量：\",jsondata[0][\"rain\"][\"3h\"])\n",
    "\n",
    "print(\"風速：\",jsondata[0][\"wind\"][\"speed\"])\n",
    "print(\"風の方角：\",jsondata[0][\"wind\"][\"deg\"])\n",
    "print(\"雲量：\",jsondata[0][\"clouds\"][\"all\"])\n",
    "print(\"降水確率：\",jsondata[0][\"pop\"])\n",
    "print(\"日時：\",jsondata[0][\"dt_txt\"])"
   ]
  },
  {
   "cell_type": "code",
   "execution_count": null,
   "metadata": {},
   "outputs": [],
   "source": [
    "#jsondataを保存\n",
    "with open('data/weatherdata.json', 'w') as f:\n",
    "    json.dump(jsondata, f, indent=4)"
   ]
  },
  {
   "cell_type": "code",
   "execution_count": null,
   "metadata": {},
   "outputs": [],
   "source": [
    "def get_weather_history(api_key, lat, lon):\n",
    "    \"\"\"\n",
    "    緯度経度から天気データを取得する\n",
    "    arges:\n",
    "        api_key: OpenWeatherMapのAPIキー\n",
    "        lat: 緯度\n",
    "        lon: 経度\n",
    "    return:\n",
    "        天気データのリスト\n",
    "\n",
    "    \"\"\"\n",
    "    url = \"https://api.openweathermap.org/data/2.5/onecall/timemachine\"\n",
    "    \n",
    "    weather_data = []\n",
    "    params = {\n",
    "            'lat': lat,\n",
    "            'lon': lon,\n",
    "            'appid': api_key\n",
    "    }\n",
    "    response = requests.get(url, params=params)\n",
    "    if response.status_code == 200:\n",
    "        data = response.json()\n",
    "        weather_data.extend(data.get('list', []))\n",
    "    else:\n",
    "        print(response)\n",
    "        print(f\"Error fetching data for {start_date.strftime('%Y-%m-%d')}: {response.status_code}\")\n",
    "    \n",
    "    return weather_data"
   ]
  },
  {
   "cell_type": "code",
   "execution_count": null,
   "metadata": {},
   "outputs": [],
   "source": [
    "df = pd.read_csv('data/input/point_history_cleansing_2.csv')"
   ]
  },
  {
   "cell_type": "code",
   "execution_count": null,
   "metadata": {},
   "outputs": [],
   "source": [
    "# dfのuse_dateがに並び替え\n",
    "df = df.sort_values('use_date')\n",
    "df[:10]"
   ]
  },
  {
   "cell_type": "code",
   "execution_count": null,
   "metadata": {},
   "outputs": [],
   "source": [
    "# '市'または'群'に続く文字を削除\n",
    "df['municipality'] = df['municipality'].str.replace(r'(市|郡).*', r'\\1', regex=True)\n",
    "unique_municipalities = df['municipality'].unique()\n",
    "unique_municipalities"
   ]
  },
  {
   "cell_type": "code",
   "execution_count": null,
   "metadata": {},
   "outputs": [],
   "source": [
    "df_municipality = df.groupby(['prefectures', 'municipality'])"
   ]
  },
  {
   "cell_type": "code",
   "execution_count": null,
   "metadata": {},
   "outputs": [],
   "source": [
    "# 各市町村のstore_latitude\tstore_longitudeの平均を求める\n",
    "date_range_per_municipality = df.groupby(['prefectures', 'municipality']).agg({'store_latitude': 'mean', 'store_longitude': 'mean'})\n",
    "date_range_per_municipality"
   ]
  },
  {
   "cell_type": "code",
   "execution_count": null,
   "metadata": {},
   "outputs": [],
   "source": []
  }
 ],
 "metadata": {
  "kernelspec": {
   "display_name": "patchworks",
   "language": "python",
   "name": "python3"
  },
  "language_info": {
   "codemirror_mode": {
    "name": "ipython",
    "version": 3
   },
   "file_extension": ".py",
   "mimetype": "text/x-python",
   "name": "python",
   "nbconvert_exporter": "python",
   "pygments_lexer": "ipython3",
   "version": "3.11.5"
  }
 },
 "nbformat": 4,
 "nbformat_minor": 2
}

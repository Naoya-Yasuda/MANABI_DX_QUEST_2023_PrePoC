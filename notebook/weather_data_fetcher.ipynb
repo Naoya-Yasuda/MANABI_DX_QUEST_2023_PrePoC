{
 "cells": [
  {
   "cell_type": "code",
   "execution_count": null,
   "metadata": {},
   "outputs": [],
   "source": [
    "import requests\n",
    "import os\n",
    "from datetime import datetime, timedelta\n",
    "import pandas as pd\n",
    "import json\n",
    "\n",
    "\n",
    "# カレントディレクトリを.pyと合わせるために以下を実行\n",
    "from pathlib import Path\n",
    "if Path.cwd().name == \"notebook\":\n",
    "    os.chdir(\"..\")\n",
    "\n",
    "\n",
    "# 設定\n",
    "pd.set_option('display.max_rows', 100)\n",
    "pd.set_option('display.min_rows', 100)\n",
    "pd.set_option('display.max_columns', 100)"
   ]
  },
  {
   "cell_type": "code",
   "execution_count": null,
   "metadata": {},
   "outputs": [],
   "source": [
    "\n",
    "\n",
    "def get_weather_forecast(api_key, lat, lon):\n",
    "    \"\"\"\n",
    "    緯度経度を指定してOpenWeatherMap APIから天気予報を取得する\n",
    "    arges:\n",
    "        api_key: OpenWeatherMap APIのキー\n",
    "        lat: 緯度\n",
    "        lon: 経度\n",
    "    return:\n",
    "        天気データのリスト\n",
    "    \"\"\"\n",
    "    url = \"https://api.openweathermap.org/data/2.5/forecast\"\n",
    "    \n",
    "    weather_data = []\n",
    "    params = {\n",
    "            'lat': lat,\n",
    "            'lon': lon,\n",
    "            'appid': api_key\n",
    "    }\n",
    "    response = requests.get(url, params=params)\n",
    "    if response.status_code == 200:\n",
    "        data = response.json()\n",
    "        weather_data.extend(data.get('list', []))\n",
    "    else:\n",
    "        print(response)\n",
    "    \n",
    "    return weather_data\n",
    "\n",
    "\n"
   ]
  },
  {
   "cell_type": "code",
   "execution_count": null,
   "metadata": {},
   "outputs": [],
   "source": [
    "# get_weather_from_cityから仙台市の天気予報を取得\n",
    "lat = 38.2682\n",
    "lon = 140.8694\n",
    "api_key = os.environ[\"WEATHER_API_KEY\"]\n",
    "\n",
    "jsondata = get_weather_forecast(api_key, lat, lon)\n",
    "jsondata"
   ]
  },
  {
   "cell_type": "code",
   "execution_count": null,
   "metadata": {},
   "outputs": [],
   "source": [
    "print(\"天気：\",jsondata[0][\"weather\"][0][\"main\"])\n",
    "print(\"天気詳細：\",jsondata[0][\"weather\"][0][\"description\"])\n",
    "\n",
    "print(\"気温：\",jsondata[0][\"main\"][\"temp\"])\n",
    "print(\"最高気温：\",jsondata[0][\"main\"][\"temp_max\"])\n",
    "print(\"最低気温：\",jsondata[0][\"main\"][\"temp_min\"])\n",
    "print(\"体感気温：\",jsondata[0][\"main\"][\"feels_like\"])\n",
    "print(\"最低気温：\",jsondata[0][\"main\"][\"temp_min\"])\n",
    "print(\"最高気温：\",jsondata[0][\"main\"][\"temp_max\"])\n",
    "print(\"気圧：\",jsondata[0][\"main\"][\"grnd_level\"])\n",
    "print(\"湿度：\",jsondata[0][\"main\"][\"humidity\"])\n",
    "print(\"降水量：\",jsondata[0][\"rain\"][\"3h\"])\n",
    "\n",
    "print(\"風速：\",jsondata[0][\"wind\"][\"speed\"])\n",
    "print(\"風の方角：\",jsondata[0][\"wind\"][\"deg\"])\n",
    "print(\"雲量：\",jsondata[0][\"clouds\"][\"all\"])\n",
    "print(\"降水確率：\",jsondata[0][\"pop\"])\n",
    "print(\"日時：\",jsondata[0][\"dt_txt\"])"
   ]
  },
  {
   "cell_type": "code",
   "execution_count": null,
   "metadata": {},
   "outputs": [],
   "source": [
    "#jsondataを保存\n",
    "with open('data/weatherdata.json', 'w') as f:\n",
    "    json.dump(jsondata, f, indent=4)"
   ]
  },
  {
   "cell_type": "code",
   "execution_count": null,
   "metadata": {},
   "outputs": [],
   "source": [
    "def get_weather_history(api_key, lat, lon):\n",
    "    \"\"\"\n",
    "    緯度経度から天気データを取得する\n",
    "    arges:\n",
    "        api_key: OpenWeatherMapのAPIキー\n",
    "        lat: 緯度\n",
    "        lon: 経度\n",
    "    return:\n",
    "        天気データのリスト\n",
    "\n",
    "    \"\"\"\n",
    "    url = \"https://api.openweathermap.org/data/2.5/onecall/timemachine\"\n",
    "    \n",
    "    weather_data = []\n",
    "    params = {\n",
    "            'lat': lat,\n",
    "            'lon': lon,\n",
    "            'appid': api_key\n",
    "    }\n",
    "    response = requests.get(url, params=params)\n",
    "    if response.status_code == 200:\n",
    "        data = response.json()\n",
    "        weather_data.extend(data.get('list', []))\n",
    "    else:\n",
    "        print(response)\n",
    "        print(f\"Error fetching data for {start_date.strftime('%Y-%m-%d')}: {response.status_code}\")\n",
    "    \n",
    "    return weather_data"
   ]
  },
  {
   "cell_type": "code",
   "execution_count": null,
   "metadata": {},
   "outputs": [],
   "source": [
    "df = pd.read_csv('data/input/point_history_cleansing_2.csv')"
   ]
  },
  {
   "cell_type": "code",
   "execution_count": null,
   "metadata": {},
   "outputs": [],
   "source": [
    "# dfのuse_dateがに並び替え\n",
    "df = df.sort_values('use_date')\n",
    "df[:10]"
   ]
  },
  {
   "cell_type": "code",
   "execution_count": null,
   "metadata": {},
   "outputs": [],
   "source": [
    "# '市'または'群'に続く文字を削除\n",
    "df['municipality'] = df['municipality'].str.replace(r'(市|郡).*', r'\\1', regex=True)\n",
    "unique_municipalities = df['municipality'].unique()\n",
    "unique_municipalities"
   ]
  },
  {
   "cell_type": "code",
   "execution_count": null,
   "metadata": {},
   "outputs": [],
   "source": [
    "# 各市町村の最初の利用日と最後の利用日を取得\n",
    "date_range_per_municipality = df.groupby('municipality')['use_date'].agg(['min', 'max'])\n",
    "date_range_per_municipality"
   ]
  },
  {
   "cell_type": "code",
   "execution_count": null,
   "metadata": {},
   "outputs": [],
   "source": [
    "df_2 = pd.read_csv('data/input/仙台.csv', encoding='cp932')[2:].reset_index(drop=True)"
   ]
  },
  {
   "cell_type": "code",
   "execution_count": null,
   "metadata": {},
   "outputs": [],
   "source": [
    "df_2[:10]"
   ]
  },
  {
   "cell_type": "code",
   "execution_count": null,
   "metadata": {},
   "outputs": [],
   "source": []
  }
 ],
 "metadata": {
  "kernelspec": {
   "display_name": "patchworks",
   "language": "python",
   "name": "python3"
  },
  "language_info": {
   "codemirror_mode": {
    "name": "ipython",
    "version": 3
   },
   "file_extension": ".py",
   "mimetype": "text/x-python",
   "name": "python",
   "nbconvert_exporter": "python",
   "pygments_lexer": "ipython3",
   "version": "3.11.5"
  }
 },
 "nbformat": 4,
 "nbformat_minor": 2
}

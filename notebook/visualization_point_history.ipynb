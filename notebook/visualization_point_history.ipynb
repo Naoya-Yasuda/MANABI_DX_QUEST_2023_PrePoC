{
 "cells": [
  {
   "cell_type": "markdown",
   "id": "f261e941",
   "metadata": {},
   "source": [
    "# 1. 前準備 (csvの読み込みと紐づけ)"
   ]
  },
  {
   "cell_type": "code",
   "execution_count": null,
   "id": "762cc329-373b-47e2-839e-0b5838e12554",
   "metadata": {},
   "outputs": [],
   "source": [
    "import pandas as pd\n",
    "import matplotlib.pyplot as plt\n",
    "import seaborn as sns #seabornない人はpip installしてね\n",
    "import os\n",
    "from datetime import datetime\n",
    "import numpy as np\n",
    "from pathlib import Path\n",
    "\n",
    "# カレントディレクトリを.pyと合わせるために以下を実行\n",
    "if Path.cwd().name == \"notebook\":\n",
    "    os.chdir(\"..\")\n",
    "\n",
    "# 設定\n",
    "pd.set_option('display.max_rows', 500)\n",
    "pd.set_option('display.min_rows', 500)\n",
    "pd.set_option('display.max_columns', 500)\n",
    "\n",
    "# 浮動小数点数を小数点以下3桁で表示するように設定\n",
    "pd.set_option('display.float_format', '{:.3f}'.format)"
   ]
  },
  {
   "cell_type": "code",
   "execution_count": null,
   "id": "8f82109b-f924-452e-abc3-fa3b20c4d3b0",
   "metadata": {},
   "outputs": [],
   "source": [
    "# Mac Matplotlibのデフォルトフォントをヒラギノ角ゴシックに設定\n",
    "plt.rcParams['font.family'] = 'Hiragino Sans'"
   ]
  },
  {
   "cell_type": "code",
   "execution_count": null,
   "id": "8251e4e5-10f5-4f55-bf7d-848e21d171ea",
   "metadata": {},
   "outputs": [],
   "source": [
    "# Windows MatplotlibのデフォルトフォントをMeiryoに設定\n",
    "# plt.rcParams['font.family'] = 'Meiryo'"
   ]
  },
  {
   "cell_type": "code",
   "execution_count": null,
   "id": "4d9a51c9",
   "metadata": {},
   "outputs": [],
   "source": [
    "# point_history.csvの読み込み\n",
    "file_path_point_history = 'data/input/point_history_cleansing.csv'\n",
    "df_point_history = pd.read_csv(file_path_point_history)\n",
    "\n",
    "df_point_history = df_point_history.drop(columns=['total_amount'])    # 'total_amount'は全部N"
   ]
  },
  {
   "cell_type": "code",
   "execution_count": null,
   "id": "461b6b42",
   "metadata": {},
   "outputs": [],
   "source": [
    "# user_info.csvの読み込み\n",
    "file_path_user_info = 'data/input/user_info_cleansing.csv'\n",
    "df_user_info = pd.read_csv(file_path_user_info)"
   ]
  },
  {
   "cell_type": "code",
   "execution_count": null,
   "id": "7737df2f",
   "metadata": {},
   "outputs": [],
   "source": [
    "# user_infoにageとage_groupのカラムを追加\n",
    "# ageの算出・追加\n",
    "df_user_info['birth_day'] = pd.to_datetime(df_user_info['birth_day'], errors='coerce')    # birth_dayをdatetimeに変換\n",
    "current_year = pd.Timestamp.now().year\n",
    "df_user_info['age'] = current_year - df_user_info['birth_day'].dt.year\n",
    "\n",
    "# 年代の算出・追加\n",
    "bins = [0, 20, 30, 40, 50, 60, 70, 80, 90, 100]\n",
    "labels = ['0-20', '21-30', '31-40', '41-50', '51-60', '61-70', '71-80', '81-90', '91-100']\n",
    "df_user_info['age_group'] = pd.cut(df_user_info['age'], bins=bins, labels=labels, right=False)"
   ]
  },
  {
   "cell_type": "code",
   "execution_count": null,
   "id": "de6c7ff8",
   "metadata": {},
   "outputs": [],
   "source": [
    "# point_history.csvとuser_info.csvをmerge (左内部結合)\n",
    "df_merge = pd.merge(df_point_history, df_user_info, left_on='user_id', right_on='id', how='left')"
   ]
  },
  {
   "cell_type": "code",
   "execution_count": null,
   "id": "1a63f20b",
   "metadata": {},
   "outputs": [],
   "source": [
    "# マージしたコードの確認\n",
    "# display(df_merge.head(100))\n",
    "# df_merge[\"total_amount\"].unique()\n",
    "display(df_merge.describe())\n",
    "# #print(len(df_merge[\"user_uid\"].unique()))\n",
    "# #print(df_merge.info(verbose=True, show_counts=True))\n",
    "# print(df_merge['nickname'].isna().sum())"
   ]
  },
  {
   "cell_type": "markdown",
   "id": "bfb61235",
   "metadata": {},
   "source": [
    "# 2. 分析"
   ]
  },
  {
   "cell_type": "markdown",
   "id": "413e0370",
   "metadata": {},
   "source": [
    "## 2-1. rankごとの平均年間持込量kgの算出"
   ]
  },
  {
   "cell_type": "markdown",
   "id": "af4d25b4",
   "metadata": {},
   "source": [
    "・rank_id毎のrecycle_amount_per_year平均の算出  \n",
    "・rankが高いほど、年間持ち込み量が多いという仮説を証明する(当然？)  \n",
    "・rank_idは、0:ブロンズ、1:シルバー、2:ゴールド、3:プラチナ  \n",
    "・1か月に15kg持ち込み続けるとランクUP。ランクダウンは不明(1か月15kgを達成しないとダウン説、、？)  \n",
    "※以下の手順を踏むと「rank毎の1回の持ち込み量平均」になってしまうので注意  \n",
    "　　① amount_kgは1回の持ち込み量。これをrank_id毎にsumする  \n",
    "　　② rank_idそれぞれの出現回数をsumする  \n",
    "　　③ ①を②で割る  "
   ]
  },
  {
   "cell_type": "code",
   "execution_count": null,
   "id": "62a1f66c",
   "metadata": {},
   "outputs": [],
   "source": [
    "# まずそれぞれのカラムの基本統計量を確認しておく\n",
    "print('recycle_amount_per_year')\n",
    "print(df_merge['recycle_amount_per_year'].describe())\n",
    "print('------------------')\n",
    "print('rank_id')\n",
    "print(df_merge['rank_id'].describe())\n",
    "print('------------------')\n",
    "print('rank_idのユニーク')\n",
    "print(df_merge['rank_id'].unique())"
   ]
  },
  {
   "cell_type": "markdown",
   "id": "73605f81",
   "metadata": {},
   "source": [
    "※rankは3（プラチナ）が不在な点に注意"
   ]
  },
  {
   "cell_type": "code",
   "execution_count": null,
   "id": "07439718",
   "metadata": {},
   "outputs": [],
   "source": [
    "# user_idの重複行を削除（非効率だと思いつつ、、、）\n",
    "df_merge_duplicates_user_id = df_merge.drop_duplicates(subset='user_id')\n",
    "\n",
    "ランク毎の持ち込みamountの平均 = df_merge.groupby('rank_id')['recycle_amount_per_year'].mean()\n",
    "ランク毎の持ち込みamountの平均"
   ]
  },
  {
   "cell_type": "markdown",
   "id": "394a00af",
   "metadata": {},
   "source": [
    "### 得られた示唆"
   ]
  },
  {
   "cell_type": "markdown",
   "id": "d5434406",
   "metadata": {},
   "source": [
    "・ランクが高いほど、平均年間持ち込み量は多い  \n",
    "　→「持ち込み量が多いから、ランクが上がった」という解釈の方が正しい？  \n",
    " ・rankのカラムのみ、user_infoに紐づけておくと、user_infoの情報量が増えてよいかも\n"
   ]
  },
  {
   "cell_type": "markdown",
   "id": "078896f5",
   "metadata": {},
   "source": [
    "## 2-2. ユーザ個人に着目して指針を得る "
   ]
  },
  {
   "cell_type": "markdown",
   "id": "c32fb37e",
   "metadata": {},
   "source": [
    "### 2-2-1. トップユーザのamount_kg推移"
   ]
  },
  {
   "cell_type": "markdown",
   "id": "eb779162",
   "metadata": {},
   "source": [
    "・point、coin、rankが、ユーザの持ち込み量に影響を与えているのか確認  \n",
    "・rankを維持したい人\n"
   ]
  },
  {
   "cell_type": "code",
   "execution_count": null,
   "id": "874a1103",
   "metadata": {},
   "outputs": [],
   "source": [
    "# 'user_id'の各値の出現回数を計算\n",
    "user_id_counts = df_merge['user_id'].value_counts().reset_index()\n",
    "user_id_counts.columns = ['user_id', 'count']\n",
    "\n",
    "# 元のDataFrameにcountをマージ\n",
    "df_merge = df_merge.merge(user_id_counts, on='user_id')\n",
    "\n",
    "# 出現回数に基づいてソート（降順）\n",
    "df_merge = df_merge.sort_values(by='count', ascending=False)"
   ]
  },
  {
   "cell_type": "code",
   "execution_count": null,
   "id": "2112fc12",
   "metadata": {},
   "outputs": [],
   "source": [
    "# 重複を削除して、上位100名のcountをtableで俯瞰する\n",
    "df_merged_duplicates_user_id = df_merge.drop_duplicates(subset='user_id')\n",
    "top_100 = df_merged_duplicates_user_id.head(100)\n",
    "top_100"
   ]
  },
  {
   "cell_type": "code",
   "execution_count": null,
   "id": "87aa1b09",
   "metadata": {},
   "outputs": [],
   "source": [
    "# top_100の年代別人数を表示\n",
    "sns.histplot(data=top_100, x='age_group')\n",
    "\n",
    "plt.title('Age Band Distribution')\n",
    "plt.xlabel('Age Band')\n",
    "plt.ylabel('Frequency')\n",
    "\n",
    "plt.show()"
   ]
  },
  {
   "cell_type": "code",
   "execution_count": null,
   "id": "de1273eb",
   "metadata": {},
   "outputs": [],
   "source": [
    "# # 特定の人のamount_kgの推移を確認\n",
    "# # 特定の人のデータのみ抽出\n",
    "# target_user_id = 1152\n",
    "# df_merge_target = df_merge[df_merge['user_id'] == target_user_id]\n",
    "# df_merge_target = df_merge_target.sort_values(by='use_date', ascending=True)\n",
    "\n",
    "# df_merge_target['use_date'] = pd.to_datetime(df_merge_target['use_date'])\n",
    "\n",
    "# # use_dateを月ごとに集約（データ数が多すぎて折れ線グラフが見づらい）\n",
    "# df_merge_target_monthly = df_merge_target[['use_date', 'amount_kg']].resample('M', on='use_date').sum()\n",
    "\n",
    "# # 集約されたデータで折れ線グラフを作成\n",
    "# plt.figure(figsize=(10, 6))\n",
    "# plt.plot(df_merge_target_monthly.index, df_merge_target_monthly['amount_kg'], marker='o')\n",
    "# plt.title('Monthly Average of Amount (kg)')\n",
    "# plt.xlabel('Month')\n",
    "# plt.ylabel('Average Amount (kg)')\n",
    "\n",
    "# # データをすべて使って折れ線グラフを作成\n",
    "# plt.figure(figsize=(10, 6))\n",
    "# plt.plot(df_merge_target_monthly['use_date'], df_merge_target_monthly['rank_id'], marker='o')\n",
    "# plt.title('rank')\n",
    "# plt.xlabel('date')\n",
    "# plt.ylabel('rank')\n",
    "# plt.show()\n",
    "\n",
    "# # coinが付与され始めた時期のデータを表示\n",
    "# filtered_df  = df_merge_target[df_merge_target['coin'] > 0]\n",
    "# filtered_df.head()\n"
   ]
  },
  {
   "cell_type": "markdown",
   "id": "931e642e",
   "metadata": {},
   "source": [
    "### まとめ"
   ]
  },
  {
   "cell_type": "markdown",
   "id": "e6253d11",
   "metadata": {},
   "source": [
    "・15kgを達成しても、すぐにランクが上がらない矛盾あり  \n",
    "・15kgを未達でもすぐにランクが下がらない矛盾あり  \n",
    "・アプリを利用していなくても履歴は残る。アプリを利用しているか否かは'coin'(付与コイン)で判断する  "
   ]
  },
  {
   "cell_type": "markdown",
   "id": "73e8e293",
   "metadata": {},
   "source": [
    "## 2-3. rankシステムの効果測定"
   ]
  },
  {
   "cell_type": "markdown",
   "id": "009fe398",
   "metadata": {},
   "source": [
    "・rank_idのレコード"
   ]
  },
  {
   "cell_type": "code",
   "execution_count": null,
   "id": "2332067e",
   "metadata": {},
   "outputs": [],
   "source": [
    "# TODO: amount_kgの平均を出してしまっているので、user　rank_idごとのamount_kgの合計を出さないといけない？？\n",
    "# Calculate the average recycling amount for each user and each rank\n",
    "avg_amount_per_user_rank = df_merge.groupby(['user_id', 'rank_id'])['amount_kg'].mean().reset_index()\n",
    "# avg_amount_per_user_rank = df_merge.groupby(['user_id', 'rank_id'])['amount_kg'].sum().reset_index()\n",
    "\n",
    "# To compare the average recycling amount of different ranks for each user, we need to pivot the data\n",
    "pivot_table = avg_amount_per_user_rank.pivot(index='user_id', columns='rank_id', values='amount_kg')\n",
    "\n",
    "# Calculate the difference between each rank's average recycling amount for each user\n",
    "# For simplicity, we'll calculate the difference between consecutive ranks (rank N and rank N-1)\n",
    "rank_differences = pivot_table.diff(axis=1)"
   ]
  },
  {
   "cell_type": "code",
   "execution_count": null,
   "id": "4b66c00c-a280-4a2f-932c-cc7e1f93e201",
   "metadata": {},
   "outputs": [],
   "source": [
    "rank_differences.head(100)"
   ]
  },
  {
   "cell_type": "markdown",
   "id": "5a4a9065-eeeb-4f80-ac15-0e270ddf8c80",
   "metadata": {},
   "source": [
    "### 1,2,3ごとの平均値を出してみる"
   ]
  },
  {
   "cell_type": "code",
   "execution_count": null,
   "id": "16554741-6287-4c2a-b551-dce998e69efd",
   "metadata": {},
   "outputs": [],
   "source": [
    "average_difference_rank = rank_differences.mean(skipna=True)\n",
    "average_difference_rank"
   ]
  },
  {
   "cell_type": "markdown",
   "id": "e8c724c2",
   "metadata": {},
   "source": [
    "### 1,2,3ごとの合計を出してみる"
   ]
  },
  {
   "cell_type": "code",
   "execution_count": null,
   "id": "481196a3-97e9-4883-b615-94664e3de3b5",
   "metadata": {},
   "outputs": [],
   "source": [
    "# TODO: amount_kgの平均を出してしまっているので、user　rank_idごとのamount_kgの合計を出さないといけない？？\n",
    "# Calculate the average recycling amount for each user and each rank\n",
    "sum_amount_per_user_rank = df_merge.groupby(['user_id', 'rank_id'])['amount_kg'].sum().reset_index()\n",
    "# avg_amount_per_user_rank = df_merge.groupby(['user_id', 'rank_id'])['amount_kg'].sum().reset_index()\n",
    "\n",
    "# To compare the average recycling amount of different ranks for each user, we need to pivot the data\n",
    "pivot_table = sum_amount_per_user_rank.pivot(index='user_id', columns='rank_id', values='amount_kg')\n",
    "\n",
    "# Calculate the difference between each rank's average recycling amount for each user\n",
    "# For simplicity, we'll calculate the difference between consecutive ranks (rank N and rank N-1)\n",
    "rank_differences = pivot_table.diff(axis=1)"
   ]
  },
  {
   "cell_type": "code",
   "execution_count": null,
   "id": "c49d0a09",
   "metadata": {},
   "outputs": [],
   "source": [
    "sum_difference_rank = rank_differences.mean(skipna=True)\n",
    "sum_difference_rank"
   ]
  },
  {
   "cell_type": "markdown",
   "id": "38b93113",
   "metadata": {},
   "source": [
    "## 2-4. 日付・時間・曜日ごとの古紙投入回数"
   ]
  },
  {
   "cell_type": "markdown",
   "id": "c0c9a2eb",
   "metadata": {},
   "source": [
    "・point_history.csvの既存のカラムでできる分析に取り組む  \n",
    "・point_history_cleansing.csvはアプリユーザ限定。これを用いて分析。(元データは重すぎて扱えない)  \n",
    "・投入量だと、一人で大量に投入したデータの影響が大きく、分析の目的がブレる。  "
   ]
  },
  {
   "cell_type": "code",
   "execution_count": null,
   "id": "8426b52e",
   "metadata": {},
   "outputs": [],
   "source": [
    "# df_mergeのuse_date列から曜日情報を抽出\n",
    "df_merge['use_date'] = pd.to_datetime(df_merge['use_date'])"
   ]
  },
  {
   "cell_type": "code",
   "execution_count": null,
   "id": "eeec34de",
   "metadata": {},
   "outputs": [],
   "source": [
    "# amount列が0なのに行が残っているデータ:現状は削除する。（memo: なぜログが残るのか理由を聞きたい）\n",
    "df_merge_drop_zero = df_merge[df_merge['amount'] != 0]"
   ]
  },
  {
   "cell_type": "code",
   "execution_count": null,
   "id": "55ed083f",
   "metadata": {},
   "outputs": [],
   "source": [
    "# 曜日ごとのpoint_historyの回数をカウントしてグラフ化\n",
    "df_merge_drop_zero['day_name'] = df_merge_drop_zero['use_date'].dt.day_name()\n",
    "\n",
    "plt.bar(df_merge_drop_zero['day_name'].value_counts().index, df_merge_drop_zero['day_name'].value_counts().values)\n",
    "plt.ylabel(\"古紙投入回数\")\n",
    "plt.show()"
   ]
  },
  {
   "cell_type": "markdown",
   "id": "46aa69dd",
   "metadata": {},
   "source": [
    "曜日順にする"
   ]
  },
  {
   "cell_type": "code",
   "execution_count": null,
   "id": "89bbd7b0",
   "metadata": {},
   "outputs": [],
   "source": [
    "# 日付ごとの古紙投入回数\n",
    "date_series = df_merge_drop_zero['use_date'].dt.date\n",
    "\n",
    "date_series = date_series.value_counts().sort_index()\n",
    "display(date_series.head(10))\n",
    "\n",
    "plt.plot(date_series.index, date_series.values)\n",
    "#plt.plot(date_series.index[900:950], date_series.values[900:950])  # monthlyレベルに拡大\n",
    "plt.ylabel(\"古紙投入回数\")\n",
    "plt.xticks(rotation=45)\n",
    "plt.show()"
   ]
  },
  {
   "cell_type": "markdown",
   "id": "d31bd0d6",
   "metadata": {},
   "source": [
    "行政の回収日の影響を見るのであれば、仙台市ユーザーに絞ってデータ解析する必要がある  \n",
    "もし古紙投入回数について規則性を見つけられれば、打ち手を考えやすい  \n",
    "リサイクルポイントクラブ時代のデータがロスってないかが心配"
   ]
  },
  {
   "cell_type": "code",
   "execution_count": null,
   "id": "e2c69457",
   "metadata": {},
   "outputs": [],
   "source": [
    "# 時間ごとの古紙投入回数\n",
    "# df_mergeのuse_date列から時刻情報を抽出\n",
    "time_series = df_merge_drop_zero['use_date'].dt.hour\n",
    "\n",
    "time_series = time_series.value_counts().sort_index()\n",
    "#display(time_series)\n",
    "\n",
    "plt.plot(time_series.index, time_series.values)\n",
    "#plt.plot(date_series.index[900:950], date_series.values[900:950])  # monthlyレベルに拡大\n",
    "plt.ylabel(\"古紙投入回数\")\n",
    "plt.xticks(rotation=45)\n",
    "plt.xticks(range(0, 24, 1))\n",
    "plt.grid(True)\n",
    "plt.show()"
   ]
  },
  {
   "cell_type": "markdown",
   "id": "ab673271",
   "metadata": {},
   "source": [
    "場所によってはRPSがいっぱいになるので、時間に応じてそこを調整できないか  \n",
    "◎リサイクル充填率をリアルタイムで予測する  \n",
    "　・いっぱいになっているタイミングの時の量を100%とする→ダメもとでも聞いてみる  \n",
    "　・何日先まで予測できるといいのか  \n",
    "　・充填率の予測にどれくらい需要があるのか？  "
   ]
  },
  {
   "cell_type": "code",
   "execution_count": null,
   "id": "7483d67d",
   "metadata": {},
   "outputs": [],
   "source": [
    "print(df_merge_drop_zero['rps_opening_time'].unique())\n",
    "print(df_merge_drop_zero['rps_closing_time'].unique())"
   ]
  },
  {
   "cell_type": "raw",
   "id": "bf4ce879-41fc-4f1d-9b9c-c86e897746ee",
   "metadata": {},
   "source": []
  },
  {
   "cell_type": "markdown",
   "id": "8ee31f40-4c21-44d2-9f58-d76ecb25300a",
   "metadata": {},
   "source": [
    "### 店舗ごとにグループ化してリサイクル量の変化が止まっている箇所で充填率100%の量とする（仮説）"
   ]
  },
  {
   "cell_type": "code",
   "execution_count": null,
   "id": "90f0fd91-6c87-41a3-970b-0e5e2d7fb378",
   "metadata": {},
   "outputs": [],
   "source": [
    "df_merge_drop_zero"
   ]
  },
  {
   "cell_type": "code",
   "execution_count": null,
   "id": "d0ef9247-c0dc-4f43-aad1-5d6621f4c1f8",
   "metadata": {},
   "outputs": [],
   "source": [
    "#充填率を見るために、取引量が多い店舗、日付をまず見つける\n",
    "df_merge_drop_zero['use_date2'] = df_merge_drop_zero['use_date'].dt.date\n",
    "\n",
    "# shop_idとuse_dateでグループ化し、各グループのサイズを計算\n",
    "grouped = df_merge_drop_zero.groupby(['shop_id', 'use_date2']).size()\n",
    "\n",
    "# 最大のグループを見つける\n",
    "max_group = grouped[grouped == grouped.max()]\n",
    "max_group"
   ]
  },
  {
   "cell_type": "code",
   "execution_count": null,
   "id": "9e40ea68-4d97-40ac-a9c9-54bd4addcc46",
   "metadata": {},
   "outputs": [],
   "source": [
    "tempdf = df_merge_drop_zero[df_merge_drop_zero['shop_id'] == 1004]\n",
    "#リサイクル量を時間ごとに累積していく\n",
    "tempdf['use_hour'] = df_merge_drop_zero['use_date'].dt.hour\n",
    "tempdf = tempdf[tempdf['use_date2'] == datetime(2023,2,18).date()]\n",
    "tempdf = tempdf.sort_values('use_date')  # use_dateでソート\n",
    "tempdf['use_date']\n",
    "tempdf['cumulative_amount_kg'] = tempdf['amount_kg'].cumsum()  # amount_kgの累積値を計算し、新しい列に追加\n",
    "plt.plot(tempdf['use_date'], tempdf['amount_kg'])\n",
    "plt.ylabel(\"リサイクル量\")\n",
    "plt.xticks(rotation=45)\n",
    "plt.grid(True)\n",
    "plt.show()"
   ]
  },
  {
   "cell_type": "code",
   "execution_count": null,
   "id": "1e4edbdd-bc0d-4b92-a518-de939255d3ce",
   "metadata": {},
   "outputs": [],
   "source": [
    "plt.plot(tempdf['use_date'], tempdf['cumulative_amount_kg'])\n",
    "plt.ylabel(\"リサイクル量\")\n",
    "plt.xticks(rotation=45)\n",
    "plt.grid(True)\n",
    "plt.show()"
   ]
  },
  {
   "cell_type": "markdown",
   "id": "15fdc98a-c6ff-4fa8-8489-f58185c7e785",
   "metadata": {},
   "source": [
    "## 一日中稼働してる！！？？充填率100％にならないの？\n",
    "#### どのくらい入るのか聞きたい\n",
    "#### 一日一回回収じゃないのでは？18から22日でいっぱいになった？"
   ]
  },
  {
   "cell_type": "code",
   "execution_count": null,
   "id": "f215a29e-024b-404f-894c-d7279dd8cf67",
   "metadata": {},
   "outputs": [],
   "source": [
    "df_merge_drop_zero[df_merge_drop_zero['shop_id'] == 1004]['use_date']"
   ]
  },
  {
   "cell_type": "code",
   "execution_count": null,
   "id": "b0a59e22-833a-4e9d-a601-bc525b937219",
   "metadata": {},
   "outputs": [],
   "source": []
  },
  {
   "cell_type": "markdown",
   "id": "284e85ab",
   "metadata": {},
   "source": [
    "## 2-3. 店舗ごとのポイント・コイン・リサイクル量・営業時間の可視化"
   ]
  },
  {
   "cell_type": "markdown",
   "id": "d334b24a",
   "metadata": {},
   "source": [
    "### 2-3-1. スーパーの名前を一覧"
   ]
  },
  {
   "cell_type": "code",
   "execution_count": null,
   "id": "02c608f4",
   "metadata": {},
   "outputs": [],
   "source": [
    "df_merge[\"super\"].unique()"
   ]
  },
  {
   "cell_type": "markdown",
   "id": "6963c7fd",
   "metadata": {},
   "source": [
    "### 2-3-2. 店舗ごとのポイント・コイン・リサイクル量"
   ]
  },
  {
   "cell_type": "markdown",
   "id": "427a45f9",
   "metadata": {},
   "source": [
    "#### 示唆\n",
    "持込量が圧倒的に多いのはヨークベニマル。ただしヨークベニマルはリサイクルポイントシステムを導入していない。(というのがどういうことなのか確認)\n",
    "持込量・獲得ポイントの平均値はどのスーパーでも大差なし。獲得コインはやや差がある様に見えるが、意味があるかは不明。"
   ]
  },
  {
   "cell_type": "code",
   "execution_count": null,
   "id": "c37a82f8",
   "metadata": {},
   "outputs": [],
   "source": [
    "df_merge_super_ptsum = df_merge.groupby('super')['point'].sum().sort_values(ascending=False)\n",
    "df_merge_super_ptsum.plot(kind='bar')\n",
    "plt.title('point x super (sum)')\n",
    "plt.show()"
   ]
  },
  {
   "cell_type": "code",
   "execution_count": null,
   "id": "c594a9aa",
   "metadata": {},
   "outputs": [],
   "source": [
    "df_merge_super_ptsum = df_merge.groupby('super')['coin'].sum().sort_values(ascending=False)\n",
    "df_merge_super_ptsum.plot(kind='bar')\n",
    "plt.title('coin x super (sum)')\n",
    "plt.show()"
   ]
  },
  {
   "cell_type": "code",
   "execution_count": null,
   "id": "ad3843cd",
   "metadata": {},
   "outputs": [],
   "source": [
    "df_merge_super_kgsum = df_merge.groupby('super')['amount_kg'].sum().sort_values(ascending=False)\n",
    "df_merge_super_kgsum.plot(kind='bar')\n",
    "plt.title('amount_kg x super (sum)')\n",
    "plt.show()"
   ]
  },
  {
   "cell_type": "code",
   "execution_count": null,
   "id": "d3dafe8f",
   "metadata": {},
   "outputs": [],
   "source": [
    "df_merge_super_ptmean = df_merge.groupby('super')['point'].mean().sort_values(ascending=False)\n",
    "df_merge_super_ptmean.plot(kind='bar')\n",
    "plt.title('point x super (mean)')\n",
    "plt.show()"
   ]
  },
  {
   "cell_type": "code",
   "execution_count": null,
   "id": "a5e104d4",
   "metadata": {},
   "outputs": [],
   "source": [
    "df_merge_super_ptmean = df_merge.groupby('super')['coin'].mean().sort_values(ascending=False)\n",
    "df_merge_super_ptmean.plot(kind='bar')\n",
    "plt.title('coin x super (mean)')\n",
    "plt.show()"
   ]
  },
  {
   "cell_type": "code",
   "execution_count": null,
   "id": "4d3cdfec",
   "metadata": {},
   "outputs": [],
   "source": [
    "df_merge_super_kgmean = df_merge.groupby('super')['amount_kg'].mean().sort_values(ascending=False)\n",
    "df_merge_super_kgmean.plot(kind='bar')\n",
    "plt.title('amount kg x super (mean)')\n",
    "plt.show()"
   ]
  },
  {
   "cell_type": "markdown",
   "id": "c25339d4",
   "metadata": {},
   "source": [
    "### 2-3-3. 店舗 x 年代ごとの持込量合計(または平均)のクロス集計"
   ]
  },
  {
   "cell_type": "code",
   "execution_count": null,
   "id": "a8f004ef",
   "metadata": {},
   "outputs": [],
   "source": [
    "df_merge_pivot_sum = df_merge.pivot_table(index='super', columns='age_group', values='amount_kg', aggfunc='sum')\n",
    "df_merge_pivot_sum"
   ]
  },
  {
   "cell_type": "code",
   "execution_count": null,
   "id": "cd617192",
   "metadata": {},
   "outputs": [],
   "source": [
    "df_merge_pivot_mean = df_merge.pivot_table(index='super', columns='age_group', values='amount_kg', aggfunc='mean')\n",
    "df_merge_pivot_mean"
   ]
  },
  {
   "cell_type": "markdown",
   "id": "3326457d",
   "metadata": {},
   "source": [
    "### 2-3-4. 店舗ごとの店舗営業時間およびRPS稼働時間の可視化"
   ]
  },
  {
   "cell_type": "markdown",
   "id": "17d855f2",
   "metadata": {},
   "source": [
    "### 示唆\n",
    "#### 開店時間は9:00-9:30が多い。RPSも同様。\n",
    "#### 閉店時間は21:00-22:00が多い。RPSは19時に閉まる店舗が多い。\n",
    "#### RPSは9:00-19:00の稼働が多いが、店舗が長く営業していると、それに合わせてやや長く設定している。\n",
    "#### 店舗営業時間に対するRPS稼働時間は、ほぼ100%の塊と、80%程度の塊が多い。 "
   ]
  },
  {
   "cell_type": "code",
   "execution_count": null,
   "id": "393b4f3e",
   "metadata": {},
   "outputs": [],
   "source": [
    "# 各列をdatetime型に変換する関数\n",
    "def convert_to_datetime(df, column):\n",
    "    df[column] = pd.to_datetime(df[column], format='%H:%M:%S', errors='coerce').dt.time\n",
    "\n",
    "df_converted = df_merge.copy()\n",
    "columns_to_convert = ['store_opening_time', 'store_closing_time', 'rps_opening_time', 'rps_closing_time']\n",
    "for column in columns_to_convert:\n",
    "    convert_to_datetime(df_converted, column)"
   ]
  },
  {
   "cell_type": "code",
   "execution_count": null,
   "id": "0102cc44",
   "metadata": {},
   "outputs": [],
   "source": [
    "#分析に使用する列の追加((1)店舗営業時間、(2)RPS稼働時間、(3)店舗営業時間におけるRPS稼働時間の割合(2)/(1))\n",
    "# 時間の差分を計算する関数\n",
    "import datetime\n",
    "def calculate_time_difference(time1, time2):\n",
    "    if pd.isnull(time1) or pd.isnull(time2):\n",
    "        return pd.NaT\n",
    "    return datetime.datetime.combine(datetime.date.min, time2) - datetime.datetime.combine(datetime.date.min, time1)\n",
    "\n",
    "df_converted['shop_business_hours'] = df_converted.apply(lambda row: calculate_time_difference(row['store_opening_time'], row['store_closing_time']), axis=1)\n",
    "df_converted['rps_operating_hours'] = df_converted.apply(lambda row: calculate_time_difference(row['rps_opening_time'], row['rps_closing_time']), axis=1)\n",
    "df_converted['rps_shop_hour_ratio'] = df_converted.apply(lambda row: row['rps_operating_hours'] / row['shop_business_hours'] if row['shop_business_hours'] != datetime.timedelta(0) else pd.NaT, axis=1)\n",
    "\n",
    "print(df_converted.head())"
   ]
  },
  {
   "cell_type": "code",
   "execution_count": null,
   "id": "82d8126b",
   "metadata": {},
   "outputs": [],
   "source": [
    "mode_store_open = df_merge.groupby('shop_name')['store_opening_time'].agg(pd.Series.mode)\n",
    "store_open_counts = mode_store_open.value_counts()\n",
    "store_open_counts.plot(kind='bar')\n",
    "plt.title(\"開店時間集計\")\n",
    "plt.show()"
   ]
  },
  {
   "cell_type": "code",
   "execution_count": null,
   "id": "5ce4a8d6",
   "metadata": {},
   "outputs": [],
   "source": [
    "mode_rps_open = df_merge.groupby('shop_name')['rps_opening_time'].agg(pd.Series.mode)\n",
    "rps_open_counts = mode_rps_open.value_counts()\n",
    "rps_open_counts.plot(kind='bar')\n",
    "plt.title(\"RPSオープン時間集計\")\n",
    "plt.show()"
   ]
  },
  {
   "cell_type": "code",
   "execution_count": null,
   "id": "4b1e21cb",
   "metadata": {},
   "outputs": [],
   "source": [
    "mode_shop_close = df_merge.groupby('shop_name')['store_closing_time'].agg(pd.Series.mode)\n",
    "shop_close_counts = mode_shop_close.value_counts()\n",
    "shop_close_counts.plot(kind='bar')\n",
    "plt.title(\"閉店時間集計\")\n",
    "plt.show()"
   ]
  },
  {
   "cell_type": "code",
   "execution_count": null,
   "id": "b884feb3",
   "metadata": {},
   "outputs": [],
   "source": [
    "mode_rps_close = df_merge.groupby('shop_name')['rps_closing_time'].agg(pd.Series.mode)\n",
    "rps_close_counts = mode_rps_close.value_counts()\n",
    "rps_close_counts.plot(kind='bar')\n",
    "plt.title(\"RPSクローズ時間集計\")\n",
    "plt.show()"
   ]
  },
  {
   "cell_type": "code",
   "execution_count": null,
   "id": "e57d9517",
   "metadata": {},
   "outputs": [],
   "source": [
    "# timedelta を分数に変換する関数\n",
    "def timedelta_to_minutes(td):\n",
    "    return td.total_seconds() / 60\n",
    "\n",
    "# timedelta 列を分数に変換\n",
    "df_converted['shop_business_hours_mins'] = df_converted['shop_business_hours'].apply(timedelta_to_minutes)\n",
    "df_converted['rps_operating_hours_mins'] = df_converted['rps_operating_hours'].apply(timedelta_to_minutes)"
   ]
  },
  {
   "cell_type": "code",
   "execution_count": null,
   "id": "f32c1674",
   "metadata": {},
   "outputs": [],
   "source": [
    "def safe_mode(series):\n",
    "    modes = series.mode()\n",
    "    if len(modes) > 0:\n",
    "        return modes.iloc[0]\n",
    "    else:\n",
    "        return np.nan\n",
    "\n",
    "# 各店舗ごとに各列のモードを計算\n",
    "shop_mode_values = df_converted.groupby('shop_name').agg({'shop_business_hours_mins': safe_mode,\n",
    "                                                          'rps_operating_hours_mins': safe_mode,\n",
    "                                                          'rps_shop_hour_ratio': safe_mode})\n"
   ]
  },
  {
   "cell_type": "code",
   "execution_count": null,
   "id": "c73a0f35",
   "metadata": {},
   "outputs": [],
   "source": [
    "# ヒストグラムを描画\n",
    "plt.figure(figsize=(15, 5))\n",
    "\n",
    "# shop_business_hours_mins のヒストグラム\n",
    "plt.subplot(1, 3, 1)\n",
    "#plt.hist(shop_mode_values['shop_business_hours_mins'].dropna(), bins=10, color='blue', alpha=0.7)\n",
    "plt.hist(shop_mode_values['shop_business_hours_mins'].dropna(), bins=10, range=(480,1000), color='blue', alpha=0.7)\n",
    "plt.title('①各店舗の営業時間')\n",
    "plt.xlabel('Minutes')\n",
    "plt.ylabel('Frequency')\n",
    "\n",
    "# rps_operating_hours_mins のヒストグラム\n",
    "plt.subplot(1, 3, 2)\n",
    "plt.hist(shop_mode_values['rps_operating_hours_mins'].dropna(), bins=10, range=(480,1000), color='green', alpha=0.7)\n",
    "plt.title('②各RPSの稼働時間')\n",
    "plt.xlabel('Minutes')\n",
    "\n",
    "# rps_shop_hour_ratio のヒストグラム\n",
    "plt.subplot(1, 3, 3)\n",
    "plt.hist(shop_mode_values['rps_shop_hour_ratio'].dropna(), bins=10, range=(0.6,1.1), color='red', alpha=0.7)\n",
    "plt.title('②RPS稼働時間 / ①店舗営業時間')\n",
    "plt.xlabel('Ratio')\n",
    "\n",
    "plt.tight_layout()\n",
    "plt.show()\n"
   ]
  },
  {
   "cell_type": "code",
   "execution_count": null,
   "id": "fa1da6df",
   "metadata": {},
   "outputs": [],
   "source": [
    "# 営業時間がマイナスの行を表示\n",
    "negative_shop_business_hours = df_converted[df_converted['shop_business_hours_mins'] < 0]\n",
    "print(len(negative_shop_business_hours))\n",
    "negative_shop_business_hours"
   ]
  },
  {
   "cell_type": "code",
   "execution_count": null,
   "id": "b46a06dc",
   "metadata": {},
   "outputs": [],
   "source": [
    "# 営業時間が900分以上の行を表示\n",
    "long_shop_business_hours = df_converted[df_converted['shop_business_hours_mins'] >900]\n",
    "print(len(long_shop_business_hours))\n",
    "long_shop_business_hours"
   ]
  },
  {
   "cell_type": "code",
   "execution_count": null,
   "id": "79945a4a",
   "metadata": {},
   "outputs": [],
   "source": [
    "# RPS稼働が900分以上の行を表示\n",
    "long_rps_operating_hours = df_converted[df_converted['rps_operating_hours_mins'] >900]\n",
    "print(len(long_rps_operating_hours))\n",
    "long_rps_operating_hours"
   ]
  },
  {
   "cell_type": "code",
   "execution_count": null,
   "id": "ca5b8972",
   "metadata": {},
   "outputs": [],
   "source": []
  }
 ],
 "metadata": {
  "kernelspec": {
   "display_name": "Python 3 (ipykernel)",
   "language": "python",
   "name": "python3"
  },
  "language_info": {
   "codemirror_mode": {
    "name": "ipython",
    "version": 3
   },
   "file_extension": ".py",
   "mimetype": "text/x-python",
   "name": "python",
   "nbconvert_exporter": "python",
   "pygments_lexer": "ipython3",
   "version": "3.11.5"
  }
 },
 "nbformat": 4,
 "nbformat_minor": 5
}

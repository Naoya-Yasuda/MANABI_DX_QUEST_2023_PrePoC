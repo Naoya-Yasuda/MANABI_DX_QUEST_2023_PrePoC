{
 "cells": [
  {
   "cell_type": "code",
   "execution_count": null,
   "metadata": {},
   "outputs": [],
   "source": [
    "import requests\n",
    "import os\n",
    "import matplotlib.pyplot as plt\n",
    "from datetime import datetime, timedelta, date\n",
    "import pandas as pd\n",
    "import json\n",
    "import numpy as np\n",
    "import dask.dataframe as dd\n",
    "\n",
    "\n",
    "# カレントディレクトリを.pyと合わせるために以下を実行\n",
    "from pathlib import Path\n",
    "if Path.cwd().name == \"notebook\":\n",
    "    os.chdir(\"..\")\n",
    "\n",
    "today = date.today()\n",
    "\n",
    "# 設定\n",
    "pd.set_option('display.max_rows', 100)\n",
    "pd.set_option('display.min_rows', 100)\n",
    "pd.set_option('display.max_columns', 100)\n",
    "# NumPy配列の表示オプションを設定\n",
    "np.set_printoptions(threshold=np.inf)\n",
    "# 配列の表示形式を科学表記ではなく通常の浮動小数点数に設定\n",
    "np.set_printoptions(suppress=True)"
   ]
  },
  {
   "cell_type": "code",
   "execution_count": null,
   "metadata": {},
   "outputs": [],
   "source": [
    "# Mac Matplotlibのデフォルトフォントをヒラギノ角ゴシックに設定\n",
    "plt.rcParams['font.family'] = 'Hiragino Sans'"
   ]
  },
  {
   "cell_type": "code",
   "execution_count": null,
   "metadata": {},
   "outputs": [],
   "source": [
    "# Windows MatplotlibのデフォルトフォントをMeiryoに設定\n",
    "# plt.rcParams['font.family'] = 'Meiryo'"
   ]
  },
  {
   "cell_type": "code",
   "execution_count": null,
   "metadata": {},
   "outputs": [],
   "source": [
    "# CSVファイルを読み込む\n",
    "file_path = 'data/input/user_info_cleansing.csv'  # ファイルパスを適切に設定してください\n",
    "df1 = dd.read_csv(file_path).drop(['Unnamed: 0'], axis=1).compute()\n",
    "file_path = 'data/input/gacha_history.csv'  # ファイルパスを適切に設定してください\n",
    "df2 = dd.read_csv(file_path).compute()\n",
    "file_path = 'data/input/point_history_cleansing.csv'  # ファイルパスを適切に設定してください\n",
    "# column_types = {\n",
    "#     'id' : np.float16,\n",
    "#     'user_id' : int,\n",
    "#     'series_id' : np.float16,\n",
    "#     'shop_id' : np.float16,\n",
    "#     'shop_name' : str,\n",
    "#     'card_id' : str,\n",
    "#     'リサイクル分類ID' : np.float16,\n",
    "#     'amount' : np.float16,\n",
    "#     'amount_kg' : np.float16,\n",
    "#     'point' : np.float16,\n",
    "#     'total_point' : np.float16,\n",
    "#     'status' : np.float16,\n",
    "#     'total_amount' : np.float16,\n",
    "#     'coin' : np.float16,\n",
    "#     'rank_id' : np.float16,\n",
    "#     'use_date' :   'datetime64[ns]',\n",
    "#     'created_at' : 'datetime64[ns]',\n",
    "#     'updated_at' : 'datetime64[ns]',\n",
    "#     '支店ID' : np.float16,\n",
    "#     'super' : str,\n",
    "#     'prefectures' : str,\n",
    "#     'municipality' : str,\n",
    "#     'shop_name_1' :  str,\n",
    "#     'shop_id_1' :    str,\n",
    "#     'created_at_1' : 'datetime64[ns]',\n",
    "#     'updated_at_1' : 'datetime64[ns]',\n",
    "#     'store_latitude' : np.double,\n",
    "#     'store_longitude' : np.double,\n",
    "# }\n",
    "df3 = dd.read_csv(\n",
    "    file_path,\n",
    "    dtype={\n",
    "        'series_id': 'Int64',\n",
    "        'shop_id': 'Int64',\n",
    "        'shop_id_1': str,\n",
    "        'リサイクル分類ID': 'Int64',\n",
    "        '支店ID': 'Int64',\n",
    "        'rank_id': 'Int64'\n",
    "    }\n",
    ").drop(['Unnamed: 0'], axis=1).compute()\n",
    "\n",
    "file_path = 'data/input/ユーザー基本情報_2023-12-21.csv'\n",
    "df4 = dd.read_csv(file_path, encoding='sjis').compute()\n",
    "\n",
    "# 'カード登録日' 列を datetime オブジェクトに変換（日付の形式は適宜調整してください）\n",
    "df4['カード登録日'] = pd.to_datetime(df4['カード登録日'], format='%Y/%m/%d')\n",
    "# サービス利用開始からの経過日数\n",
    "df4['サービス利用開始からの経過日数'] = (pd.to_datetime(today) - df4['カード登録日']).dt.days\n",
    "# サービス利用開始からの経過月数\n",
    "df4['サービス利用開始からの経過月数'] = (pd.to_datetime(today) - df4['カード登録日']).dt.days / 30\n",
    "# 経過月数が1未満は1に補正する。月数で割ると月平均が増えてしまうため\n",
    "df4['サービス利用開始からの経過月数'] = df4['サービス利用開始からの経過月数'].apply(lambda x: 1 if x<1 else x)\n",
    "\n",
    "# 不正データnan変換\n",
    "df1 = df1.replace('N', np.nan)\n",
    "df1 = df1.replace('nan', np.nan)\n",
    "df2 = df2.replace('N', np.nan)\n",
    "df2 = df2.replace('nan', np.nan)\n",
    "df3 = df3.replace('N', np.nan)\n",
    "df3 = df3.replace('nan', np.nan)\n",
    "df4 = df4.replace('N', np.nan)\n",
    "df4 = df4.replace('nan', np.nan)\n",
    "\n",
    "#pointhistoryの事務局操作データは除外\n",
    "df3 = df3[df3['status'] != 3]"
   ]
  },
  {
   "cell_type": "markdown",
   "metadata": {},
   "source": [
    "結合"
   ]
  },
  {
   "cell_type": "code",
   "execution_count": null,
   "metadata": {},
   "outputs": [],
   "source": [
    "df_user_merge = pd.merge(df1, df4, left_on='id', right_on='利用者ID', how='inner')\n",
    "# 毎月平均リサイクル量\n",
    "df_user_merge['毎月平均リサイクル量'] = df_user_merge['total_recycle_amount'] / df_user_merge['サービス利用開始からの経過月数']\n",
    "# display(df_user_merge[['total_recycle_amount','サービス利用開始からの経過日数','毎月平均リサイクル量']])\n",
    "\n",
    "df_merge_gacha = pd.merge(df2, df_user_merge, left_on='user_uid', right_on='id', how='left')\n",
    "df_merge_gacha = df_merge_gacha.drop(['id_x','id_y'], axis=1) \n",
    "\n",
    "df_merge_point = pd.merge(df3, df_user_merge, left_on='user_id', right_on='id', how='left')\n",
    "df_merge_point = df_merge_point.drop(['id_x','id_y'], axis=1) \n",
    "df_merge_point = df_merge_point[~df_merge_point['サービス利用開始からの経過日数'].isna()]\n",
    "df_merge_point = df_merge_point[~df_merge_point['サービス利用開始からの経過月数'].isna()]\n"
   ]
  },
  {
   "cell_type": "code",
   "execution_count": null,
   "metadata": {},
   "outputs": [],
   "source": [
    "# print(np.sort(df_merge_point['サービス利用開始からの経過月数'].unique()))"
   ]
  },
  {
   "cell_type": "markdown",
   "metadata": {},
   "source": [
    "#### 特徴量候補を列挙\n",
    "ユーザ毎\n",
    "- 毎月平均リサイクル量\n",
    "- 毎月平均リサイクル回数\n",
    "- 毎月平均クラブコインの使用量\n",
    "- 毎月平均ガチャの取得量\n",
    "- 毎月平均ガチャの使用量\n",
    "- 平均rank\n",
    "- 店舗との距離←緯度経度をgeocodeで算出\n",
    "- 店舗のリサイクル許容量\n",
    "- 性別\n",
    "- 年代\n",
    "- カード種類\n",
    "- サービス利用開始からの経過日数 ←特徴量としてはいらないかも\n",
    "\n",
    "### 特徴量算出"
   ]
  },
  {
   "cell_type": "markdown",
   "metadata": {},
   "source": [
    "#### - 毎月平均リサイクル回数"
   ]
  },
  {
   "cell_type": "code",
   "execution_count": null,
   "metadata": {},
   "outputs": [],
   "source": [
    "# ユーザー別リサイクル回数\n",
    "count = df_merge_point.groupby('user_id').size()\n",
    "count = count.to_frame('リサイクル回数')\n",
    "count = count.reset_index()\n",
    "\n",
    "df_user_merge = pd.merge(df_user_merge, count, left_on='id', right_on='user_id', how='inner')\n",
    "df_user_merge['月平均リサイクル回数'] = df_user_merge['リサイクル回数'] / df_user_merge['サービス利用開始からの経過月数']"
   ]
  },
  {
   "cell_type": "markdown",
   "metadata": {},
   "source": [
    "#### - 毎月平均クラブコインの使用量"
   ]
  },
  {
   "cell_type": "code",
   "execution_count": null,
   "metadata": {},
   "outputs": [],
   "source": [
    "used_coin = df_merge_point[df_merge_point['coin']<0].groupby('user_id')['coin'].sum()\n",
    "used_coin = used_coin.to_frame('消費クラブコイン合計量').reset_index()\n",
    "\n",
    "df_merge_point = pd.merge(df_merge_point, used_coin, on='user_id',how='left')\n",
    "df_merge_point['消費クラブコイン合計量'] = df_merge_point['消費クラブコイン合計量'].fillna(0)\n",
    "df_merge_point['平均クラブコインの使用量'] = df_merge_point['消費クラブコイン合計量'] / df_merge_point['サービス利用開始からの経過月数']"
   ]
  },
  {
   "cell_type": "code",
   "execution_count": null,
   "metadata": {},
   "outputs": [],
   "source": [
    "df_merge_point"
   ]
  },
  {
   "cell_type": "markdown",
   "metadata": {},
   "source": [
    "#### ワンホットエンコーディング\n",
    "#### 正規化"
   ]
  },
  {
   "cell_type": "code",
   "execution_count": null,
   "metadata": {},
   "outputs": [],
   "source": []
  },
  {
   "cell_type": "code",
   "execution_count": null,
   "metadata": {},
   "outputs": [],
   "source": []
  }
 ],
 "metadata": {
  "kernelspec": {
   "display_name": "Python 3 (ipykernel)",
   "language": "python",
   "name": "python3"
  },
  "language_info": {
   "codemirror_mode": {
    "name": "ipython",
    "version": 3
   },
   "file_extension": ".py",
   "mimetype": "text/x-python",
   "name": "python",
   "nbconvert_exporter": "python",
   "pygments_lexer": "ipython3",
   "version": "3.11.5"
  }
 },
 "nbformat": 4,
 "nbformat_minor": 4
}

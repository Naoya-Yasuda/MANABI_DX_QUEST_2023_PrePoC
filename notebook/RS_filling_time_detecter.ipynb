{
 "cells": [
  {
   "cell_type": "code",
   "execution_count": null,
   "metadata": {},
   "outputs": [],
   "source": [
    "from itertools import islice\n",
    "import pandas as pd\n",
    "import numpy as np\n",
    "import matplotlib.pyplot as plt\n",
    "import matplotlib.dates as mdates\n",
    "import os\n",
    "from tqdm import tqdm \n",
    "import sys\n",
    "import datetime\n",
    "from scipy.optimize import curve_fit\n",
    "from scipy import stats\n",
    "import seaborn as sns\n",
    "\n",
    "# カレントディレクトリを.pyと合わせるために以下を実行\n",
    "from pathlib import Path\n",
    "if Path.cwd().name == \"notebook\":\n",
    "    os.chdir(\"..\")\n",
    "\n",
    "# Windows MatplotlibのデフォルトフォントをMeiryoに設定\n",
    "plt.rcParams['font.family'] = 'Meiryo'\n",
    "\n",
    "\n",
    "# 親ディレクトリをsys.pathに追加\n",
    "sys.path.append(os.path.dirname(os.path.dirname(os.path.abspath(os.getcwd()))))\n",
    "from utils.point_history_utils import open_point_history_per_shop, aggregate_date\n",
    "from RS_filliing_rate.RS_filling_time_detecter import extract_low_recycling_days, extract_high_recycling_days\n",
    "\n",
    "\n",
    "# 設定\n",
    "pd.set_option('display.max_rows', 500)\n",
    "pd.set_option('display.min_rows', 500)\n",
    "pd.set_option('display.max_columns', 500)"
   ]
  },
  {
   "cell_type": "code",
   "execution_count": null,
   "metadata": {},
   "outputs": [],
   "source": [
    "def calc_filling_rate(df, max_filling_hour, kg_threshold):\n",
    "    \"\"\"\n",
    "    各行の'filling_rate'を計算する\n",
    "    args:\n",
    "        df: dataframe\n",
    "        max_filling_hour: float\n",
    "        kg_threshold: float\n",
    "    return:\n",
    "        df2: dataframe    \n",
    "    \"\"\"\n",
    "    kg_threshold = 1300\n",
    "    df_high = extract_high_recycling_days(df, kg_threshold)\n",
    "    df_high.loc[df_high['interval_compared_to_next'] > max_filling_hour, 'filling_rate'] = 1\n",
    "\n",
    "    # 'filling_rate'が1で、次の行の'use_date'が20時以降　かつ　次の行の'use_date'が同じ日の場合、その行の'filling_rate'を1にする\n",
    "    for i in df_high.index[:-1]:\n",
    "        if df_high.loc[i, 'filling_rate'] == 1:\n",
    "            next_index = df_high.index[df_high.index.get_loc(i) + 1]\n",
    "            if df_high.loc[i, 'use_date'].day == df_high.loc[next_index, 'use_date'].day and df_high.loc[next_index, 'use_date'].hour >= 20:\n",
    "                df_high.loc[next_index, 'filling_rate'] = 1\n",
    "    df2 = pd.merge(df, df_high[['use_date', 'filling_rate']], on='use_date', how='left')\n",
    "    \n",
    "    # 1700kg以上の日は最終行の'filling_rate'を1にする\n",
    "    df_high = extract_high_recycling_days(df, 1700)\n",
    "    df_high['filling_rate'] = np.nan\n",
    "    # 次の行の'use_date'が別の日の場合、その行の'filling_rate'を1にする\n",
    "    for i in df_high.index[:-1]:\n",
    "        next_index = df_high.index[df_high.index.get_loc(i) + 1]\n",
    "        if df_high.loc[i, 'use_date'].day != df_high.loc[next_index, 'use_date'].day:\n",
    "            df_high.loc[i, 'filling_rate'] = 1\n",
    "    index_list = df_high[df_high['filling_rate'] == 1].index\n",
    "    df2.loc[index_list, 'filling_rate'] = 1\n",
    "\n",
    "    aggregate_df = aggregate_date(df2)\n",
    "    for date, max_amount_kg, filling_rate in zip(aggregate_df['年月日'], aggregate_df['amount_kg'], aggregate_df['filling_rate']):\n",
    "        if filling_rate != 1.0:\n",
    "            max_amount_kg = 1700\n",
    "        total_amount_kg_per_day = 0\n",
    "        for i in df2[df2['年月日'] == date].index:\n",
    "            total_amount_kg_per_day += df2.loc[i, 'amount_kg']\n",
    "            df2.loc[i, 'total_amount_kg_per_day'] = total_amount_kg_per_day\n",
    "            df2.loc[i, 'filling_rate'] = total_amount_kg_per_day / max_amount_kg\n",
    "    \n",
    "    return df2\n"
   ]
  },
  {
   "cell_type": "code",
   "execution_count": null,
   "metadata": {},
   "outputs": [],
   "source": [
    "df_shop_list = pd.read_csv('data/input/shop_list.csv', encoding=\"utf-8\")\n",
    "for super, shop_name_1, max_filling_hour in zip(df_shop_list['super'], df_shop_list['shop_name_1'], df_shop_list['max_filling_hour']):\n",
    "    break\n",
    "#     df_temp = open_point_history_per_shop(super, shop_name_1)\n",
    "#     # super, shop_name_1が一致するdf_shop_listの行に、prefectures,municipality,address, store_latitude,store_longitude列を追加\n",
    "#     df_shop_list.loc[(df_shop_list['super'] == super) & (df_shop_list['shop_name_1'] == shop_name_1), 'prefectures'] = df_temp['prefectures'].unique()[0]\n",
    "#     df_shop_list.loc[(df_shop_list['super'] == super) & (df_shop_list['shop_name_1'] == shop_name_1), 'municipality'] = df_temp['municipality'].unique()[0]\n",
    "#     df_shop_list.loc[(df_shop_list['super'] == super) & (df_shop_list['shop_name_1'] == shop_name_1), 'address'] = df_temp['address'].unique()[0]\n",
    "#     df_shop_list.loc[(df_shop_list['super'] == super) & (df_shop_list['shop_name_1'] == shop_name_1), 'store_latitude'] = df_temp['store_latitude'].unique()[0]\n",
    "#     df_shop_list.loc[(df_shop_list['super'] == super) & (df_shop_list['shop_name_1'] == shop_name_1), 'store_longitude'] = df_temp['store_longitude'].unique()[0]\n"
   ]
  },
  {
   "cell_type": "code",
   "execution_count": null,
   "metadata": {},
   "outputs": [],
   "source": [
    "df = open_point_history_per_shop(super, shop_name_1)\n",
    "df = calc_filling_rate(df, max_filling_hour,kg_threshold=1300)\n",
    "aggregated_df = aggregate_date(df)\n",
    "aggregated_df.loc[:,'amount_kg'].mean()\n",
    "#aggregated_df.loc[aggregated_df['年月日'].dt.year >= 2023,'amount_kg'].mean()"
   ]
  },
  {
   "cell_type": "code",
   "execution_count": null,
   "metadata": {},
   "outputs": [],
   "source": [
    "plt.plot(aggregated_df.loc[:,'amount_kg'])"
   ]
  },
  {
   "cell_type": "code",
   "execution_count": null,
   "metadata": {},
   "outputs": [],
   "source": [
    "df2 = open_point_history_per_shop('ヨークベニマル', '南中山店')\n",
    "df2 = calc_filling_rate(df2, max_filling_hour,kg_threshold=1300)\n",
    "aggregated_df2 = aggregate_date(df2)\n",
    "aggregated_df2.loc[:,'amount_kg'].mean()\n",
    "#aggregated_df2.loc[aggregated_df2['年月日'].dt.year == 2022,'amount_kg'].mean()"
   ]
  },
  {
   "cell_type": "code",
   "execution_count": null,
   "metadata": {},
   "outputs": [],
   "source": [
    "aggregated_df3 = pd.concat([aggregated_df,aggregated_df2]).reset_index(drop=True)"
   ]
  },
  {
   "cell_type": "code",
   "execution_count": null,
   "metadata": {},
   "outputs": [],
   "source": [
    "aggregated_df3[:2]"
   ]
  },
  {
   "cell_type": "code",
   "execution_count": null,
   "metadata": {},
   "outputs": [],
   "source": [
    "plt.plot(aggregated_df2.loc[:,'amount_kg'])"
   ]
  },
  {
   "cell_type": "code",
   "execution_count": null,
   "metadata": {},
   "outputs": [],
   "source": [
    "\n",
    "df[140:145]"
   ]
  },
  {
   "cell_type": "code",
   "execution_count": null,
   "metadata": {},
   "outputs": [],
   "source": [
    "aggregated_df = aggregate_date(df)\n",
    "aggregated_df[:5]"
   ]
  },
  {
   "cell_type": "code",
   "execution_count": null,
   "metadata": {},
   "outputs": [],
   "source": []
  },
  {
   "cell_type": "code",
   "execution_count": null,
   "metadata": {},
   "outputs": [],
   "source": [
    "# aggregated_dfのamount_kgの平均\n",
    "aggregated_df['amount_kg'].mean()"
   ]
  },
  {
   "cell_type": "code",
   "execution_count": null,
   "metadata": {},
   "outputs": [],
   "source": [
    "aggregated_df['filling_rate'].fillna(0, inplace=True)"
   ]
  },
  {
   "cell_type": "code",
   "execution_count": null,
   "metadata": {},
   "outputs": [],
   "source": [
    "fig, ax = plt.subplots()\n",
    "ax.plot(aggregated_df['年月日'], aggregated_df['filling_rate'])\n",
    "\n",
    "# x軸のラベル表示間隔を調整\n",
    "ax.xaxis.set_major_locator(mdates.YearLocator())\n",
    "ax.xaxis.set_major_formatter(mdates.DateFormatter('%Y'))\n",
    "\n",
    "ax.set_xlabel('年月日')\n",
    "ax.set_ylabel('filling_rate')\n",
    "\n",
    "# サブプロット間の間隔を調整\n",
    "plt.subplots_adjust(hspace=0.5, wspace=0.3)\n",
    "\n",
    "# x軸のラベルを斜めにして読みやすくする\n",
    "plt.setp(ax.xaxis.get_majorticklabels(), rotation=60)"
   ]
  },
  {
   "cell_type": "code",
   "execution_count": null,
   "metadata": {},
   "outputs": [],
   "source": [
    "# 天気データをダミー変数に変換\n",
    "weather_dummies = pd.get_dummies(aggregated_df['天気']).astype(int)\n",
    "\n",
    "# ダミー変数を元のデータフレームに結合\n",
    "df_with_dummies = pd.concat([aggregated_df, weather_dummies], axis=1)\n",
    "\n",
    "# 文字列データを含む列を除外\n",
    "numeric_df = df_with_dummies.select_dtypes(include=[np.number])\n",
    "\n",
    "# 定数列を除外\n",
    "non_constant_columns = numeric_df.loc[:, numeric_df.nunique() > 1]\n",
    "\n",
    "# 相関マトリックスを計算\n",
    "corr = non_constant_columns.corr()\n",
    "\n",
    "# 相関マップを描画\n",
    "plt.figure(figsize=(12, 10))\n",
    "sns.heatmap(corr, annot=True, fmt=\".1f\",cmap=\"bwr\")\n",
    "plt.show()"
   ]
  },
  {
   "cell_type": "code",
   "execution_count": null,
   "metadata": {},
   "outputs": [],
   "source": []
  },
  {
   "cell_type": "code",
   "execution_count": null,
   "metadata": {},
   "outputs": [],
   "source": []
  },
  {
   "cell_type": "code",
   "execution_count": null,
   "metadata": {},
   "outputs": [],
   "source": []
  },
  {
   "cell_type": "code",
   "execution_count": null,
   "metadata": {},
   "outputs": [],
   "source": []
  },
  {
   "cell_type": "code",
   "execution_count": null,
   "metadata": {},
   "outputs": [],
   "source": [
    "aggregated_df[:30]"
   ]
  },
  {
   "cell_type": "code",
   "execution_count": null,
   "metadata": {},
   "outputs": [],
   "source": []
  },
  {
   "cell_type": "code",
   "execution_count": null,
   "metadata": {},
   "outputs": [],
   "source": []
  },
  {
   "cell_type": "code",
   "execution_count": null,
   "metadata": {},
   "outputs": [],
   "source": []
  },
  {
   "cell_type": "code",
   "execution_count": null,
   "metadata": {},
   "outputs": [],
   "source": []
  },
  {
   "cell_type": "code",
   "execution_count": null,
   "metadata": {},
   "outputs": [],
   "source": []
  },
  {
   "cell_type": "code",
   "execution_count": null,
   "metadata": {},
   "outputs": [],
   "source": []
  },
  {
   "cell_type": "code",
   "execution_count": null,
   "metadata": {},
   "outputs": [],
   "source": [
    "df_high[df_high['interval_compared_to_next'] > max_filling_hour].shape"
   ]
  },
  {
   "cell_type": "code",
   "execution_count": null,
   "metadata": {},
   "outputs": [],
   "source": [
    "df_high[df_high['interval_compared_to_next'] > max_filling_hour]['use_date']"
   ]
  },
  {
   "cell_type": "code",
   "execution_count": null,
   "metadata": {},
   "outputs": [],
   "source": [
    "df_high[df_high['interval_compared_to_previous'] > max_filling_hour]['use_date']"
   ]
  },
  {
   "cell_type": "code",
   "execution_count": null,
   "metadata": {},
   "outputs": [],
   "source": [
    "df_maxfilling_date"
   ]
  },
  {
   "cell_type": "code",
   "execution_count": null,
   "metadata": {},
   "outputs": [],
   "source": []
  }
 ],
 "metadata": {
  "kernelspec": {
   "display_name": "patchworks",
   "language": "python",
   "name": "python3"
  },
  "language_info": {
   "codemirror_mode": {
    "name": "ipython",
    "version": 3
   },
   "file_extension": ".py",
   "mimetype": "text/x-python",
   "name": "python",
   "nbconvert_exporter": "python",
   "pygments_lexer": "ipython3",
   "version": "3.11.5"
  }
 },
 "nbformat": 4,
 "nbformat_minor": 2
}

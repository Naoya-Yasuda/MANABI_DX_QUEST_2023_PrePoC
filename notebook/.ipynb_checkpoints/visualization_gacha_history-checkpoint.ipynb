{
 "cells": [
  {
   "cell_type": "code",
   "execution_count": 10,
   "id": "762cc329-373b-47e2-839e-0b5838e12554",
   "metadata": {},
   "outputs": [],
   "source": [
    "import pandas as pd\n",
    "import matplotlib.pyplot as plt\n",
    "import seaborn as sns #seabornない人はpip installしてね\n",
    "import os\n",
    "from datetime import datetime\n",
    "\n",
    "# カレントディレクトリを.pyと合わせるために以下を実行\n",
    "from pathlib import Path\n",
    "if Path.cwd().name == \"notebook\":\n",
    "    os.chdir(\"..\")\n",
    "\n",
    "\n",
    "# 設定\n",
    "pd.set_option('display.max_rows', 500)\n",
    "pd.set_option('display.min_rows', 500)\n",
    "pd.set_option('display.max_columns', 500)\n",
    "# 浮動小数点数を小数点以下3桁で表示するように設定\n",
    "pd.set_option('display.float_format', '{:.3f}'.format)\n"
   ]
  },
  {
   "cell_type": "code",
   "execution_count": 2,
   "id": "8f82109b-f924-452e-abc3-fa3b20c4d3b0",
   "metadata": {},
   "outputs": [],
   "source": [
    "# Mac Matplotlibのデフォルトフォントをヒラギノ角ゴシックに設定\n",
    "plt.rcParams['font.family'] = 'Hiragino Sans'"
   ]
  },
  {
   "cell_type": "code",
   "execution_count": null,
   "id": "8251e4e5-10f5-4f55-bf7d-848e21d171ea",
   "metadata": {},
   "outputs": [],
   "source": [
    "# Windows MatplotlibのデフォルトフォントをMeiryoに設定\n",
    "plt.rcParams['font.family'] = 'Meiryo'"
   ]
  },
  {
   "cell_type": "code",
   "execution_count": 6,
   "id": "6049ed6f-d6ee-47cc-8487-e7e3e3d8be4b",
   "metadata": {},
   "outputs": [],
   "source": [
    "# CSVファイルを読み込む\n",
    "file_path = 'data/input/gacha_history.csv'  # ファイルパスを適切に設定してください\n",
    "df = pd.read_csv(file_path)"
   ]
  },
  {
   "cell_type": "code",
   "execution_count": 11,
   "id": "45402a51-a565-4aa0-ab10-2c512a395779",
   "metadata": {},
   "outputs": [
    {
     "data": {
      "text/html": [
       "<div>\n",
       "<style scoped>\n",
       "    .dataframe tbody tr th:only-of-type {\n",
       "        vertical-align: middle;\n",
       "    }\n",
       "\n",
       "    .dataframe tbody tr th {\n",
       "        vertical-align: top;\n",
       "    }\n",
       "\n",
       "    .dataframe thead th {\n",
       "        text-align: right;\n",
       "    }\n",
       "</style>\n",
       "<table border=\"1\" class=\"dataframe\">\n",
       "  <thead>\n",
       "    <tr style=\"text-align: right;\">\n",
       "      <th></th>\n",
       "      <th>id</th>\n",
       "      <th>user_uid</th>\n",
       "      <th>mission_type_id</th>\n",
       "      <th>add_ticket</th>\n",
       "    </tr>\n",
       "  </thead>\n",
       "  <tbody>\n",
       "    <tr>\n",
       "      <th>count</th>\n",
       "      <td>1846907.00000</td>\n",
       "      <td>1846907.00000</td>\n",
       "      <td>1846907.00000</td>\n",
       "      <td>1846907.00000</td>\n",
       "    </tr>\n",
       "    <tr>\n",
       "      <th>mean</th>\n",
       "      <td>923455.45872</td>\n",
       "      <td>54507.21897</td>\n",
       "      <td>1.11104</td>\n",
       "      <td>0.06743</td>\n",
       "    </tr>\n",
       "    <tr>\n",
       "      <th>std</th>\n",
       "      <td>533157.86929</td>\n",
       "      <td>35221.33415</td>\n",
       "      <td>1.79565</td>\n",
       "      <td>2.75022</td>\n",
       "    </tr>\n",
       "    <tr>\n",
       "      <th>min</th>\n",
       "      <td>1.00000</td>\n",
       "      <td>1.00000</td>\n",
       "      <td>0.00000</td>\n",
       "      <td>-300.00000</td>\n",
       "    </tr>\n",
       "    <tr>\n",
       "      <th>25%</th>\n",
       "      <td>461727.50000</td>\n",
       "      <td>16238.00000</td>\n",
       "      <td>0.00000</td>\n",
       "      <td>-1.00000</td>\n",
       "    </tr>\n",
       "    <tr>\n",
       "      <th>50%</th>\n",
       "      <td>923454.00000</td>\n",
       "      <td>60264.00000</td>\n",
       "      <td>1.00000</td>\n",
       "      <td>1.00000</td>\n",
       "    </tr>\n",
       "    <tr>\n",
       "      <th>75%</th>\n",
       "      <td>1385182.50000</td>\n",
       "      <td>88784.00000</td>\n",
       "      <td>1.00000</td>\n",
       "      <td>1.00000</td>\n",
       "    </tr>\n",
       "    <tr>\n",
       "      <th>max</th>\n",
       "      <td>1846993.00000</td>\n",
       "      <td>105518.00000</td>\n",
       "      <td>14.00000</td>\n",
       "      <td>300.00000</td>\n",
       "    </tr>\n",
       "  </tbody>\n",
       "</table>\n",
       "</div>"
      ],
      "text/plain": [
       "                 id      user_uid  mission_type_id    add_ticket\n",
       "count 1846907.00000 1846907.00000    1846907.00000 1846907.00000\n",
       "mean   923455.45872   54507.21897          1.11104       0.06743\n",
       "std    533157.86929   35221.33415          1.79565       2.75022\n",
       "min         1.00000       1.00000          0.00000    -300.00000\n",
       "25%    461727.50000   16238.00000          0.00000      -1.00000\n",
       "50%    923454.00000   60264.00000          1.00000       1.00000\n",
       "75%   1385182.50000   88784.00000          1.00000       1.00000\n",
       "max   1846993.00000  105518.00000         14.00000     300.00000"
      ]
     },
     "execution_count": 11,
     "metadata": {},
     "output_type": "execute_result"
    }
   ],
   "source": [
    "df.describe()"
   ]
  },
  {
   "cell_type": "code",
   "execution_count": 16,
   "id": "877019cc-8f19-4cc3-a06a-cb48eb5e2669",
   "metadata": {},
   "outputs": [
    {
     "data": {
      "text/plain": [
       "Index(['id', 'user_uid', 'mission_type_id', 'add_ticket',\n",
       "       'mission_achievement_date', 'get_ticket_date', 'updated_at'],\n",
       "      dtype='object')"
      ]
     },
     "execution_count": 16,
     "metadata": {},
     "output_type": "execute_result"
    }
   ],
   "source": [
    "df.columns"
   ]
  },
  {
   "cell_type": "code",
   "execution_count": 29,
   "id": "b78bb92f-1bdd-4c9c-8c60-7adc18d24a9a",
   "metadata": {},
   "outputs": [
    {
     "data": {
      "image/png": "[encoded data removed]",
      "text/plain": [
       "<Figure size 640x480 with 1 Axes>"
      ]
     },
     "metadata": {},
     "output_type": "display_data"
    }
   ],
   "source": [
    "total_tickets_per_user = df.groupby(['user_uid'], observed=True)[\n",
    "    'add_ticket'].sum()\n",
    "# 箱ひげ図を描画\n",
    "fig, ax = plt.subplots()\n",
    "\n",
    "sns.boxplot(data=total_tickets_per_user, showfliers=True)\n",
    "plt.title('獲得チケット')\n",
    "plt.grid(True)\n",
    "plt.show()"
   ]
  },
  {
   "cell_type": "code",
   "execution_count": 28,
   "id": "1ab8cc92-9805-40b3-bcfe-b7c07b1ffab9",
   "metadata": {},
   "outputs": [
    {
     "name": "stdout",
     "output_type": "stream",
     "text": [
      "0 5\n"
     ]
    },
    {
     "data": {
      "image/png": "[encoded data removed]",
      "text/plain": [
       "<Figure size 1000x600 with 1 Axes>"
      ]
     },
     "metadata": {},
     "output_type": "display_data"
    }
   ],
   "source": [
    "# 第一四分位数（Q1）と第三四分位数（Q3）を計算\n",
    "Q1 = total_tickets_per_user.quantile(0.25)\n",
    "Q3 = total_tickets_per_user.quantile(0.75)\n",
    "\n",
    "# 四分位範囲（IQR）を計算\n",
    "IQR = Q3 - Q1\n",
    "\n",
    "# 外れ値の範囲を定義\n",
    "lower_bound = Q1 - 1.5 * IQR\n",
    "upper_bound = Q3 + 1.5 * IQR\n",
    "\n",
    "# 外れ値を除外\n",
    "filtered_data = total_tickets_per_user[(total_tickets_per_user >= lower_bound) & (total_tickets_per_user <= upper_bound)]\n",
    "\n",
    "# ヒストグラムのビンの数を10分割に設定\n",
    "bin_count = 6\n",
    "\n",
    "# チケットの最小値と最大値を取得\n",
    "min_tickets = min(filtered_data)\n",
    "max_tickets = max(filtered_data)\n",
    "print(min_tickets,max_tickets)\n",
    "\n",
    "# ビンの幅を計算\n",
    "bin_width = (max_tickets - min_tickets) / bin_count\n",
    "# bin_width = 10\n",
    "\n",
    "# ビンの範囲を設定\n",
    "bins = [min_tickets + i * bin_width for i in range(bin_count + 1)]\n",
    "\n",
    "# ヒストグラムを描画\n",
    "plt.figure(figsize=(10, 6))\n",
    "plt.hist(filtered_data, bins=bins, edgecolor='black')\n",
    "plt.title('ユーザーごとのチケット合計数の分布(外れ値除外)')\n",
    "plt.xlabel('チケット合計数')\n",
    "plt.ylabel('ユーザー数')\n",
    "# plt.xticks(range(min(total_tickets_per_user), max(total_tickets_per_user) + 1))\n",
    "plt.show()"
   ]
  },
  {
   "cell_type": "code",
   "execution_count": null,
   "id": "c6135d76-0fd5-41ad-9fdf-3e9a53949f7d",
   "metadata": {},
   "outputs": [],
   "source": [
    "# ごとの一人当たりのリサイクル量\n",
    "average_recycle_by_decade = data.groupby('age_group', observed=True)['total_recycle_amount'].mean()\n",
    "# print(average_recycle_by_decade)\n",
    "\n",
    "# 棒グラフで表示\n",
    "plt.bar(average_recycle_by_decade.index, average_recycle_by_decade)"
   ]
  }
 ],
 "metadata": {
  "kernelspec": {
   "display_name": "Python 3 (ipykernel)",
   "language": "python",
   "name": "python3"
  },
  "language_info": {
   "codemirror_mode": {
    "name": "ipython",
    "version": 3
   },
   "file_extension": ".py",
   "mimetype": "text/x-python",
   "name": "python",
   "nbconvert_exporter": "python",
   "pygments_lexer": "ipython3",
   "version": "3.11.5"
  }
 },
 "nbformat": 4,
 "nbformat_minor": 5
}

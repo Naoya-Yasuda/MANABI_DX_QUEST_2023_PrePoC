{
 "cells": [
  {
   "cell_type": "markdown",
   "id": "f261e941",
   "metadata": {},
   "source": [
    "# 1. 準備"
   ]
  },
  {
   "cell_type": "markdown",
   "id": "a5646cc3-f07b-4503-be1b-35a5f64d84d1",
   "metadata": {},
   "source": [
    "### 1.1. 基本設定"
   ]
  },
  {
   "cell_type": "code",
   "execution_count": null,
   "id": "762cc329-373b-47e2-839e-0b5838e12554",
   "metadata": {},
   "outputs": [],
   "source": [
    "import pandas as pd\n",
    "import matplotlib.pyplot as plt\n",
    "import seaborn as sns\n",
    "import os\n",
    "from datetime import datetime\n",
    "import numpy as np\n",
    "from pathlib import Path\n",
    "from sklearn.model_selection import train_test_split\n",
    "from tensorflow.keras.models import Sequential\n",
    "from tensorflow.keras.layers import LSTM, Dense\n",
    "from sklearn.preprocessing import MinMaxScaler\n",
    "from tensorflow.keras.optimizers import Adam\n",
    "import tensorflow as tf\n",
    "from sklearn.model_selection import train_test_split\n",
    "from sklearn.metrics import mean_absolute_error\n",
    "import matplotlib.dates as mdates\n",
    "import lightgbm as lgb\n",
    "\n",
    "# カレントディレクトリを.pyと合わせるために以下を実行\n",
    "if Path.cwd().name == \"notebook\":\n",
    "    os.chdir(\"..\")\n",
    "\n",
    "# 設定\n",
    "pd.set_option('display.max_rows', 500)\n",
    "pd.set_option('display.min_rows', 500)\n",
    "pd.set_option('display.max_columns', 500)\n",
    "\n",
    "# 浮動小数点数を小数点以下3桁で表示するように設定\n",
    "pd.set_option('display.float_format', '{:.3f}'.format)"
   ]
  },
  {
   "cell_type": "code",
   "execution_count": null,
   "id": "8f82109b-f924-452e-abc3-fa3b20c4d3b0",
   "metadata": {},
   "outputs": [],
   "source": [
    "# Mac Matplotlibのデフォルトフォントをヒラギノ角ゴシックに設定\n",
    "plt.rcParams['font.family'] = 'Hiragino Sans'"
   ]
  },
  {
   "cell_type": "code",
   "execution_count": null,
   "id": "8251e4e5-10f5-4f55-bf7d-848e21d171ea",
   "metadata": {},
   "outputs": [],
   "source": [
    "# Windows MatplotlibのデフォルトフォントをMeiryoに設定\n",
    "plt.rcParams['font.family'] = 'Meiryo'"
   ]
  },
  {
   "cell_type": "markdown",
   "id": "3af1590e-8ec0-42b2-a2dd-63486506b8bc",
   "metadata": {},
   "source": [
    "### 1.2. csv読み込み"
   ]
  },
  {
   "cell_type": "code",
   "execution_count": null,
   "id": "4d9a51c9",
   "metadata": {},
   "outputs": [],
   "source": [
    "# point_history.csvの読み込み\n",
    "df_point_history_sorce = pd.read_csv('data/input/point_history_cleansing.csv')"
   ]
  },
  {
   "cell_type": "code",
   "execution_count": null,
   "id": "a8c7aad2",
   "metadata": {},
   "outputs": [],
   "source": [
    "# ユーザー基本情報の読み込み\n",
    "df_user_base_sorce = pd.read_csv(\"data/input/user_info_merged.csv\")"
   ]
  },
  {
   "cell_type": "markdown",
   "id": "f7363482-2aa6-455a-a3fe-56fef7ec89e7",
   "metadata": {},
   "source": [
    "### 1.3. データクレンジング"
   ]
  },
  {
   "cell_type": "markdown",
   "id": "1df9883d-42a1-492d-89b3-ddcd9e0a1179",
   "metadata": {},
   "source": [
    "#### 1.3.1. df_user_base(ユーザ基本情報)のクレンジング"
   ]
  },
  {
   "cell_type": "code",
   "execution_count": null,
   "id": "d046f777-24e4-482d-ad0d-76edbe81d1f0",
   "metadata": {},
   "outputs": [],
   "source": [
    "# DataFrameのコピーを作成\n",
    "feature_list = [\n",
    "    'id',\n",
    "    'club_coin',\n",
    "    'recycle_point',\n",
    "    'total_recycle_amount',\n",
    "    'recycle_amount_per_year',\n",
    "    'recycle_amount_after_gold_member',\n",
    "    'rank_continuation_class',\n",
    "    'gender',\n",
    "    '緯度',\n",
    "    '経度',\n",
    "    '登録日時',\n",
    "    'カード登録',\n",
    "    '最終利用日',\n",
    "    '登録店舗との距離',\n",
    "    '毎月平均リサイクル量',\n",
    "    '毎月平均リサイクル回数',\n",
    "    '毎月平均クラブコインの使用量',\n",
    "    '毎月平均ガチャの取得量',\n",
    "    '毎月平均ガチャの使用量',\n",
    "    '平均rank',\n",
    "    'サービス利用開始からの経過日数',\n",
    "    'birthday'\n",
    "    ]\n",
    "\n",
    "df_user_base = df_user_base_sorce.copy()\n",
    "df_user_base = df_user_base[feature_list]\n",
    "\n",
    "# 紛らわしい列名を改名\n",
    "df_user_base = df_user_base.rename(columns={'登録日時': 'アプリ登録日時', '最終利用日': 'アプリ最終利用日'})\n",
    "\n",
    "# objectをdatetimeに変更\n",
    "df_user_base['アプリ登録日時'] = pd.to_datetime(df_user_base['アプリ登録日時'], errors='coerce')\n",
    "df_user_base['アプリ最終利用日'] = pd.to_datetime(df_user_base['アプリ最終利用日'], errors='coerce')\n",
    "df_user_base['カード登録'] = pd.to_datetime(df_user_base['カード登録'], errors='coerce')\n",
    "df_user_base['アプリ最終利用日'] = pd.to_datetime(df_user_base['アプリ最終利用日'], errors='coerce')\n",
    "df_user_base['birthday'] = pd.to_datetime(df_user_base['birthday'], errors='coerce')\n",
    "\n",
    "# 6歳未満(1543個)と100歳以上(12個)を削除\n",
    "df_user_base = df_user_base[ (df_user_base['birthday'] < pd.to_datetime('2017-01-01')) & (df_user_base['birthday'] > pd.to_datetime('1924-01-01'))]\n",
    "\n",
    "# df_user_baseに\"age\"と\"age_group\"のカラムを追加\n",
    "df_user_base['age'] = pd.Timestamp.now().year - df_user_base['birthday'].dt.year    # ageの算出・追加\n",
    "\n",
    "# 今回使用しない可能性が高いカラムは削除\n",
    "df_user_base = df_user_base.sort_values(by='アプリ登録日時')"
   ]
  },
  {
   "cell_type": "markdown",
   "id": "c9cd6468-24fd-4fdc-bd0b-bedf6ec72c46",
   "metadata": {},
   "source": [
    "#### 1.3.2. df_point_history(point_history.csv)のクレンジング"
   ]
  },
  {
   "cell_type": "markdown",
   "id": "0826b2c8-c664-404a-bb08-059d8318088c",
   "metadata": {},
   "source": [
    "## TODO:　store_latitude,store_longitudeと、userの緯度経度から、利用店舗との距離を算出してカラムに追加する"
   ]
  },
  {
   "cell_type": "code",
   "execution_count": null,
   "id": "c0171db7-b27e-4c02-839b-83c0d8c16cbb",
   "metadata": {},
   "outputs": [],
   "source": [
    "# DataFrameのコピーを作成\n",
    "df_point_history = df_point_history_sorce.copy()\n",
    "\n",
    "# objectをdatetimeに変更\n",
    "df_point_history['use_date'] = pd.to_datetime(df_point_history['use_date'], errors='coerce')\n",
    "\n",
    "feature_list_point = [\n",
    "    'user_id',\n",
    "    'super',\n",
    "    'status',\n",
    "    'shop_name_1',\n",
    "    'amount_kg',\n",
    "    'rank_id',\n",
    "    'use_date',\n",
    "    'store_latitude',\n",
    "    'store_longitude',\n",
    "    ]\n",
    "df_point_history = df_point_history[feature_list_point]\n",
    "df_point_history = df_point_history.sort_values(by='use_date')\n",
    "\n",
    "# statusが1以外は削除\n",
    "df_point_history = df_point_history[df_point_history['status'] == 1]\n",
    "\n",
    "# amount_kgが0以下は削除\n",
    "df_point_history = df_point_history[df_point_history['amount_kg'] > 0]\n"
   ]
  },
  {
   "cell_type": "markdown",
   "id": "1e72f35c-b01a-40a2-9a6f-9d5738e98365",
   "metadata": {},
   "source": [
    "#### 1.3.3. 分析に必要なカラムの作成"
   ]
  },
  {
   "cell_type": "markdown",
   "id": "60eba03c",
   "metadata": {},
   "source": [
    "継続利用期間（point_historyのuse_date列からRPS最終利用日を抽出したver.）　231228 norosen"
   ]
  },
  {
   "cell_type": "code",
   "execution_count": null,
   "id": "097b28c1",
   "metadata": {},
   "outputs": [],
   "source": [
    "# 各利用者id に対して「RPS利用開始日」「RPS最終利用日」を抽出\n",
    "first_entries_RPS = df_point_history.groupby('user_id').first().reset_index()\n",
    "last_entries_RPS = df_point_history.groupby('user_id').last().reset_index()"
   ]
  },
  {
   "cell_type": "code",
   "execution_count": null,
   "id": "b10f2780",
   "metadata": {},
   "outputs": [],
   "source": [
    "# df_user_baseに利用開始日をマージ\n",
    "df_user_base = pd.merge(df_user_base, first_entries_RPS[['user_id', 'use_date']], left_on='id', right_on='user_id', how='left')\n",
    "df_user_base = df_user_base.rename(columns={'use_date':'RPS利用開始日'})\n",
    "\n",
    "# df_user_baseに最終利用日をマージ\n",
    "df_user_base = pd.merge(df_user_base, last_entries_RPS[['user_id', 'use_date']], left_on='id', right_on='user_id', how='left')\n",
    "df_user_base = df_user_base.rename(columns={'use_date':'RPS最終利用日'})\n",
    "\n",
    "\n",
    "df_user_base['RPS利用開始日'] = pd.to_datetime(df_user_base['RPS利用開始日'], errors='coerce')\n",
    "df_user_base['RPS最終利用日'] = pd.to_datetime(df_user_base['RPS最終利用日'], errors='coerce')"
   ]
  },
  {
   "cell_type": "code",
   "execution_count": null,
   "id": "97fe9b65",
   "metadata": {},
   "outputs": [],
   "source": [
    "df_user_base = df_user_base.drop(columns=['user_id_x', 'user_id_y'])"
   ]
  },
  {
   "cell_type": "code",
   "execution_count": null,
   "id": "742e3833",
   "metadata": {},
   "outputs": [],
   "source": [
    "# RPS継続利用期間を計算\n",
    "df_user_base['RPS継続利用期間(月)'] = (df_user_base['RPS最終利用日'] - df_user_base['RPS利用開始日']).dt.days / 30  # 月単位で計算\n",
    "df_user_base = df_user_base[df_user_base['RPS継続利用期間(月)'] >= 0]"
   ]
  },
  {
   "cell_type": "markdown",
   "id": "f236de65-078b-4ca7-8481-924fda9b01e4",
   "metadata": {},
   "source": [
    "#### 1.3.4. マージ"
   ]
  },
  {
   "cell_type": "code",
   "execution_count": null,
   "id": "6127821c-0832-4aab-aeea-5d36f0fc8fc0",
   "metadata": {},
   "outputs": [],
   "source": [
    "monthly_grouped_point = df_point_history.groupby(['user_id', df_point_history['use_date'].dt.to_period('M')])['amount_kg'].sum()\n",
    "monthly_grouped_point = monthly_grouped_point.reset_index()"
   ]
  },
  {
   "cell_type": "code",
   "execution_count": null,
   "id": "0bb83be8-6989-445f-a7b0-c7b069ca863b",
   "metadata": {},
   "outputs": [],
   "source": [
    "# 全ユーザーに対して、カバーすべき年月の範囲を特定します。\n",
    "date_range = pd.period_range(monthly_grouped_point['use_date'].min(), monthly_grouped_point['use_date'].max(), freq='M')\n",
    "\n",
    "# 全ユーザーIDを取得します。\n",
    "user_ids = monthly_grouped_point['user_id'].unique()\n",
    "\n",
    "# 全てのユーザーIDと年月の組み合わせを持つDataFrameを作成します。\n",
    "all_combinations = pd.MultiIndex.from_product([user_ids, date_range], names=['user_id', 'use_date'])\n",
    "\n",
    "# この新しいDataFrameを元のDataFrameとマージします。これにより、元になかった年月の組み合わせはNaNで埋められます。\n",
    "expanded_df = pd.DataFrame(index=all_combinations).reset_index()\n",
    "expanded_df = expanded_df.merge(monthly_grouped_point, on=['user_id', 'use_date'], how='left')\n",
    "\n",
    "# NaNを0で埋めます。\n",
    "expanded_df['amount_kg'] = expanded_df['amount_kg'].fillna(0)\n",
    "\n",
    "# 最後に'YearMonth'の形式を'YYYY-MM'に戻します。\n",
    "expanded_df['use_date'] = expanded_df['use_date'].dt.strftime('%Y-%m')"
   ]
  },
  {
   "cell_type": "code",
   "execution_count": null,
   "id": "e1dbe1b3-870a-48ae-b6a9-5ed51ce9bf53",
   "metadata": {},
   "outputs": [],
   "source": [
    "merged_df = pd.merge(expanded_df, df_user_base,  left_on='user_id', right_on='id', how='inner')"
   ]
  },
  {
   "cell_type": "code",
   "execution_count": null,
   "id": "83d5a10e-50ed-40eb-80d0-360aa5ad3e2f",
   "metadata": {},
   "outputs": [],
   "source": [
    "merged_df['use_date'] = pd.to_datetime(merged_df['use_date'])\n",
    "merged_df['use_year'] = merged_df['use_date'].dt.year\n",
    "merged_df['use_month'] = merged_df['use_date'].dt.month\n",
    "merged_df = merged_df.drop(columns = ['user_id',\n",
    "                                      'birthday',\n",
    "                                      'use_date',\n",
    "                                      'RPS利用開始日',\n",
    "                                      'RPS最終利用日',\n",
    "                                      'アプリ最終利用日',\n",
    "                                      'アプリ登録日時',\n",
    "                                      'カード登録'                                      \n",
    "                                     ])"
   ]
  },
  {
   "cell_type": "code",
   "execution_count": null,
   "id": "b2557443-f50e-4f3e-82dc-e71cc886d94b",
   "metadata": {},
   "outputs": [],
   "source": [
    "merged_df = pd.get_dummies(merged_df,columns=['gender'])"
   ]
  },
  {
   "cell_type": "code",
   "execution_count": null,
   "id": "8f5c5ac0-242f-49a6-a791-0f5a6c7ba5c5",
   "metadata": {},
   "outputs": [],
   "source": [
    "merged_df = merged_df.astype(float)"
   ]
  },
  {
   "cell_type": "code",
   "execution_count": null,
   "id": "6f3569a7-0a46-4dda-93a2-748f35c587bc",
   "metadata": {},
   "outputs": [],
   "source": [
    "first_columns = ['id', 'use_year', 'use_month', 'amount_kg']\n",
    "\n",
    "# first_columns に含まれていないカラムを抽出\n",
    "remaining_columns = [col for col in merged_df.columns if col not in first_columns]\n",
    "\n",
    "# 新しいカラムの順序を生成\n",
    "new_columns_order = first_columns + remaining_columns\n",
    "\n",
    "# DataFrameのカラムを新しい順序で再配置\n",
    "merged_df = merged_df[new_columns_order]"
   ]
  },
  {
   "cell_type": "code",
   "execution_count": null,
   "id": "51a69b9f-5672-48e9-b923-dfd91c54048f",
   "metadata": {},
   "outputs": [],
   "source": [
    "merged_df = merged_df.sort_values(by = ['use_year','use_month'])"
   ]
  },
  {
   "cell_type": "code",
   "execution_count": null,
   "id": "2649847e-afe0-4953-aa34-9e9f5a59256f",
   "metadata": {},
   "outputs": [],
   "source": [
    "X = merged_df.drop('amount_kg', axis=1)\n",
    "y = merged_df['amount_kg']"
   ]
  },
  {
   "cell_type": "markdown",
   "id": "36971143",
   "metadata": {},
   "source": [
    "# 2. 予測"
   ]
  },
  {
   "cell_type": "markdown",
   "id": "167abb02-3725-4aae-8aaa-8f04b4bd2168",
   "metadata": {},
   "source": [
    "## 2.1. 予測"
   ]
  },
  {
   "cell_type": "code",
   "execution_count": null,
   "id": "cfdc26d2-857a-4a2b-9034-4aa602cc7bf3",
   "metadata": {},
   "outputs": [],
   "source": [
    "# Split the data into training and testing sets\n",
    "X_train, X_test, y_train, y_test = train_test_split(X, y, test_size=0.2, random_state=42)\n",
    "\n",
    "# Train the LightGBM model\n",
    "lgb_params = {\n",
    "    'objective': 'regression',\n",
    "    'boosting_type': 'gbdt',\n",
    "    'seed': 0,\n",
    "    'early_stopping_rounds' : 1000,\n",
    "     'num_iterations' : 10000,\n",
    "     'learning_rate' : 0.02,\n",
    "     'max_depth': 8,\n",
    "}\n",
    "train_data = lgb.Dataset(X_train, label=y_train)\n",
    "test_data = lgb.Dataset(X_train, label=y_train)\n",
    "model = lgb.train(lgb_params, train_data, valid_sets=test_data)\n",
    "# Predict and evaluate the model\n",
    "y_pred = model.predict(X_test, num_iteration=model.best_iteration)\n",
    "\n",
    "# Evaluate the predictions\n",
    "# Calculate and print evaluation metrics\n",
    "mse = mean_squared_error(y_test, y_pred)\n",
    "mae = mean_absolute_error(y_test, y_pred)\n",
    "rmse = np.sqrt(mse)\n",
    "r2 = r2_score(y_test, y_pred)\n",
    "\n",
    "print(f'Mean Squared Error (MSE): {mse}')\n",
    "print(f'Mean Absolute Error (MAE): {mae}')\n",
    "print(f'Root Mean Squared Error (RMSE): {rmse}')\n",
    "print(f'R-squared (R2): {r2}')\n",
    "\n",
    "print(\"actual\")\n",
    "print(y_test[:10].values)\n",
    "print(\"pred\")\n",
    "print(y_pred[:10])"
   ]
  },
  {
   "cell_type": "markdown",
   "id": "0e95f0f7-8135-47c9-8969-974c3d080925",
   "metadata": {},
   "source": [
    "## 2.2. 過去"
   ]
  },
  {
   "cell_type": "code",
   "execution_count": null,
   "id": "68debf63-6d44-4a63-b4bf-6ae6316beb84",
   "metadata": {},
   "outputs": [],
   "source": [
    "# 入力データ、出力データの作成\n",
    "# 入力データ: 2020/01 ~ 2023/09 までの45か月分の merged_df (ただし、amount_kg 列は除く)\n",
    "# 出力データ: 2023/10 ~ 2023/12 までの3か月分のamount_kg\n",
    "\n",
    "X, y = [], []\n",
    "\n",
    "# merged_df を　入力データと出力データに分割\n",
    "n_users = int(len(merged_df)/len(date_range))\n",
    "n_date_range = len(date_range)\n",
    "\n",
    "for i in range(n_users):\n",
    "\n",
    "    # len(date_range) 行ずつで区切る = ユーザーごとにデータを分ける\n",
    "    df_one_user = merged_df.iloc[n_date_range*i : n_date_range*(i+1), :]  \n",
    "\n",
    "    X.append(df_one_user.drop(\"amount_kg\", axis=1).iloc[:-3].values)\n",
    "\n",
    "    # 2023/10 ~ 2023/12 までの3か月分のamount_kg\n",
    "    y.append(df_one_user[\"amount_kg\"].iloc[-3:].values)"
   ]
  },
  {
   "cell_type": "code",
   "execution_count": null,
   "id": "96afacb7-f097-4a33-8c8d-7eefee10ecdb",
   "metadata": {},
   "outputs": [],
   "source": [
    "np.array(X).shape"
   ]
  },
  {
   "cell_type": "code",
   "execution_count": null,
   "id": "32ee2425-6791-447d-89b5-ceff84dc5b56",
   "metadata": {},
   "outputs": [],
   "source": [
    "# 訓練データとテストデータに分割\n",
    "X_train, X_test, y_train, y_test = train_test_split(X, y, test_size=0.3, shuffle=False)\n",
    "\n",
    "# LSTMモデルの構築\n",
    "model = tf.keras.models.Sequential([\n",
    "    tf.keras.layers.LSTM(50, activation='relu', input_shape=(n_date_range - 3, 24)),\n",
    "    tf.keras.layers.Dense(1)\n",
    "])\n",
    "model.compile(optimizer='adam', loss='mean_squared_error')"
   ]
  },
  {
   "cell_type": "code",
   "execution_count": null,
   "id": "67826616-f5ae-4319-b2e9-48f837ab8f04",
   "metadata": {},
   "outputs": [],
   "source": [
    "np.array(X_train).shape\n",
    "print(X_train[10003])\n",
    "print(y_train[10003])"
   ]
  },
  {
   "cell_type": "code",
   "execution_count": null,
   "id": "cdd0c630-a342-416e-ae73-e003e79b763b",
   "metadata": {},
   "outputs": [],
   "source": [
    "# モデルの訓練（履歴を保存）\n",
    "history = model.fit(X_train, y_train, epochs=1, batch_size=32, validation_data=(X_test, y_test))"
   ]
  },
  {
   "cell_type": "code",
   "execution_count": null,
   "id": "6b2a8e78-ea27-4f89-a20e-09ef6ce7bfde",
   "metadata": {},
   "outputs": [],
   "source": [
    "# データフレームをnumpy配列に変換\n",
    "data = merged_df.values\n",
    "\n",
    "# タイムステップの設定\n",
    "n_steps = 45  # 例として3日間のタイムステップを設定\n",
    "\n",
    "# データの再形成関数\n",
    "def create_dataset(data, n_steps):\n",
    "    X, y = [], []\n",
    "    for i in range(n_steps, len(data)):\n",
    "        X.append(data[i-n_steps:i])\n",
    "        y.append(data[i])\n",
    "    return np.array(X), np.array(y)\n",
    "\n",
    "# データを再形成\n",
    "X, y = create_dataset(data, n_steps)\n",
    "\n",
    "# 訓練データとテストデータに分割\n",
    "X_train, X_test, y_train, y_test = train_test_split(X, y, test_size=0.3, shuffle=False)\n",
    "\n",
    "# LSTMモデルの構築\n",
    "model = tf.keras.models.Sequential([\n",
    "    tf.keras.layers.LSTM(50, activation='relu', input_shape=(n_steps, 25)),\n",
    "    tf.keras.layers.Dense(1)\n",
    "])\n",
    "model.compile(optimizer='adam', loss='mean_squared_error')"
   ]
  },
  {
   "cell_type": "code",
   "execution_count": null,
   "id": "e074e450-4f17-4add-9d84-562809047cb5",
   "metadata": {},
   "outputs": [],
   "source": [
    "# モデルの訓練（履歴を保存）\n",
    "history = model.fit(X_train, y_train, epochs=1, batch_size=100, validation_data=(X_test, y_test))"
   ]
  },
  {
   "cell_type": "code",
   "execution_count": null,
   "id": "61a9f97f-5998-4bb3-b614-7badea10e8ec",
   "metadata": {},
   "outputs": [],
   "source": [
    "# モデルによる予測\n",
    "predictions = model.predict(X_test)"
   ]
  },
  {
   "cell_type": "code",
   "execution_count": null,
   "id": "3402e63b-2079-42ab-951f-4d5b15b4b605",
   "metadata": {},
   "outputs": [],
   "source": [
    "# 予測精度の評価\n",
    "mae = mean_absolute_error(y_test, predictions)\n",
    "print(f\"平均絶対誤差: {mae}\")\n",
    "\n",
    "# 学習履歴の取得\n",
    "loss = history.history['loss']\n",
    "val_loss = history.history['val_loss']\n",
    "epochs = range(1, len(loss) + 1)\n",
    "\n",
    "# MAE評価の折れ線グラフの描画\n",
    "plt.figure(figsize=(12, 6))\n",
    "plt.plot(epochs, loss, 'orange', label='Training MAE')\n",
    "plt.plot(epochs, val_loss, 'darkblue', label='Validation MAE')\n",
    "plt.title('Training and Validation MAE')\n",
    "plt.xlabel('Epochs')\n",
    "plt.ylabel('MAE')\n",
    "plt.ylim([0,100])\n",
    "plt.legend()\n",
    "grid.on\n",
    "plt.show()"
   ]
  },
  {
   "cell_type": "code",
   "execution_count": null,
   "id": "59189733-21bc-4159-bbde-4339757744f5",
   "metadata": {},
   "outputs": [],
   "source": [
    "predictions"
   ]
  },
  {
   "cell_type": "code",
   "execution_count": null,
   "id": "906e08a1-2fdd-4136-9edc-dd458cec18ea",
   "metadata": {},
   "outputs": [],
   "source": [
    "# 実際のデータと予測値のグラフ化\n",
    "plt.figure(figsize=(12, 6))\n",
    "\n",
    "# 実際の値のプロット\n",
    "plt.plot(df_pivot_target.index[n_steps:], data[n_steps:], label='Actual', marker='', linestyle='-')\n",
    "\n",
    "# 予測値のプロット\n",
    "predicted_index = df_pivot_target.index[len(y_train) + n_steps:]\n",
    "plt.plot(predicted_index, predictions, label='Predicted', marker='', linestyle='-')\n",
    "\n",
    "# X軸のフォーマットを日付に設定\n",
    "plt.gca().xaxis.set_major_formatter(mdates.DateFormatter('%Y-%m-%d'))\n",
    "plt.gca().xaxis.set_major_locator(mdates.DayLocator(interval=15))  # 15日ごとに日付を表示\n",
    "\n",
    "plt.xlabel('Date')\n",
    "plt.ylabel('Value')\n",
    "plt.title('Time Series Prediction')\n",
    "plt.legend()\n",
    "plt.xticks(rotation=90)  # X軸のラベルを45度回転\n",
    "# plt.ylim([1100,1200])\n",
    "plt.grid()\n",
    "plt.show()\n"
   ]
  },
  {
   "cell_type": "markdown",
   "id": "eb2ac309-fe96-43d2-95c0-49ed80f0cc91",
   "metadata": {},
   "source": [
    "### 2.2.2. 1日ごとの投入量を予測"
   ]
  },
  {
   "cell_type": "code",
   "execution_count": null,
   "id": "b200bff7-0c80-4d11-8e24-e503a37cd030",
   "metadata": {},
   "outputs": [],
   "source": [
    "# データフレームをnumpy配列に変換\n",
    "data = df_pivot_target.values\n",
    "\n",
    "# タイムステップの設定\n",
    "n_steps = 3  # 例として3日間のタイムステップを設定\n",
    "\n",
    "# データの再形成関数\n",
    "def create_dataset(data, n_steps):\n",
    "    X, y = [], []\n",
    "    for i in range(n_steps, len(data)):\n",
    "        X.append(data[i-n_steps:i])\n",
    "        y.append(data[i])\n",
    "    return np.array(X), np.array(y)\n",
    "\n",
    "# データを再形成\n",
    "X, y = create_dataset(data, n_steps)\n",
    "\n",
    "# 訓練データとテストデータに分割\n",
    "X_train, X_test, y_train, y_test = train_test_split(X, y, test_size=0.5, shuffle=False)\n",
    "\n",
    "# LSTMモデルの構築\n",
    "model = tf.keras.models.Sequential([\n",
    "    tf.keras.layers.LSTM(50, activation='relu', input_shape=(n_steps, 1)),\n",
    "    tf.keras.layers.Dense(1)\n",
    "])\n",
    "model.compile(optimizer='adam', loss='mean_squared_error')"
   ]
  },
  {
   "cell_type": "code",
   "execution_count": null,
   "id": "986ba8b3-fa1e-4971-8d1c-7cac0f2b5c6e",
   "metadata": {},
   "outputs": [],
   "source": [
    "# モデルの訓練（履歴を保存）\n",
    "history = model.fit(X_train, y_train, epochs=30, batch_size=32, validation_data=(X_test, y_test))"
   ]
  },
  {
   "cell_type": "code",
   "execution_count": null,
   "id": "6ce48bf6-76cb-4680-878f-769f20891717",
   "metadata": {},
   "outputs": [],
   "source": [
    "# モデルによる予測\n",
    "predictions = model.predict(X_test)"
   ]
  },
  {
   "cell_type": "code",
   "execution_count": null,
   "id": "03b42913-aa00-4139-9c58-7715657f21ce",
   "metadata": {},
   "outputs": [],
   "source": [
    "# 予測精度の評価\n",
    "mae = mean_absolute_error(y_test, predictions)\n",
    "print(f\"平均絶対誤差: {mae}\")\n",
    "\n",
    "# 学習履歴の取得\n",
    "loss = history.history['loss']\n",
    "val_loss = history.history['val_loss']\n",
    "epochs = range(1, len(loss) + 1)\n",
    "\n",
    "# MAE評価の折れ線グラフの描画\n",
    "plt.figure(figsize=(12, 6))\n",
    "plt.plot(epochs, loss, 'orange', label='Training MAE')\n",
    "plt.plot(epochs, val_loss, 'darkblue', label='Validation MAE')\n",
    "plt.title('Training and Validation MAE')\n",
    "plt.xlabel('Epochs')\n",
    "plt.ylabel('MAE')\n",
    "plt.legend()\n",
    "plt.show()"
   ]
  },
  {
   "cell_type": "code",
   "execution_count": null,
   "id": "7d58d473-6cf7-4f01-9065-997e1fdd7cbd",
   "metadata": {},
   "outputs": [],
   "source": [
    "# 実際のデータと予測値のグラフ化\n",
    "plt.figure(figsize=(12, 6))\n",
    "\n",
    "# 実際の値のプロット\n",
    "plt.plot(df_pivot_target.index[n_steps:], data[n_steps:], label='Actual', marker='', linestyle='-')\n",
    "\n",
    "# 予測値のプロット\n",
    "predicted_index = df_pivot_target.index[len(y_train) + n_steps:]\n",
    "plt.plot(predicted_index, predictions, label='Predicted', marker='', linestyle='-')\n",
    "\n",
    "# X軸のフォーマットを日付に設定\n",
    "plt.gca().xaxis.set_major_formatter(mdates.DateFormatter('%Y-%m-%d'))\n",
    "plt.gca().xaxis.set_major_locator(mdates.DayLocator(interval=15))  # 15日ごとに日付を表示\n",
    "\n",
    "plt.xlabel('Date')\n",
    "plt.ylabel('Value')\n",
    "plt.title('Time Series Prediction')\n",
    "plt.legend()\n",
    "plt.xticks(rotation=90)  # X軸のラベルを45度回転\n",
    "plt.ylim([0,2])\n",
    "plt.show()\n"
   ]
  },
  {
   "cell_type": "markdown",
   "id": "234513f5-bc3f-43aa-a01e-8a82124898e4",
   "metadata": {},
   "source": [
    "**結果**  \n",
    "・予測精度は悪い  \n",
    "・日付がバグった  \n",
    "・間欠データって、予測に向いてないのでは？日ごとに値を蓄積した総量のデータの方がよい？  "
   ]
  },
  {
   "cell_type": "code",
   "execution_count": null,
   "id": "f736a83c-1834-4387-924f-4e0886126d8c",
   "metadata": {},
   "outputs": [],
   "source": []
  }
 ],
 "metadata": {
  "kernelspec": {
   "display_name": "Python 3 (ipykernel)",
   "language": "python",
   "name": "python3"
  },
  "language_info": {
   "codemirror_mode": {
    "name": "ipython",
    "version": 3
   },
   "file_extension": ".py",
   "mimetype": "text/x-python",
   "name": "python",
   "nbconvert_exporter": "python",
   "pygments_lexer": "ipython3",
   "version": "3.11.5"
  }
 },
 "nbformat": 4,
 "nbformat_minor": 5
}

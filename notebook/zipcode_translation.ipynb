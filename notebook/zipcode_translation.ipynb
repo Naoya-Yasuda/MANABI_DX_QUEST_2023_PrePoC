{
 "cells": [
  {
   "cell_type": "code",
   "execution_count": null,
   "id": "8e1c820c-0454-4784-91da-9eed6e90a759",
   "metadata": {},
   "outputs": [],
   "source": [
    "import pandas as pd\n",
    "import requests\n",
    "import os\n",
    "import time\n",
    "from tqdm import tqdm\n",
    "import numpy as np\n",
    "# カレントディレクトリを.pyと合わせるために以下を実行\n",
    "from pathlib import Path\n",
    "if Path.cwd().name == \"notebook\":\n",
    "    os.chdir(\"..\")"
   ]
  },
  {
   "cell_type": "code",
   "execution_count": null,
   "id": "12e7170e-c16f-499a-943c-b371e9769f03",
   "metadata": {},
   "outputs": [],
   "source": [
    "# CSVファイルからDataFrameを読み込む\n",
    "df = pd.read_csv('data/input/user_info_cleansing.csv', dtype={'zipcode': str})\n",
    "\n",
    "# 欠損値を「N」に置換\n",
    "df['zipcode'] = df['zipcode'].fillna('N')\n",
    "\n",
    "# APIキー（PositionStackで取得）\n",
    "api_key = '89f36561dea6f8feb8bad2a40ed83480'\n",
    "\n",
    "# 結果を保存するためのリスト\n",
    "results = []\n",
    "\n",
    "# バッチサイズ（一度に処理する郵便番号の数）\n",
    "batch_size = 1\n",
    "\n",
    "url = 'http://geoapi.heartrails.com/api/json?method=searchByPostal&postal='"
   ]
  },
  {
   "cell_type": "code",
   "execution_count": null,
   "id": "3aeaa179-ccbc-40a0-a1c6-9313c08009b2",
   "metadata": {},
   "outputs": [],
   "source": [
    "def batch_geocode(api_key, zipcode):\n",
    "    \"\"\"PositionStack APIを使用して郵便番号のリストをジオコードする\"\"\"\n",
    "    response = requests.get(url + zipcode)\n",
    "    data = response.json()\n",
    "    if response.status_code != 200:\n",
    "        print(f\"エラー: {response.status_code, data, params}\")\n",
    "    # 'response' と 'location' キーの存在を確認\n",
    "    if 'response' not in data or 'location' not in data['response']:\n",
    "        return np.nan, np.nan\n",
    "    # 空の時の処理\n",
    "    if not data['response'] or not data['response']['location']:\n",
    "        return np.nan, np.nan\n",
    "    \n",
    "#     print(data['response']['location'][0]['x'], data['response']['location'][0]['y'])\n",
    "    return data['response']['location'][0]['x'], data['response']['location'][0]['y']"
   ]
  },
  {
   "cell_type": "code",
   "execution_count": null,
   "id": "403af7a0-3a9b-4f24-b3f4-644464ba764f",
   "metadata": {},
   "outputs": [],
   "source": [
    "# APIリクエストをバッチで実行\n",
    "for i in tqdm(range(0, len(df))):\n",
    "    # 'N'を含まない郵便番号を作成\n",
    "    zipcode = [zipcode for zipcode in df['zipcode'][i:i + 1] if zipcode != 'N']\n",
    "#     display(zipcode)\n",
    "    if zipcode:\n",
    "        zipcode = zipcode[0]\n",
    "        # 緯度と経度のデータを取得\n",
    "        latitude, longitude = batch_geocode(api_key, zipcode)\n",
    "\n",
    "        # 新しいカラムをDataFrameに追加して値を設定\n",
    "        df.loc[df['zipcode'] == zipcode, '経度'] = longitude\n",
    "        df.loc[df['zipcode'] == zipcode, '緯度'] = latitude\n",
    "\n",
    "    if i % 5 == 0:\n",
    "       time.sleep(1) \n",
    "display(df)\n",
    "df.to_csv('data/input/user_info_longitude_latitude.csv', index=True)"
   ]
  },
  {
   "cell_type": "code",
   "execution_count": null,
   "id": "d4ba6bb4-2d42-4835-9e5c-892793ebc341",
   "metadata": {},
   "outputs": [],
   "source": []
  }
 ],
 "metadata": {
  "kernelspec": {
   "display_name": "Python 3 (ipykernel)",
   "language": "python",
   "name": "python3"
  },
  "language_info": {
   "codemirror_mode": {
    "name": "ipython",
    "version": 3
   },
   "file_extension": ".py",
   "mimetype": "text/x-python",
   "name": "python",
   "nbconvert_exporter": "python",
   "pygments_lexer": "ipython3",
   "version": "3.9.7"
  }
 },
 "nbformat": 4,
 "nbformat_minor": 5
}

{
 "cells": [
  {
   "cell_type": "code",
   "execution_count": null,
   "id": "8e1c820c-0454-4784-91da-9eed6e90a759",
   "metadata": {},
   "outputs": [],
   "source": [
    "import pandas as pd\n",
    "import requests\n",
    "import os\n",
    "# カレントディレクトリを.pyと合わせるために以下を実行\n",
    "from pathlib import Path\n",
    "if Path.cwd().name == \"notebook\":\n",
    "    os.chdir(\"..\")"
   ]
  },
  {
   "cell_type": "code",
   "execution_count": null,
   "id": "12e7170e-c16f-499a-943c-b371e9769f03",
   "metadata": {},
   "outputs": [],
   "source": [
    "# CSVファイルからDataFrameを読み込む\n",
    "df = pd.read_csv('data/input/user_info_cleansing.csv', dtype={'zipcode': str})\n",
    "\n",
    "# 欠損値を「N」に置換\n",
    "df['zipcode'] = df['zipcode'].fillna('N')\n",
    "\n",
    "# APIキー（PositionStackで取得）\n",
    "api_key = '89f36561dea6f8feb8bad2a40ed83480'\n",
    "\n",
    "# 結果を保存するためのリスト\n",
    "results = []\n",
    "\n",
    "# バッチサイズ（一度に処理する郵便番号の数）\n",
    "batch_size = 10"
   ]
  },
  {
   "cell_type": "code",
   "execution_count": null,
   "id": "3aeaa179-ccbc-40a0-a1c6-9313c08009b2",
   "metadata": {},
   "outputs": [],
   "source": [
    "def batch_geocode(api_key, zipcodes):\n",
    "    \"\"\"PositionStack APIを使用して郵便番号のリストをジオコードする\"\"\"\n",
    "    params = {\n",
    "        'access_key': api_key,\n",
    "        'query': ','.join(zipcodes),\n",
    "        'limit': 10\n",
    "    }\n",
    "    response = requests.get('http://api.positionstack.com/v1/forward', params=params)\n",
    "    data = response.json()\n",
    "    if response.status_code != 200:\n",
    "        print(f\"エラー: {response.status_code, data, params}\")\n",
    "    return data"
   ]
  },
  {
   "cell_type": "code",
   "execution_count": null,
   "id": "403af7a0-3a9b-4f24-b3f4-644464ba764f",
   "metadata": {},
   "outputs": [],
   "source": [
    "# APIリクエストをバッチで実行\n",
    "# for i in range(0, len(df['zipcode']), batch_size):\n",
    "for i in range(0, 20, batch_size):\n",
    "    # 'N'を含まない郵便番号のバッチを作成\n",
    "    batch = [zipcode for zipcode in df['zipcode'][i:i + batch_size] if zipcode != 'N']\n",
    "    display(batch)\n",
    "    if batch:\n",
    "        res = batch_geocode(api_key, batch)\n",
    "        print(res)\n",
    "        results.extend(res)\n",
    "display('results:',results)\n",
    "\n",
    "# # APIの結果をDataFrameに追加（'N'を含む行は除外）\n",
    "# df['latitude'] = [None] * len(df)\n",
    "# df['longitude'] = [None] * len(df)\n",
    "# for i, result in enumerate(results):\n",
    "#     c\n",
    "#         df.at[i, 'latitude'] = result['data'][0]['latitude']\n",
    "#         df.at[i, 'longitude'] = result['data'][0]['longitude']\n",
    "\n",
    "# print(df)\n",
    "\n",
    "# # 郵便番号の形式をチェックする関数\n",
    "# def is_valid_zipcode(zipcode):\n",
    "#     return zipcode.isdigit() and len(zipcode) == 7\n",
    "\n",
    "# # 郵便番号の形式が正しいかどうかを新しい列に格納\n",
    "# df['is_valid'] = df['zipcode'].apply(is_valid_zipcode)"
   ]
  },
  {
   "cell_type": "code",
   "execution_count": null,
   "id": "d4ba6bb4-2d42-4835-9e5c-892793ebc341",
   "metadata": {},
   "outputs": [],
   "source": [
    "# df.to_csv('data/input/user_info_cleansing_zipcode_translation.csv', index=True)"
   ]
  }
 ],
 "metadata": {
  "kernelspec": {
   "display_name": "Python 3 (ipykernel)",
   "language": "python",
   "name": "python3"
  },
  "language_info": {
   "codemirror_mode": {
    "name": "ipython",
    "version": 3
   },
   "file_extension": ".py",
   "mimetype": "text/x-python",
   "name": "python",
   "nbconvert_exporter": "python",
   "pygments_lexer": "ipython3",
   "version": "3.11.5"
  }
 },
 "nbformat": 4,
 "nbformat_minor": 5
}

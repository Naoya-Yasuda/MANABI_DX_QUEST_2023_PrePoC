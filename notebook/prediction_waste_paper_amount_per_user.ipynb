{
 "cells": [
  {
   "cell_type": "markdown",
   "id": "f261e941",
   "metadata": {},
   "source": [
    "# 1. 準備"
   ]
  },
  {
   "cell_type": "markdown",
   "id": "a5646cc3-f07b-4503-be1b-35a5f64d84d1",
   "metadata": {
    "jp-MarkdownHeadingCollapsed": true
   },
   "source": [
    "### 1.1. 基本設定"
   ]
  },
  {
   "cell_type": "code",
   "execution_count": null,
   "id": "762cc329-373b-47e2-839e-0b5838e12554",
   "metadata": {},
   "outputs": [],
   "source": [
    "import pandas as pd\n",
    "import matplotlib.pyplot as plt\n",
    "import seaborn as sns #seabornない人はpip installしてね\n",
    "import os\n",
    "from datetime import datetime\n",
    "import numpy as np\n",
    "from pathlib import Path\n",
    "from sklearn.model_selection import train_test_split\n",
    "from tensorflow.keras.models import Sequential\n",
    "from tensorflow.keras.layers import LSTM, Dense\n",
    "from sklearn.preprocessing import MinMaxScaler\n",
    "from tensorflow.keras.optimizers import Adam\n",
    "\n",
    "# カレントディレクトリを.pyと合わせるために以下を実行\n",
    "if Path.cwd().name == \"notebook\":\n",
    "    os.chdir(\"..\")\n",
    "\n",
    "# 設定\n",
    "pd.set_option('display.max_rows', 500)\n",
    "pd.set_option('display.min_rows', 500)\n",
    "pd.set_option('display.max_columns', 500)\n",
    "\n",
    "# 浮動小数点数を小数点以下3桁で表示するように設定\n",
    "pd.set_option('display.float_format', '{:.3f}'.format)"
   ]
  },
  {
   "cell_type": "code",
   "execution_count": null,
   "id": "8f82109b-f924-452e-abc3-fa3b20c4d3b0",
   "metadata": {},
   "outputs": [],
   "source": [
    "# Mac Matplotlibのデフォルトフォントをヒラギノ角ゴシックに設定\n",
    "plt.rcParams['font.family'] = 'Hiragino Sans'"
   ]
  },
  {
   "cell_type": "code",
   "execution_count": null,
   "id": "8251e4e5-10f5-4f55-bf7d-848e21d171ea",
   "metadata": {},
   "outputs": [],
   "source": [
    "# Windows MatplotlibのデフォルトフォントをMeiryoに設定\n",
    "plt.rcParams['font.family'] = 'Meiryo'"
   ]
  },
  {
   "cell_type": "markdown",
   "id": "3af1590e-8ec0-42b2-a2dd-63486506b8bc",
   "metadata": {
    "jp-MarkdownHeadingCollapsed": true
   },
   "source": [
    "### 1.2. csv読み込み"
   ]
  },
  {
   "cell_type": "code",
   "execution_count": null,
   "id": "4d9a51c9",
   "metadata": {},
   "outputs": [],
   "source": [
    "# point_history.csvの読み込み\n",
    "df_point_history_sorce = pd.read_csv('data/input/point_history_cleansing.csv')"
   ]
  },
  {
   "cell_type": "code",
   "execution_count": null,
   "id": "a8c7aad2",
   "metadata": {},
   "outputs": [],
   "source": [
    "# ユーザー基本情報の読み込み\n",
    "df_user_base_sorce = pd.read_csv(\"data/input/ユーザー基本情報_2023-12-21.csv\", encoding=\"shift-jis\")"
   ]
  },
  {
   "cell_type": "markdown",
   "id": "f7363482-2aa6-455a-a3fe-56fef7ec89e7",
   "metadata": {},
   "source": [
    "### 1.3. データクレンジング"
   ]
  },
  {
   "cell_type": "markdown",
   "id": "1df9883d-42a1-492d-89b3-ddcd9e0a1179",
   "metadata": {},
   "source": [
    "#### 1.3.1. df_user_base(ユーザ基本情報)のクレンジング"
   ]
  },
  {
   "cell_type": "code",
   "execution_count": null,
   "id": "d046f777-24e4-482d-ad0d-76edbe81d1f0",
   "metadata": {},
   "outputs": [],
   "source": [
    "# DataFrameのコピーを作成\n",
    "df_user_base = df_user_base_sorce.copy()\n",
    "\n",
    "# 紛らわしい列名を改名\n",
    "df_user_base = df_user_base.rename(columns={'登録日時': 'アプリ登録日時', '最終利用日': 'アプリ最終利用日'})\n",
    "\n",
    "# objectをdatetimeに変更\n",
    "df_user_base['アプリ登録日時'] = pd.to_datetime(df_user_base['アプリ登録日時'], errors='coerce')\n",
    "df_user_base['アプリ最終利用日'] = pd.to_datetime(df_user_base['アプリ最終利用日'], errors='coerce')\n",
    "df_user_base['birthday'] = pd.to_datetime(df_user_base['birthday'], errors='coerce')\n",
    "\n",
    "# 6歳未満(1543個)と100歳以上(12個)を削除\n",
    "df_user_base = df_user_base[ (df_user_base['birthday'] < pd.to_datetime('2017-01-01')) & (df_user_base['birthday'] > pd.to_datetime('1924-01-01'))]\n",
    "\n",
    "# df_user_baseに\"age\"と\"age_group\"のカラムを追加\n",
    "df_user_base['age'] = pd.Timestamp.now().year - df_user_base['birthday'].dt.year    # ageの算出・追加\n",
    "\n",
    "# 年代の算出・追加\n",
    "bins = [0, 20, 30, 40, 50, 60, 70, 80, 90, 100]\n",
    "labels = ['0-20', '21-30', '31-40', '41-50', '51-60', '61-70', '71-80', '81-90', '91-100']\n",
    "df_user_base['age_group'] = pd.cut(df_user_base['age'], bins=bins, labels=labels, right=False)\n",
    "\n",
    "# 今回使用しない可能性が高いカラムは削除\n",
    "df_user_base = df_user_base.drop(['登録日', 'カード種類', 'スーパー', '都道府県', '市区町村', '登録店舗', 'カード登録日', 'カード更新日', 'birthday'], axis=1)\n",
    "df_user_base = df_user_base.drop_duplicates(subset='利用者ID', keep='first')\n",
    "df_user_base = df_user_base.sort_values(by='アプリ登録日時')\n",
    "df_user_base.head()\n",
    "# len(df_user_base)"
   ]
  },
  {
   "cell_type": "markdown",
   "id": "c9cd6468-24fd-4fdc-bd0b-bedf6ec72c46",
   "metadata": {},
   "source": [
    "#### 1.3.2. df_point_history(point_history.csv)のクレンジング"
   ]
  },
  {
   "cell_type": "code",
   "execution_count": null,
   "id": "c0171db7-b27e-4c02-839b-83c0d8c16cbb",
   "metadata": {},
   "outputs": [],
   "source": [
    "# DataFrameのコピーを作成\n",
    "df_point_history = df_point_history_sorce.copy()\n",
    "\n",
    "# objectをdatetimeに変更\n",
    "df_point_history['use_date'] = pd.to_datetime(df_point_history['use_date'], errors='coerce')\n",
    "\n",
    "# 今回使用しない可能性が高いカラムは削除\n",
    "df_point_history = df_point_history.drop([\n",
    "    'Unnamed: 0',\n",
    "    'id',\n",
    "    'series_id',\n",
    "    'shop_id',\n",
    "    'shop_name',\n",
    "    'card_id',\n",
    "    'リサイクル分類ID',\n",
    "    'amount',\n",
    "    'created_at',\n",
    "    'updated_at',\n",
    "    '支店ID',\n",
    "    'super',\n",
    "    'shop_name_1',\n",
    "    'shop_id_1',\n",
    "    'updated_at_1',\n",
    "    'store_opening_time',\n",
    "    'store_closing_time',\n",
    "    'created_at_1',\n",
    "    'rps_opening_time',\n",
    "    'rps_closing_time',\n",
    "    'store_latitude',\n",
    "    'store_longitude',\n",
    "    'total_amount',], axis=1)\n",
    "df_point_history = df_point_history.sort_values(by='use_date')\n",
    "df_point_history.head(1)"
   ]
  },
  {
   "cell_type": "code",
   "execution_count": null,
   "id": "c8dd43cb",
   "metadata": {},
   "outputs": [],
   "source": [
    "#df_point_history[df_point_history['user_id']==1138]"
   ]
  },
  {
   "cell_type": "markdown",
   "id": "1e72f35c-b01a-40a2-9a6f-9d5738e98365",
   "metadata": {},
   "source": [
    "#### 1.3.3. 分析に必要なカラムの作成"
   ]
  },
  {
   "cell_type": "markdown",
   "id": "bdcbecb5-d4ab-480b-b00a-31e2866e809a",
   "metadata": {},
   "source": [
    "アプリ継続利用期間（アプリ最終利用日-アプリ登録日時）"
   ]
  },
  {
   "cell_type": "code",
   "execution_count": null,
   "id": "3ee60520-afc6-44c0-b39a-8cd5ae6d5067",
   "metadata": {},
   "outputs": [],
   "source": [
    "# 継続利用期間を計算\n",
    "df_user_base['アプリ継続利用期間(月)'] = (df_user_base['アプリ最終利用日'] - df_user_base['アプリ登録日時']).dt.days / 30  # 月単位で計算\n",
    "df_user_base = df_user_base[df_user_base['アプリ継続利用期間(月)'] >= 0]\n",
    "df_user_base.head()\n",
    "# len(df_user_base[df_user_base['継続利用期間(月)'] == 0])"
   ]
  },
  {
   "cell_type": "markdown",
   "id": "60eba03c",
   "metadata": {},
   "source": [
    "継続利用期間（point_historyのuse_date列からRPS最終利用日を抽出したver.）　231228 norosen"
   ]
  },
  {
   "cell_type": "code",
   "execution_count": null,
   "id": "097b28c1",
   "metadata": {},
   "outputs": [],
   "source": [
    "# 利用者id を抽出\n",
    "user_id_all = df_user_base['利用者ID'].values\n",
    "\n",
    "# 各利用者id に対して「RPS利用開始日」「RPS最終利用日」を抽出\n",
    "first_entries_RPS = df_point_history.groupby('user_id').first().reset_index()\n",
    "last_entries_RPS = df_point_history.groupby('user_id').last().reset_index()\n",
    "\n",
    "\"\"\"\n",
    "for uid in user_id_all:\n",
    "\n",
    "    df_one_user = df_point_history[df_point_history['user_id']==uid]\n",
    "    \n",
    "    if len(df_one_user) != 0:\n",
    "\n",
    "        first_use_RPS.append(df_one_user['use_date'].iloc[0])\n",
    "        \n",
    "        last_use_RPS.append(df_one_user['use_date'].iloc[-1])\n",
    "        \n",
    "    else:\n",
    "\n",
    "        first_use_RPS.append('NaT')\n",
    "        \n",
    "        last_use_RPS.append('NaT')\n",
    "\"\"\""
   ]
  },
  {
   "cell_type": "code",
   "execution_count": null,
   "id": "b10f2780",
   "metadata": {},
   "outputs": [],
   "source": [
    "# 「RPS利用開始日」「RPS最終利用日」カラムを作成\n",
    "\n",
    "# df_user_baseに利用開始日をマージ\n",
    "df_user_base = pd.merge(df_user_base, first_entries_RPS[['user_id', 'use_date']], left_on='利用者ID', right_on='user_id', how='left')\n",
    "df_user_base = df_user_base.rename(columns={'use_date':'RPS利用開始日'})\n",
    "\n",
    "# df_user_baseに最終利用日をマージ\n",
    "df_user_base = pd.merge(df_user_base, last_entries_RPS[['user_id', 'use_date']], left_on='利用者ID', right_on='user_id', how='left')\n",
    "df_user_base = df_user_base.rename(columns={'use_date':'RPS最終利用日'})\n",
    "\n",
    "\n",
    "df_user_base['RPS利用開始日'] = pd.to_datetime(df_user_base['RPS利用開始日'], errors='coerce')\n",
    "df_user_base['RPS最終利用日'] = pd.to_datetime(df_user_base['RPS最終利用日'], errors='coerce')"
   ]
  },
  {
   "cell_type": "code",
   "execution_count": null,
   "id": "97fe9b65",
   "metadata": {},
   "outputs": [],
   "source": [
    "df_user_base = df_user_base.drop(columns=['user_id_x', 'user_id_y'])"
   ]
  },
  {
   "cell_type": "code",
   "execution_count": null,
   "id": "742e3833",
   "metadata": {},
   "outputs": [],
   "source": [
    "# RPS継続利用期間を計算\n",
    "df_user_base['RPS継続利用期間(月)'] = (df_user_base['RPS最終利用日'] - df_user_base['RPS利用開始日']).dt.days / 30  # 月単位で計算\n",
    "df_user_base = df_user_base[df_user_base['RPS継続利用期間(月)'] >= 0]"
   ]
  },
  {
   "cell_type": "code",
   "execution_count": null,
   "id": "75e24d9a",
   "metadata": {},
   "outputs": [],
   "source": [
    "# 列の順番を分かりやすいように入れ替える\n",
    "order_df_user_base = ['利用者ID', 'カード登録', '現在ランク', 'age', 'age_group',\n",
    "                      'アプリ登録日時', 'アプリ最終利用日', 'アプリ継続利用期間(月)',                   \n",
    "                      'RPS利用開始日', 'RPS最終利用日', 'RPS継続利用期間(月)']\n",
    "\n",
    "df_user_base = df_user_base[order_df_user_base]"
   ]
  },
  {
   "cell_type": "code",
   "execution_count": null,
   "id": "43cc2afd",
   "metadata": {},
   "outputs": [],
   "source": [
    "# アプリ登録年月ごとに集計\n",
    "df_user_base['アプリ登録年月'] = df_user_base['アプリ登録日時'].dt.strftime(\"%Y/%m\")"
   ]
  },
  {
   "cell_type": "code",
   "execution_count": null,
   "id": "33532494-7d1c-4e0c-99f2-e566e2a6e895",
   "metadata": {},
   "outputs": [],
   "source": [
    "# RPS開始日を年月ごとに集計\n",
    "df_user_base['RPS開始年月'] = df_user_base['RPS利用開始日'].dt.strftime(\"%Y/%m\")"
   ]
  },
  {
   "cell_type": "code",
   "execution_count": null,
   "id": "23166375",
   "metadata": {},
   "outputs": [],
   "source": [
    "# 2021年12月にアプリを登録したユーザーに絞って解析\n",
    "year_month = datetime(2021,12,1).strftime(\"%Y/%m\")\n",
    "\n",
    "df_user_base_year_month = df_user_base[df_user_base['アプリ登録年月']==year_month]\n",
    "\n",
    "# RPSの開始日の方が先のユーザーは別で解析するので分ける\n",
    "df_user_base_year_month_app_derived = df_user_base_year_month[(df_user_base['アプリ登録日時'] - df_user_base_year_month['RPS利用開始日']).dt.days <0]  # 240107修正: >=0 から <0 に\n",
    "df_user_base_year_month_RPS_derived = df_user_base_year_month[(df_user_base['アプリ登録日時'] - df_user_base_year_month['RPS利用開始日']).dt.days >=0]   # 240107修正: <0 から >=0 に"
   ]
  },
  {
   "cell_type": "markdown",
   "id": "36971143",
   "metadata": {},
   "source": [
    "# 2. 予測"
   ]
  },
  {
   "cell_type": "markdown",
   "id": "69045798-3760-48b7-9dd3-af5892119f43",
   "metadata": {},
   "source": [
    "## 2.1. ユーザ1人に着目して予測"
   ]
  },
  {
   "cell_type": "markdown",
   "id": "5d1fb68d-4a69-434b-ace4-d268acf468ba",
   "metadata": {},
   "source": [
    "2021/12（アプリ登録ユーザ急増日）のユーザにフィルタリング"
   ]
  },
  {
   "cell_type": "code",
   "execution_count": null,
   "id": "719f6a6c",
   "metadata": {},
   "outputs": [],
   "source": [
    "df_analyzed_user_base = df_user_base_year_month_app_derived.copy()  # .copy（）は必ずつけること"
   ]
  },
  {
   "cell_type": "code",
   "execution_count": null,
   "id": "9dc0c461",
   "metadata": {},
   "outputs": [],
   "source": [
    "# 利用者id を抽出\n",
    "user_id_analyzed = df_analyzed_user_base['利用者ID'].values\n",
    "\n",
    "# 抽出した利用者idに対応したuser_idの行だけ抽出\n",
    "df_analyzed_point_history = df_point_history[df_point_history['user_id'].isin(user_id_analyzed)]\n",
    "df_analyzed_point_history = df_analyzed_point_history[df_analyzed_point_history['status']==1]\n",
    "df_analyzed_point_history['use_day'] = df_analyzed_point_history['use_date'].dt.strftime(\"%Y/%m/%d\")\n",
    "df_analyzed_point_history['use_day'] = pd.to_datetime(df_analyzed_point_history['use_day'], errors='coerce')"
   ]
  },
  {
   "cell_type": "code",
   "execution_count": null,
   "id": "1084438b",
   "metadata": {},
   "outputs": [],
   "source": [
    "df_analyzed_point_history.head(1)"
   ]
  },
  {
   "cell_type": "markdown",
   "id": "4cec4c69-40dc-435f-91b3-0da539af02bd",
   "metadata": {},
   "source": [
    "予測に用いるユーザを1人選択する準備"
   ]
  },
  {
   "cell_type": "code",
   "execution_count": null,
   "id": "eaaeb6f4-bbc2-45e1-91a9-5e4e2449f117",
   "metadata": {},
   "outputs": [],
   "source": [
    "df_count = df_analyzed_point_history['user_id'].value_counts()\n",
    "df_count.median()"
   ]
  },
  {
   "cell_type": "markdown",
   "id": "02fc1fed-0dfd-4c1f-8c58-f3cb0e958b95",
   "metadata": {},
   "source": [
    "→中央値は頻度が低すぎて予測難易度が高そうなので避けたい<br>\n",
    "ヒストグラムでひとまず頻度を確認"
   ]
  },
  {
   "cell_type": "code",
   "execution_count": null,
   "id": "a03c06c8-7f55-4012-aa04-c02efa48c855",
   "metadata": {},
   "outputs": [],
   "source": [
    "# Plotting the histogram\n",
    "plt.figure(figsize=(10, 6))\n",
    "plt.hist(df_count, bins=200, color='blue', alpha=0.7)\n",
    "plt.title('Histogram of Counts')\n",
    "plt.xlabel('Count')\n",
    "plt.ylabel('Frequency')\n",
    "plt.ylim([0,600])\n",
    "plt.grid(True)\n",
    "plt.show()"
   ]
  },
  {
   "cell_type": "markdown",
   "id": "ae43d90c-3b70-43fb-b27d-218441491916",
   "metadata": {},
   "source": [
    "→ボリューム層は頻度少ないため避ける。<br>\n",
    "今回は200回程度の人の投入量を予測する。"
   ]
  },
  {
   "cell_type": "code",
   "execution_count": null,
   "id": "1bb04835-0bb7-4e8a-9144-4070ae51eb5e",
   "metadata": {},
   "outputs": [],
   "source": [
    "df_count"
   ]
  },
  {
   "cell_type": "markdown",
   "id": "7340f8d6-1bbf-4197-baed-a4835b1cae70",
   "metadata": {},
   "source": [
    "user_id10015がちょうどよさそう"
   ]
  },
  {
   "cell_type": "code",
   "execution_count": null,
   "id": "444811ae-df8c-47e1-925a-2a78189c2338",
   "metadata": {},
   "outputs": [],
   "source": [
    "df_analyzed_point_history[df_analyzed_point_history['user_id']==10015]"
   ]
  },
  {
   "cell_type": "code",
   "execution_count": null,
   "id": "28d73918",
   "metadata": {},
   "outputs": [],
   "source": [
    "# ユーザーごとに各月の古紙投入量を算出・集計\n",
    "group_uid_uday = df_analyzed_point_history.groupby(['user_id', 'use_day'])['amount_kg'].sum()"
   ]
  },
  {
   "cell_type": "code",
   "execution_count": null,
   "id": "4f553870-7f08-40e4-aad4-1402df6689a1",
   "metadata": {},
   "outputs": [],
   "source": [
    "# 日付の範囲を生成する\n",
    "start_date = '2021-12-01'\n",
    "end_date = '2023-06-01'\n",
    "date_range = pd.date_range(start=start_date, end=end_date)\n",
    "\n",
    "# 日付をカラムに持つデータフレームに変換し、NaNを0で埋める\n",
    "df_pivot = group_uid_uday.unstack(level=-1).fillna(0)\n",
    "\n",
    "# 日付のフォーマットを変更し、必要な範囲の日付だけにフィルタリング\n",
    "df_pivot = df_pivot.reindex(columns=date_range, fill_value=0)\n",
    "df_pivot.columns = df_pivot.columns.strftime('%Y/%m/%d')\n",
    "\n",
    "df_pivot.head()  # 結果の確認（最初の数行を表示）\n",
    "# df_pivot.info()"
   ]
  },
  {
   "cell_type": "code",
   "execution_count": null,
   "id": "f02f3f02-3613-446b-b008-352d72973892",
   "metadata": {},
   "outputs": [],
   "source": [
    "# データの準備\n",
    "# df_pivotはuser_idごとの日付の列を持つデータフレームとしています\n",
    "# ここでは簡単のために最初のユーザーのデータのみを使用します\n",
    "data = df_pivot.iloc[0].values\n",
    "data = data.reshape(-1, 1)\n",
    "\n",
    "# データの正規化\n",
    "scaler = MinMaxScaler(feature_range=(0, 1))\n",
    "data_scaled = scaler.fit_transform(data)\n",
    "\n",
    "# トレーニングデータとテストデータを分割\n",
    "train_size = int(len(data_scaled) * 0.9)\n",
    "test_size = len(data_scaled) - train_size\n",
    "train, test = data_scaled[0:train_size,:], data_scaled[train_size:len(data_scaled),:]\n",
    "\n",
    "# LSTMに入力するためのシーケンスデータを作成する関数\n",
    "def create_dataset(dataset, look_back=1):\n",
    "    X, Y = [], []\n",
    "    for i in range(len(dataset) - look_back - 1):\n",
    "        a = dataset[i:(i + look_back), 0]\n",
    "        X.append(a)\n",
    "        Y.append(dataset[i + look_back, 0])\n",
    "    return np.array(X), np.array(Y)\n",
    "\n",
    "# シーケンスデータの作成\n",
    "look_back = 3\n",
    "X_train, Y_train = create_dataset(train, look_back)\n",
    "X_test, Y_test = create_dataset(test, look_back)\n",
    "\n",
    "# データの形状を変更（[samples, time steps, features]）\n",
    "X_train = np.reshape(X_train, (X_train.shape[0], 1, X_train.shape[1]))\n",
    "X_test = np.reshape(X_test, (X_test.shape[0], 1, X_test.shape[1]))\n",
    "\n",
    "# LSTMモデルの構築\n",
    "model = Sequential()\n",
    "model.add(LSTM(50, input_shape=(1, look_back)))\n",
    "model.add(Dense(1))\n",
    "model.compile(optimizer=Adam(learning_rate=0.01), loss='mean_squared_error')\n",
    "\n",
    "# モデルの学習\n",
    "model.fit(X_train, Y_train, epochs=100, batch_size=1, verbose=1)\n",
    "\n",
    "# 最後のデータポイントを使用して次の日の値を予測\n",
    "last_data = data_scaled[-look_back:]\n",
    "last_data = last_data.reshape(1, 1, look_back)\n",
    "predicted = model.predict(last_data)\n",
    "predicted = scaler.inverse_transform(predicted)  # 予測値を元のスケールに戻す\n",
    "\n",
    "predicted[0][0]  # 2023/6/2の予測値"
   ]
  },
  {
   "cell_type": "code",
   "execution_count": null,
   "id": "8f707cfe-ef6e-44d4-aa24-2ca43ac7bd2b",
   "metadata": {},
   "outputs": [],
   "source": [
    "predicted"
   ]
  },
  {
   "cell_type": "code",
   "execution_count": null,
   "id": "ec1cbf62-ed2c-4aa5-8122-045407b431e1",
   "metadata": {},
   "outputs": [],
   "source": [
    "# Preparing data (using first user's data only for simplicity)\n",
    "data = df_pivot.iloc[:, 0].values.reshape(-1, 1)\n",
    "\n",
    "# Data normalization\n",
    "scaler = MinMaxScaler(feature_range=(0, 1))\n",
    "data_scaled = scaler.fit_transform(data)\n",
    "\n",
    "# Splitting data into training and test sets\n",
    "train_size = int(len(data_scaled) * 0.9)\n",
    "test_size = len(data_scaled) - train_size\n",
    "train, test = data_scaled[:train_size, :], data_scaled[train_size:, :]\n",
    "\n",
    "# Function to create sequence data for LSTM input\n",
    "def create_dataset(dataset, look_back=1):\n",
    "    X, Y = [], []\n",
    "    for i in range(len(dataset) - look_back - 1):\n",
    "        a = dataset[i:(i + look_back), 0]\n",
    "        X.append(a)\n",
    "        Y.append(dataset[i + look_back, 0])\n",
    "    return np.array(X), np.array(Y)\n",
    "\n",
    "# Creating sequence data\n",
    "look_back = 3\n",
    "X_train, Y_train = create_dataset(train, look_back)\n",
    "X_test, Y_test = create_dataset(test, look_back)\n",
    "\n",
    "# Reshaping data to [samples, time steps, features]\n",
    "X_train = np.reshape(X_train, (X_train.shape[0], 1, X_train.shape[1]))\n",
    "X_test = np.reshape(X_test, (X_test.shape[0], 1, X_test.shape[1]))\n",
    "\n",
    "# Building LSTM model\n",
    "model = Sequential()\n",
    "model.add(LSTM(50, input_shape=(1, look_back)))\n",
    "model.add(Dense(1))\n",
    "model.compile(optimizer=Adam(learning_rate=0.01), loss='mean_squared_error')\n",
    "\n",
    "# Training the model\n",
    "history = model.fit(X_train, Y_train, epochs=3, batch_size=1, verbose=1)\n",
    "\n",
    "# Predicting the next value using the last data point\n",
    "last_data = data_scaled[-look_back:]\n",
    "last_data = last_data.reshape(1, 1, look_back)\n",
    "predicted = model.predict(last_data)\n",
    "predicted = scaler.inverse_transform(predicted)  # Transforming prediction to original scale\n",
    "\n",
    "# Plotting the training process\n",
    "plt.figure(figsize=(10, 5))\n",
    "plt.plot(history.history['loss'], label='Training Loss')\n",
    "plt.title('Training Process')\n",
    "plt.xlabel('Epoch')\n",
    "plt.ylabel('Mean Squared Error')\n",
    "plt.legend()\n",
    "plt.show()"
   ]
  },
  {
   "cell_type": "markdown",
   "id": "9964cae6-906f-4977-b654-af07ad51723b",
   "metadata": {},
   "source": [
    "# 以下その他"
   ]
  },
  {
   "cell_type": "code",
   "execution_count": null,
   "id": "c68b3a26",
   "metadata": {},
   "outputs": [],
   "source": [
    "from datetime import timedelta\n",
    "# 開始日と終了日を設定\n",
    "start_date = datetime(2021, 12, 1)\n",
    "end_date = datetime(2023, 6, 1)\n",
    "\n",
    "# 日付のリストを生成\n",
    "date_list = []\n",
    "current_date = start_date\n",
    "while current_date <= end_date:\n",
    "    date_list.append(current_date)\n",
    "    current_date += timedelta(days=1)"
   ]
  },
  {
   "cell_type": "code",
   "execution_count": null,
   "id": "bf2e4b4e",
   "metadata": {},
   "outputs": [],
   "source": [
    "# データフレームを結合\n",
    "merged_df = new_df.merge(existing_df, left_index=True, right_on='use_day', how='left').set_index('use_day')"
   ]
  },
  {
   "cell_type": "code",
   "execution_count": null,
   "id": "94e796c7",
   "metadata": {},
   "outputs": [],
   "source": [
    "# ToDo: 各ユーザーに対して、投入量が0の月に0を入力する。→ 学習・検証用データを.csvとしてまとめる\n",
    "\n",
    "# indexがuser_id, columnsがdate_listのデータフレームを作成\n",
    "df_amount_kg_u_day = pd.DataFrame([], columns=date_list)\n",
    "df_amount_kg_u_day"
   ]
  },
  {
   "cell_type": "code",
   "execution_count": null,
   "id": "21bb6679",
   "metadata": {},
   "outputs": [],
   "source": [
    "uid_all_p_history = df_analyzed_point_history['user_id'].unique()\n",
    "uid_all_p_history.sort()\n",
    "print(uid_all_p_history)\n",
    "for uid in uid_all_p_history[400:420]:\n",
    "    \n",
    "    plt.plot(pd.to_datetime(group_uid_umonth.loc[uid].index, format='%Y/%m'), group_uid_umonth.loc[uid], alpha=0.3)\n",
    "\n",
    "plt.xticks(rotation=90, fontsize=8)\n",
    "plt.axhline(15, c='red', linestyle='--')\n",
    "#plt.ylim([0,50])\n",
    "plt.grid(True)\n",
    "plt.show()"
   ]
  },
  {
   "cell_type": "code",
   "execution_count": null,
   "id": "75efc5ba",
   "metadata": {},
   "outputs": [],
   "source": [
    "# RPSを使ってる人のうち、アプリを使っている人と使っていない人の比較\n",
    "month_threshold = 1\n",
    "\n",
    "df_user_base_year_month_1_1 = df_user_base_year_month[(df_user_base_year_month['アプリ継続利用期間(月)'] >= month_threshold) & (df_user_base_year_month['RPS継続利用期間(月)'] >= month_threshold)]\n",
    "df_user_base_year_month_0_1 = df_user_base_year_month[(df_user_base_year_month['アプリ継続利用期間(月)'] < month_threshold) & (df_user_base_year_month['RPS継続利用期間(月)'] >= month_threshold)]\n",
    "\n",
    "#display(df_user_base_year_month_0_1.head())\n",
    "\n",
    "# RPS継続利用期間\n",
    "plt.hist(df_user_base_year_month_1_1['RPS継続利用期間(月)'], bins=30, label='Yes-Yes', alpha=0.3)\n",
    "plt.hist(df_user_base_year_month_0_1['RPS継続利用期間(月)'], bins=30, label=' No-Yes', alpha=0.3)\n",
    "\n",
    "plt.legend(bbox_to_anchor=(1.05, 1), loc='upper left', borderaxespad=0)\n",
    "plt.ylim([0,100])\n",
    "plt.show()"
   ]
  },
  {
   "cell_type": "code",
   "execution_count": null,
   "id": "a7a9fbdf",
   "metadata": {},
   "outputs": [],
   "source": [
    "# ユーザーの古紙投入の間隔ってどれくらい？"
   ]
  },
  {
   "cell_type": "markdown",
   "id": "a567bf6d-7f91-4431-b667-054d58eed697",
   "metadata": {},
   "source": [
    "#### ※df_user_baseとdf_user_basef_point_historyをマージ"
   ]
  },
  {
   "cell_type": "code",
   "execution_count": null,
   "id": "20d392cf",
   "metadata": {},
   "outputs": [],
   "source": [
    "# point_history.csvとユーザー基本情報_2023-12-21.csvをマージ\n",
    "df_merge = pd.merge(df_point_history, df_user_base, left_on='user_id', right_on='利用者ID', how='left')"
   ]
  },
  {
   "cell_type": "code",
   "execution_count": null,
   "id": "d9bfeae4",
   "metadata": {},
   "outputs": [],
   "source": [
    "df_merge"
   ]
  }
 ],
 "metadata": {
  "kernelspec": {
   "display_name": "Python 3 (ipykernel)",
   "language": "python",
   "name": "python3"
  },
  "language_info": {
   "codemirror_mode": {
    "name": "ipython",
    "version": 3
   },
   "file_extension": ".py",
   "mimetype": "text/x-python",
   "name": "python",
   "nbconvert_exporter": "python",
   "pygments_lexer": "ipython3",
   "version": "3.11.5"
  }
 },
 "nbformat": 4,
 "nbformat_minor": 5
}

{
 "cells": [
  {
   "cell_type": "markdown",
   "id": "f261e941",
   "metadata": {},
   "source": [
    "# 1. 準備"
   ]
  },
  {
   "cell_type": "markdown",
   "id": "a5646cc3-f07b-4503-be1b-35a5f64d84d1",
   "metadata": {},
   "source": [
    "### 1.1. 基本設定"
   ]
  },
  {
   "cell_type": "code",
   "execution_count": null,
   "id": "762cc329-373b-47e2-839e-0b5838e12554",
   "metadata": {},
   "outputs": [],
   "source": [
    "import pandas as pd\n",
    "import matplotlib.pyplot as plt\n",
    "import seaborn as sns #seabornない人はpip installしてね\n",
    "import os\n",
    "from datetime import datetime\n",
    "import numpy as np\n",
    "from pathlib import Path\n",
    "from sklearn.model_selection import train_test_split\n",
    "from tensorflow.keras.models import Sequential\n",
    "from tensorflow.keras.layers import LSTM, Dense\n",
    "from sklearn.preprocessing import MinMaxScaler\n",
    "from tensorflow.keras.optimizers import Adam\n",
    "import tensorflow as tf\n",
    "from sklearn.model_selection import train_test_split\n",
    "from sklearn.metrics import mean_absolute_error\n",
    "import matplotlib.dates as mdates\n",
    "\n",
    "# カレントディレクトリを.pyと合わせるために以下を実行\n",
    "if Path.cwd().name == \"notebook\":\n",
    "    os.chdir(\"..\")\n",
    "\n",
    "# 設定\n",
    "pd.set_option('display.max_rows', 500)\n",
    "pd.set_option('display.min_rows', 500)\n",
    "pd.set_option('display.max_columns', 500)\n",
    "\n",
    "# 浮動小数点数を小数点以下3桁で表示するように設定\n",
    "pd.set_option('display.float_format', '{:.3f}'.format)"
   ]
  },
  {
   "cell_type": "code",
   "execution_count": null,
   "id": "8f82109b-f924-452e-abc3-fa3b20c4d3b0",
   "metadata": {},
   "outputs": [],
   "source": [
    "# Mac Matplotlibのデフォルトフォントをヒラギノ角ゴシックに設定\n",
    "plt.rcParams['font.family'] = 'Hiragino Sans'"
   ]
  },
  {
   "cell_type": "code",
   "execution_count": null,
   "id": "8251e4e5-10f5-4f55-bf7d-848e21d171ea",
   "metadata": {},
   "outputs": [],
   "source": [
    "# Windows MatplotlibのデフォルトフォントをMeiryoに設定\n",
    "plt.rcParams['font.family'] = 'Meiryo'"
   ]
  },
  {
   "cell_type": "markdown",
   "id": "3af1590e-8ec0-42b2-a2dd-63486506b8bc",
   "metadata": {
    "jp-MarkdownHeadingCollapsed": true
   },
   "source": [
    "### 1.2. csv読み込み"
   ]
  },
  {
   "cell_type": "code",
   "execution_count": null,
   "id": "4d9a51c9",
   "metadata": {},
   "outputs": [],
   "source": [
    "# point_history.csvの読み込み\n",
    "df_point_history_sorce = pd.read_csv('data/input/point_history_cleansing.csv')"
   ]
  },
  {
   "cell_type": "code",
   "execution_count": null,
   "id": "a8c7aad2",
   "metadata": {},
   "outputs": [],
   "source": [
    "# ユーザー基本情報の読み込み\n",
    "df_user_base_sorce = pd.read_csv(\"data/input/ユーザー基本情報_2023-12-21.csv\", encoding=\"shift-jis\")"
   ]
  },
  {
   "cell_type": "markdown",
   "id": "f7363482-2aa6-455a-a3fe-56fef7ec89e7",
   "metadata": {},
   "source": [
    "### 1.3. データクレンジング"
   ]
  },
  {
   "cell_type": "markdown",
   "id": "1df9883d-42a1-492d-89b3-ddcd9e0a1179",
   "metadata": {},
   "source": [
    "#### 1.3.1. df_user_base(ユーザ基本情報)のクレンジング"
   ]
  },
  {
   "cell_type": "code",
   "execution_count": null,
   "id": "d046f777-24e4-482d-ad0d-76edbe81d1f0",
   "metadata": {},
   "outputs": [],
   "source": [
    "# DataFrameのコピーを作成\n",
    "df_user_base = df_user_base_sorce.copy()\n",
    "\n",
    "# 紛らわしい列名を改名\n",
    "df_user_base = df_user_base.rename(columns={'登録日時': 'アプリ登録日時', '最終利用日': 'アプリ最終利用日'})\n",
    "\n",
    "# objectをdatetimeに変更\n",
    "df_user_base['アプリ登録日時'] = pd.to_datetime(df_user_base['アプリ登録日時'], errors='coerce')\n",
    "df_user_base['アプリ最終利用日'] = pd.to_datetime(df_user_base['アプリ最終利用日'], errors='coerce')\n",
    "df_user_base['birthday'] = pd.to_datetime(df_user_base['birthday'], errors='coerce')\n",
    "\n",
    "# 6歳未満(1543個)と100歳以上(12個)を削除\n",
    "df_user_base = df_user_base[ (df_user_base['birthday'] < pd.to_datetime('2017-01-01')) & (df_user_base['birthday'] > pd.to_datetime('1924-01-01'))]\n",
    "\n",
    "# df_user_baseに\"age\"と\"age_group\"のカラムを追加\n",
    "df_user_base['age'] = pd.Timestamp.now().year - df_user_base['birthday'].dt.year    # ageの算出・追加\n",
    "\n",
    "# 年代の算出・追加\n",
    "bins = [0, 20, 30, 40, 50, 60, 70, 80, 90, 100]\n",
    "labels = ['0-20', '21-30', '31-40', '41-50', '51-60', '61-70', '71-80', '81-90', '91-100']\n",
    "df_user_base['age_group'] = pd.cut(df_user_base['age'], bins=bins, labels=labels, right=False)\n",
    "\n",
    "# 今回使用しない可能性が高いカラムは削除\n",
    "df_user_base = df_user_base.drop(['登録日', 'カード種類', 'スーパー', '都道府県', '市区町村', '登録店舗', 'カード登録日', 'カード更新日', 'birthday'], axis=1)\n",
    "df_user_base = df_user_base.drop_duplicates(subset='利用者ID', keep='first')\n",
    "df_user_base = df_user_base.sort_values(by='アプリ登録日時')\n",
    "df_user_base.head()\n",
    "# len(df_user_base)"
   ]
  },
  {
   "cell_type": "markdown",
   "id": "c9cd6468-24fd-4fdc-bd0b-bedf6ec72c46",
   "metadata": {},
   "source": [
    "#### 1.3.2. df_point_history(point_history.csv)のクレンジング"
   ]
  },
  {
   "cell_type": "code",
   "execution_count": null,
   "id": "c0171db7-b27e-4c02-839b-83c0d8c16cbb",
   "metadata": {},
   "outputs": [],
   "source": [
    "# DataFrameのコピーを作成\n",
    "df_point_history = df_point_history_sorce.copy()\n",
    "\n",
    "# objectをdatetimeに変更\n",
    "df_point_history['use_date'] = pd.to_datetime(df_point_history['use_date'], errors='coerce')\n",
    "\n",
    "# 今回使用しない可能性が高いカラムは削除\n",
    "df_point_history = df_point_history.drop([\n",
    "    'Unnamed: 0',\n",
    "    'id',\n",
    "    'series_id',\n",
    "    'shop_id',\n",
    "    'shop_name',\n",
    "    'card_id',\n",
    "    'リサイクル分類ID',\n",
    "    'amount',\n",
    "    'created_at',\n",
    "    'updated_at',\n",
    "    '支店ID',\n",
    "    'super',\n",
    "    'shop_name_1',\n",
    "    'shop_id_1',\n",
    "    'updated_at_1',\n",
    "    'store_opening_time',\n",
    "    'store_closing_time',\n",
    "    'created_at_1',\n",
    "    'rps_opening_time',\n",
    "    'rps_closing_time',\n",
    "    'store_latitude',\n",
    "    'store_longitude',\n",
    "    'total_amount',], axis=1)\n",
    "df_point_history = df_point_history.sort_values(by='use_date')\n",
    "df_point_history.head(1)"
   ]
  },
  {
   "cell_type": "code",
   "execution_count": null,
   "id": "c8dd43cb",
   "metadata": {},
   "outputs": [],
   "source": [
    "#df_point_history[df_point_history['user_id']==1138]"
   ]
  },
  {
   "cell_type": "markdown",
   "id": "1e72f35c-b01a-40a2-9a6f-9d5738e98365",
   "metadata": {},
   "source": [
    "#### 1.3.3. 分析に必要なカラムの作成"
   ]
  },
  {
   "cell_type": "markdown",
   "id": "bdcbecb5-d4ab-480b-b00a-31e2866e809a",
   "metadata": {},
   "source": [
    "アプリ継続利用期間（アプリ最終利用日-アプリ登録日時）"
   ]
  },
  {
   "cell_type": "code",
   "execution_count": null,
   "id": "3ee60520-afc6-44c0-b39a-8cd5ae6d5067",
   "metadata": {},
   "outputs": [],
   "source": [
    "# 継続利用期間を計算\n",
    "df_user_base['アプリ継続利用期間(月)'] = (df_user_base['アプリ最終利用日'] - df_user_base['アプリ登録日時']).dt.days / 30  # 月単位で計算\n",
    "df_user_base = df_user_base[df_user_base['アプリ継続利用期間(月)'] >= 0]\n",
    "df_user_base.head()\n",
    "# len(df_user_base[df_user_base['継続利用期間(月)'] == 0])"
   ]
  },
  {
   "cell_type": "markdown",
   "id": "60eba03c",
   "metadata": {},
   "source": [
    "継続利用期間（point_historyのuse_date列からRPS最終利用日を抽出したver.）　231228 norosen"
   ]
  },
  {
   "cell_type": "code",
   "execution_count": null,
   "id": "097b28c1",
   "metadata": {},
   "outputs": [],
   "source": [
    "# 利用者id を抽出\n",
    "user_id_all = df_user_base['利用者ID'].values\n",
    "\n",
    "# 各利用者id に対して「RPS利用開始日」「RPS最終利用日」を抽出\n",
    "first_entries_RPS = df_point_history.groupby('user_id').first().reset_index()\n",
    "last_entries_RPS = df_point_history.groupby('user_id').last().reset_index()\n",
    "\n",
    "\"\"\"\n",
    "for uid in user_id_all:\n",
    "\n",
    "    df_one_user = df_point_history[df_point_history['user_id']==uid]\n",
    "    \n",
    "    if len(df_one_user) != 0:\n",
    "\n",
    "        first_use_RPS.append(df_one_user['use_date'].iloc[0])\n",
    "        \n",
    "        last_use_RPS.append(df_one_user['use_date'].iloc[-1])\n",
    "        \n",
    "    else:\n",
    "\n",
    "        first_use_RPS.append('NaT')\n",
    "        \n",
    "        last_use_RPS.append('NaT')\n",
    "\"\"\""
   ]
  },
  {
   "cell_type": "code",
   "execution_count": null,
   "id": "b10f2780",
   "metadata": {},
   "outputs": [],
   "source": [
    "# 「RPS利用開始日」「RPS最終利用日」カラムを作成\n",
    "\n",
    "# df_user_baseに利用開始日をマージ\n",
    "df_user_base = pd.merge(df_user_base, first_entries_RPS[['user_id', 'use_date']], left_on='利用者ID', right_on='user_id', how='left')\n",
    "df_user_base = df_user_base.rename(columns={'use_date':'RPS利用開始日'})\n",
    "\n",
    "# df_user_baseに最終利用日をマージ\n",
    "df_user_base = pd.merge(df_user_base, last_entries_RPS[['user_id', 'use_date']], left_on='利用者ID', right_on='user_id', how='left')\n",
    "df_user_base = df_user_base.rename(columns={'use_date':'RPS最終利用日'})\n",
    "\n",
    "\n",
    "df_user_base['RPS利用開始日'] = pd.to_datetime(df_user_base['RPS利用開始日'], errors='coerce')\n",
    "df_user_base['RPS最終利用日'] = pd.to_datetime(df_user_base['RPS最終利用日'], errors='coerce')"
   ]
  },
  {
   "cell_type": "code",
   "execution_count": null,
   "id": "97fe9b65",
   "metadata": {},
   "outputs": [],
   "source": [
    "df_user_base = df_user_base.drop(columns=['user_id_x', 'user_id_y'])"
   ]
  },
  {
   "cell_type": "code",
   "execution_count": null,
   "id": "742e3833",
   "metadata": {},
   "outputs": [],
   "source": [
    "# RPS継続利用期間を計算\n",
    "df_user_base['RPS継続利用期間(月)'] = (df_user_base['RPS最終利用日'] - df_user_base['RPS利用開始日']).dt.days / 30  # 月単位で計算\n",
    "df_user_base = df_user_base[df_user_base['RPS継続利用期間(月)'] >= 0]"
   ]
  },
  {
   "cell_type": "code",
   "execution_count": null,
   "id": "75e24d9a",
   "metadata": {},
   "outputs": [],
   "source": [
    "# 列の順番を分かりやすいように入れ替える\n",
    "order_df_user_base = ['利用者ID', 'カード登録', '現在ランク', 'age', 'age_group',\n",
    "                      'アプリ登録日時', 'アプリ最終利用日', 'アプリ継続利用期間(月)',                   \n",
    "                      'RPS利用開始日', 'RPS最終利用日', 'RPS継続利用期間(月)']\n",
    "\n",
    "df_user_base = df_user_base[order_df_user_base]"
   ]
  },
  {
   "cell_type": "code",
   "execution_count": null,
   "id": "43cc2afd",
   "metadata": {},
   "outputs": [],
   "source": [
    "# アプリ登録年月ごとに集計\n",
    "df_user_base['アプリ登録年月'] = df_user_base['アプリ登録日時'].dt.strftime(\"%Y/%m\")"
   ]
  },
  {
   "cell_type": "code",
   "execution_count": null,
   "id": "33532494-7d1c-4e0c-99f2-e566e2a6e895",
   "metadata": {},
   "outputs": [],
   "source": [
    "# RPS開始日を年月ごとに集計\n",
    "df_user_base['RPS開始年月'] = df_user_base['RPS利用開始日'].dt.strftime(\"%Y/%m\")"
   ]
  },
  {
   "cell_type": "code",
   "execution_count": null,
   "id": "23166375",
   "metadata": {},
   "outputs": [],
   "source": [
    "# 2021年12月にアプリを登録したユーザーに絞って解析\n",
    "year_month = datetime(2021,12,1).strftime(\"%Y/%m\")\n",
    "\n",
    "df_user_base_year_month = df_user_base[df_user_base['アプリ登録年月']==year_month]\n",
    "\n",
    "# RPSの開始日の方が先のユーザーは別で解析するので分ける\n",
    "df_user_base_year_month_app_derived = df_user_base_year_month[(df_user_base['アプリ登録日時'] - df_user_base_year_month['RPS利用開始日']).dt.days <0]  # 240107修正: >=0 から <0 に\n",
    "df_user_base_year_month_RPS_derived = df_user_base_year_month[(df_user_base['アプリ登録日時'] - df_user_base_year_month['RPS利用開始日']).dt.days >=0]   # 240107修正: <0 から >=0 に"
   ]
  },
  {
   "cell_type": "markdown",
   "id": "36971143",
   "metadata": {},
   "source": [
    "# 2. 予測"
   ]
  },
  {
   "cell_type": "markdown",
   "id": "69045798-3760-48b7-9dd3-af5892119f43",
   "metadata": {},
   "source": [
    "## 2.1. 予測するユーザの選定"
   ]
  },
  {
   "cell_type": "markdown",
   "id": "5d1fb68d-4a69-434b-ace4-d268acf468ba",
   "metadata": {},
   "source": [
    "まず、2021/12（アプリ登録ユーザ急増日）以降の日付にフィルタリング"
   ]
  },
  {
   "cell_type": "code",
   "execution_count": null,
   "id": "719f6a6c",
   "metadata": {},
   "outputs": [],
   "source": [
    "df_analyzed_user_base = df_user_base_year_month_app_derived.copy()  # .copy（）は必ずつけること"
   ]
  },
  {
   "cell_type": "code",
   "execution_count": null,
   "id": "9dc0c461",
   "metadata": {},
   "outputs": [],
   "source": [
    "# 利用者id を抽出\n",
    "user_id_analyzed = df_analyzed_user_base['利用者ID'].values\n",
    "\n",
    "# 抽出した利用者idに対応したuser_idの行だけ抽出\n",
    "df_analyzed_point_history = df_point_history[df_point_history['user_id'].isin(user_id_analyzed)]\n",
    "df_analyzed_point_history = df_analyzed_point_history[df_analyzed_point_history['status']==1]\n",
    "df_analyzed_point_history['use_day'] = df_analyzed_point_history['use_date'].dt.strftime(\"%Y/%m/%d\")\n",
    "df_analyzed_point_history['use_day'] = pd.to_datetime(df_analyzed_point_history['use_day'], errors='coerce')"
   ]
  },
  {
   "cell_type": "markdown",
   "id": "4cec4c69-40dc-435f-91b3-0da539af02bd",
   "metadata": {},
   "source": [
    "投入回数頻度が中央値あたりのユーザが適していると仮定し、調べてみる"
   ]
  },
  {
   "cell_type": "code",
   "execution_count": null,
   "id": "eaaeb6f4-bbc2-45e1-91a9-5e4e2449f117",
   "metadata": {},
   "outputs": [],
   "source": [
    "df_count = df_analyzed_point_history['user_id'].value_counts()\n",
    "df_count.median()"
   ]
  },
  {
   "cell_type": "markdown",
   "id": "02fc1fed-0dfd-4c1f-8c58-f3cb0e958b95",
   "metadata": {},
   "source": [
    "中央値は頻度がデータ数が少なすぎるため却下  \n",
    "ヒストグラムで全体を確認"
   ]
  },
  {
   "cell_type": "code",
   "execution_count": null,
   "id": "a03c06c8-7f55-4012-aa04-c02efa48c855",
   "metadata": {},
   "outputs": [],
   "source": [
    "# Plotting the histogram\n",
    "plt.figure(figsize=(10, 6))\n",
    "plt.hist(df_count, bins=200, color='blue', alpha=0.7)\n",
    "plt.title('Histogram of Counts')\n",
    "plt.xlabel('Count')\n",
    "plt.ylabel('Frequency')\n",
    "plt.ylim([0,600])\n",
    "plt.grid(True)\n",
    "plt.show()"
   ]
  },
  {
   "cell_type": "markdown",
   "id": "ae43d90c-3b70-43fb-b27d-218441491916",
   "metadata": {},
   "source": [
    "ユーザ数は少ないが、学習に使うデータ量を鑑みて200回程度の人の投入量を予測する。"
   ]
  },
  {
   "cell_type": "code",
   "execution_count": null,
   "id": "1bb04835-0bb7-4e8a-9144-4070ae51eb5e",
   "metadata": {},
   "outputs": [],
   "source": [
    "# df_count"
   ]
  },
  {
   "cell_type": "markdown",
   "id": "7340f8d6-1bbf-4197-baed-a4835b1cae70",
   "metadata": {},
   "source": [
    "user_id10015が200回程度データがあるため、決定"
   ]
  },
  {
   "cell_type": "code",
   "execution_count": null,
   "id": "444811ae-df8c-47e1-925a-2a78189c2338",
   "metadata": {},
   "outputs": [],
   "source": [
    "# df_analyzed_point_history[df_analyzed_point_history['user_id']==10015]"
   ]
  },
  {
   "cell_type": "markdown",
   "id": "13d8676e-a36a-490b-a2e6-56cd9f04a26a",
   "metadata": {},
   "source": [
    "一日に何度も投入するユーザがいるため、日付ごとに投入量を合計"
   ]
  },
  {
   "cell_type": "code",
   "execution_count": null,
   "id": "28d73918",
   "metadata": {},
   "outputs": [],
   "source": [
    "# ユーザーごとに各日にちの古紙投入量を算出・集計\n",
    "group_uid_uday = df_analyzed_point_history.groupby(['user_id', 'use_day'])['amount_kg'].sum()"
   ]
  },
  {
   "cell_type": "markdown",
   "id": "0743b90c-4910-472b-a9a7-86be581ccf7c",
   "metadata": {},
   "source": [
    "LSTMで学習する形式に適した形に変更"
   ]
  },
  {
   "cell_type": "code",
   "execution_count": null,
   "id": "4f553870-7f08-40e4-aad4-1402df6689a1",
   "metadata": {},
   "outputs": [],
   "source": [
    "# 日付の範囲を生成する\n",
    "start_date = '2021-12-01'  # アプリユーザが急増した日\n",
    "end_date = '2023-12-05'    # point_history.csvの最終日\n",
    "date_range = pd.date_range(start=start_date, end=end_date)\n",
    "\n",
    "# 日付をカラムに持つデータフレームに変換し、NaNを0で埋める\n",
    "df_pivot = group_uid_uday.unstack(level=-1).fillna(0)\n",
    "\n",
    "# 日付のフォーマットを変更し、必要な範囲の日付だけにフィルタリング\n",
    "df_pivot = df_pivot.reindex(columns=date_range, fill_value=0)\n",
    "df_pivot.columns = df_pivot.columns.strftime('%Y/%m/%d')\n",
    "\n",
    "# データの変換（だいぶセンスのないコード）\n",
    "df_pivot = df_pivot.reset_index()\n",
    "df_pivot_target = df_pivot[df_pivot['user_id']==10015]\n",
    "df_pivot_target['user_id'].astype(float)\n",
    "df_pivot_target = df_pivot_target.transpose()\n",
    "df_pivot_target = df_pivot_target.drop('user_id', axis=0)\n",
    "df_pivot_target.rename(columns ={1793: 'amount'},inplace=True)\n",
    "df_pivot_target\n",
    "# df_pivot_target = df_pivot_target.reset_index()\n",
    "# df_pivot_target.columns = ['date', 'amount']\n",
    "# df_pivot_target['date'] = pd.to_datetime(df_pivot_target['date'])"
   ]
  },
  {
   "cell_type": "markdown",
   "id": "167abb02-3725-4aae-8aaa-8f04b4bd2168",
   "metadata": {},
   "source": [
    "## 2.2. 予測"
   ]
  },
  {
   "cell_type": "markdown",
   "id": "0e95f0f7-8135-47c9-8969-974c3d080925",
   "metadata": {},
   "source": [
    "### 2.2.1. 投入量の総量を予測"
   ]
  },
  {
   "cell_type": "markdown",
   "id": "4f85bb85-5e1f-4fa1-a08d-2a0a0e32caa5",
   "metadata": {},
   "source": [
    "1日ごとの投入量を、累積量に変更"
   ]
  },
  {
   "cell_type": "code",
   "execution_count": null,
   "id": "4dd60da4-159e-4993-9727-a7c94e23aad7",
   "metadata": {},
   "outputs": [],
   "source": [
    "df_pivot_target['amount'] = df_pivot_target['amount'].cumsum()\n",
    "df_pivot_target"
   ]
  },
  {
   "cell_type": "code",
   "execution_count": null,
   "id": "6b2a8e78-ea27-4f89-a20e-09ef6ce7bfde",
   "metadata": {},
   "outputs": [],
   "source": [
    "# データフレームをnumpy配列に変換\n",
    "data = df_pivot_target.values\n",
    "\n",
    "# タイムステップの設定\n",
    "n_steps = 5  # 例として3日間のタイムステップを設定\n",
    "\n",
    "# データの再形成関数\n",
    "def create_dataset(data, n_steps):\n",
    "    X, y = [], []\n",
    "    for i in range(n_steps, len(data)):\n",
    "        X.append(data[i-n_steps:i])\n",
    "        y.append(data[i])\n",
    "    return np.array(X), np.array(y)\n",
    "\n",
    "# データを再形成\n",
    "X, y = create_dataset(data, n_steps)\n",
    "\n",
    "# 訓練データとテストデータに分割\n",
    "X_train, X_test, y_train, y_test = train_test_split(X, y, test_size=0.3, shuffle=False)\n",
    "\n",
    "# LSTMモデルの構築\n",
    "model = tf.keras.models.Sequential([\n",
    "    tf.keras.layers.LSTM(50, activation='relu', input_shape=(n_steps, 1)),\n",
    "    tf.keras.layers.Dense(1)\n",
    "])\n",
    "model.compile(optimizer='adam', loss='mean_squared_error')"
   ]
  },
  {
   "cell_type": "code",
   "execution_count": null,
   "id": "e074e450-4f17-4add-9d84-562809047cb5",
   "metadata": {},
   "outputs": [],
   "source": [
    "# モデルの訓練（履歴を保存）\n",
    "history = model.fit(X_train, y_train, epochs=50, batch_size=32, validation_data=(X_test, y_test))"
   ]
  },
  {
   "cell_type": "code",
   "execution_count": null,
   "id": "61a9f97f-5998-4bb3-b614-7badea10e8ec",
   "metadata": {},
   "outputs": [],
   "source": [
    "# モデルによる予測\n",
    "predictions = model.predict(X_test)"
   ]
  },
  {
   "cell_type": "code",
   "execution_count": null,
   "id": "3402e63b-2079-42ab-951f-4d5b15b4b605",
   "metadata": {},
   "outputs": [],
   "source": [
    "# 予測精度の評価\n",
    "mae = mean_absolute_error(y_test, predictions)\n",
    "print(f\"平均絶対誤差: {mae}\")\n",
    "\n",
    "# 学習履歴の取得\n",
    "loss = history.history['loss']\n",
    "val_loss = history.history['val_loss']\n",
    "epochs = range(1, len(loss) + 1)\n",
    "\n",
    "# MAE評価の折れ線グラフの描画\n",
    "plt.figure(figsize=(12, 6))\n",
    "plt.plot(epochs, loss, 'orange', label='Training MAE')\n",
    "plt.plot(epochs, val_loss, 'darkblue', label='Validation MAE')\n",
    "plt.title('Training and Validation MAE')\n",
    "plt.xlabel('Epochs')\n",
    "plt.ylabel('MAE')\n",
    "plt.ylim([0,100])\n",
    "plt.legend()\n",
    "# grid.on\n",
    "plt.show()"
   ]
  },
  {
   "cell_type": "code",
   "execution_count": null,
   "id": "59189733-21bc-4159-bbde-4339757744f5",
   "metadata": {},
   "outputs": [],
   "source": [
    "predictions"
   ]
  },
  {
   "cell_type": "code",
   "execution_count": null,
   "id": "906e08a1-2fdd-4136-9edc-dd458cec18ea",
   "metadata": {},
   "outputs": [],
   "source": [
    "# 実際のデータと予測値のグラフ化\n",
    "plt.figure(figsize=(12, 6))\n",
    "\n",
    "# 実際の値のプロット\n",
    "plt.plot(df_pivot_target.index[n_steps:], data[n_steps:], label='Actual', marker='', linestyle='-')\n",
    "\n",
    "# 予測値のプロット\n",
    "predicted_index = df_pivot_target.index[len(y_train) + n_steps:]\n",
    "plt.plot(predicted_index, predictions, label='Predicted', marker='', linestyle='-')\n",
    "\n",
    "# X軸のフォーマットを日付に設定\n",
    "plt.gca().xaxis.set_major_formatter(mdates.DateFormatter('%Y-%m-%d'))\n",
    "plt.gca().xaxis.set_major_locator(mdates.DayLocator(interval=15))  # 15日ごとに日付を表示\n",
    "\n",
    "plt.xlabel('Date')\n",
    "plt.ylabel('Value')\n",
    "plt.title('Time Series Prediction')\n",
    "plt.legend()\n",
    "plt.xticks(rotation=90)  # X軸のラベルを45度回転\n",
    "# plt.ylim([1100,1200])\n",
    "# plt.xlim(['1971,8,1','1972,8,1'])\n",
    "plt.grid()\n",
    "plt.show()\n"
   ]
  },
  {
   "cell_type": "markdown",
   "id": "eb2ac309-fe96-43d2-95c0-49ed80f0cc91",
   "metadata": {},
   "source": [
    "### 2.2.2. 1日ごとの投入量を予測"
   ]
  },
  {
   "cell_type": "code",
   "execution_count": null,
   "id": "b200bff7-0c80-4d11-8e24-e503a37cd030",
   "metadata": {},
   "outputs": [],
   "source": [
    "# データフレームをnumpy配列に変換\n",
    "data = df_pivot_target.values\n",
    "\n",
    "# タイムステップの設定\n",
    "n_steps = 3  # 例として3日間のタイムステップを設定\n",
    "\n",
    "# データの再形成関数\n",
    "def create_dataset(data, n_steps):\n",
    "    X, y = [], []\n",
    "    for i in range(n_steps, len(data)):\n",
    "        X.append(data[i-n_steps:i])\n",
    "        y.append(data[i])\n",
    "    return np.array(X), np.array(y)\n",
    "\n",
    "# データを再形成\n",
    "X, y = create_dataset(data, n_steps)\n",
    "\n",
    "# 訓練データとテストデータに分割\n",
    "X_train, X_test, y_train, y_test = train_test_split(X, y, test_size=0.5, shuffle=False)\n",
    "\n",
    "# LSTMモデルの構築\n",
    "model = tf.keras.models.Sequential([\n",
    "    tf.keras.layers.LSTM(50, activation='relu', input_shape=(n_steps, 1)),\n",
    "    tf.keras.layers.Dense(1)\n",
    "])\n",
    "model.compile(optimizer='adam', loss='mean_squared_error')"
   ]
  },
  {
   "cell_type": "code",
   "execution_count": null,
   "id": "986ba8b3-fa1e-4971-8d1c-7cac0f2b5c6e",
   "metadata": {},
   "outputs": [],
   "source": [
    "# モデルの訓練（履歴を保存）\n",
    "history = model.fit(X_train, y_train, epochs=30, batch_size=32, validation_data=(X_test, y_test))"
   ]
  },
  {
   "cell_type": "code",
   "execution_count": null,
   "id": "6ce48bf6-76cb-4680-878f-769f20891717",
   "metadata": {},
   "outputs": [],
   "source": [
    "# モデルによる予測\n",
    "predictions = model.predict(X_test)"
   ]
  },
  {
   "cell_type": "code",
   "execution_count": null,
   "id": "03b42913-aa00-4139-9c58-7715657f21ce",
   "metadata": {},
   "outputs": [],
   "source": [
    "# 予測精度の評価\n",
    "mae = mean_absolute_error(y_test, predictions)\n",
    "print(f\"平均絶対誤差: {mae}\")\n",
    "\n",
    "# 学習履歴の取得\n",
    "loss = history.history['loss']\n",
    "val_loss = history.history['val_loss']\n",
    "epochs = range(1, len(loss) + 1)\n",
    "\n",
    "# MAE評価の折れ線グラフの描画\n",
    "plt.figure(figsize=(12, 6))\n",
    "plt.plot(epochs, loss, 'orange', label='Training MAE')\n",
    "plt.plot(epochs, val_loss, 'darkblue', label='Validation MAE')\n",
    "plt.title('Training and Validation MAE')\n",
    "plt.xlabel('Epochs')\n",
    "plt.ylabel('MAE')\n",
    "plt.legend()\n",
    "plt.show()"
   ]
  },
  {
   "cell_type": "code",
   "execution_count": null,
   "id": "7d58d473-6cf7-4f01-9065-997e1fdd7cbd",
   "metadata": {},
   "outputs": [],
   "source": [
    "# 実際のデータと予測値のグラフ化\n",
    "plt.figure(figsize=(12, 6))\n",
    "\n",
    "# 実際の値のプロット\n",
    "plt.plot(df_pivot_target.index[n_steps:], data[n_steps:], label='Actual', marker='', linestyle='-')\n",
    "\n",
    "# 予測値のプロット\n",
    "predicted_index = df_pivot_target.index[len(y_train) + n_steps:]\n",
    "plt.plot(predicted_index, predictions, label='Predicted', marker='', linestyle='-')\n",
    "\n",
    "# X軸のフォーマットを日付に設定\n",
    "plt.gca().xaxis.set_major_formatter(mdates.DateFormatter('%Y-%m-%d'))\n",
    "plt.gca().xaxis.set_major_locator(mdates.DayLocator(interval=15))  # 15日ごとに日付を表示\n",
    "\n",
    "plt.xlabel('Date')\n",
    "plt.ylabel('Value')\n",
    "plt.title('Time Series Prediction')\n",
    "plt.legend()\n",
    "plt.xticks(rotation=90)  # X軸のラベルを45度回転\n",
    "plt.ylim([0,2])\n",
    "plt.show()\n"
   ]
  },
  {
   "cell_type": "markdown",
   "id": "234513f5-bc3f-43aa-a01e-8a82124898e4",
   "metadata": {},
   "source": [
    "**結果**  \n",
    "・予測精度は悪い  \n",
    "・日付がバグった  \n",
    "・間欠データって、予測に向いてないのでは？日ごとに値を蓄積した総量のデータの方がよい？  "
   ]
  },
  {
   "cell_type": "code",
   "execution_count": null,
   "id": "f736a83c-1834-4387-924f-4e0886126d8c",
   "metadata": {},
   "outputs": [],
   "source": []
  }
 ],
 "metadata": {
  "kernelspec": {
   "display_name": "Python 3 (ipykernel)",
   "language": "python",
   "name": "python3"
  },
  "language_info": {
   "codemirror_mode": {
    "name": "ipython",
    "version": 3
   },
   "file_extension": ".py",
   "mimetype": "text/x-python",
   "name": "python",
   "nbconvert_exporter": "python",
   "pygments_lexer": "ipython3",
   "version": "3.11.5"
  }
 },
 "nbformat": 4,
 "nbformat_minor": 5
}

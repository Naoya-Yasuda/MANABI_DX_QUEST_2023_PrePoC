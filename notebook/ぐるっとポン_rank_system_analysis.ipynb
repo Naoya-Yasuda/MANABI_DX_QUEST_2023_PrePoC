{
 "cells": [
  {
   "cell_type": "markdown",
   "id": "33432be5",
   "metadata": {},
   "source": [
    "# 0. はじめに"
   ]
  },
  {
   "cell_type": "markdown",
   "id": "5f9e7d3b",
   "metadata": {},
   "source": [
    "## そもそもアプリがユーザーにどの程度効果を与えているかを知るための解析\n",
    "\n",
    "### "
   ]
  },
  {
   "cell_type": "markdown",
   "id": "f261e941",
   "metadata": {},
   "source": [
    "# 1. 準備"
   ]
  },
  {
   "cell_type": "markdown",
   "id": "a5646cc3-f07b-4503-be1b-35a5f64d84d1",
   "metadata": {},
   "source": [
    "### 1.1. 基本設定"
   ]
  },
  {
   "cell_type": "code",
   "execution_count": null,
   "id": "762cc329-373b-47e2-839e-0b5838e12554",
   "metadata": {},
   "outputs": [],
   "source": [
    "import pandas as pd\n",
    "import matplotlib.pyplot as plt\n",
    "import seaborn as sns #seabornない人はpip installしてね\n",
    "import os\n",
    "from datetime import datetime\n",
    "import numpy as np\n",
    "from pathlib import Path\n",
    "from sklearn.model_selection import train_test_split\n",
    "from tensorflow.keras.models import Sequential\n",
    "from tensorflow.keras.layers import LSTM, Dense\n",
    "from sklearn.preprocessing import MinMaxScaler\n",
    "from tensorflow.keras.optimizers import Adam\n",
    "\n",
    "\n",
    "# カレントディレクトリを.pyと合わせるために以下を実行\n",
    "if Path.cwd().name == \"notebook\":\n",
    "    os.chdir(\"..\")\n",
    "\n",
    "# 設定\n",
    "pd.set_option('display.max_rows', 500)\n",
    "pd.set_option('display.min_rows', 500)\n",
    "pd.set_option('display.max_columns', 500)\n",
    "\n",
    "# 浮動小数点数を小数点以下3桁で表示するように設定\n",
    "pd.set_option('display.float_format', '{:.3f}'.format)"
   ]
  },
  {
   "cell_type": "code",
   "execution_count": null,
   "id": "8f82109b-f924-452e-abc3-fa3b20c4d3b0",
   "metadata": {},
   "outputs": [],
   "source": [
    "# Mac Matplotlibのデフォルトフォントをヒラギノ角ゴシックに設定\n",
    "plt.rcParams['font.family'] = 'Hiragino Sans'"
   ]
  },
  {
   "cell_type": "code",
   "execution_count": null,
   "id": "8251e4e5-10f5-4f55-bf7d-848e21d171ea",
   "metadata": {},
   "outputs": [],
   "source": [
    "# Windows MatplotlibのデフォルトフォントをMeiryoに設定\n",
    "plt.rcParams['font.family'] = 'Meiryo'"
   ]
  },
  {
   "cell_type": "markdown",
   "id": "3af1590e-8ec0-42b2-a2dd-63486506b8bc",
   "metadata": {},
   "source": [
    "### 1.2. csv読み込み"
   ]
  },
  {
   "cell_type": "code",
   "execution_count": null,
   "id": "4d9a51c9",
   "metadata": {},
   "outputs": [],
   "source": [
    "# point_history.csvの読み込み\n",
    "df_point_history_sorce = pd.read_csv('data/input/point_history_cleansing.csv')"
   ]
  },
  {
   "cell_type": "code",
   "execution_count": null,
   "id": "a8c7aad2",
   "metadata": {},
   "outputs": [],
   "source": [
    "# ユーザー基本情報の読み込み\n",
    "df_user_base_sorce = pd.read_csv(\"data/input/ユーザー基本情報_2023-12-21.csv\", encoding=\"shift-jis\")"
   ]
  },
  {
   "cell_type": "markdown",
   "id": "f7363482-2aa6-455a-a3fe-56fef7ec89e7",
   "metadata": {},
   "source": [
    "### 1.3. データクレンジング"
   ]
  },
  {
   "cell_type": "markdown",
   "id": "1df9883d-42a1-492d-89b3-ddcd9e0a1179",
   "metadata": {},
   "source": [
    "#### 1.3.1. df_user_base(ユーザ基本情報)のクレンジング"
   ]
  },
  {
   "cell_type": "code",
   "execution_count": null,
   "id": "d046f777-24e4-482d-ad0d-76edbe81d1f0",
   "metadata": {},
   "outputs": [],
   "source": [
    "# DataFrameのコピーを作成\n",
    "df_user_base = df_user_base_sorce.copy()\n",
    "\n",
    "# 紛らわしい列名を改名\n",
    "df_user_base = df_user_base.rename(columns={'登録日時': 'アプリ登録日時', '最終利用日': 'アプリ最終利用日'})\n",
    "\n",
    "# objectをdatetimeに変更\n",
    "df_user_base['アプリ登録日時'] = pd.to_datetime(df_user_base['アプリ登録日時'], errors='coerce')\n",
    "df_user_base['アプリ最終利用日'] = pd.to_datetime(df_user_base['アプリ最終利用日'], errors='coerce')\n",
    "df_user_base['birthday'] = pd.to_datetime(df_user_base['birthday'], errors='coerce')\n",
    "\n",
    "# 6歳未満(1543個)と100歳以上(12個)を削除\n",
    "df_user_base = df_user_base[ (df_user_base['birthday'] < pd.to_datetime('2017-01-01')) & (df_user_base['birthday'] > pd.to_datetime('1924-01-01'))]\n",
    "\n",
    "# df_user_baseに\"age\"と\"age_group\"のカラムを追加\n",
    "df_user_base['age'] = pd.Timestamp.now().year - df_user_base['birthday'].dt.year    # ageの算出・追加\n",
    "\n",
    "# 年代の算出・追加\n",
    "bins = [0, 20, 30, 40, 50, 60, 70, 80, 90, 100]\n",
    "labels = ['0-20', '21-30', '31-40', '41-50', '51-60', '61-70', '71-80', '81-90', '91-100']\n",
    "df_user_base['age_group'] = pd.cut(df_user_base['age'], bins=bins, labels=labels, right=False)\n",
    "\n",
    "# 今回使用しない可能性が高いカラムは削除\n",
    "df_user_base = df_user_base.drop(['登録日', 'カード種類', 'スーパー', '都道府県', '市区町村', '登録店舗', 'カード登録日', 'カード更新日', 'birthday'], axis=1)\n",
    "df_user_base = df_user_base.drop_duplicates(subset='利用者ID', keep='first')\n",
    "df_user_base = df_user_base.sort_values(by='アプリ登録日時')\n",
    "df_user_base.head()\n",
    "# len(df_user_base)"
   ]
  },
  {
   "cell_type": "markdown",
   "id": "c9cd6468-24fd-4fdc-bd0b-bedf6ec72c46",
   "metadata": {},
   "source": [
    "#### 1.3.2. df_point_history(point_history.csv)のクレンジング"
   ]
  },
  {
   "cell_type": "code",
   "execution_count": null,
   "id": "c0171db7-b27e-4c02-839b-83c0d8c16cbb",
   "metadata": {},
   "outputs": [],
   "source": [
    "# DataFrameのコピーを作成\n",
    "df_point_history = df_point_history_sorce.copy()\n",
    "\n",
    "# objectをdatetimeに変更\n",
    "df_point_history['use_date'] = pd.to_datetime(df_point_history['use_date'], errors='coerce')\n",
    "\n",
    "# 今回使用しない可能性が高いカラムは削除\n",
    "df_point_history = df_point_history.drop([\n",
    "    'Unnamed: 0',\n",
    "    'id',\n",
    "    'series_id',\n",
    "    'shop_id',\n",
    "    'shop_name',\n",
    "    'card_id',\n",
    "    'リサイクル分類ID',\n",
    "    'amount',\n",
    "    'created_at',\n",
    "    'updated_at',\n",
    "    '支店ID',\n",
    "    'super',\n",
    "    'shop_name_1',\n",
    "    'shop_id_1',\n",
    "    'updated_at_1',\n",
    "    'store_opening_time',\n",
    "    'store_closing_time',\n",
    "    'created_at_1',\n",
    "    'rps_opening_time',\n",
    "    'rps_closing_time',\n",
    "    'store_latitude',\n",
    "    'store_longitude',\n",
    "    'total_amount',], axis=1)\n",
    "df_point_history = df_point_history.sort_values(by='use_date')\n",
    "df_point_history.head(1)"
   ]
  },
  {
   "cell_type": "code",
   "execution_count": null,
   "id": "c8dd43cb",
   "metadata": {},
   "outputs": [],
   "source": [
    "#df_point_history[df_point_history['user_id']==1138]"
   ]
  },
  {
   "cell_type": "markdown",
   "id": "1e72f35c-b01a-40a2-9a6f-9d5738e98365",
   "metadata": {},
   "source": [
    "#### 1.3.3. 分析に必要なカラムの作成"
   ]
  },
  {
   "cell_type": "markdown",
   "id": "bdcbecb5-d4ab-480b-b00a-31e2866e809a",
   "metadata": {},
   "source": [
    "アプリ継続利用期間（アプリ最終利用日-アプリ登録日時）"
   ]
  },
  {
   "cell_type": "code",
   "execution_count": null,
   "id": "3ee60520-afc6-44c0-b39a-8cd5ae6d5067",
   "metadata": {},
   "outputs": [],
   "source": [
    "# 継続利用期間を計算\n",
    "df_user_base['アプリ継続利用期間(月)'] = (df_user_base['アプリ最終利用日'] - df_user_base['アプリ登録日時']).dt.days / 30  # 月単位で計算\n",
    "df_user_base = df_user_base[df_user_base['アプリ継続利用期間(月)'] >= 0]\n",
    "df_user_base.head()\n",
    "# len(df_user_base[df_user_base['継続利用期間(月)'] == 0])"
   ]
  },
  {
   "cell_type": "markdown",
   "id": "60eba03c",
   "metadata": {},
   "source": [
    "継続利用期間（point_historyのuse_date列からRPS最終利用日を抽出したver.）　231228 norosen"
   ]
  },
  {
   "cell_type": "code",
   "execution_count": null,
   "id": "097b28c1",
   "metadata": {},
   "outputs": [],
   "source": [
    "# 利用者id を抽出\n",
    "user_id_all = df_user_base['利用者ID'].values\n",
    "\n",
    "# 各利用者id に対して「RPS利用開始日」「RPS最終利用日」を抽出\n",
    "first_entries_RPS = df_point_history.groupby('user_id').first().reset_index()\n",
    "last_entries_RPS = df_point_history.groupby('user_id').last().reset_index()\n",
    "\n",
    "\"\"\"\n",
    "for uid in user_id_all:\n",
    "\n",
    "    df_one_user = df_point_history[df_point_history['user_id']==uid]\n",
    "    \n",
    "    if len(df_one_user) != 0:\n",
    "\n",
    "        first_use_RPS.append(df_one_user['use_date'].iloc[0])\n",
    "        \n",
    "        last_use_RPS.append(df_one_user['use_date'].iloc[-1])\n",
    "        \n",
    "    else:\n",
    "\n",
    "        first_use_RPS.append('NaT')\n",
    "        \n",
    "        last_use_RPS.append('NaT')\n",
    "\"\"\""
   ]
  },
  {
   "cell_type": "code",
   "execution_count": null,
   "id": "b10f2780",
   "metadata": {},
   "outputs": [],
   "source": [
    "# 「RPS利用開始日」「RPS最終利用日」カラムを作成\n",
    "\n",
    "# df_user_baseに利用開始日をマージ\n",
    "df_user_base = pd.merge(df_user_base, first_entries_RPS[['user_id', 'use_date']], left_on='利用者ID', right_on='user_id', how='left')\n",
    "df_user_base = df_user_base.rename(columns={'use_date':'RPS利用開始日'})\n",
    "\n",
    "# df_user_baseに最終利用日をマージ\n",
    "df_user_base = pd.merge(df_user_base, last_entries_RPS[['user_id', 'use_date']], left_on='利用者ID', right_on='user_id', how='left')\n",
    "df_user_base = df_user_base.rename(columns={'use_date':'RPS最終利用日'})\n",
    "\n",
    "\n",
    "df_user_base['RPS利用開始日'] = pd.to_datetime(df_user_base['RPS利用開始日'], errors='coerce')\n",
    "df_user_base['RPS最終利用日'] = pd.to_datetime(df_user_base['RPS最終利用日'], errors='coerce')\n",
    "df_user_base.head()"
   ]
  },
  {
   "cell_type": "code",
   "execution_count": null,
   "id": "97fe9b65",
   "metadata": {},
   "outputs": [],
   "source": [
    "df_user_base = df_user_base.drop(columns=['user_id_x', 'user_id_y'])\n",
    "df_user_base.head(1)"
   ]
  },
  {
   "cell_type": "code",
   "execution_count": null,
   "id": "742e3833",
   "metadata": {},
   "outputs": [],
   "source": [
    "# RPS継続利用期間を計算\n",
    "df_user_base['RPS継続利用期間(月)'] = (df_user_base['RPS最終利用日'] - df_user_base['RPS利用開始日']).dt.days / 30  # 月単位で計算\n",
    "df_user_base = df_user_base[df_user_base['RPS継続利用期間(月)'] >= 0]\n",
    "df_user_base.head()"
   ]
  },
  {
   "cell_type": "code",
   "execution_count": null,
   "id": "75e24d9a",
   "metadata": {},
   "outputs": [],
   "source": [
    "# 列の順番を分かりやすいように入れ替える\n",
    "order_df_user_base = ['利用者ID', 'カード登録', '現在ランク', 'age', 'age_group',\n",
    "                      'アプリ登録日時', 'アプリ最終利用日', 'アプリ継続利用期間(月)',                   \n",
    "                      'RPS利用開始日', 'RPS最終利用日', 'RPS継続利用期間(月)']\n",
    "\n",
    "df_user_base = df_user_base[order_df_user_base]"
   ]
  },
  {
   "cell_type": "code",
   "execution_count": null,
   "id": "ecb644e0",
   "metadata": {},
   "outputs": [],
   "source": [
    "# RPS列追加に10分くらいかかるので、できあがったものをcsvとして出力しておく\n",
    "#df_user_base.to_csv(\"data/input/ユーザー基本情報_2023-12-21_RPS利用日追加.csv\", encoding='shift-jis')"
   ]
  },
  {
   "cell_type": "code",
   "execution_count": null,
   "id": "f3ecdab2",
   "metadata": {},
   "outputs": [],
   "source": [
    "n=9150\n",
    "display(df_user_base[df_user_base['利用者ID']==n])\n",
    "print((df_user_base[df_user_base['利用者ID']==n]['アプリ登録日時'] - df_user_base[df_user_base['利用者ID']==n]['RPS利用開始日']).dt.days)\n",
    "\n",
    "display(df_point_history[df_point_history['user_id']==n])\n",
    "\n",
    "#df_test = df_point_history[df_point_history['user_id']==n]\n",
    "#plt.plot(df_test['use_date'], df_test['amount_kg'])\n",
    "#plt.xticks\n",
    "#plt.show()"
   ]
  },
  {
   "cell_type": "code",
   "execution_count": null,
   "id": "43cc2afd",
   "metadata": {},
   "outputs": [],
   "source": [
    "# アプリ登録年月ごとに集計\n",
    "df_user_base['アプリ登録年月'] = df_user_base['アプリ登録日時'].dt.strftime(\"%Y/%m\")\n",
    "\n",
    "n_users_registered = df_user_base['アプリ登録年月'].value_counts().sort_index()\n",
    "plt.plot(n_users_registered)\n",
    "\n",
    "plt.title('月ごとのアプリ登録者数')\n",
    "plt.xticks(rotation=90, fontsize=8)\n",
    "plt.ylabel('アプリ登録者数')\n",
    "plt.grid(True)\n",
    "plt.show()"
   ]
  },
  {
   "cell_type": "code",
   "execution_count": null,
   "id": "5cc83e4c",
   "metadata": {},
   "outputs": [],
   "source": [
    "# 累積データの計算\n",
    "cumulative_data = np.cumsum(df_user_base['アプリ登録年月'].value_counts().sort_index().values)\n",
    "\n",
    "plt.plot(df_user_base['アプリ登録年月'].value_counts().sort_index().index, cumulative_data)\n",
    "\n",
    "plt.title('月ごとのアプリ登録者数（累積）')\n",
    "plt.xticks(rotation=90, fontsize=8)\n",
    "plt.ylabel('アプリ登録者数')\n",
    "plt.grid(True)\n",
    "plt.show()"
   ]
  },
  {
   "cell_type": "code",
   "execution_count": null,
   "id": "90e1e0cc",
   "metadata": {},
   "outputs": [],
   "source": [
    "# RPS開始日を年月ごとに集計\n",
    "df_user_base['RPS開始年月'] = df_user_base['RPS利用開始日'].dt.strftime(\"%Y/%m\")\n",
    "\n",
    "n_users_registered = df_user_base['RPS開始年月'].value_counts().sort_index()\n",
    "plt.plot(n_users_registered)\n",
    "plt.xticks(rotation=90, fontsize=8)\n",
    "plt.grid(True)\n",
    "plt.show()"
   ]
  },
  {
   "cell_type": "code",
   "execution_count": null,
   "id": "295fb134",
   "metadata": {},
   "outputs": [],
   "source": [
    "# アプリを継続利用した「Yes, No」、RPSを継続利用した「Yes, No」の4通りの割合を算出する関数\n",
    "# Matrixとして可視化\n",
    "# Threshold : 月を入力\n",
    "\n",
    "def matrix_usage(df_user_base_ym, month_threshold):\n",
    "    '''\n",
    "    アプリを継続利用した「Yes, No」、RPSを継続利用した「Yes, No」の4通りの割合を算出する関数\n",
    "    \n",
    "    Params\n",
    "    ------\n",
    "    df_user_base_ym : y年m月にぐるっとポンに登録したユーザー\n",
    "    month_threshold : 継続利用したとみなすための閾値（単位：月）\n",
    "    \n",
    "    Return\n",
    "    ------\n",
    "    [n_1_1, n_0_1, n_1_0, n_0_0] : 割合の算出結果\n",
    "    \n",
    "    '''\n",
    "\n",
    "    df_user_base_ym_1_1 = df_user_base_ym[(df_user_base_ym['アプリ継続利用期間(月)'] >= month_threshold) & (df_user_base_ym['RPS継続利用期間(月)'] >= month_threshold)]\n",
    "    df_user_base_ym_0_1 = df_user_base_ym[(df_user_base_ym['アプリ継続利用期間(月)'] < month_threshold) & (df_user_base_ym['RPS継続利用期間(月)'] >= month_threshold)]\n",
    "    df_user_base_ym_1_0 = df_user_base_ym[(df_user_base_ym['アプリ継続利用期間(月)'] >= month_threshold) & (df_user_base_ym['RPS継続利用期間(月)'] < month_threshold)]\n",
    "    df_user_base_ym_0_0 = df_user_base_ym[(df_user_base_ym['アプリ継続利用期間(月)'] < month_threshold) & (df_user_base_ym['RPS継続利用期間(月)'] < month_threshold)]\n",
    "\n",
    "\n",
    "    n_1_1 = len(df_user_base_ym_1_1) / len(df_user_base_ym)\n",
    "    n_0_1 = len(df_user_base_ym_0_1) / len(df_user_base_ym)\n",
    "    n_1_0 = len(df_user_base_ym_1_0) / len(df_user_base_ym)\n",
    "    n_0_0 = len(df_user_base_ym_0_0) / len(df_user_base_ym)\n",
    "\n",
    "    mat_columns = ['アプリを' + str(month_threshold) + 'か月以上継続利用', 'アプリを' + str(month_threshold) + 'か月以内に利用終了']\n",
    "    mat_index = ['RPSを' + str(month_threshold) + 'か月以上継続利用', 'RPSを' + str(month_threshold) + 'か月以内に利用終了']\n",
    "    mat_usage = pd.DataFrame([[n_1_1, n_0_1], [n_1_0, n_0_0]], columns=mat_columns, index=mat_index)\n",
    "\n",
    "    #display(mat_usage)\n",
    "    \n",
    "    return [n_1_1, n_0_1, n_1_0, n_0_0]\n"
   ]
  },
  {
   "cell_type": "code",
   "execution_count": null,
   "id": "23166375",
   "metadata": {},
   "outputs": [],
   "source": [
    "# 2021年12月にアプリを登録したユーザーに絞って解析\n",
    "year_month = datetime(2021,12,1).strftime(\"%Y/%m\")\n",
    "\n",
    "df_user_base_year_month = df_user_base[df_user_base['アプリ登録年月']==year_month]\n",
    "\n",
    "# RPSの開始日の方が先のユーザーは別で解析するので分ける\n",
    "df_user_base_year_month_app_derived = df_user_base_year_month[(df_user_base['アプリ登録日時'] - df_user_base_year_month['RPS利用開始日']).dt.days <0]  # 240107修正: >=0 から <0 に\n",
    "df_user_base_year_month_RPS_derived = df_user_base_year_month[(df_user_base['アプリ登録日時'] - df_user_base_year_month['RPS利用開始日']).dt.days >=0]   # 240107修正: <0 から >=0 に"
   ]
  },
  {
   "cell_type": "code",
   "execution_count": null,
   "id": "a0570a3f",
   "metadata": {},
   "outputs": [],
   "source": [
    "print(len(df_user_base_year_month_app_derived))\n",
    "print(len(df_user_base_year_month_RPS_derived))"
   ]
  },
  {
   "cell_type": "code",
   "execution_count": null,
   "id": "806f7559",
   "metadata": {},
   "outputs": [],
   "source": [
    "# アプリ、RPSの継続利用期間を比較\n",
    "df_analyzed = df_user_base_year_month_app_derived.copy()  # .copy（）は必ずつけること\n",
    "\n",
    "bins_duration = np.arange(27)\n",
    "plt.hist(df_analyzed['アプリ継続利用期間(月)'], bins=bins_duration, label='アプリ', alpha=0.7)\n",
    "plt.hist(df_analyzed['RPS継続利用期間(月)'], bins=bins_duration, label=' RPS', alpha=0.7)\n",
    "\n",
    "plt.title('アプリ、RPSの継続利用期間\\n（' + year_month + 'にアプリを登録したユーザー）')\n",
    "plt.xlabel('継続利用期間（月）')\n",
    "plt.ylabel('Counts')\n",
    "plt.legend(bbox_to_anchor=(1.05, 1), loc='upper left', borderaxespad=0)\n",
    "#plt.ylim([0,100])\n",
    "plt.show()"
   ]
  },
  {
   "cell_type": "markdown",
   "id": "f1b33f90",
   "metadata": {},
   "source": [
    "・継続利用期間は「始めてから何か月で利用を辞めたか」と言い換えられる  \n",
    "\n",
    "比較  \n",
    "・対照的なヒストグラム  \n",
    "・アプリは最初に辞める人が多いのに対して、RPSは継続利用する人が多い。中盤（5~20か月）は同じような値。\n",
    " \n",
    "\n",
    "考察  \n",
    "・極端な話ぐるっとポンが無くても皆継続利用してくれる  \n",
    "・ユーザーにとって、現状ぐるっとポンは利用し始めるための障壁が高い？  \n",
    "・ぐるっとポンのインストールを目的としたキャンペーンの実施によって、新規RPS利用者を獲得。その後はぐるっとポンを使用せずRPSだけを継続利用してる層がマジョリティー？"
   ]
  },
  {
   "cell_type": "code",
   "execution_count": null,
   "id": "964f3c5e",
   "metadata": {},
   "outputs": [],
   "source": [
    "# アプリ利用、RPS利用の推移を可視化\n",
    "df_analyzed = df_user_base_year_month_app_derived.copy()  # .copy（）は必ずつけること\n",
    "\n",
    "month_thre_all = [0.03, 3, 6, 12, 18, 22]\n",
    "dict_mat_usage = {}\n",
    "\n",
    "for m_thre in month_thre_all:\n",
    "    \n",
    "    dict_mat_usage[m_thre] = matrix_usage(df_analyzed, m_thre)\n",
    "    \n",
    "    \n",
    "# 積み上げ棒グラフの描画\n",
    "bottom = np.zeros(len(month_thre_all))\n",
    "\n",
    "label_usage = ['アプリ:Yes, RPS:Yes', 'アプリ:No,  RPS:Yes',\n",
    "               'アプリ:Yes, RPS:No', 'アプリ:No,  RPS:No']\n",
    "\n",
    "for i, l_usage in enumerate(label_usage):\n",
    "        \n",
    "    values = [dict_mat_usage[m_thre][i] for m_thre in month_thre_all]\n",
    "    \n",
    "    plt.bar(month_thre_all, values, bottom=bottom, label=l_usage, width=1, zorder=i+2)\n",
    "\n",
    "    bottom += values\n",
    "    \n",
    "   # 各棒の上にテキストを追加\n",
    "for m_thre in month_thre_all:\n",
    "\n",
    "    plt.text(m_thre, 1.0, str(m_thre), ha='center', va='bottom', c='green')\n",
    "\n",
    "# 凡例を表示\n",
    "plt.legend(bbox_to_anchor=(1.05, 1), loc='upper left', borderaxespad=0)\n",
    "\n",
    "# グラフのタイトルと軸ラベルを設定\n",
    "plt.title('アプリ利用 & RPS利用の推移\\n（' + year_month + 'にアプリを登録したユーザー）')\n",
    "plt.xlabel(\"月（month）\", c='green')\n",
    "plt.ylabel(\"割合\")\n",
    "plt.ylim([0, 1.1])\n",
    "plt.grid(True, axis='y', zorder=1, alpha=0.3)\n",
    "\n",
    "plt.show()"
   ]
  },
  {
   "cell_type": "markdown",
   "id": "36971143",
   "metadata": {},
   "source": [
    "# 240107 古紙投入量予測AI\n",
    "### LSTM or Transformer を用いてモデル構築\n",
    "### データ：2021/12 にアプリを登録し、RPSを使い始めたユーザー 約3000人\n",
    "\n",
    "\n",
    "### 1. AI構築の前段階として、以下の項目についてチェック\n",
    "・month vs. 古紙投入量/月 をプロットし、全体を可視化モデル分ける必要ありそうかを判断  \n",
    "\n",
    "### 2. モデル学習：半年くらいまでのデータを入力し、次の月の古紙投入量を出力とする（暫定）\n",
    "・データは2021/12から2023/5（18か月後）までを扱う"
   ]
  },
  {
   "cell_type": "code",
   "execution_count": null,
   "id": "719f6a6c",
   "metadata": {},
   "outputs": [],
   "source": [
    "df_analyzed_user_base = df_user_base_year_month_app_derived.copy()  # .copy（）は必ずつけること"
   ]
  },
  {
   "cell_type": "code",
   "execution_count": null,
   "id": "9dc0c461",
   "metadata": {},
   "outputs": [],
   "source": [
    "# 利用者id を抽出\n",
    "user_id_analyzed = df_analyzed_user_base['利用者ID'].values\n",
    "\n",
    "# 抽出した利用者idに対応したuser_idの行だけ抽出\n",
    "df_analyzed_point_history = df_point_history[df_point_history['user_id'].isin(user_id_analyzed)]\n",
    "df_analyzed_point_history = df_analyzed_point_history[df_analyzed_point_history['status']==1]\n",
    "df_analyzed_point_history['use_day'] = df_analyzed_point_history['use_date'].dt.strftime(\"%Y/%m/%d\")"
   ]
  },
  {
   "cell_type": "code",
   "execution_count": null,
   "id": "bcdd5587",
   "metadata": {},
   "outputs": [],
   "source": [
    "#df_analyzed_point_history = df_analyzed_point_history.drop(columns=['use_month'])\n",
    "df_analyzed_point_history['use_day'] = pd.to_datetime(df_analyzed_point_history['use_day'], errors='coerce')"
   ]
  },
  {
   "cell_type": "code",
   "execution_count": null,
   "id": "1084438b",
   "metadata": {},
   "outputs": [],
   "source": [
    "display(df_analyzed_point_history.tail())"
   ]
  },
  {
   "cell_type": "code",
   "execution_count": null,
   "id": "28d73918",
   "metadata": {},
   "outputs": [],
   "source": [
    "# ユーザーごとに各月の古紙投入量を算出・集計\n",
    "group_uid_uday = df_analyzed_point_history.groupby(['user_id', 'use_day'])['amount_kg'].sum()\n",
    "group_uid_uday"
   ]
  },
  {
   "cell_type": "code",
   "execution_count": null,
   "id": "4f553870-7f08-40e4-aad4-1402df6689a1",
   "metadata": {},
   "outputs": [],
   "source": [
    "# 日付の範囲を生成する\n",
    "start_date = '2021-12-01'\n",
    "end_date = '2023-06-01'\n",
    "date_range = pd.date_range(start=start_date, end=end_date)\n",
    "\n",
    "# 日付をカラムに持つデータフレームに変換し、NaNを0で埋める\n",
    "df_pivot = group_uid_uday.unstack(level=-1).fillna(0)\n",
    "\n",
    "# 日付のフォーマットを変更し、必要な範囲の日付だけにフィルタリング\n",
    "df_pivot = df_pivot.reindex(columns=date_range, fill_value=0)\n",
    "df_pivot.columns = df_pivot.columns.strftime('%Y/%m/%d')\n",
    "\n",
    "df_pivot.head()  # 結果の確認（最初の数行を表示）\n",
    "# df_pivot.info()"
   ]
  },
  {
   "cell_type": "code",
   "execution_count": null,
   "id": "f02f3f02-3613-446b-b008-352d72973892",
   "metadata": {},
   "outputs": [],
   "source": [
    "# データの準備\n",
    "# df_pivotはuser_idごとの日付の列を持つデータフレームとしています\n",
    "# ここでは簡単のために最初のユーザーのデータのみを使用します\n",
    "data = df_pivot.iloc[0].values\n",
    "data = data.reshape(-1, 1)\n",
    "\n",
    "# データの正規化\n",
    "scaler = MinMaxScaler(feature_range=(0, 1))\n",
    "data_scaled = scaler.fit_transform(data)\n",
    "\n",
    "# トレーニングデータとテストデータを分割\n",
    "train_size = int(len(data_scaled) * 0.9)\n",
    "test_size = len(data_scaled) - train_size\n",
    "train, test = data_scaled[0:train_size,:], data_scaled[train_size:len(data_scaled),:]\n",
    "\n",
    "# LSTMに入力するためのシーケンスデータを作成する関数\n",
    "def create_dataset(dataset, look_back=1):\n",
    "    X, Y = [], []\n",
    "    for i in range(len(dataset) - look_back - 1):\n",
    "        a = dataset[i:(i + look_back), 0]\n",
    "        X.append(a)\n",
    "        Y.append(dataset[i + look_back, 0])\n",
    "    return np.array(X), np.array(Y)\n",
    "\n",
    "# シーケンスデータの作成\n",
    "look_back = 3\n",
    "X_train, Y_train = create_dataset(train, look_back)\n",
    "X_test, Y_test = create_dataset(test, look_back)\n",
    "\n",
    "# データの形状を変更（[samples, time steps, features]）\n",
    "X_train = np.reshape(X_train, (X_train.shape[0], 1, X_train.shape[1]))\n",
    "X_test = np.reshape(X_test, (X_test.shape[0], 1, X_test.shape[1]))\n",
    "\n",
    "# LSTMモデルの構築\n",
    "model = Sequential()\n",
    "model.add(LSTM(50, input_shape=(1, look_back)))\n",
    "model.add(Dense(1))\n",
    "model.compile(optimizer=Adam(learning_rate=0.01), loss='mean_squared_error')\n",
    "\n",
    "# モデルの学習\n",
    "model.fit(X_train, Y_train, epochs=100, batch_size=1, verbose=1)\n",
    "\n",
    "# 最後のデータポイントを使用して次の日の値を予測\n",
    "last_data = data_scaled[-look_back:]\n",
    "last_data = last_data.reshape(1, 1, look_back)\n",
    "predicted = model.predict(last_data)\n",
    "predicted = scaler.inverse_transform(predicted)  # 予測値を元のスケールに戻す\n",
    "\n",
    "predicted[0][0]  # 2023/6/2の予測値"
   ]
  },
  {
   "cell_type": "code",
   "execution_count": null,
   "id": "ec1cbf62-ed2c-4aa5-8122-045407b431e1",
   "metadata": {},
   "outputs": [],
   "source": [
    "# Preparing data (using first user's data only for simplicity)\n",
    "data = df_pivot.iloc[:, 0].values.reshape(-1, 1)\n",
    "\n",
    "# Data normalization\n",
    "scaler = MinMaxScaler(feature_range=(0, 1))\n",
    "data_scaled = scaler.fit_transform(data)\n",
    "\n",
    "# Splitting data into training and test sets\n",
    "train_size = int(len(data_scaled) * 0.9)\n",
    "test_size = len(data_scaled) - train_size\n",
    "train, test = data_scaled[:train_size, :], data_scaled[train_size:, :]\n",
    "\n",
    "# Function to create sequence data for LSTM input\n",
    "def create_dataset(dataset, look_back=1):\n",
    "    X, Y = [], []\n",
    "    for i in range(len(dataset) - look_back - 1):\n",
    "        a = dataset[i:(i + look_back), 0]\n",
    "        X.append(a)\n",
    "        Y.append(dataset[i + look_back, 0])\n",
    "    return np.array(X), np.array(Y)\n",
    "\n",
    "# Creating sequence data\n",
    "look_back = 3\n",
    "X_train, Y_train = create_dataset(train, look_back)\n",
    "X_test, Y_test = create_dataset(test, look_back)\n",
    "\n",
    "# Reshaping data to [samples, time steps, features]\n",
    "X_train = np.reshape(X_train, (X_train.shape[0], 1, X_train.shape[1]))\n",
    "X_test = np.reshape(X_test, (X_test.shape[0], 1, X_test.shape[1]))\n",
    "\n",
    "# Building LSTM model\n",
    "model = Sequential()\n",
    "model.add(LSTM(50, input_shape=(1, look_back)))\n",
    "model.add(Dense(1))\n",
    "model.compile(optimizer=Adam(learning_rate=0.01), loss='mean_squared_error')\n",
    "\n",
    "# Training the model\n",
    "history = model.fit(X_train, Y_train, epochs=3, batch_size=1, verbose=1)\n",
    "\n",
    "# Predicting the next value using the last data point\n",
    "last_data = data_scaled[-look_back:]\n",
    "last_data = last_data.reshape(1, 1, look_back)\n",
    "predicted = model.predict(last_data)\n",
    "predicted = scaler.inverse_transform(predicted)  # Transforming prediction to original scale\n",
    "\n",
    "# Plotting the training process\n",
    "plt.figure(figsize=(10, 5))\n",
    "plt.plot(history.history['loss'], label='Training Loss')\n",
    "plt.title('Training Process')\n",
    "plt.xlabel('Epoch')\n",
    "plt.ylabel('Mean Squared Error')\n",
    "plt.legend()\n",
    "plt.show()"
   ]
  },
  {
   "cell_type": "markdown",
   "id": "9964cae6-906f-4977-b654-af07ad51723b",
   "metadata": {
    "jp-MarkdownHeadingCollapsed": true
   },
   "source": [
    "# 以下その他"
   ]
  },
  {
   "cell_type": "code",
   "execution_count": null,
   "id": "c68b3a26",
   "metadata": {},
   "outputs": [],
   "source": [
    "from datetime import timedelta\n",
    "# 開始日と終了日を設定\n",
    "start_date = datetime(2021, 12, 1)\n",
    "end_date = datetime(2023, 6, 1)\n",
    "\n",
    "# 日付のリストを生成\n",
    "date_list = []\n",
    "current_date = start_date\n",
    "while current_date <= end_date:\n",
    "    date_list.append(current_date)\n",
    "    current_date += timedelta(days=1)"
   ]
  },
  {
   "cell_type": "code",
   "execution_count": null,
   "id": "bf2e4b4e",
   "metadata": {},
   "outputs": [],
   "source": [
    "# データフレームを結合\n",
    "merged_df = new_df.merge(existing_df, left_index=True, right_on='use_day', how='left').set_index('use_day')"
   ]
  },
  {
   "cell_type": "code",
   "execution_count": null,
   "id": "94e796c7",
   "metadata": {},
   "outputs": [],
   "source": [
    "# ToDo: 各ユーザーに対して、投入量が0の月に0を入力する。→ 学習・検証用データを.csvとしてまとめる\n",
    "\n",
    "# indexがuser_id, columnsがdate_listのデータフレームを作成\n",
    "df_amount_kg_u_day = pd.DataFrame([], columns=date_list)\n",
    "df_amount_kg_u_day"
   ]
  },
  {
   "cell_type": "code",
   "execution_count": null,
   "id": "21bb6679",
   "metadata": {},
   "outputs": [],
   "source": [
    "uid_all_p_history = df_analyzed_point_history['user_id'].unique()\n",
    "uid_all_p_history.sort()\n",
    "print(uid_all_p_history)\n",
    "for uid in uid_all_p_history[400:420]:\n",
    "    \n",
    "    plt.plot(pd.to_datetime(group_uid_umonth.loc[uid].index, format='%Y/%m'), group_uid_umonth.loc[uid], alpha=0.3)\n",
    "\n",
    "plt.xticks(rotation=90, fontsize=8)\n",
    "plt.axhline(15, c='red', linestyle='--')\n",
    "#plt.ylim([0,50])\n",
    "plt.grid(True)\n",
    "plt.show()"
   ]
  },
  {
   "cell_type": "code",
   "execution_count": null,
   "id": "75efc5ba",
   "metadata": {},
   "outputs": [],
   "source": [
    "# RPSを使ってる人のうち、アプリを使っている人と使っていない人の比較\n",
    "month_threshold = 1\n",
    "\n",
    "df_user_base_year_month_1_1 = df_user_base_year_month[(df_user_base_year_month['アプリ継続利用期間(月)'] >= month_threshold) & (df_user_base_year_month['RPS継続利用期間(月)'] >= month_threshold)]\n",
    "df_user_base_year_month_0_1 = df_user_base_year_month[(df_user_base_year_month['アプリ継続利用期間(月)'] < month_threshold) & (df_user_base_year_month['RPS継続利用期間(月)'] >= month_threshold)]\n",
    "\n",
    "#display(df_user_base_year_month_0_1.head())\n",
    "\n",
    "# RPS継続利用期間\n",
    "plt.hist(df_user_base_year_month_1_1['RPS継続利用期間(月)'], bins=30, label='Yes-Yes', alpha=0.3)\n",
    "plt.hist(df_user_base_year_month_0_1['RPS継続利用期間(月)'], bins=30, label=' No-Yes', alpha=0.3)\n",
    "\n",
    "plt.legend(bbox_to_anchor=(1.05, 1), loc='upper left', borderaxespad=0)\n",
    "plt.ylim([0,100])\n",
    "plt.show()"
   ]
  },
  {
   "cell_type": "code",
   "execution_count": null,
   "id": "a7a9fbdf",
   "metadata": {},
   "outputs": [],
   "source": [
    "# ユーザーの古紙投入の間隔ってどれくらい？"
   ]
  },
  {
   "cell_type": "markdown",
   "id": "a567bf6d-7f91-4431-b667-054d58eed697",
   "metadata": {},
   "source": [
    "#### ※df_user_baseとdf_user_basef_point_historyをマージ"
   ]
  },
  {
   "cell_type": "code",
   "execution_count": null,
   "id": "20d392cf",
   "metadata": {},
   "outputs": [],
   "source": [
    "# point_history.csvとユーザー基本情報_2023-12-21.csvをマージ\n",
    "df_merge = pd.merge(df_point_history, df_user_base, left_on='user_id', right_on='利用者ID', how='left')"
   ]
  },
  {
   "cell_type": "code",
   "execution_count": null,
   "id": "d9bfeae4",
   "metadata": {},
   "outputs": [],
   "source": [
    "df_merge"
   ]
  }
 ],
 "metadata": {
  "kernelspec": {
   "display_name": "Python 3 (ipykernel)",
   "language": "python",
   "name": "python3"
  },
  "language_info": {
   "codemirror_mode": {
    "name": "ipython",
    "version": 3
   },
   "file_extension": ".py",
   "mimetype": "text/x-python",
   "name": "python",
   "nbconvert_exporter": "python",
   "pygments_lexer": "ipython3",
   "version": "3.11.5"
  }
 },
 "nbformat": 4,
 "nbformat_minor": 5
}

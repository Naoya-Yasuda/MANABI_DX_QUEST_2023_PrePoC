{
 "cells": [
  {
   "cell_type": "markdown",
   "id": "33432be5",
   "metadata": {},
   "source": [
    "# 0. はじめに"
   ]
  },
  {
   "cell_type": "markdown",
   "id": "5f9e7d3b",
   "metadata": {},
   "source": [
    "## そもそもアプリがユーザーにどの程度効果を与えているかを知るための解析\n",
    "\n",
    "### "
   ]
  },
  {
   "cell_type": "markdown",
   "id": "f261e941",
   "metadata": {},
   "source": [
    "# 1. 準備"
   ]
  },
  {
   "cell_type": "markdown",
   "id": "a5646cc3-f07b-4503-be1b-35a5f64d84d1",
   "metadata": {},
   "source": [
    "### 1.1. 基本設定"
   ]
  },
  {
   "cell_type": "code",
   "execution_count": null,
   "id": "762cc329-373b-47e2-839e-0b5838e12554",
   "metadata": {},
   "outputs": [],
   "source": [
    "import pandas as pd\n",
    "import matplotlib.pyplot as plt\n",
    "import seaborn as sns #seabornない人はpip installしてね\n",
    "import os\n",
    "from datetime import datetime\n",
    "import numpy as np\n",
    "from pathlib import Path\n",
    "\n",
    "# カレントディレクトリを.pyと合わせるために以下を実行\n",
    "if Path.cwd().name == \"notebook\":\n",
    "    os.chdir(\"..\")\n",
    "\n",
    "# 設定\n",
    "pd.set_option('display.max_rows', 500)\n",
    "pd.set_option('display.min_rows', 500)\n",
    "pd.set_option('display.max_columns', 500)\n",
    "\n",
    "# 浮動小数点数を小数点以下3桁で表示するように設定\n",
    "pd.set_option('display.float_format', '{:.3f}'.format)"
   ]
  },
  {
   "cell_type": "code",
   "execution_count": null,
   "id": "8f82109b-f924-452e-abc3-fa3b20c4d3b0",
   "metadata": {},
   "outputs": [],
   "source": [
    "# Mac Matplotlibのデフォルトフォントをヒラギノ角ゴシックに設定\n",
    "plt.rcParams['font.family'] = 'Hiragino Sans'"
   ]
  },
  {
   "cell_type": "code",
   "execution_count": null,
   "id": "8251e4e5-10f5-4f55-bf7d-848e21d171ea",
   "metadata": {},
   "outputs": [],
   "source": [
    "# Windows MatplotlibのデフォルトフォントをMeiryoに設定\n",
    "plt.rcParams['font.family'] = 'Meiryo'"
   ]
  },
  {
   "cell_type": "markdown",
   "id": "3af1590e-8ec0-42b2-a2dd-63486506b8bc",
   "metadata": {},
   "source": [
    "### 1.2. csv読み込み"
   ]
  },
  {
   "cell_type": "code",
   "execution_count": null,
   "id": "4d9a51c9",
   "metadata": {},
   "outputs": [],
   "source": [
    "# point_history.csvの読み込み\n",
    "df_point_history_sorce = pd.read_csv('data/input/point_history_cleansing.csv')"
   ]
  },
  {
   "cell_type": "code",
   "execution_count": null,
   "id": "a8c7aad2",
   "metadata": {},
   "outputs": [],
   "source": [
    "# ユーザー基本情報の読み込み\n",
    "df_user_base_sorce = pd.read_csv(\"data/input/ユーザー基本情報_2023-12-21.csv\", encoding=\"shift-jis\")"
   ]
  },
  {
   "cell_type": "markdown",
   "id": "f7363482-2aa6-455a-a3fe-56fef7ec89e7",
   "metadata": {},
   "source": [
    "### 1.3. データクレンジング"
   ]
  },
  {
   "cell_type": "markdown",
   "id": "1df9883d-42a1-492d-89b3-ddcd9e0a1179",
   "metadata": {},
   "source": [
    "#### 1.3.1. df_user_base(ユーザ基本情報)のクレンジング"
   ]
  },
  {
   "cell_type": "code",
   "execution_count": null,
   "id": "d046f777-24e4-482d-ad0d-76edbe81d1f0",
   "metadata": {},
   "outputs": [],
   "source": [
    "# DataFrameのコピーを作成\n",
    "df_user_base = df_user_base_sorce.copy()\n",
    "\n",
    "# 紛らわしい列名を改名\n",
    "df_user_base = df_user_base.rename(columns={'登録日時': 'アプリ登録日時', '最終利用日': 'アプリ最終利用日'})\n",
    "\n",
    "# objectをdatetimeに変更\n",
    "df_user_base['アプリ登録日時'] = pd.to_datetime(df_user_base['アプリ登録日時'], errors='coerce')\n",
    "df_user_base['アプリ最終利用日'] = pd.to_datetime(df_user_base['アプリ最終利用日'], errors='coerce')\n",
    "df_user_base['birthday'] = pd.to_datetime(df_user_base['birthday'], errors='coerce')\n",
    "\n",
    "# 6歳未満(1543個)と100歳以上(12個)を削除\n",
    "df_user_base = df_user_base[ (df_user_base['birthday'] < pd.to_datetime('2017-01-01')) & (df_user_base['birthday'] > pd.to_datetime('1924-01-01'))]\n",
    "\n",
    "# df_user_baseに\"age\"と\"age_group\"のカラムを追加\n",
    "df_user_base['age'] = pd.Timestamp.now().year - df_user_base['birthday'].dt.year    # ageの算出・追加\n",
    "\n",
    "# 年代の算出・追加\n",
    "bins = [0, 20, 30, 40, 50, 60, 70, 80, 90, 100]\n",
    "labels = ['0-20', '21-30', '31-40', '41-50', '51-60', '61-70', '71-80', '81-90', '91-100']\n",
    "df_user_base['age_group'] = pd.cut(df_user_base['age'], bins=bins, labels=labels, right=False)\n",
    "\n",
    "# 今回使用しない可能性が高いカラムは削除\n",
    "df_user_base = df_user_base.drop(['登録日', 'カード種類', 'スーパー', '都道府県', '市区町村', '登録店舗', 'カード登録日', 'カード更新日', 'birthday'], axis=1)\n",
    "df_user_base = df_user_base.drop_duplicates(subset='利用者ID', keep='first')\n",
    "df_user_base = df_user_base.sort_values(by='アプリ登録日時')\n",
    "df_user_base.head()\n",
    "# len(df_user_base)"
   ]
  },
  {
   "cell_type": "markdown",
   "id": "c9cd6468-24fd-4fdc-bd0b-bedf6ec72c46",
   "metadata": {},
   "source": [
    "#### 1.3.2. df_point_history(point_history.csv)のクレンジング"
   ]
  },
  {
   "cell_type": "code",
   "execution_count": null,
   "id": "c0171db7-b27e-4c02-839b-83c0d8c16cbb",
   "metadata": {},
   "outputs": [],
   "source": [
    "# DataFrameのコピーを作成\n",
    "df_point_history = df_point_history_sorce.copy()\n",
    "\n",
    "# objectをdatetimeに変更\n",
    "df_point_history['use_date'] = pd.to_datetime(df_point_history['use_date'], errors='coerce')\n",
    "\n",
    "# 今回使用しない可能性が高いカラムは削除\n",
    "df_point_history = df_point_history.drop([\n",
    "    'Unnamed: 0',\n",
    "    'id',\n",
    "    'series_id',\n",
    "    'shop_id',\n",
    "    'shop_name',\n",
    "    'card_id',\n",
    "    'リサイクル分類ID',\n",
    "    'amount',\n",
    "    'created_at',\n",
    "    'updated_at',\n",
    "    '支店ID',\n",
    "    'super',\n",
    "    'shop_name_1',\n",
    "    'shop_id_1',\n",
    "    'updated_at_1',\n",
    "    'store_opening_time',\n",
    "    'store_closing_time',\n",
    "    'created_at_1',\n",
    "    'rps_opening_time',\n",
    "    'rps_closing_time',\n",
    "    'store_latitude',\n",
    "    'store_longitude',\n",
    "    'total_amount',], axis=1)\n",
    "df_point_history = df_point_history.sort_values(by='use_date')\n",
    "df_point_history.head(1)"
   ]
  },
  {
   "cell_type": "code",
   "execution_count": null,
   "id": "c8dd43cb",
   "metadata": {},
   "outputs": [],
   "source": [
    "#df_point_history[df_point_history['user_id']==1138]"
   ]
  },
  {
   "cell_type": "markdown",
   "id": "1e72f35c-b01a-40a2-9a6f-9d5738e98365",
   "metadata": {},
   "source": [
    "#### 1.3.3. 分析に必要なカラムの作成"
   ]
  },
  {
   "cell_type": "markdown",
   "id": "bdcbecb5-d4ab-480b-b00a-31e2866e809a",
   "metadata": {},
   "source": [
    "アプリ継続利用期間（アプリ最終利用日-アプリ登録日時）"
   ]
  },
  {
   "cell_type": "code",
   "execution_count": null,
   "id": "3ee60520-afc6-44c0-b39a-8cd5ae6d5067",
   "metadata": {},
   "outputs": [],
   "source": [
    "# 継続利用期間を計算\n",
    "df_user_base['アプリ継続利用期間(月)'] = (df_user_base['アプリ最終利用日'] - df_user_base['アプリ登録日時']).dt.days / 30  # 月単位で計算\n",
    "df_user_base = df_user_base[df_user_base['アプリ継続利用期間(月)'] >= 0]\n",
    "df_user_base.head()\n",
    "# len(df_user_base[df_user_base['継続利用期間(月)'] == 0])"
   ]
  },
  {
   "cell_type": "markdown",
   "id": "60eba03c",
   "metadata": {},
   "source": [
    "継続利用期間（point_historyのuse_date列からRPS最終利用日を抽出したver.）　231228 norosen"
   ]
  },
  {
   "cell_type": "code",
   "execution_count": null,
   "id": "097b28c1",
   "metadata": {},
   "outputs": [],
   "source": [
    "## 実行に10分ほどかかります。。\n",
    "# 利用者id を抽出\n",
    "user_id_all = df_user_base['利用者ID'].values\n",
    "\n",
    "# 各利用者id に対して「RPS利用開始日」「RPS最終利用日」を抽出\n",
    "first_use_RPS = []\n",
    "last_use_RPS = []\n",
    "\n",
    "for uid in user_id_all:\n",
    "\n",
    "    df_one_user = df_point_history[df_point_history['user_id']==uid]\n",
    "    \n",
    "    if len(df_one_user) != 0:\n",
    "\n",
    "        first_use_RPS.append(df_one_user['use_date'].iloc[0])\n",
    "        \n",
    "        last_use_RPS.append(df_one_user['use_date'].iloc[-1])\n",
    "        \n",
    "    else:\n",
    "\n",
    "        first_use_RPS.append('NaT')\n",
    "        \n",
    "        last_use_RPS.append('NaT')"
   ]
  },
  {
   "cell_type": "code",
   "execution_count": null,
   "id": "b10f2780",
   "metadata": {},
   "outputs": [],
   "source": [
    "# 「RPS利用開始日」「RPS最終利用日」カラムを作成\n",
    "df_user_base['RPS利用開始日'] = first_use_RPS\n",
    "df_user_base['RPS最終利用日'] = last_use_RPS\n",
    "\n",
    "df_user_base['RPS利用開始日'] = pd.to_datetime(df_user_base['RPS利用開始日'], errors='coerce')\n",
    "df_user_base['RPS最終利用日'] = pd.to_datetime(df_user_base['RPS最終利用日'], errors='coerce')\n",
    "df_user_base.head()"
   ]
  },
  {
   "cell_type": "code",
   "execution_count": null,
   "id": "742e3833",
   "metadata": {},
   "outputs": [],
   "source": [
    "# RPS継続利用期間を計算\n",
    "df_user_base['RPS継続利用期間(月)'] = (df_user_base['RPS最終利用日'] - df_user_base['RPS利用開始日']).dt.days / 30  # 月単位で計算\n",
    "df_user_base = df_user_base[df_user_base['RPS継続利用期間(月)'] >= 0]\n",
    "df_user_base.head()"
   ]
  },
  {
   "cell_type": "code",
   "execution_count": null,
   "id": "75e24d9a",
   "metadata": {},
   "outputs": [],
   "source": [
    "# 列の順番を分かりやすいように入れ替える\n",
    "order_df_user_base = ['利用者ID', 'カード登録', '現在ランク', 'age', 'age_group',\n",
    "                      'アプリ登録日時', 'アプリ最終利用日', 'アプリ継続利用期間(月)',                   \n",
    "                      'RPS利用開始日', 'RPS最終利用日', 'RPS継続利用期間(月)']\n",
    "\n",
    "df_user_base = df_user_base[order_df_user_base]"
   ]
  },
  {
   "cell_type": "code",
   "execution_count": null,
   "id": "ecb644e0",
   "metadata": {},
   "outputs": [],
   "source": [
    "# RPS列追加に10分くらいかかるので、できあがったものをcsvとして出力しておく\n",
    "df_user_base.to_csv(\"data/input/ユーザー基本情報_2023-12-21_RPS利用日追加.csv\", encoding='shift-jis')"
   ]
  },
  {
   "cell_type": "code",
   "execution_count": null,
   "id": "f3ecdab2",
   "metadata": {},
   "outputs": [],
   "source": [
    "n=9150\n",
    "display(df_user_base[df_user_base['利用者ID']==n])\n",
    "print((df_user_base[df_user_base['利用者ID']==n]['アプリ登録日時'] - df_user_base[df_user_base['利用者ID']==n]['RPS利用開始日']).dt.days)\n",
    "\n",
    "display(df_point_history[df_point_history['user_id']==n])\n",
    "\n",
    "#df_test = df_point_history[df_point_history['user_id']==n]\n",
    "#plt.plot(df_test['use_date'], df_test['amount_kg'])\n",
    "#plt.xticks\n",
    "#plt.show()"
   ]
  },
  {
   "cell_type": "code",
   "execution_count": null,
   "id": "43cc2afd",
   "metadata": {},
   "outputs": [],
   "source": [
    "# アプリ登録年月ごとに集計\n",
    "df_user_base['アプリ登録年月'] = df_user_base['アプリ登録日時'].dt.strftime(\"%Y/%m\")\n",
    "\n",
    "n_users_registered = df_user_base['アプリ登録年月'].value_counts().sort_index()\n",
    "plt.plot(n_users_registered)\n",
    "\n",
    "plt.title('月ごとのアプリ登録者数')\n",
    "plt.xticks(rotation=90, fontsize=8)\n",
    "plt.ylabel('アプリ登録者数')\n",
    "plt.grid(True)\n",
    "plt.show()"
   ]
  },
  {
   "cell_type": "code",
   "execution_count": null,
   "id": "5cc83e4c",
   "metadata": {},
   "outputs": [],
   "source": [
    "# 累積データの計算\n",
    "cumulative_data = np.cumsum(df_user_base['アプリ登録年月'].value_counts().sort_index().values)\n",
    "\n",
    "plt.plot(df_user_base['アプリ登録年月'].value_counts().sort_index().index, cumulative_data)\n",
    "\n",
    "plt.title('月ごとのアプリ登録者数（累積）')\n",
    "plt.xticks(rotation=90, fontsize=8)\n",
    "plt.ylabel('アプリ登録者数')\n",
    "plt.grid(True)\n",
    "plt.show()"
   ]
  },
  {
   "cell_type": "code",
   "execution_count": null,
   "id": "90e1e0cc",
   "metadata": {},
   "outputs": [],
   "source": [
    "# RPS開始日を年月ごとに集計\n",
    "df_user_base['RPS開始年月'] = df_user_base['RPS利用開始日'].dt.strftime(\"%Y/%m\")\n",
    "\n",
    "n_users_registered = df_user_base['RPS開始年月'].value_counts().sort_index()\n",
    "plt.plot(n_users_registered)\n",
    "plt.xticks(rotation=90, fontsize=8)\n",
    "plt.grid(True)\n",
    "plt.show()"
   ]
  },
  {
   "cell_type": "code",
   "execution_count": null,
   "id": "295fb134",
   "metadata": {},
   "outputs": [],
   "source": [
    "# アプリを継続利用した「Yes, No」、RPSを継続利用した「Yes, No」の4通りの割合を算出する関数\n",
    "# Matrixとして可視化\n",
    "# Threshold : 月を入力\n",
    "\n",
    "def matrix_usage(df_user_base_ym, month_threshold):\n",
    "    '''\n",
    "    アプリを継続利用した「Yes, No」、RPSを継続利用した「Yes, No」の4通りの割合を算出する関数\n",
    "    \n",
    "    Params\n",
    "    ------\n",
    "    df_user_base_ym : y年m月にぐるっとポンに登録したユーザー\n",
    "    month_threshold : 継続利用したとみなすための閾値（単位：月）\n",
    "    \n",
    "    Return\n",
    "    ------\n",
    "    [n_1_1, n_0_1, n_1_0, n_0_0] : 割合の算出結果\n",
    "    \n",
    "    '''\n",
    "\n",
    "    df_user_base_ym_1_1 = df_user_base_ym[(df_user_base_ym['アプリ継続利用期間(月)'] >= month_threshold) & (df_user_base_ym['RPS継続利用期間(月)'] >= month_threshold)]\n",
    "    df_user_base_ym_0_1 = df_user_base_ym[(df_user_base_ym['アプリ継続利用期間(月)'] < month_threshold) & (df_user_base_ym['RPS継続利用期間(月)'] >= month_threshold)]\n",
    "    df_user_base_ym_1_0 = df_user_base_ym[(df_user_base_ym['アプリ継続利用期間(月)'] >= month_threshold) & (df_user_base_ym['RPS継続利用期間(月)'] < month_threshold)]\n",
    "    df_user_base_ym_0_0 = df_user_base_ym[(df_user_base_ym['アプリ継続利用期間(月)'] < month_threshold) & (df_user_base_ym['RPS継続利用期間(月)'] < month_threshold)]\n",
    "\n",
    "\n",
    "    n_1_1 = len(df_user_base_ym_1_1) / len(df_user_base_ym)\n",
    "    n_0_1 = len(df_user_base_ym_0_1) / len(df_user_base_ym)\n",
    "    n_1_0 = len(df_user_base_ym_1_0) / len(df_user_base_ym)\n",
    "    n_0_0 = len(df_user_base_ym_0_0) / len(df_user_base_ym)\n",
    "\n",
    "    mat_columns = ['アプリを' + str(month_threshold) + 'か月以上継続利用', 'アプリを' + str(month_threshold) + 'か月以内に利用終了']\n",
    "    mat_index = ['RPSを' + str(month_threshold) + 'か月以上継続利用', 'RPSを' + str(month_threshold) + 'か月以内に利用終了']\n",
    "    mat_usage = pd.DataFrame([[n_1_1, n_0_1], [n_1_0, n_0_0]], columns=mat_columns, index=mat_index)\n",
    "\n",
    "    #display(mat_usage)\n",
    "    \n",
    "    return [n_1_1, n_0_1, n_1_0, n_0_0]\n"
   ]
  },
  {
   "cell_type": "code",
   "execution_count": null,
   "id": "23166375",
   "metadata": {},
   "outputs": [],
   "source": [
    "# 2021年12月にアプリを登録したユーザーに絞って解析\n",
    "year_month = datetime(2021,12,1).strftime(\"%Y/%m\")\n",
    "\n",
    "df_user_base_year_month = df_user_base[df_user_base['アプリ登録年月']==year_month]\n",
    "\n",
    "# RPSの開始日の方が先のユーザーは別で解析するので分ける\n",
    "df_user_base_year_month_app_derived = df_user_base_year_month[(df_user_base['アプリ登録日時'] - df_user_base_year_month['RPS利用開始日']).dt.days <0]  # 240107修正: >=0 から <0 に\n",
    "df_user_base_year_month_RPS_derived = df_user_base_year_month[(df_user_base['アプリ登録日時'] - df_user_base_year_month['RPS利用開始日']).dt.days >=0]   # 240107修正: <0 から >=0 に"
   ]
  },
  {
   "cell_type": "code",
   "execution_count": null,
   "id": "a0570a3f",
   "metadata": {},
   "outputs": [],
   "source": [
    "print(len(df_user_base_year_month_app_derived))\n",
    "print(len(df_user_base_year_month_RPS_derived))"
   ]
  },
  {
   "cell_type": "code",
   "execution_count": null,
   "id": "806f7559",
   "metadata": {},
   "outputs": [],
   "source": [
    "# アプリ、RPSの継続利用期間を比較\n",
    "df_analyzed = df_user_base_year_month_app_derived.copy()  # .copy（）は必ずつけること\n",
    "\n",
    "bins_duration = np.arange(27)\n",
    "plt.hist(df_analyzed['アプリ継続利用期間(月)'], bins=bins_duration, label='アプリ', alpha=0.7)\n",
    "plt.hist(df_analyzed['RPS継続利用期間(月)'], bins=bins_duration, label=' RPS', alpha=0.7)\n",
    "\n",
    "plt.title('アプリ、RPSの継続利用期間\\n（' + year_month + 'にアプリを登録したユーザー）')\n",
    "plt.xlabel('継続利用期間（月）')\n",
    "plt.ylabel('Counts')\n",
    "plt.legend(bbox_to_anchor=(1.05, 1), loc='upper left', borderaxespad=0)\n",
    "#plt.ylim([0,100])\n",
    "plt.show()"
   ]
  },
  {
   "cell_type": "markdown",
   "id": "f1b33f90",
   "metadata": {},
   "source": [
    "・継続利用期間は「始めてから何か月で利用を辞めたか」と言い換えられる  \n",
    "\n",
    "比較  \n",
    "・対照的なヒストグラム  \n",
    "・アプリは最初に辞める人が多いのに対して、RPSは継続利用する人が多い。中盤（5~20か月）は同じような値。\n",
    " \n",
    "\n",
    "考察  \n",
    "・極端な話ぐるっとポンが無くても皆継続利用してくれる  \n",
    "・ユーザーにとって、現状ぐるっとポンは利用し始めるための障壁が高い？  \n",
    "・ぐるっとポンのインストールを目的としたキャンペーンの実施によって、新規RPS利用者を獲得。その後はぐるっとポンを使用せずRPSだけを継続利用してる層がマジョリティー？"
   ]
  },
  {
   "cell_type": "code",
   "execution_count": null,
   "id": "964f3c5e",
   "metadata": {},
   "outputs": [],
   "source": [
    "# アプリ利用、RPS利用の推移を可視化\n",
    "df_analyzed = df_user_base_year_month_app_derived.copy()  # .copy（）は必ずつけること\n",
    "\n",
    "month_thre_all = [0.03, 3, 6, 12, 18, 22]\n",
    "dict_mat_usage = {}\n",
    "\n",
    "for m_thre in month_thre_all:\n",
    "    \n",
    "    dict_mat_usage[m_thre] = matrix_usage(df_analyzed, m_thre)\n",
    "    \n",
    "    \n",
    "# 積み上げ棒グラフの描画\n",
    "bottom = np.zeros(len(month_thre_all))\n",
    "\n",
    "label_usage = ['アプリ:Yes, RPS:Yes', 'アプリ:No,  RPS:Yes',\n",
    "               'アプリ:Yes, RPS:No', 'アプリ:No,  RPS:No']\n",
    "\n",
    "for i, l_usage in enumerate(label_usage):\n",
    "        \n",
    "    values = [dict_mat_usage[m_thre][i] for m_thre in month_thre_all]\n",
    "    \n",
    "    plt.bar(month_thre_all, values, bottom=bottom, label=l_usage, width=1, zorder=i+2)\n",
    "\n",
    "    bottom += values\n",
    "    \n",
    "   # 各棒の上にテキストを追加\n",
    "for m_thre in month_thre_all:\n",
    "\n",
    "    plt.text(m_thre, 1.0, str(m_thre), ha='center', va='bottom', c='green')\n",
    "\n",
    "# 凡例を表示\n",
    "plt.legend(bbox_to_anchor=(1.05, 1), loc='upper left', borderaxespad=0)\n",
    "\n",
    "# グラフのタイトルと軸ラベルを設定\n",
    "plt.title('アプリ利用 & RPS利用の推移\\n（' + year_month + 'にアプリを登録したユーザー）')\n",
    "plt.xlabel(\"月（month）\", c='green')\n",
    "plt.ylabel(\"割合\")\n",
    "plt.ylim([0, 1.1])\n",
    "plt.grid(True, axis='y', zorder=1, alpha=0.3)\n",
    "\n",
    "plt.show()"
   ]
  },
  {
   "cell_type": "markdown",
   "id": "36971143",
   "metadata": {},
   "source": [
    "# 240107 古紙投入量予測AI\n",
    "### LSTM or Transformer を用いてモデル構築\n",
    "### データ：2021/12 にアプリを登録し、RPSを使い始めたユーザー 約3000人\n",
    "\n",
    "\n",
    "### 1. AI構築の前段階として、以下の項目についてチェック\n",
    "・month vs. 古紙投入量/月 をプロットし、全体を可視化モデル分ける必要ありそうかを判断  \n",
    "\n",
    "### 2. モデル学習：半年くらいまでのデータを入力し、次の月の古紙投入量を出力とする（暫定）\n",
    "・データは2021/12から2023/5（18か月後）までを扱う"
   ]
  },
  {
   "cell_type": "code",
   "execution_count": null,
   "id": "9dc0c461",
   "metadata": {},
   "outputs": [],
   "source": [
    "# 利用者id を抽出\n",
    "user_id_analyzed = df_analyzed_user_base['利用者ID'].values\n",
    "\n",
    "# 抽出した利用者idに対応したuser_idの行だけ抽出\n",
    "df_analyzed_point_history = df_point_history[df_point_history['user_id'].isin(user_id_analyzed)]\n",
    "df_analyzed_point_history = df_analyzed_point_history[df_analyzed_point_history['status']==1]\n",
    "df_analyzed_point_history['use_month'] = df_analyzed_point_history['use_date'].dt.strftime(\"%Y/%m/\")"
   ]
  },
  {
   "cell_type": "code",
   "execution_count": null,
   "id": "1084438b",
   "metadata": {},
   "outputs": [],
   "source": [
    "display(df_analyzed_point_history.tail())"
   ]
  },
  {
   "cell_type": "code",
   "execution_count": null,
   "id": "28d73918",
   "metadata": {},
   "outputs": [],
   "source": [
    "# ユーザーごとに各月の古紙投入量を算出・集計\n",
    "group_uid_umonth = df_analyzed_point_history.groupby(['user_id', 'use_month'])['amount_kg'].mean()\n",
    "group_uid_umonth"
   ]
  },
  {
   "cell_type": "code",
   "execution_count": null,
   "id": "94e796c7",
   "metadata": {},
   "outputs": [],
   "source": [
    "# ToDo: 各ユーザーに対して、投入量が0の月に0を入力する。→ 学習・検証用データを.csvとしてまとめる"
   ]
  },
  {
   "cell_type": "code",
   "execution_count": null,
   "id": "21bb6679",
   "metadata": {},
   "outputs": [],
   "source": [
    "uid_all_p_history = df_analyzed_point_history['user_id'].unique()\n",
    "uid_all_p_history.sort()\n",
    "print(uid_all_p_history)\n",
    "for uid in uid_all_p_history[400:420]:\n",
    "    \n",
    "    plt.plot(pd.to_datetime(group_uid_umonth.loc[uid].index, format='%Y/%m'), group_uid_umonth.loc[uid], alpha=0.3)\n",
    "\n",
    "plt.xticks(rotation=90, fontsize=8)\n",
    "plt.axhline(15, c='red', linestyle='--')\n",
    "#plt.ylim([0,50])\n",
    "plt.grid(True)\n",
    "plt.show()"
   ]
  },
  {
   "cell_type": "code",
   "execution_count": null,
   "id": "75efc5ba",
   "metadata": {},
   "outputs": [],
   "source": [
    "# RPSを使ってる人のうち、アプリを使っている人と使っていない人の比較\n",
    "month_threshold = 1\n",
    "\n",
    "df_user_base_year_month_1_1 = df_user_base_year_month[(df_user_base_year_month['アプリ継続利用期間(月)'] >= month_threshold) & (df_user_base_year_month['RPS継続利用期間(月)'] >= month_threshold)]\n",
    "df_user_base_year_month_0_1 = df_user_base_year_month[(df_user_base_year_month['アプリ継続利用期間(月)'] < month_threshold) & (df_user_base_year_month['RPS継続利用期間(月)'] >= month_threshold)]\n",
    "\n",
    "#display(df_user_base_year_month_0_1.head())\n",
    "\n",
    "# RPS継続利用期間\n",
    "plt.hist(df_user_base_year_month_1_1['RPS継続利用期間(月)'], bins=30, label='Yes-Yes', alpha=0.3)\n",
    "plt.hist(df_user_base_year_month_0_1['RPS継続利用期間(月)'], bins=30, label=' No-Yes', alpha=0.3)\n",
    "\n",
    "plt.legend(bbox_to_anchor=(1.05, 1), loc='upper left', borderaxespad=0)\n",
    "plt.ylim([0,100])\n",
    "plt.show()"
   ]
  },
  {
   "cell_type": "code",
   "execution_count": null,
   "id": "a7a9fbdf",
   "metadata": {},
   "outputs": [],
   "source": [
    "# ユーザーの古紙投入の間隔ってどれくらい？"
   ]
  },
  {
   "cell_type": "markdown",
   "id": "a567bf6d-7f91-4431-b667-054d58eed697",
   "metadata": {},
   "source": [
    "#### ※df_user_baseとdf_user_basef_point_historyをマージ"
   ]
  },
  {
   "cell_type": "code",
   "execution_count": null,
   "id": "20d392cf",
   "metadata": {},
   "outputs": [],
   "source": [
    "# point_history.csvとユーザー基本情報_2023-12-21.csvをマージ\n",
    "df_merge = pd.merge(df_point_history, df_user_base, left_on='user_id', right_on='利用者ID', how='left')"
   ]
  },
  {
   "cell_type": "code",
   "execution_count": null,
   "id": "d9bfeae4",
   "metadata": {},
   "outputs": [],
   "source": [
    "df_merge"
   ]
  },
  {
   "cell_type": "markdown",
   "id": "bfb61235",
   "metadata": {},
   "source": [
    "# 2. 分析"
   ]
  },
  {
   "cell_type": "markdown",
   "id": "c868eb05",
   "metadata": {},
   "source": [
    "# 分析1\n",
    " 【ランクごとの継続利用期間（最終更新日-利用開始日）の比較】   \n",
    " ＜目的＞15kg/月以上出し続ける能力がある人の方が、ない人より継続利用期間が長いことを証明<br>\n",
    "　＜方法＞シルバー以上の人と、ブロンズの人の継続利用期間の比較（中央値）<br>\n",
    "\n",
    " ＜結果＞ランクが上がるにつれて、中央値は上昇傾向  \n",
    " ＜懸念＞データが怪しい。特に継続利用期間の最少が間違っていそう（ゴールドとか）<br>\n",
    "     　　　　→クレンジングの再見直し"
   ]
  },
  {
   "cell_type": "code",
   "execution_count": null,
   "id": "a7a1c6ce-f598-4b3f-a948-35c7238386c3",
   "metadata": {},
   "outputs": [],
   "source": [
    "# ボックスプロットでランク別に継続利用期間を表示\n",
    "sns.boxplot(x='現在ランク', y='継続利用期間(月)', data=df_user_base, order=['ブロンズ', 'シルバー', 'ゴールド', 'プラチナ'])\n",
    "plt.xlabel('現在ランク')\n",
    "plt.ylabel('継続利用期間(月)')\n",
    "plt.title('ランク別継続利用期間の比較')\n",
    "plt.show()\n"
   ]
  },
  {
   "cell_type": "code",
   "execution_count": null,
   "id": "7411d2cb-3e97-4a80-b98a-0b0075981bdb",
   "metadata": {},
   "outputs": [],
   "source": [
    "for rank in ['ブロンズ', 'シルバー', 'ゴールド', 'プラチナ']:\n",
    "    median_duration = df_merge_rank_positive[df_merge_rank_positive['現在ランク'] == rank]['継続利用期間'].median()\n",
    "    print(f\"{rank}ランクの継続利用期間の中央値: {median_duration}ヶ月\")"
   ]
  },
  {
   "cell_type": "code",
   "execution_count": null,
   "id": "cdc1a627-66dd-4cfe-b2c0-900d124dedbd",
   "metadata": {},
   "outputs": [],
   "source": [
    "# ヒストグラムで分布を表示\n",
    "plt.figure(figsize=(10, 6))\n",
    "sns.histplot(df_merge_rank_positive, x='継続利用期間', hue='現在ランク', element='step', stat='density', common_norm=False)\n",
    "plt.xlabel('継続利用期間（月）')\n",
    "plt.ylabel('密度')\n",
    "plt.title('シルバーとゴールドランクの継続利用期間の分布')\n",
    "plt.show()\n",
    "\n",
    "# KDEプロットで分布を表示\n",
    "plt.figure(figsize=(10, 6))\n",
    "sns.kdeplot(data=df_merge_rank_positive, x='継続利用期間', hue='現在ランク', common_norm=False)\n",
    "plt.xlabel('継続利用期間（月）')\n",
    "plt.ylabel('密度')\n",
    "plt.title('シルバーとゴールドランクの継続利用期間の分布（KDE）')\n",
    "plt.show()"
   ]
  },
  {
   "cell_type": "markdown",
   "id": "a95f5248",
   "metadata": {},
   "source": [
    "# 分析4：年代別のrankの割合\n",
    "\n",
    "## rankはどの時点のものにする？\n",
    "## 棒グラフで可視化"
   ]
  },
  {
   "cell_type": "code",
   "execution_count": null,
   "id": "73093211",
   "metadata": {},
   "outputs": [],
   "source": []
  },
  {
   "cell_type": "markdown",
   "id": "61dc7593",
   "metadata": {},
   "source": [
    "# (参考) visualization_point_history.ipynb の分析"
   ]
  },
  {
   "cell_type": "markdown",
   "id": "413e0370",
   "metadata": {},
   "source": [
    "## 2-1. rankごとの平均年間持込量kgの算出"
   ]
  },
  {
   "cell_type": "markdown",
   "id": "af4d25b4",
   "metadata": {},
   "source": [
    "・rank_id毎のrecycle_amount_per_year平均の算出  \n",
    "・rankが高いほど、年間持ち込み量が多いという仮説を証明する(当然？)  \n",
    "・rank_idは、0:ブロンズ、1:シルバー、2:ゴールド、3:プラチナ  \n",
    "・1か月に15kg持ち込み続けるとランクUP。ランクダウンは不明(1か月15kgを達成しないとダウン説、、？)  \n",
    "※以下の手順を踏むと「rank毎の1回の持ち込み量平均」になってしまうので注意  \n",
    "　　① amount_kgは1回の持ち込み量。これをrank_id毎にsumする  \n",
    "　　② rank_idそれぞれの出現回数をsumする  \n",
    "　　③ ①を②で割る  "
   ]
  },
  {
   "cell_type": "code",
   "execution_count": null,
   "id": "62a1f66c",
   "metadata": {},
   "outputs": [],
   "source": [
    "# まずそれぞれのカラムの基本統計量を確認しておく\n",
    "print('recycle_amount_per_year')\n",
    "print(df_merge['recycle_amount_per_year'].describe())\n",
    "print('------------------')\n",
    "print('rank_id')\n",
    "print(df_merge['rank_id'].describe())\n",
    "print('------------------')\n",
    "print('rank_idのユニーク')\n",
    "print(df_merge['rank_id'].unique())"
   ]
  },
  {
   "cell_type": "markdown",
   "id": "73605f81",
   "metadata": {},
   "source": [
    "※rankは3（プラチナ）が不在な点に注意"
   ]
  },
  {
   "cell_type": "code",
   "execution_count": null,
   "id": "07439718",
   "metadata": {},
   "outputs": [],
   "source": [
    "# user_idの重複行を削除（非効率だと思いつつ、、、）\n",
    "df_merge_duplicates_user_id = df_merge.drop_duplicates(subset='user_id')\n",
    "\n",
    "ランク毎の持ち込みamountの平均 = df_merge.groupby('rank_id')['recycle_amount_per_year'].mean()\n",
    "ランク毎の持ち込みamountの平均"
   ]
  },
  {
   "cell_type": "markdown",
   "id": "394a00af",
   "metadata": {},
   "source": [
    "### 得られた示唆"
   ]
  },
  {
   "cell_type": "markdown",
   "id": "d5434406",
   "metadata": {},
   "source": [
    "・ランクが高いほど、平均年間持ち込み量は多い  \n",
    "　→「持ち込み量が多いから、ランクが上がった」という解釈の方が正しい？  \n",
    " ・rankのカラムのみ、user_infoに紐づけておくと、user_infoの情報量が増えてよいかも\n"
   ]
  },
  {
   "cell_type": "markdown",
   "id": "078896f5",
   "metadata": {},
   "source": [
    "## 2-2. ユーザ個人に着目して指針を得る "
   ]
  },
  {
   "cell_type": "markdown",
   "id": "c32fb37e",
   "metadata": {},
   "source": [
    "### 2-2-1. トップユーザのamount_kg推移"
   ]
  },
  {
   "cell_type": "markdown",
   "id": "eb779162",
   "metadata": {},
   "source": [
    "・point、coin、rankが、ユーザの持ち込み量に影響を与えているのか確認  \n",
    "・rankを維持したい人\n"
   ]
  },
  {
   "cell_type": "code",
   "execution_count": null,
   "id": "874a1103",
   "metadata": {},
   "outputs": [],
   "source": [
    "# 'user_id'の各値の出現回数を計算\n",
    "user_id_counts = df_merge['user_id'].value_counts().reset_index()\n",
    "user_id_counts.columns = ['user_id', 'count']\n",
    "\n",
    "# 元のDataFrameにcountをマージ\n",
    "df_merge = df_merge.merge(user_id_counts, on='user_id')\n",
    "\n",
    "# 出現回数に基づいてソート（降順）\n",
    "df_merge = df_merge.sort_values(by='count', ascending=False)"
   ]
  },
  {
   "cell_type": "code",
   "execution_count": null,
   "id": "2112fc12",
   "metadata": {},
   "outputs": [],
   "source": [
    "# 重複を削除して、上位100名のcountをtableで俯瞰する\n",
    "df_merged_duplicates_user_id = df_merge.drop_duplicates(subset='user_id')\n",
    "top_100 = df_merged_duplicates_user_id.head(100)\n",
    "top_100"
   ]
  },
  {
   "cell_type": "code",
   "execution_count": null,
   "id": "87aa1b09",
   "metadata": {},
   "outputs": [],
   "source": [
    "# top_100の年代別人数を表示\n",
    "sns.histplot(data=top_100, x='age_group')\n",
    "\n",
    "plt.title('Age Band Distribution')\n",
    "plt.xlabel('Age Band')\n",
    "plt.ylabel('Frequency')\n",
    "\n",
    "plt.show()"
   ]
  },
  {
   "cell_type": "code",
   "execution_count": null,
   "id": "de1273eb",
   "metadata": {},
   "outputs": [],
   "source": [
    "# 特定の人のamount_kgの推移を確認\n",
    "# 特定の人のデータのみ抽出\n",
    "target_user_id = 1152\n",
    "df_merge_target = df_merge[df_merge['user_id'] == target_user_id]\n",
    "df_merge_target = df_merge_target.sort_values(by='use_date', ascending=True)\n",
    "\n",
    "df_merge_target['use_date'] = pd.to_datetime(df_merge_target['use_date'])\n",
    "\n",
    "# use_dateを月ごとに集約（データ数が多すぎて折れ線グラフが見づらい）\n",
    "df_merge_target_monthly= df_merge_target[['use_date', 'amount_kg']].resample('M', on='use_date').sum()\n",
    "\n",
    "display(df_merge_target_monthly)\n",
    "\n",
    "# 集約されたデータで折れ線グラフを作成\n",
    "plt.figure(figsize=(10, 6))\n",
    "plt.plot(df_merge_target_monthly.index, df_merge_target_monthly['amount_kg'], marker='o')\n",
    "plt.title('Monthly Average of Amount (kg)')\n",
    "plt.xlabel('Month')\n",
    "plt.ylabel('Average Amount (kg)')\n",
    "\n",
    "# データをすべて使って折れ線グラフを作成\n",
    "plt.figure(figsize=(10, 6))\n",
    "plt.plot(df_merge_target_monthly['use_date'], df_merge_target_monthly['rank_id'], marker='o')\n",
    "plt.title('rank')\n",
    "plt.xlabel('date')\n",
    "plt.ylabel('rank')\n",
    "plt.show()\n",
    "\n",
    "# coinが付与され始めた時期のデータを表示\n",
    "filtered_df  = df_merge_target[df_merge_target['coin'] > 0]\n",
    "filtered_df.head()\n"
   ]
  },
  {
   "cell_type": "markdown",
   "id": "931e642e",
   "metadata": {},
   "source": [
    "### まとめ"
   ]
  },
  {
   "cell_type": "markdown",
   "id": "e6253d11",
   "metadata": {},
   "source": [
    "・15kgを達成しても、すぐにランクが上がらない矛盾あり  \n",
    "・15kgを未達でもすぐにランクが下がらない矛盾あり  \n",
    "・アプリを利用していなくても履歴は残る。アプリを利用しているか否かは'coin'(付与コイン)で判断する  "
   ]
  },
  {
   "cell_type": "markdown",
   "id": "73e8e293",
   "metadata": {},
   "source": [
    "## 2-3. rankシステムの効果測定"
   ]
  },
  {
   "cell_type": "markdown",
   "id": "009fe398",
   "metadata": {},
   "source": [
    "・rank_idのレコード"
   ]
  },
  {
   "cell_type": "code",
   "execution_count": null,
   "id": "2332067e",
   "metadata": {},
   "outputs": [],
   "source": [
    "# TODO: amount_kgの平均を出してしまっているので、user　rank_idごとのamount_kgの合計を出さないといけない？？\n",
    "# Calculate the average recycling amount for each user and each rank\n",
    "avg_amount_per_user_rank = df_merge.groupby(['user_id', 'rank_id'])['amount_kg'].mean().reset_index()\n",
    "# avg_amount_per_user_rank = df_merge.groupby(['user_id', 'rank_id'])['amount_kg'].sum().reset_index()\n",
    "\n",
    "# To compare the average recycling amount of different ranks for each user, we need to pivot the data\n",
    "pivot_table = avg_amount_per_user_rank.pivot(index='user_id', columns='rank_id', values='amount_kg')\n",
    "\n",
    "# Calculate the difference between each rank's average recycling amount for each user\n",
    "# For simplicity, we'll calculate the difference between consecutive ranks (rank N and rank N-1)\n",
    "rank_differences = pivot_table.diff(axis=1)"
   ]
  },
  {
   "cell_type": "code",
   "execution_count": null,
   "id": "4b66c00c-a280-4a2f-932c-cc7e1f93e201",
   "metadata": {},
   "outputs": [],
   "source": [
    "rank_differences.head(100)"
   ]
  },
  {
   "cell_type": "markdown",
   "id": "5a4a9065-eeeb-4f80-ac15-0e270ddf8c80",
   "metadata": {},
   "source": [
    "### 1,2,3ごとの平均値を出してみる"
   ]
  },
  {
   "cell_type": "code",
   "execution_count": null,
   "id": "16554741-6287-4c2a-b551-dce998e69efd",
   "metadata": {},
   "outputs": [],
   "source": [
    "average_difference_rank = rank_differences.mean(skipna=True)\n",
    "average_difference_rank"
   ]
  },
  {
   "cell_type": "markdown",
   "id": "e8c724c2",
   "metadata": {},
   "source": [
    "### 1,2,3ごとの合計を出してみる"
   ]
  },
  {
   "cell_type": "code",
   "execution_count": null,
   "id": "481196a3-97e9-4883-b615-94664e3de3b5",
   "metadata": {},
   "outputs": [],
   "source": [
    "# TODO: amount_kgの平均を出してしまっているので、user　rank_idごとのamount_kgの合計を出さないといけない？？\n",
    "# Calculate the average recycling amount for each user and each rank\n",
    "sum_amount_per_user_rank = df_merge.groupby(['user_id', 'rank_id'])['amount_kg'].sum().reset_index()\n",
    "# avg_amount_per_user_rank = df_merge.groupby(['user_id', 'rank_id'])['amount_kg'].sum().reset_index()\n",
    "\n",
    "# To compare the average recycling amount of different ranks for each user, we need to pivot the data\n",
    "pivot_table = sum_amount_per_user_rank.pivot(index='user_id', columns='rank_id', values='amount_kg')\n",
    "\n",
    "# Calculate the difference between each rank's average recycling amount for each user\n",
    "# For simplicity, we'll calculate the difference between consecutive ranks (rank N and rank N-1)\n",
    "rank_differences = pivot_table.diff(axis=1)"
   ]
  },
  {
   "cell_type": "code",
   "execution_count": null,
   "id": "c49d0a09",
   "metadata": {},
   "outputs": [],
   "source": [
    "sum_difference_rank = rank_differences.mean(skipna=True)\n",
    "sum_difference_rank"
   ]
  }
 ],
 "metadata": {
  "kernelspec": {
   "display_name": "Python 3 (ipykernel)",
   "language": "python",
   "name": "python3"
  },
  "language_info": {
   "codemirror_mode": {
    "name": "ipython",
    "version": 3
   },
   "file_extension": ".py",
   "mimetype": "text/x-python",
   "name": "python",
   "nbconvert_exporter": "python",
   "pygments_lexer": "ipython3",
   "version": "3.11.5"
  }
 },
 "nbformat": 4,
 "nbformat_minor": 5
}

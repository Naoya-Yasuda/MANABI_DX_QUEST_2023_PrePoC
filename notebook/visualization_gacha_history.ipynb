{
 "cells": [
  {
   "cell_type": "code",
   "execution_count": null,
   "id": "762cc329-373b-47e2-839e-0b5838e12554",
   "metadata": {},
   "outputs": [],
   "source": [
    "import pandas as pd\n",
    "import matplotlib.pyplot as plt\n",
    "import seaborn as sns #seabornない人はpip installしてね\n",
    "import os\n",
    "from datetime import datetime\n",
    "import numpy as np\n",
    "\n",
    "# カレントディレクトリを.pyと合わせるために以下を実行\n",
    "from pathlib import Path\n",
    "if Path.cwd().name == \"notebook\":\n",
    "    os.chdir(\"..\")\n",
    "\n",
    "\n",
    "# 設定\n",
    "pd.set_option('display.max_rows', 500)\n",
    "pd.set_option('display.min_rows', 500)\n",
    "pd.set_option('display.max_columns', 500)\n",
    "# 浮動小数点数を小数点以下3桁で表示するように設定\n",
    "pd.set_option('display.float_format', '{:.3f}'.format)\n"
   ]
  },
  {
   "cell_type": "code",
   "execution_count": null,
   "id": "8f82109b-f924-452e-abc3-fa3b20c4d3b0",
   "metadata": {},
   "outputs": [],
   "source": [
    "# Mac Matplotlibのデフォルトフォントをヒラギノ角ゴシックに設定\n",
    "plt.rcParams['font.family'] = 'Hiragino Sans'"
   ]
  },
  {
   "cell_type": "code",
   "execution_count": null,
   "id": "8251e4e5-10f5-4f55-bf7d-848e21d171ea",
   "metadata": {},
   "outputs": [],
   "source": [
    "# Windows MatplotlibのデフォルトフォントをMeiryoに設定\n",
    "plt.rcParams['font.family'] = 'Meiryo'"
   ]
  },
  {
   "cell_type": "code",
   "execution_count": null,
   "id": "6049ed6f-d6ee-47cc-8487-e7e3e3d8be4b",
   "metadata": {},
   "outputs": [],
   "source": [
    "# CSVファイルを読み込む\n",
    "file_path = 'data/input/gacha_history.csv'  # ファイルパスを適切に設定してください\n",
    "df = pd.read_csv(file_path)"
   ]
  },
  {
   "cell_type": "code",
   "execution_count": null,
   "id": "45402a51-a565-4aa0-ab10-2c512a395779",
   "metadata": {},
   "outputs": [],
   "source": [
    "df.describe()"
   ]
  },
  {
   "cell_type": "code",
   "execution_count": null,
   "id": "877019cc-8f19-4cc3-a06a-cb48eb5e2669",
   "metadata": {},
   "outputs": [],
   "source": [
    "df.columns"
   ]
  },
  {
   "cell_type": "code",
   "execution_count": null,
   "id": "5dbeaf98-756e-4112-a2a4-c7ff7da42a7e",
   "metadata": {},
   "outputs": [],
   "source": [
    "df_admin = df[(df[\"mission_type_id\"]==8) | (df[\"mission_type_id\"]==9)]\n",
    "df_admin"
   ]
  },
  {
   "cell_type": "code",
   "execution_count": null,
   "id": "3ef531d0-30fe-4083-9528-b8a66f62baaa",
   "metadata": {},
   "outputs": [],
   "source": [
    "# 日付をdatetime型に変更\n",
    "df['mission_achievement_date'] = pd.to_datetime(df['mission_achievement_date'], errors='coerce')\n",
    "df['get_ticket_date'] = pd.to_datetime(df['get_ticket_date'], errors='coerce')\n",
    "df['updated_at'] = pd.to_datetime(df['updated_at'], errors='coerce')\n",
    "\n",
    "# 4月1日以前は削除、mission_type_idの8と9を削除\n",
    "df = df[(df[\"mission_type_id\"] != 8) & (df[\"mission_type_id\"] != 9) & (df[\"mission_achievement_date\"] >= pd.Timestamp('2023-04-01'))]\n",
    "df"
   ]
  },
  {
   "cell_type": "code",
   "execution_count": null,
   "id": "b78bb92f-1bdd-4c9c-8c60-7adc18d24a9a",
   "metadata": {},
   "outputs": [],
   "source": [
    "total_tickets_per_user = df.groupby(['user_uid'], observed=True)[\n",
    "    'add_ticket'].sum()\n",
    "チケット獲得合計数 = df[df['add_ticket']>0].groupby(['user_uid'], observed=True)[\n",
    "    'add_ticket'].sum()\n",
    "\n",
    "# 散布図を描画するためのy座標のみを準備（x座標は必要ない）\n",
    "y = チケット獲得合計数.values\n",
    "\n",
    "# 散布図を描画（x座標は全て1として固定）\n",
    "fig, ax = plt.subplots()\n",
    "ax.scatter([1] * len(y), y)\n",
    "\n",
    "ax.set_title('ユーザーごとのチケット合計数')\n",
    "ax.set_xlabel('ユーザーグループ')\n",
    "ax.set_ylabel('チケット合計数')\n",
    "\n",
    "# x軸の目盛りを調整\n",
    "ax.set_xticks([1])\n",
    "ax.set_xticklabels(['全ユーザー'])\n",
    "\n",
    "plt.show()\n"
   ]
  },
  {
   "cell_type": "code",
   "execution_count": null,
   "id": "1ab8cc92-9805-40b3-bcfe-b7c07b1ffab9",
   "metadata": {},
   "outputs": [],
   "source": [
    "# 第一四分位数（Q1）と第三四分位数（Q3）を計算\n",
    "Q1 = チケット獲得合計数.quantile(0.25)\n",
    "Q3 = チケット獲得合計数.quantile(0.75)\n",
    "\n",
    "# 四分位範囲（IQR）を計算\n",
    "IQR = Q3 - Q1\n",
    "\n",
    "# 外れ値の範囲を定義\n",
    "lower_bound = Q1 - 1.5 * IQR\n",
    "upper_bound = Q3 + 1.5 * IQR\n",
    "\n",
    "# 外れ値を除外\n",
    "filtered_data = チケット獲得合計数[(チケット獲得合計数 >= lower_bound) & (チケット獲得合計数 <= upper_bound)]\n",
    "\n",
    "# ヒストグラムのビンの数を10分割に設定\n",
    "bin_count = 6\n",
    "\n",
    "# チケットの最小値と最大値を取得\n",
    "min_tickets = min(filtered_data)\n",
    "max_tickets = max(filtered_data)\n",
    "print(min_tickets,max_tickets)\n",
    "\n",
    "# ビンの幅を計算\n",
    "# bin_width = (max_tickets - min_tickets) / bin_count\n",
    "bin_width = 1\n",
    "\n",
    "# ビンの範囲を設定\n",
    "bins = [min_tickets + i * bin_width for i in range(bin_count + 1)]\n",
    "\n",
    "# ヒストグラムを描画\n",
    "plt.figure(figsize=(10, 6))\n",
    "plt.hist(filtered_data, bins=bins, edgecolor='black')\n",
    "plt.title('ユーザーごとのチケット合計数の分布(外れ値除外)')\n",
    "plt.xlabel('チケット合計数')\n",
    "plt.ylabel('ユーザー数')\n",
    "# plt.xticks(range(min(total_tickets_per_user), max(total_tickets_per_user) + 1))\n",
    "plt.show()"
   ]
  },
  {
   "cell_type": "code",
   "execution_count": null,
   "id": "c6135d76-0fd5-41ad-9fdf-3e9a53949f7d",
   "metadata": {},
   "outputs": [],
   "source": [
    "# ミッション達成日時ごとの一人当たりの獲得チケット量\n",
    "average_ticket_by_decade = df.groupby('mission_achievement_date', observed=True)['add_ticket'].mean()\n",
    "print(average_ticket_by_decade)\n",
    "\n",
    "# 棒グラフで表示　時間かかるのでコメントアウト\n",
    "# plt.bar(average_ticket_by_decade.index, average_ticket_by_decade)"
   ]
  },
  {
   "cell_type": "code",
   "execution_count": null,
   "id": "eda0e1fc-523a-47ae-b649-e43eb82ad355",
   "metadata": {},
   "outputs": [],
   "source": [
    "# ミッション達成日時のデータ型を確認し、日付型に変換\n",
    "df['mission_achievement_date'] = pd.to_datetime(df['mission_achievement_date'])\n",
    "\n",
    "# ミッション達成日ごとにグループ化して一人当たりの平均チケット量を計算\n",
    "# 日時データから日付のみを抽出\n",
    "df['mission_achievement_date'] = df['mission_achievement_date'].dt.date\n",
    "\n",
    "average_ticket_by_date = df.groupby('mission_achievement_date')['add_ticket'].mean()\n",
    "# print(average_ticket_by_date)\n",
    "\n",
    "# 棒グラフで表示\n",
    "plt.figure(figsize=(10, 6))\n",
    "plt.bar(average_ticket_by_date.index, average_ticket_by_date)\n",
    "plt.title('ミッション達成日ごとの一人当たりの平均チケット量')\n",
    "plt.xlabel('ミッション達成日')\n",
    "plt.ylabel('平均チケット量')\n",
    "plt.xticks(rotation=45)\n",
    "plt.show()"
   ]
  },
  {
   "cell_type": "code",
   "execution_count": null,
   "id": "b7f09338-fb9e-48d4-b592-8655ffabfc01",
   "metadata": {},
   "outputs": [],
   "source": [
    "# mission_type_id 毎の数を算出\n",
    "# 棒グラフにプロット\n",
    "\n",
    "n_mission_type_id = df[\"mission_type_id\"].value_counts().sort_index()\n",
    "print(n_mission_type_id)"
   ]
  },
  {
   "cell_type": "markdown",
   "id": "8289bc3b",
   "metadata": {},
   "source": [
    "・mission_type_idの6（古紙の持込重量ミッション(来月)）,10（チケット条件一致付与(メール)）がない  \n",
    "・7と13はそもそも存在しない  "
   ]
  },
  {
   "cell_type": "markdown",
   "id": "fb2c3bfa",
   "metadata": {},
   "source": [
    "・このあたりのデータは削除でよいのではないか"
   ]
  },
  {
   "cell_type": "markdown",
   "id": "b311c0ea",
   "metadata": {},
   "source": [
    "ガチャの効果を測定する  \n",
    "・ガチャとリサイクル量の相関  \n",
    "・ログインとリサイクル量の相関"
   ]
  },
  {
   "cell_type": "markdown",
   "id": "e6dc80b5",
   "metadata": {},
   "source": [
    "# 以降、結合を試しています"
   ]
  },
  {
   "cell_type": "code",
   "execution_count": null,
   "id": "cd342ab5",
   "metadata": {},
   "outputs": [],
   "source": [
    "# user_info とidを紐づけ（試し）\n",
    "file_path_user_info = 'data/input/user_info_cleansing.csv'  # ファイルパスを適切に設定してください\n",
    "df_user_info = pd.read_csv(file_path_user_info)\n",
    "df_user_info.head()"
   ]
  },
  {
   "cell_type": "code",
   "execution_count": null,
   "id": "95a6a4dc",
   "metadata": {},
   "outputs": [],
   "source": [
    "# birth_dayをdatetimeに変換し、年代を計算\n",
    "df_user_info['birth_day'] = pd.to_datetime(df_user_info['birth_day'], errors='coerce')\n",
    "current_year = pd.Timestamp.now().year\n",
    "df_user_info['age'] = current_year - df_user_info['birth_day'].dt.year\n",
    "# 年齢と性別が欠損している行を削除\n",
    "data_age_gender = df_user_info.dropna(subset=['age', 'gender']).copy()\n",
    "# 年齢を年代に変換\n",
    "bins = [0, 20, 30, 40, 50, 60, 70, 80, 90, 100]\n",
    "labels = ['0-20', '21-30', '31-40', '41-50', '51-60', '61-70', '71-80', '81-90', '91-100']\n",
    "df_user_info['age_group'] = pd.cut(df_user_info['age'], bins=bins, labels=labels, right=False)"
   ]
  },
  {
   "cell_type": "code",
   "execution_count": null,
   "id": "cb4d2193-d856-4903-8b71-7351b4fed812",
   "metadata": {},
   "outputs": [],
   "source": [
    "# チケット獲得合計数.name = 'チケット獲得合計数'\n",
    "tempDf = チケット獲得合計数.to_frame()\n",
    "tempDf.rename(columns={'add_ticket': 'チケット獲得合計数'}, inplace=True)\n",
    "tempDf = tempDf.reset_index()\n",
    "\n",
    "# display(tempDf)\n",
    "\n",
    "df_user_info = pd.merge(df_user_info, tempDf, left_on='id', right_on='user_uid', how='left')"
   ]
  },
  {
   "cell_type": "code",
   "execution_count": null,
   "id": "c51a4f3a-1682-4808-96d4-932ec3e61ff9",
   "metadata": {},
   "outputs": [],
   "source": [
    "# カラムを選択して相関係数を算出\n",
    "selected_columns = ['id', 'club_coin', 'recycle_point',\n",
    "       'total_recycle_amount', 'recycle_amount_per_year',\n",
    "       'recycle_amount_after_gold_member', 'rank_continuation_class','zipcode', 'チケット獲得合計数']\n",
    "correlation_matrix = df_user_info[selected_columns].corr()\n",
    "\n",
    "# チケット獲得合計数とリサイクル量・リサイクル頻度の相関を確認するためのヒートマップ\n",
    "sns.heatmap(correlation_matrix, annot=True)\n",
    "plt.show()\n"
   ]
  },
  {
   "cell_type": "code",
   "execution_count": null,
   "id": "ee331aef",
   "metadata": {},
   "outputs": [],
   "source": [
    "# 横軸を対数に変換した散布図行列を表示\n",
    "df_user_info = df_user_info[df_user_info['チケット獲得合計数'] > 0 ]\n",
    "\n",
    "# 対数変換を行いたいカラムを選択\n",
    "columns = ['total_recycle_amount', 'recycle_amount_per_year', 'チケット獲得合計数']\n",
    "\n",
    "# 対数変換を行うラムダ式を定義し、適用\n",
    "df_user_info['log_total_recycle_amount'] = df_user_info['total_recycle_amount'].apply(lambda x: np.log10(x) if (x > 0) else x)\n",
    "df_user_info['log_recycle_amount_per_year'] = df_user_info['recycle_amount_per_year'].apply(lambda x: np.log10(x) if (x > 0) else x)\n",
    "df_user_info['log_チケット獲得合計数'] = df_user_info['チケット獲得合計数'].apply(lambda x: np.log10(x) if (x > 0) else x)\n",
    "\n",
    "df_user_info.describe()"
   ]
  },
  {
   "cell_type": "markdown",
   "id": "1ef3c7a5-3552-45c3-9ef4-f13a5bccab41",
   "metadata": {},
   "source": [
    "#### TODO: リサイクル量ではなくリサイクル回数でも相関出してみよう"
   ]
  },
  {
   "cell_type": "code",
   "execution_count": null,
   "id": "e6c03241-70c8-49ab-8710-90f3b2993123",
   "metadata": {},
   "outputs": [],
   "source": [
    "# # 対数変換されたカラムで散布図行列を表示\n",
    "log_columns = ['log_total_recycle_amount','log_recycle_amount_per_year','log_チケット獲得合計数']\n",
    "sns.pairplot(df_user_info[log_columns])"
   ]
  },
  {
   "cell_type": "markdown",
   "id": "584a6e3f",
   "metadata": {},
   "source": [
    "常用対数をとったが相関は見られず  \n",
    "ヒストグラム：totalもper_yearも10^2=100kg が多い  \n",
    "新聞が1部220gだとすると、1年で約80kg  \n",
    "段ボール1個150gだとすると、残り20kgすべて段ボールと仮定すると133個/year  \n",
    "広告・チラシを含めれば年間100kgになるか  \n",
    "→これに関してSK様に肌感覚的なことも聞きたい  \n",
    "\n",
    "per_year vs. totalの点がy>xに多い（totalの方がper_yearより多い）"
   ]
  },
  {
   "cell_type": "code",
   "execution_count": null,
   "id": "2cef676c",
   "metadata": {},
   "outputs": [],
   "source": [
    "# merge (左外部結合)\n",
    "df_merge = pd.merge(df, df_user_info, left_on='user_uid', right_on='id', how='left')"
   ]
  },
  {
   "cell_type": "code",
   "execution_count": null,
   "id": "71948a6b",
   "metadata": {},
   "outputs": [],
   "source": [
    "display(df_merge.head(100))\n",
    "display(df_merge.describe())\n",
    "#print(len(df_merge[\"user_uid\"].unique()))\n",
    "#print(df_merge.info(verbose=True, show_counts=True))\n",
    "print(df_merge['nickname'].isna().sum())"
   ]
  },
  {
   "cell_type": "markdown",
   "id": "967a533d",
   "metadata": {},
   "source": [
    "・user_info は最近やってなかったユーザーを消しているのか？  \n",
    "・user_info は宮城県で絞ってないか？  \n",
    "-> user_infoをどのように抽出したかの詳細を聞く必要がある"
   ]
  },
  {
   "cell_type": "code",
   "execution_count": null,
   "id": "2018bfdb",
   "metadata": {},
   "outputs": [],
   "source": [
    "# # userIdごとのレコードの出現回数を取得\n",
    "# record_counts = df_merge.groupby('user_uid_x').size().reset_index(name='record_count')\n",
    "# record_counts"
   ]
  },
  {
   "cell_type": "code",
   "execution_count": null,
   "id": "3561a5e4",
   "metadata": {},
   "outputs": [],
   "source": [
    "# アクティブユーザーと見なされる最小出現回数\n",
    "threshold = 10\n",
    "\n",
    "# 'user_id'の出現回数をカウント\n",
    "user_counts = df_merge['user_uid_x'].value_counts()\n",
    "\n",
    "# アクティブユーザーを識別\n",
    "df_merge['アクティブユーザ'] = df_merge['user_uid_x'].apply(lambda x: 1 if (user_counts[x] >= threshold) else 0)\n"
   ]
  },
  {
   "cell_type": "code",
   "execution_count": null,
   "id": "e54981e9",
   "metadata": {},
   "outputs": [],
   "source": [
    "df_merge.head()"
   ]
  },
  {
   "cell_type": "code",
   "execution_count": null,
   "id": "eade925a",
   "metadata": {},
   "outputs": [],
   "source": [
    "#columns = ['アクティブユーザ','total_recycle_amount','recycle_amount_per_year', 'チケット獲得合計数']\n",
    "# total_recycle_amountが５０００以上を除外した場合\n",
    "#sns.pairplot(df_merge[df_merge['total_recycle_amount']<5000][columns],hue='アクティブユーザ')"
   ]
  },
  {
   "cell_type": "markdown",
   "id": "4e46ed08",
   "metadata": {},
   "source": [
    "# アクティブユーザーごとの相関を出したかったが、うまく定義できず中断\n",
    "# 一応コードは残してます。"
   ]
  },
  {
   "cell_type": "code",
   "execution_count": null,
   "id": "9e195534",
   "metadata": {},
   "outputs": [],
   "source": [
    "# 年代ごとのチケット獲得枚数合計を算出\n",
    "年代ごとのチケット獲得枚数合計 = df_merge[df_merge['add_ticket']>0].groupby('age_group')['add_ticket'].sum()\n",
    "年代ごとのチケット獲得枚数平均 = df_merge[df_merge['add_ticket']>0].groupby('age_group')['add_ticket'].mean()"
   ]
  },
  {
   "cell_type": "code",
   "execution_count": null,
   "id": "1433fcaa",
   "metadata": {},
   "outputs": [],
   "source": [
    "年代ごとのチケット獲得枚数平均"
   ]
  },
  {
   "cell_type": "markdown",
   "id": "3b54be2c",
   "metadata": {},
   "source": [
    "・年齢ごとに大きな差は見受けられなかった。。。"
   ]
  },
  {
   "cell_type": "code",
   "execution_count": null,
   "id": "31c429fc",
   "metadata": {},
   "outputs": [],
   "source": [
    "# 年代ごとのチケット利用枚数合計を算出\n",
    "年代ごとのチケット利用枚数合計 = df_merge[df_merge['add_ticket']<0].groupby('age_group')['add_ticket'].sum()\n",
    "年代ごとのチケット利用枚数平均 = df_merge[df_merge['add_ticket']<0].groupby('age_group')['add_ticket'].mean()"
   ]
  },
  {
   "cell_type": "code",
   "execution_count": null,
   "id": "d4cbb469",
   "metadata": {},
   "outputs": [],
   "source": [
    "年代ごとのチケット利用枚数平均"
   ]
  },
  {
   "cell_type": "code",
   "execution_count": null,
   "id": "492424d9",
   "metadata": {},
   "outputs": [],
   "source": [
    "a = df_merge[df_merge['add_ticket']>0].sort_values(\"user_uid_x\")\n",
    "a[a['user_uid_x']==88]"
   ]
  },
  {
   "cell_type": "code",
   "execution_count": null,
   "id": "3f8edeac",
   "metadata": {},
   "outputs": [],
   "source": [
    "# ユーザーごとに分けて獲得枚数履歴を取得\n",
    "\n",
    "# grouped_age_user = df_merge[(df_merge['add_ticket']>0) & (df_merge['age_group'].notna())].groupby(['age_group', 'user_uid_x'])['add_ticket'].apply(lambda x: x)\n",
    "grouped_age_user = df_merge[(df_merge['add_ticket']>0) & (df_merge['age_group'].notna())].groupby(['age_group', 'user_uid_x'])['add_ticket'].sum()\n",
    "grouped_age_user = grouped_age_user.reset_index()\n",
    "grouped_age_user = grouped_age_user[grouped_age_user['add_ticket'] != 0]"
   ]
  },
  {
   "cell_type": "code",
   "execution_count": null,
   "id": "32125e01",
   "metadata": {},
   "outputs": [],
   "source": [
    "fig, ax = plt.subplots()\n",
    "\n",
    "sns.boxplot(x='age_group', y='add_ticket', data=grouped_age_user, showfliers=False)\n",
    "plt.title('年代ごとのチケット獲得枚数')\n",
    "plt.xlabel('年代')\n",
    "plt.ylabel('チケット獲得枚数合計')\n",
    "plt.grid(True)\n",
    "plt.xticks(rotation=45)\n",
    "plt.show()"
   ]
  },
  {
   "cell_type": "code",
   "execution_count": null,
   "id": "22f1cb50",
   "metadata": {},
   "outputs": [],
   "source": [
    "# ユーザーごとに分けて利用枚数合計を算出\n",
    "grouped_age_user = df_merge[(df_merge['add_ticket']<0) & (df_merge['age_group'].notna())].groupby(['age_group', 'user_uid_x'])['add_ticket'].sum()\n",
    "grouped_age_user = grouped_age_user.reset_index()\n",
    "grouped_age_user = grouped_age_user[grouped_age_user['add_ticket'] != 0]\n",
    "grouped_age_user['add_ticket'] = grouped_age_user['add_ticket'] * -1\n",
    "\n",
    "\n",
    "fig, ax = plt.subplots()\n",
    "\n",
    "sns.boxplot(x='age_group', y='add_ticket', data=grouped_age_user, showfliers=True)\n",
    "plt.title('年代ごとのチケット利用枚数')\n",
    "plt.xlabel('年代')\n",
    "plt.ylabel('チケット利用枚数合計')\n",
    "plt.grid(True)\n",
    "plt.xticks(rotation=45)\n",
    "plt.show()"
   ]
  },
  {
   "cell_type": "code",
   "execution_count": null,
   "id": "e1eca473",
   "metadata": {},
   "outputs": [],
   "source": [
    "# 上のデータを基に最頻値を算出"
   ]
  },
  {
   "cell_type": "code",
   "execution_count": null,
   "id": "9042be70-bcc6-4d17-8dd7-87210cac1e8b",
   "metadata": {},
   "outputs": [],
   "source": [
    "# ミッションタイプごとのチケット獲得量の集計\n",
    "ticket_per_mission_type = df.groupby('mission_type_id')['add_ticket'].sum()\n",
    "ticket_per_mission_type"
   ]
  },
  {
   "cell_type": "code",
   "execution_count": null,
   "id": "6eca922b-7c49-4b77-8bb0-4c68f5fd7fca",
   "metadata": {},
   "outputs": [],
   "source": [
    "# 年代とミッションタイプごとのチケット獲得量の集計\n",
    "ticket_per_age_mission = df_merge.groupby(['age_group', 'mission_type_id'], observed=True)['add_ticket'].sum().unstack()\n",
    "ticket_per_age_mission"
   ]
  },
  {
   "cell_type": "code",
   "execution_count": null,
   "id": "0df17e63-1ca1-4e47-8244-21e468e3ce87",
   "metadata": {},
   "outputs": [],
   "source": [
    "ax = ticket_per_mission_type.plot(kind='bar', figsize=(10, 6))\n",
    "ax.set_ylabel(\"チケット獲得量\")\n",
    "ax.set_title(\"ミッションタイプごとのチケット獲得量\")\n",
    "\n",
    "# 各棒に数値を表示\n",
    "for p in ax.patches:\n",
    "    ax.annotate(str(p.get_height()), (p.get_x() * 1.005, p.get_height() * 1.005))"
   ]
  },
  {
   "cell_type": "code",
   "execution_count": null,
   "id": "bbfc8a29-ecee-402c-b4ec-e4fd93a75bc5",
   "metadata": {},
   "outputs": [],
   "source": [
    "# 図のサイズを調整\n",
    "plt.figure(figsize=(12, 8)) \n",
    "\n",
    "# ヒートマップで年代とミッションタイプごとのチケット獲得量を表示\n",
    "sns.heatmap(ticket_per_age_mission, annot=True) \n",
    "plt.show()"
   ]
  },
  {
   "cell_type": "code",
   "execution_count": null,
   "id": "983babbc-dc8e-4aa0-80b6-1351042f5858",
   "metadata": {},
   "outputs": [],
   "source": [
    "# 年代ごとのミッションタイプ別チケット獲得割合\n",
    "\n",
    "df_positive_tickets = df_merge[df_merge['add_ticket'] > 0]\n",
    "\n",
    "# ステップ1: 年代とミッションタイプごとにチケット獲得量を集計\n",
    "ticket_per_age_mission = df_positive_tickets.groupby(['age_group', 'mission_type_id'], observed=True)['add_ticket'].sum().unstack(fill_value=0)\n",
    "\n",
    "# ステップ2: 年代ごとの全ミッションタイプのチケット獲得量の合計を計算\n",
    "total_tickets_per_age = ticket_per_age_mission.sum(axis=1)\n",
    "\n",
    "# ステップ3: 各年代内での各ミッションタイプのチケット獲得量の割合を計算\n",
    "ticket_percentage_per_age = ticket_per_age_mission.div(total_tickets_per_age, axis=0)\n",
    "\n",
    "# 計算結果の可視化\n",
    "\n",
    "ax = ticket_percentage_per_age.plot(kind='bar', stacked=True, figsize=(12, 6))\n",
    "plt.title('年代ごとのミッションタイプ別チケット獲得割合')\n",
    "plt.xlabel('年代')\n",
    "plt.ylabel('チケット獲得割合')\n",
    "plt.legend(title='ミッションタイプ', bbox_to_anchor=(1.05, 1), loc='upper left')\n",
    "\n",
    "# 各ミッションタイプごとの割合を注釈として追加\n",
    "for p in ax.patches:\n",
    "    width = p.get_width()\n",
    "    height = p.get_height()\n",
    "    x, y = p.get_xy() \n",
    "    if height > 0:\n",
    "        ax.text(x + width/2, \n",
    "                y + height/2, \n",
    "                '{:.2g}%'.format(height * 100), \n",
    "                horizontalalignment='center', \n",
    "                verticalalignment='center')\n",
    "plt.show()\n",
    "\n"
   ]
  },
  {
   "cell_type": "markdown",
   "id": "19488c1b-027e-4153-b46b-7020efeaff50",
   "metadata": {},
   "source": [
    "## ここまでの示唆\n",
    "・ミッションタイプごとのチケット獲得量は1位：会員サイトにログイン、２位：RPS持ち込み量、３位：ぐるっとポンに新規会員登録<br>\n",
    "・年代ごとで、利用者が実施したミッションタイプに傾向や特徴はあるか？<br>\n",
    "　→ミッション12（＝ぐるっとポンに新規会員登録）は割合がわりとバラけている（統計的有意なばらつき）<br>\n",
    "　→若者(40歳以下)はミッション12の割合が高い傾向？、ミッション12は2023/8/1以降に新規登録したユーザーが対象だから、最近母親世代以下のアプリ利用が増えたのではないか<br>\n",
    "　→逆にミッション5の会員サイト通算ログインによるチケット獲得割合は、母親世代以下の方が低いし<br>\n",
    "　→キャンペーンによる付与であるミッションタイプ14も若者世代の割合が高いということで、最近何かキャンペーンをやったのでは<br>"
   ]
  },
  {
   "cell_type": "markdown",
   "id": "ab6dd103-0ce6-4e81-ad81-26f18b9fd875",
   "metadata": {},
   "source": [
    "【一応】検定しておく"
   ]
  },
  {
   "cell_type": "code",
   "execution_count": null,
   "id": "e94ac037-9b11-43e2-a694-34bdcf7b7691",
   "metadata": {},
   "outputs": [],
   "source": [
    "from scipy.stats import chi2_contingency"
   ]
  },
  {
   "cell_type": "code",
   "execution_count": null,
   "id": "1013692f-08c5-4853-8cbf-c4d0133a6776",
   "metadata": {},
   "outputs": [],
   "source": [
    "# ミッションタイプ12に焦点を当てた分析を行うためのデータフレーム\n",
    "mt12_data = df_merge[df_merge['mission_type_id'] == 12]\n",
    "\n",
    "# 年代ごとのミッションタイプ12のチケット獲得数を集計\n",
    "mt12_observed = mt12_data.groupby('age_group', observed=True)['add_ticket'].sum()\n",
    "\n",
    "# 年代ごとの全チケット獲得数を集計\n",
    "total_observed = df_merge.groupby('age_group', observed=True)['add_ticket'].sum()\n",
    "\n",
    "# ミッションタイプ12の期待割合を計算（全チケット獲得数に対するミッションタイプ12の割合）\n",
    "mt12_expected_ratio = mt12_observed.sum() / total_observed.sum()\n",
    "\n",
    "# 各年代での期待されるミッションタイプ12のチケット獲得数を計算\n",
    "mt12_expected = total_observed * mt12_expected_ratio\n",
    "\n",
    "# カイ二乗検定を実行\n",
    "chi2, p, dof, _ = chi2_contingency(pd.DataFrame({'Observed': mt12_observed, 'Expected': mt12_expected}))\n",
    "\n",
    "# 結果の出力\n",
    "print(f\"Chi-squared: {chi2:.2f}\")\n",
    "print(f\"p-value: {p:.3g}\")\n",
    "print(f\"Degrees of freedom: {dof}\")\n",
    "\n",
    "# p値が統計的有意水準（通常0.05）以下かどうかを確認\n",
    "print(\"統計的に有意な差がある\" if p < 0.05 else \"統計的に有意な差がない\")\n",
    "\n"
   ]
  },
  {
   "cell_type": "code",
   "execution_count": null,
   "id": "054c27e6-b549-4fd0-88d5-c47bd53f3cc0",
   "metadata": {},
   "outputs": [],
   "source": []
  }
 ],
 "metadata": {
  "kernelspec": {
   "display_name": "Python 3 (ipykernel)",
   "language": "python",
   "name": "python3"
  },
  "language_info": {
   "codemirror_mode": {
    "name": "ipython",
    "version": 3
   },
   "file_extension": ".py",
   "mimetype": "text/x-python",
   "name": "python",
   "nbconvert_exporter": "python",
   "pygments_lexer": "ipython3",
   "version": "3.9.7"
  }
 },
 "nbformat": 4,
 "nbformat_minor": 5
}

{
 "cells": [
  {
   "cell_type": "code",
   "execution_count": null,
   "metadata": {},
   "outputs": [],
   "source": [
    "import pandas as pd\n",
    "import matplotlib.pyplot as plt\n",
    "import seaborn as sns #seabornない人はpip installしてね\n",
    "import os\n",
    "from datetime import datetime\n",
    "\n",
    "# カレントディレクトリを.pyと合わせるために以下を実行\n",
    "from pathlib import Path\n",
    "if Path.cwd().name == \"notebook\":\n",
    "    os.chdir(\"..\")\n",
    "\n",
    "\n",
    "# 設定\n",
    "pd.set_option('display.max_rows', 500)\n",
    "pd.set_option('display.min_rows', 500)\n",
    "pd.set_option('display.max_columns', 500)"
   ]
  },
  {
   "cell_type": "code",
   "execution_count": null,
   "metadata": {},
   "outputs": [],
   "source": [
    "# Mac Matplotlibのデフォルトフォントをヒラギノ角ゴシックに設定\n",
    "plt.rcParams['font.family'] = 'Hiragino Sans'"
   ]
  },
  {
   "cell_type": "code",
   "execution_count": null,
   "metadata": {},
   "outputs": [],
   "source": [
    "# Windows MatplotlibのデフォルトフォントをMeiryoに設定\n",
    "plt.rcParams['font.family'] = 'Meiryo'"
   ]
  },
  {
   "cell_type": "code",
   "execution_count": null,
   "metadata": {},
   "outputs": [],
   "source": [
    "# CSVファイルを読み込む\n",
    "file_path = 'data/input/user_info_cleansing.csv'  # ファイルパスを適切に設定してください\n",
    "data = pd.read_csv(file_path)"
   ]
  },
  {
   "cell_type": "code",
   "execution_count": null,
   "metadata": {},
   "outputs": [],
   "source": [
    "data.describe()"
   ]
  },
  {
   "cell_type": "code",
   "execution_count": null,
   "metadata": {},
   "outputs": [],
   "source": [
    "data[data['club_coin'] == data['club_coin'].max()]"
   ]
  },
  {
   "cell_type": "code",
   "execution_count": null,
   "metadata": {},
   "outputs": [],
   "source": [
    "sorted_df = data.sort_values(by='club_coin', ascending=False)\n",
    "sorted_df.head()"
   ]
  },
  {
   "cell_type": "code",
   "execution_count": null,
   "metadata": {},
   "outputs": [],
   "source": [
    "# birth_dayをdatetimeに変換し、年代を計算\n",
    "data['birth_day'] = pd.to_datetime(data['birth_day'], errors='coerce')\n",
    "current_year = pd.Timestamp.now().year\n",
    "data['age'] = current_year - data['birth_day'].dt.year\n",
    "# 年齢と性別が欠損している行を削除\n",
    "data_age_gender = data.dropna(subset=['age', 'gender']).copy()\n",
    "# 年齢を年代に変換\n",
    "bins = [0, 20, 30, 40, 50, 60, 70, 80, 90, 100]\n",
    "labels = ['0-20', '21-30', '31-40', '41-50', '51-60', '61-70', '71-80', '81-90', '91-100']\n",
    "data['age_group'] = pd.cut(data['age'], bins=bins, labels=labels, right=False)"
   ]
  },
  {
   "cell_type": "code",
   "execution_count": null,
   "metadata": {},
   "outputs": [],
   "source": [
    "# 年齢層と性別に基づいてリサイクル量を集計\n",
    "grouped_data = data.groupby(['age_group', 'gender'], observed=True)['total_recycle_amount'].sum().unstack()\n",
    "\n",
    "# 棒グラフを描画\n",
    "plt.figure(figsize=(12, 6))\n",
    "sns.barplot(x=grouped_data.index,\n",
    "            y=grouped_data['男'], color='blue', label='男性')\n",
    "sns.barplot(x=grouped_data.index,\n",
    "            y=grouped_data['女'], color='red', label='女性', bottom=grouped_data['男'])\n",
    "# sns.barplot(x=grouped_data.index,\n",
    "#             y=grouped_data['無回答'], color='gray', label='無回答', bottom=grouped_data['無回答'])\n",
    "plt.xlabel('年齢層')\n",
    "plt.ylabel('総リサイクル量')\n",
    "plt.title('年齢層と性別によるリサイクル量の分布')\n",
    "plt.legend(title='性別')\n",
    "plt.xticks(rotation=45)\n",
    "plt.tight_layout()\n",
    "\n",
    "plt.show()\n"
   ]
  },
  {
   "cell_type": "code",
   "execution_count": null,
   "metadata": {},
   "outputs": [],
   "source": [
    "# 年代ごとの一人当たりの累積リサイクル量平均値\n",
    "average_recycle_by_decade = data.groupby('age_group', observed=True)['total_recycle_amount'].mean()\n",
    "# print(average_recycle_by_decade)\n",
    "\n",
    "# 棒グラフで表示\n",
    "plt.title('年代ごとの一人当たりの累積リサイクル量平均値')\n",
    "plt.bar(average_recycle_by_decade.index, average_recycle_by_decade)"
   ]
  },
  {
   "cell_type": "code",
   "execution_count": null,
   "metadata": {},
   "outputs": [],
   "source": [
    "# 箱ひげ図を描画（外れ値を除外）\n",
    "fig, ax = plt.subplots()\n",
    "\n",
    "sns.boxplot(x='age_group', y='club_coin', data=data, showfliers=False)\n",
    "plt.title('年代ごとのクラブコインの分布（外れ値除外）')\n",
    "plt.xlabel('年代')\n",
    "plt.ylabel('クラブコイン')\n",
    "plt.grid(True)\n",
    "plt.xticks(rotation=45)\n",
    "plt.show()\n"
   ]
  },
  {
   "cell_type": "markdown",
   "metadata": {},
   "source": [
    "・クラブコインは使用したらなくなるため、この値は信ぴょう性が低い？→クラブコインの累積データはないのか？(machi)  \n",
    "・【確認】'toral recycle amount'で見るべき(machi)  \n",
    "・年齢層が高いほど、中央値が高い（minとmaxで7倍違う(machi)  \n",
    "・若年層はそもそもボリュームが少ない？→年齢の人数ヒストグラムを見たい(machi)  \n",
    "・子育て世代（今回のターゲット？）のクラブコイン(machi)  \n",
    "・クラブコインを消費していないということは、アプリを開いてコインを使用していない。つまり、アプリ使いこなせていない可能性。(machi)  \n",
    "　→point_historyやgacha_historyで確認できる可能性大(machi)  \n",
    "・minは0(machi)  \n",
    "・'club coin'、'recycle point'はポイント消費によって逐次変化する値のため、user_info.csvで分析する必要はない(machi)  \n",
    "・【確認】'recycle_amount_per_year'は本当に、年平均リサイクル量なのか、1年に一回バッチでリセットしているのか(後者の可能性大？))(machi)  \n",
    "・【確認】年代-クラブコインの分布に相関あり(machi)  "
   ]
  },
  {
   "cell_type": "code",
   "execution_count": null,
   "metadata": {},
   "outputs": [],
   "source": [
    "# 箱ひげ図を描画（外れ値を除外）\n",
    "fig, ax = plt.subplots()\n",
    "sns.boxplot(x='age_group', y='total_recycle_amount', data=data, showfliers=False)\n",
    "plt.title('年代ごとの総リサイクル量の分布（外れ値除外）')\n",
    "plt.xlabel('年代')\n",
    "plt.ylabel('総リサイクル量')\n",
    "plt.grid(True)\n",
    "plt.xticks(rotation=45)\n",
    "plt.show()"
   ]
  },
  {
   "cell_type": "markdown",
   "metadata": {},
   "source": [
    "・【確認】人数のボリュームがそのままリサイクル量に影響している可能性があるため、各年代の人数ヒストグラムを確認したい。"
   ]
  },
  {
   "cell_type": "code",
   "execution_count": null,
   "metadata": {},
   "outputs": [],
   "source": [
    "# genderを区分値に変更\n",
    "# ワンホットエンコーディング\n",
    "data['男'] = data['gender'].apply(lambda x: 1 if x == '男' else 0)\n",
    "data['女'] = data['gender'].apply(lambda x: 1 if x == '女' else 0)\n",
    "\n",
    "# 'a'、'b'、'c' カラムのみを選択して相関係数を算出\n",
    "selected_columns = ['club_coin', 'recycle_point', 'total_recycle_amount', 'recycle_amount_per_year', 'recycle_amount_after_gold_member', 'rank_continuation_class',  '男',  '女', 'birth_day', 'zipcode', 'age']\n",
    "correlation_matrix = data[selected_columns].corr()\n",
    "\n",
    "# ヒートマップ\n",
    "sns.heatmap(correlation_matrix, annot=True)\n",
    "plt.show()\n",
    "\n"
   ]
  },
  {
   "cell_type": "markdown",
   "metadata": {},
   "source": [
    "・ageとリサイクル量に相関が全くないのは、他グラフと矛盾するのでは？(machi)\n",
    "　→散布図でデータそのものの散らばりぐらいを見てみる(machi)\n",
    "・他csvと合体して相関を見ないと、特に意味のない結果に。(machi)  \n",
    "・genderが白なのは、相関係数→ワンホットエンコーディングしてみました。解消はしてますが、これでいいのか。。。(machi)  \n",
    "・zipcodeから緯度経度を出して位置関係からクラスタリングして分析してみたい(machi)  "
   ]
  },
  {
   "cell_type": "code",
   "execution_count": null,
   "metadata": {},
   "outputs": [],
   "source": [
    "# これらのカラムのための四分位数を計算\n",
    "Q1_age = data['age'].quantile(0.25)\n",
    "Q3_age = data['age'].quantile(0.75)\n",
    "IQR_age = Q3_age - Q1_age\n",
    "\n",
    "Q1_recycle = data['total_recycle_amount'].quantile(0.25)\n",
    "Q3_recycle = data['total_recycle_amount'].quantile(0.75)\n",
    "IQR_recycle = Q3_recycle - Q1_recycle\n",
    "\n",
    "# 外れ値の定義\n",
    "outliers_age = (data['age'] < (Q1_age - 1.5 * IQR_age)) | (data['age'] > (Q3_age + 1.5 * IQR_age))\n",
    "outliers_recycle = (data['total_recycle_amount'] < (Q1_recycle - 1.5 * IQR_recycle)) | (data['total_recycle_amount'] > (Q3_recycle + 1.5 * IQR_recycle))\n",
    "\n",
    "# 外れ値を除外\n",
    "data_no_outliers = data[~(outliers_age | outliers_recycle)]\n",
    "\n",
    "# 外れ値を除外したデータでの散布図を描画\n",
    "plt.figure(figsize=(10, 6))\n",
    "plt.scatter(data_no_outliers['age'], data_no_outliers['total_recycle_amount'], alpha = 0.1)\n",
    "plt.title('Age vs Total Recycle Amount (Without Outliers in Selected Columns)')\n",
    "plt.xlabel('Age')\n",
    "plt.ylabel('Total Recycle Amount')\n",
    "plt.grid(True)\n",
    "plt.show()\n",
    "\n",
    "# 相関係数の計算\n",
    "correlation = data_no_outliers[['age', 'total_recycle_amount']].corr()\n",
    "\n",
    "correlation"
   ]
  },
  {
   "cell_type": "code",
   "execution_count": null,
   "metadata": {},
   "outputs": [],
   "source": [
    "・年代とtotal recycle amountに相関があると期待していたので、散布図を眺めてみたが、やはり相関無し(machi)  \n",
    "・正規分布っぽい？(machi)"
   ]
  },
  {
   "cell_type": "code",
   "execution_count": null,
   "metadata": {},
   "outputs": [],
   "source": [
    "# 年代別の人数をヒストグラムで表示\n",
    "plt.figure(figsize=(10, 6))\n",
    "data['age_group'].value_counts().sort_index().plot(kind='bar')\n",
    "plt.title('Number of People by Age Group')\n",
    "plt.xlabel('Age Group')\n",
    "plt.ylabel('Number of People')\n",
    "plt.xticks(rotation=45)\n",
    "plt.grid(True)\n",
    "plt.show()"
   ]
  },
  {
   "cell_type": "markdown",
   "metadata": {},
   "source": [
    "・年代別の人数分布が描画されていなかったので、ここでしときました(machi)"
   ]
  }
 ],
 "metadata": {
  "kernelspec": {
   "display_name": "Python 3 (ipykernel)",
   "language": "python",
   "name": "python3"
  },
  "language_info": {
   "codemirror_mode": {
    "name": "ipython",
    "version": 3
   },
   "file_extension": ".py",
   "mimetype": "text/x-python",
   "name": "python",
   "nbconvert_exporter": "python",
   "pygments_lexer": "ipython3",
   "version": "3.11.5"
  }
 },
 "nbformat": 4,
 "nbformat_minor": 4
}

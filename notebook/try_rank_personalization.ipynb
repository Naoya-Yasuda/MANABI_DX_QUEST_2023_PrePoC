{
 "cells": [
  {
   "cell_type": "markdown",
   "id": "33432be5",
   "metadata": {
    "jp-MarkdownHeadingCollapsed": true
   },
   "source": [
    "# 0. はじめに"
   ]
  },
  {
   "cell_type": "markdown",
   "id": "d490e1ca-b52a-490d-a5d4-bdb71779d5e7",
   "metadata": {
    "jp-MarkdownHeadingCollapsed": true
   },
   "source": [
    "### 背景  \n",
    "・古紙回収においてKSFを実現するには「利用者を増やすこと(離脱率を減らすこと)」「1人あたりの古紙投入量を増やすこと」が必要<br>\n",
    "・rankシステムは「継続利用」「古紙投入量増加」に寄与している。<br>\n",
    "・古紙を15kg/月 で3ヵ月連続で投入するとランクアップし、2ヵ月連続で投入しないとランクダウンする。<br>\n",
    "・1kgあたりの獲得コインが最大6倍になる<br>\n",
    "  \n",
    "### 意見  \n",
    "・「15kg/月」は設定が厳しい可能性。amount_kg_per_yearの最頻値が100kgだったことを考えてもかなりハードル高い。<br>\n",
    "・古紙投入には限界がある（以降、**古紙投入限界**とよぶ）。古紙を作って捨てようとはならない<br>\n",
    "  \n",
    "### 仮説  \n",
    "・「15kg/月」という数値設定は、排出量の多い一部のユーザにのみしか機能していない可能性がある。<br>\n",
    "　→15kg/月未満の古紙を投入している層がrankシステムによる継続利用の促進効果を受けていないのではないか<br>\n",
    "  \n",
    "### 検証事項  \n",
    "効果の指標を「継続利用期間（最終更新日-利用開始日）」として、以下のデータ分析を行って仮説を検証。<br>\n",
    " \n",
    "分析1【ランクごとの継続利用期間の比較】<br>\n",
    "　＜目的＞15kg/月以上出し続ける能力がある人の方が、ない人より継続利用期間が長いことを証明<br>\n",
    "　＜方法＞・シルバー以上の人と、ブロンズの人の継続利用期間の比較（中央値）<br>\n",
    "\n",
    "\n",
    "分析2【ぐるっとポンユーザ(15kg/月↑)とRPSユーザ(15kg/月↑)の継続利用期間の比較】<br>\n",
    "　＜目的＞rankシステムがないと、継続利用期間が短くなることを照明<br>\n",
    "　＜方法＞・シルバー以上の人と、RPSのみの人の継続利用期間を比較（中央値）<br>\n",
    "　※アプリ利用者は意識が高い可能性。反実仮想<br>\n",
    "　※単純比較できるのか怪しい<br>\n",
    "\n",
    "\n",
    "分析3【ユーザの古紙投入月平均と、ぐるっとポンアクセス月平均の相関】<br>\n",
    "　＜目的＞古紙投入月平均が15kg/月以上に、正の相関が現れることを証明<br>\n",
    "　＜方法＞ユーザ毎の古紙投入月平均とぐるっとポンのアクセス月平均を算出し、散布図に描画<br>\n",
    " \n",
    " \n",
    "分析4【ユーザの古紙投入月平均と、継続利用期間の相関】<br>\n",
    "　＜目的＞古紙投入月平均が15kg/月以上に、正の相関が現れることを証明<br>\n",
    "　＜方法＞ユーザ毎の古紙投入月平均と継続利用期間を算出し、散布図に描画<br>\n",
    "\n",
    "\n",
    "分析5 :【年代別のランク割合比較】<br>\n",
    "　＜目的＞子育て世代の古紙投入月平均は低いため、ランク割合も低いことを証明<br>\n",
    " 　　　　　→ターゲットにrankシステムが刺さっていないことを説明する糧に<br>\n",
    "　＜方法＞年代別のランク割合を棒グラフで可視化<br>\n",
    "\n",
    "  \n",
    "### rankシステムのあるべき姿\n",
    "・年齢や世帯人数、RPS使用実績から古紙排出限界を予測し、そのユーザーに合ったrank達成目標を設けることで全ユーザーがrankシステムの効果を得る<br>\n",
    "・↑その上で、ブロンズ、シルバー、ゴールド、プラチナで x kg/月 の傾斜をつけるのもいい？（最初は少なめにするなど）<br>"
   ]
  },
  {
   "cell_type": "markdown",
   "id": "f261e941",
   "metadata": {},
   "source": [
    "# 1. 準備"
   ]
  },
  {
   "cell_type": "markdown",
   "id": "a5646cc3-f07b-4503-be1b-35a5f64d84d1",
   "metadata": {},
   "source": [
    "## 1.1. 基本設定"
   ]
  },
  {
   "cell_type": "code",
   "execution_count": null,
   "id": "762cc329-373b-47e2-839e-0b5838e12554",
   "metadata": {},
   "outputs": [],
   "source": [
    "import pandas as pd\n",
    "import matplotlib.pyplot as plt\n",
    "import seaborn as sns #seabornない人はpip installしてね\n",
    "import os\n",
    "from datetime import datetime\n",
    "import numpy as np\n",
    "from pathlib import Path\n",
    "from tqdm import tqdm\n",
    "from mpl_toolkits.mplot3d import Axes3D\n",
    "import plotly.graph_objects as go\n",
    "\n",
    "# カレントディレクトリを.pyと合わせるために以下を実行\n",
    "if Path.cwd().name == \"notebook\":\n",
    "    os.chdir(\"..\")\n",
    "\n",
    "# 設定\n",
    "pd.set_option('display.max_rows', 500)\n",
    "pd.set_option('display.min_rows', 500)\n",
    "pd.set_option('display.max_columns', 500)\n",
    "\n",
    "# 浮動小数点数を小数点以下3桁で表示するように設定\n",
    "pd.set_option('display.float_format', '{:.3f}'.format)"
   ]
  },
  {
   "cell_type": "code",
   "execution_count": null,
   "id": "8f82109b-f924-452e-abc3-fa3b20c4d3b0",
   "metadata": {},
   "outputs": [],
   "source": [
    "# Mac Matplotlibのデフォルトフォントをヒラギノ角ゴシックに設定\n",
    "plt.rcParams['font.family'] = 'Hiragino Sans'"
   ]
  },
  {
   "cell_type": "code",
   "execution_count": null,
   "id": "8251e4e5-10f5-4f55-bf7d-848e21d171ea",
   "metadata": {},
   "outputs": [],
   "source": [
    "# Windows MatplotlibのデフォルトフォントをMeiryoに設定\n",
    "plt.rcParams['font.family'] = 'Meiryo'"
   ]
  },
  {
   "cell_type": "markdown",
   "id": "3af1590e-8ec0-42b2-a2dd-63486506b8bc",
   "metadata": {},
   "source": [
    "## 1.2. csv読み込み"
   ]
  },
  {
   "cell_type": "code",
   "execution_count": null,
   "id": "4d9a51c9",
   "metadata": {},
   "outputs": [],
   "source": [
    "# point_history.csvの読み込み\n",
    "df_point_history_sorce = pd.read_csv('data/input/point_history_cleansing.csv')"
   ]
  },
  {
   "cell_type": "code",
   "execution_count": null,
   "id": "a8c7aad2",
   "metadata": {},
   "outputs": [],
   "source": [
    "# ユーザー基本情報の読み込み\n",
    "df_user_base_sorce = pd.read_csv(\"data/input/ユーザー基本情報_2023-12-21.csv\", encoding=\"shift-jis\")"
   ]
  },
  {
   "cell_type": "markdown",
   "id": "f7363482-2aa6-455a-a3fe-56fef7ec89e7",
   "metadata": {},
   "source": [
    "## 1.3. データクレンジング"
   ]
  },
  {
   "cell_type": "markdown",
   "id": "1df9883d-42a1-492d-89b3-ddcd9e0a1179",
   "metadata": {},
   "source": [
    "### 1.3.1. df_user_base(ユーザ基本情報)のクレンジング"
   ]
  },
  {
   "cell_type": "code",
   "execution_count": null,
   "id": "d046f777-24e4-482d-ad0d-76edbe81d1f0",
   "metadata": {},
   "outputs": [],
   "source": [
    "# DataFrameのコピーを作成\n",
    "df_user_base = df_user_base_sorce.copy()\n",
    "\n",
    "# objectをdatetimeに変更\n",
    "df_user_base['登録日時'] = pd.to_datetime(df_user_base['登録日時'], errors='coerce')\n",
    "df_user_base['最終利用日'] = pd.to_datetime(df_user_base['最終利用日'], errors='coerce')\n",
    "df_user_base['birthday'] = pd.to_datetime(df_user_base['birthday'], errors='coerce')\n",
    "\n",
    "# 6歳未満(1543個)と100歳以上(12個)を削除\n",
    "df_user_base = df_user_base[ (df_user_base['birthday'] < pd.to_datetime('2017-01-01')) & (df_user_base['birthday'] > pd.to_datetime('1924-01-01'))]\n",
    "\n",
    "# df_user_baseに\"age\"と\"age_group\"のカラムを追加\n",
    "df_user_base['age'] = pd.Timestamp.now().year - df_user_base['birthday'].dt.year    # ageの算出・追加\n",
    "\n",
    "# 年代の算出・追加\n",
    "bins = [0, 20, 30, 40, 50, 60, 70, 80, 90, 100]\n",
    "labels = ['0-20', '21-30', '31-40', '41-50', '51-60', '61-70', '71-80', '81-90', '91-100']\n",
    "df_user_base['age_group'] = pd.cut(df_user_base['age'], bins=bins, labels=labels, right=False)\n",
    "\n",
    "# 今回使用しない可能性が高いカラムは削除\n",
    "df_user_base = df_user_base.drop(['登録日', 'カード種類', 'スーパー', '都道府県', '市区町村', '登録店舗', 'カード登録日', 'カード更新日', 'birthday','最終利用日'], axis=1)\n",
    "df_user_base = df_user_base.drop_duplicates(subset='利用者ID', keep='first')\n",
    "df_user_base = df_user_base.sort_values(by='登録日時')\n",
    "df_user_base.head(1)"
   ]
  },
  {
   "cell_type": "markdown",
   "id": "c9cd6468-24fd-4fdc-bd0b-bedf6ec72c46",
   "metadata": {},
   "source": [
    "### 1.3.2. df_point_history(point_history.csv)のクレンジング"
   ]
  },
  {
   "cell_type": "code",
   "execution_count": null,
   "id": "c0171db7-b27e-4c02-839b-83c0d8c16cbb",
   "metadata": {},
   "outputs": [],
   "source": [
    "# DataFrameのコピーを作成\n",
    "df_point_history = df_point_history_sorce.copy()\n",
    "\n",
    "# objectをdatetimeに変更\n",
    "df_point_history['use_date'] = pd.to_datetime(df_point_history['use_date'], errors='coerce')\n",
    "\n",
    "# 今回使用しない可能性が高いカラムは削除\n",
    "df_point_history = df_point_history.drop([\n",
    "    'Unnamed: 0',\n",
    "    'id',\n",
    "    'series_id',\n",
    "    'shop_id',\n",
    "    'shop_name',\n",
    "    'card_id',\n",
    "    'リサイクル分類ID',\n",
    "    'amount',\n",
    "    'created_at',\n",
    "    'updated_at',\n",
    "    '支店ID',\n",
    "    'super',\n",
    "    'shop_name_1',\n",
    "    'shop_id_1',\n",
    "    'updated_at_1',\n",
    "    'store_opening_time',\n",
    "    'store_closing_time',\n",
    "    'created_at_1',\n",
    "    'rps_opening_time',\n",
    "    'rps_closing_time',\n",
    "    'store_latitude',\n",
    "    'store_longitude',\n",
    "    'total_amount',], axis=1)\n",
    "df_point_history = df_point_history.sort_values(by='use_date')"
   ]
  },
  {
   "cell_type": "code",
   "execution_count": null,
   "id": "ec4550d3-205b-421d-a052-6358d73740d5",
   "metadata": {
    "jupyter": {
     "outputs_hidden": true
    }
   },
   "outputs": [],
   "source": [
    "df_point_history.sort_values(by = 'use_date').tail"
   ]
  },
  {
   "cell_type": "markdown",
   "id": "1e72f35c-b01a-40a2-9a6f-9d5738e98365",
   "metadata": {},
   "source": [
    "### 1.3.3. 分析に必要なカラムの作成"
   ]
  },
  {
   "cell_type": "markdown",
   "id": "60eba03c",
   "metadata": {},
   "source": [
    "継続利用期間（最終利用日-登録日時）<br>\n",
    "→最終利用日がバグっているため利用不可<br>\n",
    "point_historyのuse_date列からRPS最終利用日を抽出して、RPS最終利用日とする　231228 norosen<br>"
   ]
  },
  {
   "cell_type": "code",
   "execution_count": null,
   "id": "c81414c8-8a6b-40de-979d-64b6782046c4",
   "metadata": {},
   "outputs": [],
   "source": [
    "# user_idに基づいてグループ化し、各グループの最後の行のみを保持\n",
    "# 利用回数の算出\n",
    "count = df_point_history['user_id'].value_counts()\n",
    "df_point_history['利用回数'] = df_point_history['user_id'].map(count)\n",
    "df_point_history['利用回数'] = df_point_history['利用回数'].fillna(0)    # NaNを0に変換"
   ]
  },
  {
   "cell_type": "code",
   "execution_count": null,
   "id": "ab187c86-3eba-456a-be61-48feee27ba36",
   "metadata": {},
   "outputs": [],
   "source": [
    "# 総投入量の算出\n",
    "total_amount = df_point_history.groupby('user_id')['amount_kg'].sum().rename('総投入量')\n",
    "df_point_history = df_point_history.merge(total_amount, on = 'user_id')"
   ]
  },
  {
   "cell_type": "code",
   "execution_count": null,
   "id": "17c2f094-2e09-4dda-aab2-6194ab2bc137",
   "metadata": {},
   "outputs": [],
   "source": [
    "# RPSの最終利用日を抽出\n",
    "last_entries = df_point_history.groupby('user_id').last().reset_index()"
   ]
  },
  {
   "cell_type": "code",
   "execution_count": null,
   "id": "3620ddfa-c714-4708-b6cd-41874c32eebe",
   "metadata": {},
   "outputs": [],
   "source": [
    "# df_user_baseに最終利用日と利用回数と総投入量をマージ\n",
    "df_user_base = pd.merge(df_user_base, last_entries[['user_id','use_date','利用回数','総投入量']], left_on='利用者ID', right_on='user_id', how='left')\n",
    "df_user_base = df_user_base.rename(columns={'use_date':'RPS最終利用日'})\n",
    "df_user_base = df_user_base.drop(columns=['user_id'])"
   ]
  },
  {
   "cell_type": "code",
   "execution_count": null,
   "id": "742e3833",
   "metadata": {},
   "outputs": [],
   "source": [
    "# 継続利用期間を計算して追加\n",
    "df_user_base['継続利用期間(月)'] = (df_user_base['RPS最終利用日'] - df_user_base['登録日時']).dt.days / 30  # 月単位で計算\n",
    "# df_user_base.sort_values(by = '継続利用期間(月)')\n",
    "# df_user_base[df_user_base['継続利用期間(月)'].isna()]"
   ]
  },
  {
   "cell_type": "code",
   "execution_count": null,
   "id": "2d23ebbd-8e78-4cf3-a764-5e9a06928060",
   "metadata": {},
   "outputs": [],
   "source": [
    "df_user_base.head(1)"
   ]
  },
  {
   "cell_type": "markdown",
   "id": "a567bf6d-7f91-4431-b667-054d58eed697",
   "metadata": {},
   "source": [
    "#### ※df_user_baseとdf_user_basef_point_historyをマージ"
   ]
  },
  {
   "cell_type": "code",
   "execution_count": null,
   "id": "20d392cf",
   "metadata": {},
   "outputs": [],
   "source": [
    "# point_history.csvとユーザー基本情報_2023-12-21.csvをマージ\n",
    "df_user_base_user_base_merge = pd.merge(df_point_history, df_user_base, left_on='user_id', right_on='利用者ID', how='left')"
   ]
  },
  {
   "cell_type": "markdown",
   "id": "bfb61235",
   "metadata": {},
   "source": [
    "# 2. 分析"
   ]
  },
  {
   "cell_type": "markdown",
   "id": "c868eb05",
   "metadata": {},
   "source": [
    "## 分析1\n",
    " 【ランクごとの継続利用期間（最終更新日-利用開始日）の比較】   \n",
    " ＜目的＞15kg/月以上出し続ける能力がある人の方が、ない人より継続利用期間が長いことを証明<br>\n",
    "　＜方法＞シルバー以上の人と、ブロンズの人の継続利用期間の比較（中央値）<br>\n",
    "\n",
    " ＜結果＞ランクが上がるにつれて、中央値は上昇傾向  \n",
    " ＜懸念＞データが怪しい。特に継続利用期間の最少が間違っていそう（ゴールドとか）<br>\n",
    "     　　　　→クレンジングの再見直し"
   ]
  },
  {
   "cell_type": "code",
   "execution_count": null,
   "id": "001a8687-d640-49c6-9f90-532fafa7c9a7",
   "metadata": {},
   "outputs": [],
   "source": [
    "# 継続利用期間が不正なデータを削除(シルバーは無し)\n",
    "df_user_base = df_user_base[df_user_base['継続利用期間(月)']>=0]    # 継続利用期間が負の値を削除\n",
    "df_user_base = df_user_base[~((df_user_base['継続利用期間(月)']<=5) & (df_user_base['現在ランク'] == 'ゴールド'))]    # ゴールドなのに継続利用期間が5ヵ月未満の値を削除\n",
    "df_user_base = df_user_base[~((df_user_base['継続利用期間(月)']<=6) & (df_user_base['現在ランク'] == 'プラチナ'))]    # プラチナなのに継続利用期間が6ヵ月未満の値を削除"
   ]
  },
  {
   "cell_type": "code",
   "execution_count": null,
   "id": "a7a1c6ce-f598-4b3f-a948-35c7238386c3",
   "metadata": {},
   "outputs": [],
   "source": [
    "# ボックスプロットでランク別に継続利用期間を表示\n",
    "sns.boxplot(x='現在ランク', y='継続利用期間(月)', data=df_user_base, order=['ブロンズ', 'シルバー', 'ゴールド', 'プラチナ'])\n",
    "plt.xlabel('現在ランク')\n",
    "plt.ylabel('継続利用期間(月)')\n",
    "plt.title('ランク別継続利用期間の比較')\n",
    "plt.show()"
   ]
  },
  {
   "cell_type": "code",
   "execution_count": null,
   "id": "7411d2cb-3e97-4a80-b98a-0b0075981bdb",
   "metadata": {},
   "outputs": [],
   "source": [
    "for rank in ['ブロンズ', 'シルバー', 'ゴールド', 'プラチナ']:\n",
    "    median_duration = df_user_base_user_base_merge_rank_positive[df_user_base_user_base_merge_rank_positive['現在ランク'] == rank]['継続利用期間'].median()\n",
    "    print(f\"{rank}ランクの継続利用期間の中央値: {median_duration}ヶ月\")"
   ]
  },
  {
   "cell_type": "code",
   "execution_count": null,
   "id": "cdc1a627-66dd-4cfe-b2c0-900d124dedbd",
   "metadata": {},
   "outputs": [],
   "source": [
    "# ヒストグラムで分布を表示\n",
    "plt.figure(figsize=(10, 6))\n",
    "sns.histplot(df_user_base_user_base_merge_rank_positive, x='継続利用期間', hue='現在ランク', element='step', stat='density', common_norm=False)\n",
    "plt.xlabel('継続利用期間（月）')\n",
    "plt.ylabel('密度')\n",
    "plt.title('シルバーとゴールドランクの継続利用期間の分布')\n",
    "plt.show()\n",
    "\n",
    "# KDEプロットで分布を表示\n",
    "plt.figure(figsize=(10, 6))\n",
    "sns.kdeplot(data=df_user_base_user_base_merge_rank_positive, x='継続利用期間', hue='現在ランク', common_norm=False)\n",
    "plt.xlabel('継続利用期間（月）')\n",
    "plt.ylabel('密度')\n",
    "plt.title('シルバーとゴールドランクの継続利用期間の分布（KDE）')\n",
    "plt.show()"
   ]
  },
  {
   "cell_type": "markdown",
   "id": "a95f5248",
   "metadata": {},
   "source": [
    "## 分析4：年代別のrankの割合"
   ]
  },
  {
   "cell_type": "markdown",
   "id": "ecd49a49-23f7-43fa-bd87-51609c9c0843",
   "metadata": {},
   "source": [
    "rankはどの時点のものにする？<br>\n",
    "棒グラフで可視化"
   ]
  },
  {
   "cell_type": "markdown",
   "id": "d54744cf-3fbe-40b3-8408-907687bc1713",
   "metadata": {},
   "source": [
    "## 分析：RFM算出"
   ]
  },
  {
   "cell_type": "markdown",
   "id": "b3ecc61e-cbad-4ae2-8e3c-06528909ad3a",
   "metadata": {},
   "source": [
    "「最終購入日(Recency)」「購入頻度(Frequency)」「購入金額(Monetary)」の3つでグループ分けするマーケティング分析<br>\n",
    "→最終利用日、利用回数、総投入量の3つでグループ分けする"
   ]
  },
  {
   "cell_type": "code",
   "execution_count": null,
   "id": "5ca52b12-41fc-4c45-afac-1cce0b8a88d9",
   "metadata": {},
   "outputs": [],
   "source": [
    "# RPS最終利用日を日付型に変換し、エポックタイム（日数）に変換\n",
    "df_user_base['RPS最終利用日'] = pd.to_datetime(df_user_base['RPS最終利用日'])\n",
    "df_user_base['RPS最終利用日(何日前)'] = (pd.Timestamp(\"2023-12-31\") - df_user_base['RPS最終利用日']) // pd.Timedelta('1D')"
   ]
  },
  {
   "cell_type": "code",
   "execution_count": null,
   "id": "562cb1b8-b12a-44a0-896a-9ce36f72825e",
   "metadata": {},
   "outputs": [],
   "source": [
    "df_user_base.sort_values(by='利用回数',ascending = True)"
   ]
  },
  {
   "cell_type": "markdown",
   "id": "f5615d0f-3707-4e76-b152-c1a1e5eb3623",
   "metadata": {},
   "source": [
    "ヒストグラムを表示"
   ]
  },
  {
   "cell_type": "code",
   "execution_count": null,
   "id": "abafb20d-b297-47bf-80ed-ab6a9fde5d1a",
   "metadata": {},
   "outputs": [],
   "source": [
    "df_user_base_log = df_user_base.copy()\n",
    "df_user_base_log.loc[df_user_base_log['総投入量'] < 0, '総投入量'] = 1\n",
    "df_user_base_log.loc[df_user_base_log['RPS最終利用日(何日前)'] < 0, 'RPS最終利用日(何日前)'] = 1\n",
    "\n",
    "\n",
    "\n",
    "# 利用回数と総投入量の対数変換\n",
    "df_user_base_log['利用回数'] = np.log10(df_user_base_log['利用回数'])\n",
    "df_user_base_log['総投入量'] = np.log10(df_user_base_log['総投入量'])\n",
    "df_user_base_log['RPS最終利用日(何日前)'] = np.log10(df_user_base_log['RPS最終利用日(何日前)'])\n",
    "\n",
    "# Convert the 'RPS最終利用日' column to datetime\n",
    "df_user_base_log['RPS最終利用日(何日前)'] = pd.to_datetime(df_user_base_log['RPS最終利用日(何日前)'])\n",
    "\n",
    "# Plot histograms\n",
    "fig, axs = plt.subplots(1, 3, figsize=(15, 5))\n",
    "\n",
    "# Histogram for 'RPS最終利用日'\n",
    "axs[0].hist(df_user_base_log['RPS最終利用日(何日前)'], bins=10, color='blue', edgecolor='black')\n",
    "axs[0].set_title('RPS最終利用日のヒストグラム')\n",
    "axs[0].set_xlabel('日付')\n",
    "axs[0].set_ylabel('頻度')\n",
    "\n",
    "# Histogram for '利用回数'\n",
    "axs[1].hist(df_user_base_log['利用回数'], bins=10, color='green', edgecolor='black')\n",
    "axs[1].set_title('利用回数のヒストグラム')\n",
    "axs[1].set_xlabel('利用回数')\n",
    "axs[1].set_ylabel('頻度')\n",
    "\n",
    "# Histogram for '総投入量'\n",
    "axs[2].hist(df_user_base_log['総投入量'], bins=10, color='red', edgecolor='black')\n",
    "axs[2].set_title('総投入量のヒストグラム')\n",
    "axs[2].set_xlabel('総投入量')\n",
    "axs[2].set_ylabel('人数')\n",
    "\n",
    "plt.tight_layout()\n",
    "plt.show()"
   ]
  },
  {
   "cell_type": "code",
   "execution_count": null,
   "id": "4432af65-7388-46c3-bed4-183bb0ec8987",
   "metadata": {},
   "outputs": [],
   "source": [
    "df_user_base_log = df_user_base.copy()\n",
    "\n",
    "# 利用回数と総投入量の対数変換\n",
    "df_user_base_log['利用回数'] = np.log10(df_user_base_log['利用回数'])\n",
    "df_user_base_log['総投入量'] = np.log10(df_user_base_log['総投入量'])\n",
    "df_user_base_log['RPS最終利用日(何日前)'] = np.log10(df_user_base_log['RPS最終利用日(何日前)'])\n",
    "\n",
    "\n",
    "# 3軸グラフの作成\n",
    "fig = plt.figure(figsize=(10, 8))\n",
    "ax = fig.add_subplot(111, projection='3d')\n",
    "\n",
    "# プロットデータの設定\n",
    "x = df_user_base_log['RPS最終利用日(何日前)']\n",
    "y = df_user_base_log['利用回数']\n",
    "z = df_user_base_log['総投入量']\n",
    "\n",
    "# プロット\n",
    "ax.scatter(x, y, z, c='b', marker='o', alpha = 0.1)\n",
    "\n",
    "# 軸のラベル設定\n",
    "ax.set_xlabel('RPS最終利用日（日数）')\n",
    "ax.set_ylabel('利用回数')\n",
    "ax.set_zlabel('総投入量')\n",
    "\n",
    "# タイトル設定\n",
    "plt.title('RPS最終利用日、利用回数、総投入量の3軸プロット')\n",
    "\n",
    "# 視点の設定\n",
    "ax.view_init(30,45)\n",
    "\n",
    "# 表示\n",
    "plt.show()"
   ]
  },
  {
   "cell_type": "markdown",
   "id": "61dc7593",
   "metadata": {
    "jp-MarkdownHeadingCollapsed": true
   },
   "source": [
    "# (参考) visualization_point_history.ipynb の分析"
   ]
  },
  {
   "cell_type": "code",
   "execution_count": null,
   "id": "01579599-1aee-4231-b04f-285f47935c16",
   "metadata": {},
   "outputs": [],
   "source": []
  },
  {
   "cell_type": "code",
   "execution_count": null,
   "id": "103404d5-5a78-4414-9ebf-aa620d46b9ea",
   "metadata": {},
   "outputs": [],
   "source": []
  },
  {
   "cell_type": "markdown",
   "id": "413e0370",
   "metadata": {},
   "source": [
    "## 2-1. rankごとの平均年間持込量kgの算出"
   ]
  },
  {
   "cell_type": "markdown",
   "id": "af4d25b4",
   "metadata": {},
   "source": [
    "・rank_id毎のrecycle_amount_per_year平均の算出  \n",
    "・rankが高いほど、年間持ち込み量が多いという仮説を証明する(当然？)  \n",
    "・rank_idは、0:ブロンズ、1:シルバー、2:ゴールド、3:プラチナ  \n",
    "・1か月に15kg持ち込み続けるとランクUP。ランクダウンは不明(1か月15kgを達成しないとダウン説、、？)  \n",
    "※以下の手順を踏むと「rank毎の1回の持ち込み量平均」になってしまうので注意  \n",
    "　　① amount_kgは1回の持ち込み量。これをrank_id毎にsumする  \n",
    "　　② rank_idそれぞれの出現回数をsumする  \n",
    "　　③ ①を②で割る  "
   ]
  },
  {
   "cell_type": "code",
   "execution_count": null,
   "id": "62a1f66c",
   "metadata": {},
   "outputs": [],
   "source": [
    "# まずそれぞれのカラムの基本統計量を確認しておく\n",
    "print('recycle_amount_per_year')\n",
    "print(df_user_base_user_base_merge['recycle_amount_per_year'].describe())\n",
    "print('------------------')\n",
    "print('rank_id')\n",
    "print(df_user_base_user_base_merge['rank_id'].describe())\n",
    "print('------------------')\n",
    "print('rank_idのユニーク')\n",
    "print(df_user_base_user_base_merge['rank_id'].unique())"
   ]
  },
  {
   "cell_type": "markdown",
   "id": "73605f81",
   "metadata": {},
   "source": [
    "※rankは3（プラチナ）が不在な点に注意"
   ]
  },
  {
   "cell_type": "code",
   "execution_count": null,
   "id": "07439718",
   "metadata": {},
   "outputs": [],
   "source": [
    "# user_idの重複行を削除（非効率だと思いつつ、、、）\n",
    "df_user_base_user_base_merge_duplicates_user_id = df_user_base_user_base_merge.drop_duplicates(subset='user_id')\n",
    "\n",
    "ランク毎の持ち込みamountの平均 = df_user_base_user_base_merge.groupby('rank_id')['recycle_amount_per_year'].mean()\n",
    "ランク毎の持ち込みamountの平均"
   ]
  },
  {
   "cell_type": "markdown",
   "id": "394a00af",
   "metadata": {},
   "source": [
    "### 得られた示唆"
   ]
  },
  {
   "cell_type": "markdown",
   "id": "d5434406",
   "metadata": {},
   "source": [
    "・ランクが高いほど、平均年間持ち込み量は多い  \n",
    "　→「持ち込み量が多いから、ランクが上がった」という解釈の方が正しい？  \n",
    " ・rankのカラムのみ、user_infoに紐づけておくと、user_infoの情報量が増えてよいかも\n"
   ]
  },
  {
   "cell_type": "markdown",
   "id": "078896f5",
   "metadata": {},
   "source": [
    "## 2-2. ユーザ個人に着目して指針を得る "
   ]
  },
  {
   "cell_type": "markdown",
   "id": "c32fb37e",
   "metadata": {},
   "source": [
    "### 2-2-1. トップユーザのamount_kg推移"
   ]
  },
  {
   "cell_type": "markdown",
   "id": "eb779162",
   "metadata": {},
   "source": [
    "・point、coin、rankが、ユーザの持ち込み量に影響を与えているのか確認  \n",
    "・rankを維持したい人\n"
   ]
  },
  {
   "cell_type": "code",
   "execution_count": null,
   "id": "874a1103",
   "metadata": {},
   "outputs": [],
   "source": [
    "# 'user_id'の各値の出現回数を計算\n",
    "user_id_counts = df_user_base_user_base_merge['user_id'].value_counts().reset_index()\n",
    "user_id_counts.columns = ['user_id', 'count']\n",
    "\n",
    "# 元のDataFrameにcountをマージ\n",
    "df_user_base_user_base_merge = df_user_base_user_base_merge.merge(user_id_counts, on='user_id')\n",
    "\n",
    "# 出現回数に基づいてソート（降順）\n",
    "df_user_base_user_base_merge = df_user_base_user_base_merge.sort_values(by='count', ascending=False)"
   ]
  },
  {
   "cell_type": "code",
   "execution_count": null,
   "id": "2112fc12",
   "metadata": {},
   "outputs": [],
   "source": [
    "# 重複を削除して、上位100名のcountをtableで俯瞰する\n",
    "df_user_base_user_base_merged_duplicates_user_id = df_user_base_user_base_merge.drop_duplicates(subset='user_id')\n",
    "top_100 = df_user_base_user_base_merged_duplicates_user_id.head(100)\n",
    "top_100"
   ]
  },
  {
   "cell_type": "code",
   "execution_count": null,
   "id": "87aa1b09",
   "metadata": {},
   "outputs": [],
   "source": [
    "# top_100の年代別人数を表示\n",
    "sns.histplot(data=top_100, x='age_group')\n",
    "\n",
    "plt.title('Age Band Distribution')\n",
    "plt.xlabel('Age Band')\n",
    "plt.ylabel('Frequency')\n",
    "\n",
    "plt.show()"
   ]
  },
  {
   "cell_type": "code",
   "execution_count": null,
   "id": "de1273eb",
   "metadata": {},
   "outputs": [],
   "source": [
    "# 特定の人のamount_kgの推移を確認\n",
    "# 特定の人のデータのみ抽出\n",
    "target_user_id = 1152\n",
    "df_user_base_user_base_merge_target = df_user_base_user_base_merge[df_user_base_user_base_merge['user_id'] == target_user_id]\n",
    "df_user_base_user_base_merge_target = df_user_base_user_base_merge_target.sort_values(by='use_date', ascending=True)\n",
    "\n",
    "df_user_base_user_base_merge_target['use_date'] = pd.to_datetime(df_user_base_user_base_merge_target['use_date'])\n",
    "\n",
    "# use_dateを月ごとに集約（データ数が多すぎて折れ線グラフが見づらい）\n",
    "df_user_base_user_base_merge_target_monthly= df_user_base_user_base_merge_target[['use_date', 'amount_kg']].resample('M', on='use_date').sum()\n",
    "\n",
    "display(df_user_base_user_base_merge_target_monthly)\n",
    "\n",
    "# 集約されたデータで折れ線グラフを作成\n",
    "plt.figure(figsize=(10, 6))\n",
    "plt.plot(df_user_base_user_base_merge_target_monthly.index, df_user_base_user_base_merge_target_monthly['amount_kg'], marker='o')\n",
    "plt.title('Monthly Average of Amount (kg)')\n",
    "plt.xlabel('Month')\n",
    "plt.ylabel('Average Amount (kg)')\n",
    "\n",
    "# データをすべて使って折れ線グラフを作成\n",
    "plt.figure(figsize=(10, 6))\n",
    "plt.plot(df_user_base_user_base_merge_target_monthly['use_date'], df_user_base_user_base_merge_target_monthly['rank_id'], marker='o')\n",
    "plt.title('rank')\n",
    "plt.xlabel('date')\n",
    "plt.ylabel('rank')\n",
    "plt.show()\n",
    "\n",
    "# coinが付与され始めた時期のデータを表示\n",
    "filtered_df_user_base_user_base  = df_user_base_user_base_merge_target[df_user_base_user_base_merge_target['coin'] > 0]\n",
    "filtered_df_user_base_user_base.head()\n"
   ]
  },
  {
   "cell_type": "markdown",
   "id": "931e642e",
   "metadata": {},
   "source": [
    "### まとめ"
   ]
  },
  {
   "cell_type": "markdown",
   "id": "e6253d11",
   "metadata": {},
   "source": [
    "・15kgを達成しても、すぐにランクが上がらない矛盾あり  \n",
    "・15kgを未達でもすぐにランクが下がらない矛盾あり  \n",
    "・アプリを利用していなくても履歴は残る。アプリを利用しているか否かは'coin'(付与コイン)で判断する  "
   ]
  },
  {
   "cell_type": "markdown",
   "id": "73e8e293",
   "metadata": {},
   "source": [
    "## 2-3. rankシステムの効果測定"
   ]
  },
  {
   "cell_type": "markdown",
   "id": "009fe398",
   "metadata": {},
   "source": [
    "・rank_idのレコード"
   ]
  },
  {
   "cell_type": "code",
   "execution_count": null,
   "id": "2332067e",
   "metadata": {},
   "outputs": [],
   "source": [
    "# TODO: amount_kgの平均を出してしまっているので、user　rank_idごとのamount_kgの合計を出さないといけない？？\n",
    "# Calculate the average recycling amount for each user and each rank\n",
    "avg_amount_per_user_rank = df_user_base_user_base_merge.groupby(['user_id', 'rank_id'])['amount_kg'].mean().reset_index()\n",
    "# avg_amount_per_user_rank = df_user_base_user_base_merge.groupby(['user_id', 'rank_id'])['amount_kg'].sum().reset_index()\n",
    "\n",
    "# To compare the average recycling amount of different ranks for each user, we need to pivot the data\n",
    "pivot_table = avg_amount_per_user_rank.pivot(index='user_id', columns='rank_id', values='amount_kg')\n",
    "\n",
    "# Calculate the difference between each rank's average recycling amount for each user\n",
    "# For simplicity, we'll calculate the difference between consecutive ranks (rank N and rank N-1)\n",
    "rank_differences = pivot_table.diff(axis=1)"
   ]
  },
  {
   "cell_type": "code",
   "execution_count": null,
   "id": "4b66c00c-a280-4a2f-932c-cc7e1f93e201",
   "metadata": {},
   "outputs": [],
   "source": [
    "rank_differences.head(100)"
   ]
  },
  {
   "cell_type": "markdown",
   "id": "5a4a9065-eeeb-4f80-ac15-0e270ddf8c80",
   "metadata": {},
   "source": [
    "### 1,2,3ごとの平均値を出してみる"
   ]
  },
  {
   "cell_type": "code",
   "execution_count": null,
   "id": "16554741-6287-4c2a-b551-dce998e69efd",
   "metadata": {},
   "outputs": [],
   "source": [
    "average_difference_rank = rank_differences.mean(skipna=True)\n",
    "average_difference_rank"
   ]
  },
  {
   "cell_type": "markdown",
   "id": "e8c724c2",
   "metadata": {},
   "source": [
    "### 1,2,3ごとの合計を出してみる"
   ]
  },
  {
   "cell_type": "code",
   "execution_count": null,
   "id": "481196a3-97e9-4883-b615-94664e3de3b5",
   "metadata": {},
   "outputs": [],
   "source": [
    "# TODO: amount_kgの平均を出してしまっているので、user　rank_idごとのamount_kgの合計を出さないといけない？？\n",
    "# Calculate the average recycling amount for each user and each rank\n",
    "sum_amount_per_user_rank = df_user_base_user_base_merge.groupby(['user_id', 'rank_id'])['amount_kg'].sum().reset_index()\n",
    "# avg_amount_per_user_rank = df_user_base_user_base_merge.groupby(['user_id', 'rank_id'])['amount_kg'].sum().reset_index()\n",
    "\n",
    "# To compare the average recycling amount of different ranks for each user, we need to pivot the data\n",
    "pivot_table = sum_amount_per_user_rank.pivot(index='user_id', columns='rank_id', values='amount_kg')\n",
    "\n",
    "# Calculate the difference between each rank's average recycling amount for each user\n",
    "# For simplicity, we'll calculate the difference between consecutive ranks (rank N and rank N-1)\n",
    "rank_differences = pivot_table.diff(axis=1)"
   ]
  },
  {
   "cell_type": "code",
   "execution_count": null,
   "id": "c49d0a09",
   "metadata": {},
   "outputs": [],
   "source": [
    "sum_difference_rank = rank_differences.mean(skipna=True)\n",
    "sum_difference_rank"
   ]
  }
 ],
 "metadata": {
  "kernelspec": {
   "display_name": "Python 3 (ipykernel)",
   "language": "python",
   "name": "python3"
  },
  "language_info": {
   "codemirror_mode": {
    "name": "ipython",
    "version": 3
   },
   "file_extension": ".py",
   "mimetype": "text/x-python",
   "name": "python",
   "nbconvert_exporter": "python",
   "pygments_lexer": "ipython3",
   "version": "3.11.5"
  }
 },
 "nbformat": 4,
 "nbformat_minor": 5
}

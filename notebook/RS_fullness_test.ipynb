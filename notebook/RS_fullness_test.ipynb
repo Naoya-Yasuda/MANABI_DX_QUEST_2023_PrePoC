{
 "cells": [
  {
   "cell_type": "code",
   "execution_count": null,
   "metadata": {},
   "outputs": [],
   "source": [
    "from itertools import islice\n",
    "import pandas as pd\n",
    "import numpy as np\n",
    "import matplotlib.pyplot as plt\n",
    "import matplotlib.dates as mdates\n",
    "import os\n",
    "from tqdm import tqdm \n",
    "import sys\n",
    "from datetime import datetime, timedelta, time\n",
    "from scipy.optimize import curve_fit\n",
    "from scipy import stats\n",
    "\n",
    "# カレントディレクトリを.pyと合わせるために以下を実行\n",
    "from pathlib import Path\n",
    "if Path.cwd().name == \"notebook\":\n",
    "    os.chdir(\"..\")\n",
    "\n",
    "# 親ディレクトリをsys.pathに追加\n",
    "sys.path.append(os.path.dirname(os.getcwd()))\n",
    "from utils.point_history_utils import replace_nan, set_dtype, parse_date\n",
    "\n",
    "# Windows MatplotlibのデフォルトフォントをMeiryoに設定\n",
    "plt.rcParams['font.family'] = 'Meiryo'\n",
    "\n",
    "\n",
    "# 設定\n",
    "pd.set_option('display.max_rows', 500)\n",
    "pd.set_option('display.min_rows', 500)\n",
    "pd.set_option('display.max_columns', 500)\n"
   ]
  },
  {
   "cell_type": "code",
   "execution_count": null,
   "metadata": {},
   "outputs": [],
   "source": [
    "def aggregate_shop_date(df):\n",
    "    # shop_idと年月日ごとにグループ化し、合計値と代表値を計算\n",
    "    aggregated_df = df.groupby(['shop_id', '年月日']).agg({\n",
    "        'amount': 'sum',\n",
    "        'amount_kg': 'sum',\n",
    "        'point': 'sum',\n",
    "        'total_point': 'sum',\n",
    "        'total_amount': 'sum',\n",
    "        'coin': 'sum',\n",
    "        'series_id': 'first',\n",
    "        'shop_name': 'first',\n",
    "        'リサイクル分類ID': 'first',\n",
    "        '支店ID': 'first',\n",
    "        'super': 'first',\n",
    "        'prefectures': 'first',\n",
    "        'municipality': 'first',\n",
    "        'shop_name_1': 'first',\n",
    "        'shop_id_1': 'first',\n",
    "        'store_opening_time': 'first',\n",
    "        'store_closing_time': 'first',\n",
    "        'rps_opening_time': 'first',\n",
    "        'rps_closing_time': 'first',\n",
    "        'store_latitude': 'first',\n",
    "        'store_longitude': 'first',\n",
    "        '天気': 'first',\n",
    "        '平均気温(℃)': 'first',\n",
    "        '最高気温(℃)': 'first',\n",
    "        '最低気温(℃)': 'first',\n",
    "        '降水量の合計(mm)': 'first',\n",
    "        '平均風速(m/s)': 'first',\n",
    "        '平均湿度(％)': 'first',\n",
    "        '平均現地気圧(hPa)': 'first',\n",
    "        '平均雲量(10分比)': 'first',\n",
    "        '降雪量合計(cm)': 'first',\n",
    "        '日照時間(時間)': 'first',\n",
    "        '合計全天日射量(MJ/㎡)': 'first'\n",
    "    }).reset_index()\n",
    "\n",
    "    # shop_idと年月日でソート\n",
    "    aggregated_df = aggregated_df.sort_values(by=['shop_id', '年月日'])\n",
    "\n",
    "    # 結果を保存\n",
    "    aggregated_df.to_csv('data/input/point_history_per_shop_date.csv', index=False, encoding=\"utf-8\")\n",
    "\n",
    "def aggregate_date(df):\n",
    "    # shop_idごとにグループ化し、合計値と代表値を計算\n",
    "    aggregated_df = df.groupby(['shop_id']).agg({\n",
    "        'amount': 'sum',\n",
    "        'amount_kg': 'sum',\n",
    "        'point': 'sum',\n",
    "        'total_point': 'sum',\n",
    "        'total_amount': 'sum',\n",
    "        'coin': 'sum',\n",
    "        'series_id': 'first',\n",
    "        'shop_name': 'first',\n",
    "        'リサイクル分類ID': 'first',\n",
    "        '支店ID': 'first',\n",
    "        'super': 'first',\n",
    "        'prefectures': 'first',\n",
    "        'municipality': 'first',\n",
    "        'shop_name_1': 'first',\n",
    "        'shop_id_1': 'first',\n",
    "        'store_opening_time': 'first',\n",
    "        'store_closing_time': 'first',\n",
    "        'rps_opening_time': 'first',\n",
    "        'rps_closing_time': 'first',\n",
    "        'store_latitude': 'first',\n",
    "        'store_longitude': 'first',\n",
    "        '天気': 'first',\n",
    "        '平均気温(℃)': 'first',\n",
    "        '最高気温(℃)': 'first',\n",
    "        '最低気温(℃)': 'first',\n",
    "        '降水量の合計(mm)': 'first',\n",
    "        '平均風速(m/s)': 'first',\n",
    "        '平均湿度(％)': 'first',\n",
    "        '平均現地気圧(hPa)': 'first',\n",
    "        '平均雲量(10分比)': 'first',\n",
    "        '降雪量合計(cm)': 'first',\n",
    "        '日照時間(時間)': 'first',\n",
    "        '合計全天日射量(MJ/㎡)': 'first'\n",
    "    }).reset_index()\n",
    "\n",
    "    # shop_idでソート\n",
    "    aggregated_df = aggregated_df.sort_values(by=['shop_id'])\n",
    "\n",
    "    # 結果を保存\n",
    "    aggregated_df.to_csv('data/input/point_history_per_shop.csv', index=False, encoding=\"utf-8\")\n"
   ]
  },
  {
   "cell_type": "code",
   "execution_count": null,
   "metadata": {},
   "outputs": [],
   "source": [
    "\n",
    "#concat_csv()\n",
    "#df = pd.read_csv('data/input/shop_data/point_history_ヨークベニマル_明石台店.csv', encoding=\"utf-8\")\n",
    "#df = pd.read_csv('data/input/shop_data/point_history_ヨークベニマル_南中山店.csv', encoding=\"utf-8\")\n",
    "df = pd.read_csv('data/input/shop_data/point_history_みやぎ生協_加賀野店.csv', encoding=\"utf-8\")\n",
    "#df = pd.read_csv('data/input/point_history_みやぎ生協_石巻大橋店.csv', encoding=\"utf-8\")\n",
    "#df = pd.read_csv('data/input/point_history_みやぎ生協_加賀野店2.csv', encoding=\"utf-8\")\n",
    "#df = pd.read_csv('data/input/point_history_ビフレ_東通店.csv', encoding=\"utf-8\")\n",
    "#df = pd.read_csv('data/input/shop_data/point_history_ヨークベニマル_小野町店.csv', encoding=\"utf-8\")\n",
    "#df = pd.read_csv('data/input/shop_data/point_history_サン・マルシェ_大河原店.csv', encoding=\"utf-8\")\n",
    "#df = pd.read_csv('data/input/shop_data/point_history_清水フードセンター_西内野店(登録不可).csv', encoding=\"utf-8\")\n",
    "df = set_dtype(df)\n",
    "df = replace_nan(df)\n",
    "#df['rps_opening_time'] = pd.to_datetime(df['use_date'].dt.date.astype(str) + ' ' + df['rps_opening_time'])\n",
    "#df['rps_closing_time'] = pd.to_datetime(df['use_date'].dt.date.astype(str) + ' ' + df['rps_closing_time'])\n",
    "#df['rps_opening_time'] = pd.to_datetime(df['rps_opening_time'])\n",
    "#df['rps_closing_time'] = pd.to_datetime(df['rps_closing_time'])\n",
    "# df[(pd.to_datetime(df['use_date']) < pd.to_datetime('2023-01-02')) & (pd.to_datetime(df['use_date']) > pd.to_datetime('2022-12-30'))].sort_values(by='use_date')\n"
   ]
  },
  {
   "cell_type": "code",
   "execution_count": null,
   "metadata": {},
   "outputs": [],
   "source": [
    "df[:1]"
   ]
  },
  {
   "cell_type": "code",
   "execution_count": null,
   "metadata": {},
   "outputs": [],
   "source": [
    "# 年月日ごとにグループ化し、amount_kgの合計値をplot\n",
    "df['年月日'] = pd.to_datetime(df['use_date']).dt.floor('d')\n",
    "df.groupby('年月日')['amount_kg'].sum().plot()"
   ]
  },
  {
   "cell_type": "code",
   "execution_count": null,
   "metadata": {},
   "outputs": [],
   "source": [
    "# use_date列の差分を計算\n",
    "df['time_diff'] = df['use_date'].diff()\n",
    "\n",
    "# df['年月日']について前の行と日付が異なる場合、df['rps_closing_time']とdf['rps_opening_time']の差をdf['time_diff']に格納\n",
    "df.loc[df['年月日'].diff().dt.total_seconds() != 0, 'time_diff'] -=  df['rps_opening_time'] - df['rps_closing_time'].shift(1)\n",
    "\n",
    "\n",
    "df['time_diff'] = df['time_diff'].dt.total_seconds() / 3600\n",
    "\n",
    "# 最初の行には nan を設定\n",
    "df.loc[0, 'time_diff'] = np.nan"
   ]
  },
  {
   "cell_type": "code",
   "execution_count": null,
   "metadata": {},
   "outputs": [],
   "source": [
    "# df['use_date'].diff().dt.days != 0 がtrueのインデックスを取得\n",
    "df[df['use_date'].dt.date.diff().dt.days != 0].index"
   ]
  },
  {
   "cell_type": "code",
   "execution_count": null,
   "metadata": {},
   "outputs": [],
   "source": [
    "fig, ax = plt.subplots()\n",
    "ax.plot(df['use_date'],df['time_diff'])\n",
    "#ax.scatter(df['use_date'],df['time_diff'], s=2)\n",
    "\n",
    "# x軸のラベル表示間隔を調整\n",
    "ax.xaxis.set_major_locator(mdates.YearLocator())\n",
    "ax.xaxis.set_major_formatter(mdates.DateFormatter('%Y'))\n",
    "\n",
    "ax.set_xlabel('年月日')\n",
    "ax.set_ylabel('リサイクルステーションの利用間隔[h]')\n",
    "\n",
    "# yの最大値\n",
    "ax.set_ylim(0, 6)\n",
    "\n"
   ]
  },
  {
   "cell_type": "code",
   "execution_count": null,
   "metadata": {},
   "outputs": [],
   "source": [
    "# df['use_date_diff']の分布を確認\n",
    "fig, ax = plt.subplots()\n",
    "ax.hist(df['time_diff'], bins=100, range=(0, 12))\n",
    "ax.set_xlabel('リサイクルステーションの利用間隔[h]')\n",
    "ax.set_ylabel('頻度')\n",
    "# 両対数にする\n",
    "ax.set_yscale('log')\n",
    "ax.set_xscale('log')"
   ]
  },
  {
   "cell_type": "code",
   "execution_count": null,
   "metadata": {},
   "outputs": [],
   "source": [
    "# べき乗則関数を定義\n",
    "def power_law(x, a, b):\n",
    "    return a * np.power(x, b)\n",
    "\n",
    "# 指数関数を定義\n",
    "def exp_func(x, a, b):\n",
    "    return a*np.exp(-b*x)\n",
    "    #return a**(-b*x)\n",
    "\n",
    "# ヒストグラムのデータを取得\n",
    "counts, bin_edges = np.histogram(df['time_diff'], bins=100, range=(0, 12))\n",
    "bin_centers = (bin_edges[:-1] + bin_edges[1:]) / 2\n",
    "\n",
    "# x軸の大きい値を重視してべき乗則のフィットを行う\n",
    "mask = counts > 0\n",
    "weights = np.ones(shape = bin_centers[mask].shape)\n",
    "weights = 1 / bin_centers[mask] ** 2\n",
    "#weights = 10e4 * np.e ** (-bin_centers[mask])\n",
    "\n",
    "# 重み付きフィットを実行\n",
    "#params, params_covariance = curve_fit(power_law, bin_centers[mask], counts[mask], sigma=weights)\n",
    "params, params_covariance = curve_fit(exp_func, bin_centers[mask], counts[mask], sigma=weights)\n",
    "print(\"params\",params)\n",
    "\n",
    "# フィット結果をプロット\n",
    "fig, ax = plt.subplots()\n",
    "ax.bar(bin_centers, counts, width=np.diff(bin_edges), label='Data')\n",
    "#ax.plot(bin_centers, power_law(bin_centers, *params)+0.01, label='Fit: a=%.2f, b=%.2f' % tuple(params), color='red')\n",
    "ax.plot(bin_centers, exp_func(bin_centers, *params)+0.01, label='Fit: a=%.2f, b=%.2f' % tuple(params), color='red')\n",
    "ax.set_xlabel('リサイクルステーションの利用間隔[h]')\n",
    "ax.set_ylabel('Frequency')\n",
    "ax.set_yscale('log')\n",
    "ax.set_xscale('log')"
   ]
  },
  {
   "cell_type": "code",
   "execution_count": null,
   "metadata": {},
   "outputs": [],
   "source": [
    "bin_centers[:10]"
   ]
  },
  {
   "cell_type": "code",
   "execution_count": null,
   "metadata": {},
   "outputs": [],
   "source": [
    "# KS検定を実行して指数分布であるかを検定\n",
    "lambda_est = 1.0 / np.mean(bin_edges)  # データからラムダを推定\n",
    "d, p_value = stats.kstest( bin_edges, 'expon', args=(0, 1/lambda_est))\n",
    "\n",
    "print(f\"KS Statistic: {d}\")\n",
    "print(f\"P-value: {p_value}\")"
   ]
  },
  {
   "cell_type": "code",
   "execution_count": null,
   "metadata": {},
   "outputs": [],
   "source": [
    "a, b = params[:2]\n",
    "expected = exp_func(bin_centers,a,b)  # 各ビンでの期待頻度\n",
    "#expected = a * np.power(bin_centers, b) * (bin_centers[1] - bin_centers[0])  # 各ビンでの期待頻度\n",
    "\n",
    "index = 2\n",
    "expected *= sum(counts[index:]) / sum(expected[index:])  # 期待頻度を正規化\n",
    "# カイ二乗適合度検定\n",
    "chi_squared_stat, p_value = stats.chisquare(counts[index:], f_exp=expected[index:])\n",
    "\n",
    "print(f\"Chi-squared statistic: {chi_squared_stat}\")\n",
    "print(f\"P-value: {p_value}\")\n",
    "\n",
    "# ヒストグラムと期待される分布のプロット\n",
    "fig, ax = plt.subplots() \n",
    "ax.bar(bin_centers, counts, width=np.diff(bin_edges), label='Data')\n",
    "ax.plot(bin_centers, exp_func(bin_centers,a,b)+0.01, linewidth=2, color='r')\n",
    "ax.set_xlabel('リサイクルステーションの利用間隔[h]')\n",
    "ax.set_ylabel('Frequency')\n",
    "ax.set_yscale('log')\n",
    "ax.set_xscale('log')\n",
    "plt.show()"
   ]
  },
  {
   "cell_type": "code",
   "execution_count": null,
   "metadata": {},
   "outputs": [],
   "source": []
  },
  {
   "cell_type": "code",
   "execution_count": null,
   "metadata": {},
   "outputs": [],
   "source": []
  },
  {
   "cell_type": "code",
   "execution_count": null,
   "metadata": {},
   "outputs": [],
   "source": []
  },
  {
   "cell_type": "code",
   "execution_count": null,
   "metadata": {},
   "outputs": [],
   "source": []
  },
  {
   "cell_type": "code",
   "execution_count": null,
   "metadata": {},
   "outputs": [],
   "source": [
    "# 閾値を設定（x軸が小さい部分は誤差が大きいため除外）\n",
    "threshold = np.percentile(bin_centers[mask], 10)\n",
    "\n",
    "# 閾値より大きい値のみを考慮\n",
    "selected_mask = bin_centers[mask] >= threshold\n",
    "\n",
    "# 残差平方和（RSS）を計算\n",
    "residuals = counts[mask][selected_mask] - power_law(bin_centers[mask][selected_mask], *params)\n",
    "rss = np.sum(residuals**2)\n",
    "\n",
    "# 全変動平方和（TSS）を計算\n",
    "mean_counts = np.mean(counts[mask][selected_mask])\n",
    "tss = np.sum((counts[mask][selected_mask] - mean_counts)**2)\n",
    "\n",
    "# 決定係数（R²）を計算\n",
    "r_squared = 1 - (rss / tss)\n",
    "\n",
    "print(f\"R-squared: {r_squared}\")"
   ]
  },
  {
   "cell_type": "code",
   "execution_count": null,
   "metadata": {},
   "outputs": [],
   "source": []
  },
  {
   "cell_type": "code",
   "execution_count": null,
   "metadata": {},
   "outputs": [],
   "source": []
  },
  {
   "cell_type": "code",
   "execution_count": null,
   "metadata": {},
   "outputs": [],
   "source": []
  },
  {
   "cell_type": "code",
   "execution_count": null,
   "metadata": {},
   "outputs": [],
   "source": []
  },
  {
   "cell_type": "code",
   "execution_count": null,
   "metadata": {},
   "outputs": [],
   "source": []
  },
  {
   "cell_type": "code",
   "execution_count": null,
   "metadata": {},
   "outputs": [],
   "source": []
  },
  {
   "cell_type": "code",
   "execution_count": null,
   "metadata": {},
   "outputs": [],
   "source": []
  },
  {
   "cell_type": "code",
   "execution_count": null,
   "metadata": {},
   "outputs": [],
   "source": []
  },
  {
   "cell_type": "code",
   "execution_count": null,
   "metadata": {},
   "outputs": [],
   "source": []
  },
  {
   "cell_type": "code",
   "execution_count": null,
   "metadata": {},
   "outputs": [],
   "source": []
  },
  {
   "cell_type": "code",
   "execution_count": null,
   "metadata": {},
   "outputs": [],
   "source": []
  },
  {
   "cell_type": "code",
   "execution_count": null,
   "metadata": {},
   "outputs": [],
   "source": []
  },
  {
   "cell_type": "code",
   "execution_count": null,
   "metadata": {},
   "outputs": [],
   "source": []
  },
  {
   "cell_type": "code",
   "execution_count": null,
   "metadata": {},
   "outputs": [],
   "source": []
  },
  {
   "cell_type": "code",
   "execution_count": null,
   "metadata": {},
   "outputs": [],
   "source": []
  },
  {
   "cell_type": "code",
   "execution_count": null,
   "metadata": {},
   "outputs": [],
   "source": []
  },
  {
   "cell_type": "code",
   "execution_count": null,
   "metadata": {},
   "outputs": [],
   "source": []
  },
  {
   "cell_type": "code",
   "execution_count": null,
   "metadata": {},
   "outputs": [],
   "source": []
  },
  {
   "cell_type": "code",
   "execution_count": null,
   "metadata": {},
   "outputs": [],
   "source": []
  },
  {
   "cell_type": "code",
   "execution_count": null,
   "metadata": {},
   "outputs": [],
   "source": []
  }
 ],
 "metadata": {
  "kernelspec": {
   "display_name": "patchworks",
   "language": "python",
   "name": "python3"
  },
  "language_info": {
   "codemirror_mode": {
    "name": "ipython",
    "version": 3
   },
   "file_extension": ".py",
   "mimetype": "text/x-python",
   "name": "python",
   "nbconvert_exporter": "python",
   "pygments_lexer": "ipython3",
   "version": "3.11.5"
  }
 },
 "nbformat": 4,
 "nbformat_minor": 2
}

{
 "cells": [
  {
   "cell_type": "code",
   "execution_count": null,
   "metadata": {},
   "outputs": [],
   "source": [
    "import pandas as pd\n",
    "import matplotlib.pyplot as plt\n",
    "import seaborn as sns #seabornない人はpip installしてね\n",
    "import os\n",
    "from datetime import datetime\n",
    "import numpy as np\n",
    "import matplotlib as mpl\n",
    "\n",
    "# 日本語フォントの設定\n",
    "mpl.rcParams['font.family'] = 'IPAexGothic'\n",
    "\n",
    "# カレントディレクトリを.pyと合わせるために以下を実行\n",
    "from pathlib import Path\n",
    "if Path.cwd().name == \"notebook\":\n",
    "    os.chdir(\"..\")\n",
    "\n",
    "\n",
    "# 設定\n",
    "pd.set_option('display.max_rows', 500)\n",
    "pd.set_option('display.min_rows', 500)\n",
    "pd.set_option('display.max_columns', 500)\n",
    "\n",
    "# Mac Matplotlibのデフォルトフォントをヒラギノ角ゴシックに設定\n",
    "plt.rcParams['font.family'] = 'Hiragino Sans'\n",
    "# Windows MatplotlibのデフォルトフォントをMeiryoに設定\n",
    "plt.rcParams['font.family'] = 'Meiryo'"
   ]
  },
  {
   "cell_type": "code",
   "execution_count": null,
   "metadata": {},
   "outputs": [],
   "source": [
    "df = pd.read_csv('data/input/point_history_cleansing_weather.csv', encoding=\"utf-8\", index_col=0)\n",
    "df[:3]"
   ]
  },
  {
   "cell_type": "code",
   "execution_count": null,
   "metadata": {},
   "outputs": [],
   "source": [
    "df[(df[\"天気\"] != \"晴\") & (df[\"天気\"] != \"曇\") & (df[\"天気\"] != \"雨\") & (df[\"天気\"] != \"雪\")][:3]"
   ]
  },
  {
   "cell_type": "code",
   "execution_count": null,
   "metadata": {},
   "outputs": [],
   "source": [
    "df.columns"
   ]
  },
  {
   "cell_type": "markdown",
   "metadata": {},
   "source": [
    "型変換"
   ]
  },
  {
   "cell_type": "code",
   "execution_count": null,
   "metadata": {},
   "outputs": [],
   "source": [
    "df = df.replace('N', np.nan)\n",
    "df = df.replace('nan', np.nan)\n",
    "\n",
    "column_types = {\n",
    "    'id' : np.float16,\n",
    "    'user_id' : int,\n",
    "    'series_id' : np.float16,\n",
    "    'shop_id' : np.float16,\n",
    "    'shop_name' : str,\n",
    "    'card_id' : str,\n",
    "    'リサイクル分類ID' : np.float16,\n",
    "    'amount' : np.float16,\n",
    "    'amount_kg' : np.float16,\n",
    "    'point' : np.float16,\n",
    "    'total_point' : np.float16,\n",
    "    'status' : np.float16,\n",
    "    'total_amount' : np.float16,\n",
    "    'coin' : np.float16,\n",
    "    'rank_id' : np.float16,\n",
    "    'use_date' :   'datetime64[ns]',\n",
    "    'created_at' : 'datetime64[ns]',\n",
    "    'updated_at' : 'datetime64[ns]',\n",
    "    '支店ID' : np.float16,\n",
    "    'super' : str,\n",
    "    'prefectures' : str,\n",
    "    'municipality' : str,\n",
    "    'shop_name_1' :  str,\n",
    "    'shop_id_1' :    str,\n",
    "    'created_at_1' : 'datetime64[ns]',\n",
    "    'updated_at_1' : 'datetime64[ns]',\n",
    "    'store_latitude' : np.double,\n",
    "    'store_longitude' : np.double,\n",
    "    'use_date_2' : 'datetime64[ns]',\n",
    "    '年月日' : 'datetime64[ns]',\n",
    "    '天気': str,\n",
    "    '平均気温(℃)': np.float16,\n",
    "    '最高気温(℃)': np.float16,\n",
    "    '最低気温(℃)': np.float16,\n",
    "    '降水量の合計(mm)': np.float16,\n",
    "    '平均風速(m/s)': np.float16,\n",
    "    '平均湿度(％)': np.float16,\n",
    "    '平均現地気圧(hPa)': np.float16,\n",
    "    '平均雲量(10分比)': np.float16,\n",
    "    '降雪量合計(cm)': np.float16,\n",
    "    '日照時間(時間)': np.float16,\n",
    "    '合計全天日射量(MJ/㎡)': np.float16,\n",
    "}\n",
    "df = df.astype(column_types)"
   ]
  },
  {
   "cell_type": "code",
   "execution_count": null,
   "metadata": {},
   "outputs": [],
   "source": [
    "df[:2]"
   ]
  },
  {
   "cell_type": "markdown",
   "metadata": {},
   "source": [
    "相関マップ"
   ]
  },
  {
   "cell_type": "code",
   "execution_count": null,
   "metadata": {},
   "outputs": [],
   "source": [
    "# 天気データをダミー変数に変換\n",
    "weather_dummies = pd.get_dummies(df['天気']).astype(int)\n",
    "\n",
    "# ダミー変数を元のデータフレームに結合\n",
    "df_with_dummies = pd.concat([df, weather_dummies], axis=1)\n",
    "\n",
    "# 文字列データを含む列を除外\n",
    "numeric_df = df_with_dummies.select_dtypes(include=[np.number])\n",
    "\n",
    "# 相関マトリックスを計算\n",
    "corr = numeric_df.corr()\n",
    "\n",
    "# 相関マップを描画\n",
    "plt.figure(figsize=(12, 10))\n",
    "sns.heatmap(corr, annot=True, fmt=\".1f\",cmap=\"bwr\")\n",
    "plt.show()"
   ]
  },
  {
   "cell_type": "code",
   "execution_count": null,
   "metadata": {},
   "outputs": [],
   "source": [
    "df_tmp = df[(df[\"天気\"] != \"晴\") & (df[\"天気\"] != \"曇\") & (df[\"天気\"] != \"雨\") & (df[\"天気\"] != \"雪\")]"
   ]
  },
  {
   "cell_type": "code",
   "execution_count": null,
   "metadata": {},
   "outputs": [],
   "source": [
    "df[\"天気\"].value_counts()"
   ]
  },
  {
   "cell_type": "code",
   "execution_count": null,
   "metadata": {},
   "outputs": [],
   "source": [
    "df_tmp[\"天気\"]"
   ]
  },
  {
   "cell_type": "code",
   "execution_count": null,
   "metadata": {},
   "outputs": [],
   "source": []
  }
 ],
 "metadata": {
  "kernelspec": {
   "display_name": "patchworks",
   "language": "python",
   "name": "python3"
  },
  "language_info": {
   "codemirror_mode": {
    "name": "ipython",
    "version": 3
   },
   "file_extension": ".py",
   "mimetype": "text/x-python",
   "name": "python",
   "nbconvert_exporter": "python",
   "pygments_lexer": "ipython3",
   "version": "3.11.5"
  }
 },
 "nbformat": 4,
 "nbformat_minor": 2
}

{
 "cells": [
  {
   "cell_type": "code",
   "execution_count": null,
   "metadata": {},
   "outputs": [],
   "source": [
    "import pandas as pd\n",
    "import matplotlib.pyplot as plt\n",
    "import seaborn as sns #seabornない人はpip installしてね\n",
    "import os\n",
    "from datetime import datetime\n",
    "import numpy as np\n",
    "\n",
    "# カレントディレクトリを.pyと合わせるために以下を実行\n",
    "from pathlib import Path\n",
    "if Path.cwd().name == \"notebook\":\n",
    "    os.chdir(\"..\")\n",
    "\n",
    "\n",
    "# 設定\n",
    "pd.set_option('display.max_rows', 500)\n",
    "pd.set_option('display.min_rows', 500)\n",
    "pd.set_option('display.max_columns', 500)"
   ]
  },
  {
   "cell_type": "code",
   "execution_count": null,
   "metadata": {},
   "outputs": [],
   "source": [
    "df = pd.read_csv('data/input/point_history_cleansing_weather.csv', encoding=\"utf-8\", index_col=0)\n",
    "df[:3]"
   ]
  },
  {
   "cell_type": "code",
   "execution_count": null,
   "metadata": {},
   "outputs": [],
   "source": [
    "df.columns"
   ]
  },
  {
   "cell_type": "markdown",
   "metadata": {},
   "source": [
    "型変換"
   ]
  },
  {
   "cell_type": "code",
   "execution_count": null,
   "metadata": {},
   "outputs": [],
   "source": [
    "df = df.replace('N', np.nan)\n",
    "\n",
    "df['use_date'] = pd.to_datetime(df['use_date'], errors='coerce')\n",
    "df['created_at'] = pd.to_datetime(df['created_at'], errors='coerce')\n",
    "df['updated_at'] = pd.to_datetime(df['updated_at'], errors='coerce')\n",
    "df['created_at_1'] = pd.to_datetime(df['created_at_1'], errors='coerce')\n",
    "df['updated_at_1'] = pd.to_datetime(df['updated_at_1'], errors='coerce')\n",
    "# time型に変換\n",
    "df['store_opening_time'] = pd.to_datetime(\n",
    "    df['store_opening_time'], format='%H:%M:%S').dt.time\n",
    "df['store_closing_time'] = pd.to_datetime(\n",
    "    df['store_closing_time'], format='%H:%M:%S').dt.time\n",
    "df['rps_opening_time'] = pd.to_datetime(\n",
    "    df['rps_opening_time'], format='%H:%M:%S').dt.time\n",
    "df['rps_closing_time'] = pd.to_datetime(\n",
    "    df['rps_closing_time'], format='%H:%M:%S').dt.time\n",
    "\n",
    "column_types = {\n",
    "    'user_id': int,\n",
    "    'use_date', datetime\n",
    "    'created_at',datetime\n",
    "    'updated_at', datetime,\n",
    "    'amount': np.float16,\n",
    "    'amount_kg': np.float16,\n",
    "    'point': np.float16,\n",
    "    'total_point': np.float16,\n",
    "    'total_amount': np.float16,\n",
    "    'coin': np.float16,\n",
    "    'id_1': 'Int64',\n",
    "    'series': 'Int64',\n",
    "    '県': str,\n",
    "    '市': str,\n",
    "    '天気': str,\n",
    "    '平均気温(℃)': np.float16,\n",
    "    '最高気温(℃)': np.float16,\n",
    "    '最低気温(℃)': np.float16,\n",
    "    '降水量の合計(mm)': np.float16,\n",
    "    '平均風速(m/s)': np.float16,\n",
    "    '平均湿度(％)': np.float16,\n",
    "    '平均現地気圧(hPa)': np.float16,\n",
    "    'lat': np.double,\n",
    "    'lon': np.double,\n",
    "    '平均雲量(10分比)': np.float16,\n",
    "    '降雪量合計(cm)': np.float16,\n",
    "    '日照時間(時間)': np.float16,\n",
    "    '合計全天日射量(MJ/㎡)': np.float16,\n",
    "}\n",
    "df = df.astype(column_types)"
   ]
  }
 ],
 "metadata": {
  "kernelspec": {
   "display_name": "patchworks",
   "language": "python",
   "name": "python3"
  },
  "language_info": {
   "codemirror_mode": {
    "name": "ipython",
    "version": 3
   },
   "file_extension": ".py",
   "mimetype": "text/x-python",
   "name": "python",
   "nbconvert_exporter": "python",
   "pygments_lexer": "ipython3",
   "version": "3.11.5"
  }
 },
 "nbformat": 4,
 "nbformat_minor": 2
}

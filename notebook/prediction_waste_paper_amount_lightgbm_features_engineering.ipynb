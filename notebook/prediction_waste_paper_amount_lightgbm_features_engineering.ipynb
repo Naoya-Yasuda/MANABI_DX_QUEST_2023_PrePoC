{
 "cells": [
  {
   "cell_type": "markdown",
   "id": "f261e941",
   "metadata": {},
   "source": [
    "# 1. 準備"
   ]
  },
  {
   "cell_type": "markdown",
   "id": "a5646cc3-f07b-4503-be1b-35a5f64d84d1",
   "metadata": {},
   "source": [
    "### 1.1. 基本設定"
   ]
  },
  {
   "cell_type": "code",
   "execution_count": null,
   "id": "762cc329-373b-47e2-839e-0b5838e12554",
   "metadata": {},
   "outputs": [],
   "source": [
    "import pandas as pd\n",
    "import matplotlib.pyplot as plt\n",
    "import seaborn as sns\n",
    "import os\n",
    "from datetime import datetime\n",
    "import numpy as np\n",
    "from pathlib import Path\n",
    "from sklearn.model_selection import train_test_split\n",
    "from tensorflow.keras.models import Sequential\n",
    "from tensorflow.keras.layers import LSTM, Dense\n",
    "from sklearn.preprocessing import MinMaxScaler\n",
    "from tensorflow.keras.optimizers import Adam\n",
    "import tensorflow as tf\n",
    "from sklearn.model_selection import train_test_split\n",
    "from sklearn.metrics import mean_absolute_error\n",
    "import matplotlib.dates as mdates\n",
    "import lightgbm as lgb\n",
    "from sklearn.metrics import mean_squared_error, mean_absolute_error, r2_score\n",
    "from sklearn.preprocessing import StandardScaler\n",
    "\n",
    "\n",
    "# カレントディレクトリを.pyと合わせるために以下を実行\n",
    "if Path.cwd().name == \"notebook\":\n",
    "    os.chdir(\"..\")\n",
    "\n",
    "# 設定\n",
    "pd.set_option('display.max_rows', 500)\n",
    "pd.set_option('display.min_rows', 500)\n",
    "pd.set_option('display.max_columns', 500)\n",
    "\n",
    "# 浮動小数点数を小数点以下3桁で表示するように設定\n",
    "pd.set_option('display.float_format', '{:.3f}'.format)"
   ]
  },
  {
   "cell_type": "code",
   "execution_count": null,
   "id": "8f82109b-f924-452e-abc3-fa3b20c4d3b0",
   "metadata": {},
   "outputs": [],
   "source": [
    "# Mac Matplotlibのデフォルトフォントをヒラギノ角ゴシックに設定\n",
    "plt.rcParams['font.family'] = 'Hiragino Sans'"
   ]
  },
  {
   "cell_type": "code",
   "execution_count": null,
   "id": "8251e4e5-10f5-4f55-bf7d-848e21d171ea",
   "metadata": {},
   "outputs": [],
   "source": [
    "# Windows MatplotlibのデフォルトフォントをMeiryoに設定\n",
    "plt.rcParams['font.family'] = 'Meiryo'"
   ]
  },
  {
   "cell_type": "markdown",
   "id": "3af1590e-8ec0-42b2-a2dd-63486506b8bc",
   "metadata": {},
   "source": [
    "### 1.2. csv読み込み"
   ]
  },
  {
   "cell_type": "code",
   "execution_count": null,
   "id": "4d9a51c9",
   "metadata": {},
   "outputs": [],
   "source": [
    "# point_history.csvの読み込み\n",
    "df_point_history_sorce = pd.read_csv('data/input/point_history_cleansing.csv')"
   ]
  },
  {
   "cell_type": "code",
   "execution_count": null,
   "id": "a8c7aad2",
   "metadata": {},
   "outputs": [],
   "source": [
    "# ユーザー基本情報の読み込み\n",
    "df_user_base_sorce = pd.read_csv(\"data/input/user_info_merged.csv\")"
   ]
  },
  {
   "cell_type": "markdown",
   "id": "f7363482-2aa6-455a-a3fe-56fef7ec89e7",
   "metadata": {},
   "source": [
    "### 1.3. データクレンジング"
   ]
  },
  {
   "cell_type": "markdown",
   "id": "1df9883d-42a1-492d-89b3-ddcd9e0a1179",
   "metadata": {},
   "source": [
    "#### 1.3.1. df_user_base(ユーザ基本情報)のクレンジング"
   ]
  },
  {
   "cell_type": "code",
   "execution_count": null,
   "id": "d046f777-24e4-482d-ad0d-76edbe81d1f0",
   "metadata": {},
   "outputs": [],
   "source": [
    "# DataFrameのコピーを作成\n",
    "feature_list = [\n",
    "    'id',\n",
    "    'club_coin',\n",
    "    'recycle_point',\n",
    "    'total_recycle_amount',\n",
    "    'recycle_amount_per_year',\n",
    "    'recycle_amount_after_gold_member',\n",
    "    'rank_continuation_class',\n",
    "    'gender',\n",
    "    '緯度',\n",
    "    '経度',\n",
    "    '登録日時',\n",
    "    'カード登録',\n",
    "    '最終利用日',\n",
    "    '登録店舗との距離',\n",
    "    '毎月平均リサイクル量',\n",
    "    '毎月平均リサイクル回数',\n",
    "    '毎月平均クラブコインの使用量',\n",
    "    '毎月平均ガチャの取得量',\n",
    "    '毎月平均ガチャの使用量',\n",
    "    '平均rank',\n",
    "    'サービス利用開始からの経過日数',\n",
    "    'birthday'\n",
    "    ]\n",
    "\n",
    "df_user_base = df_user_base_sorce.copy()\n",
    "df_user_base = df_user_base[feature_list]\n",
    "\n",
    "# 紛らわしい列名を改名\n",
    "df_user_base = df_user_base.rename(columns={'登録日時': 'アプリ登録日時', '最終利用日': 'アプリ最終利用日'})\n",
    "\n",
    "# objectをdatetimeに変更\n",
    "df_user_base['アプリ登録日時'] = pd.to_datetime(df_user_base['アプリ登録日時'], errors='coerce')\n",
    "df_user_base['アプリ最終利用日'] = pd.to_datetime(df_user_base['アプリ最終利用日'], errors='coerce')\n",
    "df_user_base['カード登録'] = pd.to_datetime(df_user_base['カード登録'], errors='coerce')\n",
    "df_user_base['アプリ最終利用日'] = pd.to_datetime(df_user_base['アプリ最終利用日'], errors='coerce')\n",
    "df_user_base['birthday'] = pd.to_datetime(df_user_base['birthday'], errors='coerce')\n",
    "\n",
    "# 6歳未満(1543個)と100歳以上(12個)を削除\n",
    "df_user_base = df_user_base[ (df_user_base['birthday'] < pd.to_datetime('2017-01-01')) & (df_user_base['birthday'] > pd.to_datetime('1924-01-01'))]\n",
    "\n",
    "# df_user_baseに\"age\"と\"age_group\"のカラムを追加\n",
    "df_user_base['age'] = pd.Timestamp.now().year - df_user_base['birthday'].dt.year    # ageの算出・追加\n",
    "\n",
    "df_user_base = df_user_base.sort_values(by='アプリ登録日時')"
   ]
  },
  {
   "cell_type": "markdown",
   "id": "571b14d5-456e-4097-88dd-e6bd7f164271",
   "metadata": {},
   "source": [
    "郵便局上3桁でワンホットエンコーディング"
   ]
  },
  {
   "cell_type": "markdown",
   "id": "c9cd6468-24fd-4fdc-bd0b-bedf6ec72c46",
   "metadata": {},
   "source": [
    "#### 1.3.2. df_point_history(point_history.csv)のクレンジング"
   ]
  },
  {
   "cell_type": "markdown",
   "id": "0826b2c8-c664-404a-bb08-059d8318088c",
   "metadata": {},
   "source": [
    "## TODO:　store_latitude,store_longitudeと、userの緯度経度から、利用店舗との距離を算出してカラムに追加する"
   ]
  },
  {
   "cell_type": "code",
   "execution_count": null,
   "id": "c0171db7-b27e-4c02-839b-83c0d8c16cbb",
   "metadata": {},
   "outputs": [],
   "source": [
    "# DataFrameのコピーを作成\n",
    "df_point_history = df_point_history_sorce.copy()\n",
    "\n",
    "# objectをdatetimeに変更\n",
    "df_point_history['use_date'] = pd.to_datetime(df_point_history['use_date'], errors='coerce')\n",
    "\n",
    "feature_list_point = [\n",
    "    'user_id',\n",
    "    'super',\n",
    "    'status',\n",
    "    'shop_name_1',\n",
    "    'amount_kg',\n",
    "    'rank_id',\n",
    "    'use_date',\n",
    "    'store_latitude',\n",
    "    'store_longitude',\n",
    "    ]\n",
    "df_point_history = df_point_history[feature_list_point]\n",
    "df_point_history = df_point_history.sort_values(by='use_date')\n",
    "\n",
    "# statusが1以外は削除\n",
    "df_point_history = df_point_history[df_point_history['status'] == 1]\n",
    "\n",
    "# amount_kgが0未満は削除\n",
    "df_point_history = df_point_history[df_point_history['amount_kg'] > 0]"
   ]
  },
  {
   "cell_type": "markdown",
   "id": "1e72f35c-b01a-40a2-9a6f-9d5738e98365",
   "metadata": {},
   "source": [
    "#### 1.3.3. 分析に必要なカラムの作成"
   ]
  },
  {
   "cell_type": "markdown",
   "id": "60eba03c",
   "metadata": {},
   "source": [
    "継続利用期間（point_historyのuse_date列からRPS最終利用日を抽出したver.）　231228 norosen"
   ]
  },
  {
   "cell_type": "code",
   "execution_count": null,
   "id": "097b28c1",
   "metadata": {},
   "outputs": [],
   "source": [
    "# 各利用者id に対して「RPS利用開始日」「RPS最終利用日」を抽出\n",
    "first_entries_RPS = df_point_history.groupby('user_id').first().reset_index()\n",
    "last_entries_RPS = df_point_history.groupby('user_id').last().reset_index()"
   ]
  },
  {
   "cell_type": "code",
   "execution_count": null,
   "id": "b10f2780",
   "metadata": {},
   "outputs": [],
   "source": [
    "# df_user_baseに利用開始日をマージ\n",
    "df_user_base = pd.merge(df_user_base, first_entries_RPS[['user_id', 'use_date']], left_on='id', right_on='user_id', how='left')\n",
    "df_user_base = df_user_base.rename(columns={'use_date':'RPS利用開始日'})\n",
    "\n",
    "# df_user_baseに最終利用日をマージ\n",
    "df_user_base = pd.merge(df_user_base, last_entries_RPS[['user_id', 'use_date']], left_on='id', right_on='user_id', how='left')\n",
    "df_user_base = df_user_base.rename(columns={'use_date':'RPS最終利用日'})\n",
    "\n",
    "\n",
    "df_user_base['RPS利用開始日'] = pd.to_datetime(df_user_base['RPS利用開始日'], errors='coerce')\n",
    "df_user_base['RPS最終利用日'] = pd.to_datetime(df_user_base['RPS最終利用日'], errors='coerce')"
   ]
  },
  {
   "cell_type": "code",
   "execution_count": null,
   "id": "97fe9b65",
   "metadata": {},
   "outputs": [],
   "source": [
    "df_user_base = df_user_base.drop(columns=['user_id_x', 'user_id_y'])"
   ]
  },
  {
   "cell_type": "code",
   "execution_count": null,
   "id": "742e3833",
   "metadata": {},
   "outputs": [],
   "source": [
    "# RPS継続利用期間を計算\n",
    "df_user_base['RPS継続利用期間(月)'] = (df_user_base['RPS最終利用日'] - df_user_base['RPS利用開始日']).dt.days / 30  # 月単位で計算\n",
    "df_user_base = df_user_base[df_user_base['RPS継続利用期間(月)'] >= 0]"
   ]
  },
  {
   "cell_type": "code",
   "execution_count": null,
   "id": "b41dad68-9547-4596-aa3c-c8ab99cfdfee",
   "metadata": {},
   "outputs": [],
   "source": [
    "# 2022年11月1日以前のデータをフィルタリング\n",
    "df_user_base = df_user_base[df_user_base['RPS利用開始日'] <= pd.Timestamp('2022-11-01')]"
   ]
  },
  {
   "cell_type": "markdown",
   "id": "f236de65-078b-4ca7-8481-924fda9b01e4",
   "metadata": {},
   "source": [
    "#### 1.3.4. マージ"
   ]
  },
  {
   "cell_type": "code",
   "execution_count": null,
   "id": "6127821c-0832-4aab-aeea-5d36f0fc8fc0",
   "metadata": {},
   "outputs": [],
   "source": [
    "# 月ごとにamount_kgを合計して、カラムに追加\n",
    "monthly_grouped_point = df_point_history.groupby(['user_id', df_point_history['use_date'].dt.to_period('M')])['amount_kg'].sum()\n",
    "monthly_grouped_point = monthly_grouped_point.reset_index()"
   ]
  },
  {
   "cell_type": "code",
   "execution_count": null,
   "id": "46894a5e-66a2-4eb6-aa69-6c72789448ea",
   "metadata": {},
   "outputs": [],
   "source": [
    "pivot_df = monthly_grouped_point.pivot(index='user_id', columns='use_date', values='amount_kg')"
   ]
  },
  {
   "cell_type": "code",
   "execution_count": null,
   "id": "e1dbe1b3-870a-48ae-b6a9-5ed51ce9bf53",
   "metadata": {},
   "outputs": [],
   "source": [
    "merged_df = pd.merge(pivot_df, df_user_base,  left_on='user_id', right_on='id', how='inner')"
   ]
  },
  {
   "cell_type": "code",
   "execution_count": null,
   "id": "83d5a10e-50ed-40eb-80d0-360aa5ad3e2f",
   "metadata": {},
   "outputs": [],
   "source": [
    "# merged_df['use_date'] = pd.to_datetime(merged_df['use_date'])\n",
    "# merged_df['use_year'] = merged_df['use_date'].dt.year\n",
    "# merged_df['use_month'] = merged_df['use_date'].dt.month\n",
    "merged_df = merged_df.drop(columns = ['birthday',\n",
    "                                      'RPS利用開始日',\n",
    "                                      'RPS最終利用日',\n",
    "                                      'アプリ最終利用日',\n",
    "                                      'アプリ登録日時',\n",
    "                                      'カード登録',\n",
    "                                     ])"
   ]
  },
  {
   "cell_type": "code",
   "execution_count": null,
   "id": "b2557443-f50e-4f3e-82dc-e71cc886d94b",
   "metadata": {},
   "outputs": [],
   "source": [
    "merged_df = pd.get_dummies(merged_df,columns=['gender'])"
   ]
  },
  {
   "cell_type": "code",
   "execution_count": null,
   "id": "8f5c5ac0-242f-49a6-a791-0f5a6c7ba5c5",
   "metadata": {},
   "outputs": [],
   "source": [
    "merged_df = merged_df.astype(float)"
   ]
  },
  {
   "cell_type": "markdown",
   "id": "cd77f25f-516d-4097-81ad-d5a25261a80e",
   "metadata": {},
   "source": [
    "#### 1.3.5. マージ後のカラム作成"
   ]
  },
  {
   "cell_type": "markdown",
   "id": "e8adb228-06eb-461f-a304-2ed172465740",
   "metadata": {},
   "source": [
    "recycle amount per year  \n",
    "　→　マージした後、2023年10月～2022年10月までの期間の平均に変更  \r\n",
    "　　　　（ゆくゆくは、新規ユーザに適用するなら、3か月前など期間を狭める  \r\n"
   ]
  },
  {
   "cell_type": "code",
   "execution_count": null,
   "id": "495862c5-39ab-4b3c-85cb-460b11327ac2",
   "metadata": {},
   "outputs": [],
   "source": []
  },
  {
   "cell_type": "markdown",
   "id": "ea7809fa-2fa3-4056-8b45-48c3329c53e4",
   "metadata": {},
   "source": [
    "#### 標準化"
   ]
  },
  {
   "cell_type": "code",
   "execution_count": null,
   "id": "75031a64-e24e-48ee-904c-666321ea75eb",
   "metadata": {},
   "outputs": [],
   "source": [
    "merged_df.columns = merged_df.columns.astype(str)"
   ]
  },
  {
   "cell_type": "code",
   "execution_count": null,
   "id": "ac1b6967-c9cd-4e78-a042-9e3780d572c7",
   "metadata": {},
   "outputs": [],
   "source": [
    "# merged_df = merged_df[['平均rank','RPS継続利用期間(月)','毎月平均ガチャの取得量',\n",
    "#                         '2022-01', '2022-02', '2022-03', '2022-04', '2022-05', '2022-06',\n",
    "#                          '2022-07', '2022-08', '2022-09', '2022-10', '2022-11', '2022-12',\n",
    "#                           '2023-01', '2023-02', '2023-03', '2023-04', '2023-05', '2023-06',\n",
    "#                            '2023-07', '2023-08', '2023-09', '2023-10', '2023-11']]"
   ]
  },
  {
   "cell_type": "code",
   "execution_count": null,
   "id": "6ac67dd4-3b8d-4f60-a490-a5239a8e5b5d",
   "metadata": {},
   "outputs": [],
   "source": [
    "merged_df = merged_df.drop(columns = ['2020-01', '2020-02', '2020-03', '2020-04', '2020-05', '2020-06', '2020-07', '2020-08', '2020-09', '2020-10',\n",
    "                                      '2020-11', '2020-12', '2021-01', '2021-02', '2021-03', '2021-04', '2021-05', '2021-06', '2021-07', '2021-08',\n",
    "                                      '2021-09', '2021-10', '2021-11', '2021-12', \n",
    "                                      '2022-01', '2022-02', '2022-03', '2022-04', '2022-05', '2022-06', '2022-07', '2022-08', '2022-09', '2022-10',\n",
    "                                      '2022-11', '2022-12', '2023-12',\n",
    "                                      'gender_女', 'gender_無回答', 'gender_男', '毎月平均ガチャの使用量', '毎月平均ガチャの取得量',\n",
    "                                      'recycle_amount_after_gold_member', 'id', 'club_coin', 'recycle_point', '登録店舗との距離', '毎月平均クラブコインの使用量'\n",
    "                                      \n",
    "                                     ])"
   ]
  },
  {
   "cell_type": "code",
   "execution_count": null,
   "id": "742e3e91-f766-4b63-bc5c-d628ef0b0a0d",
   "metadata": {},
   "outputs": [],
   "source": [
    "merged_df = merged_df.fillna(0)"
   ]
  },
  {
   "cell_type": "code",
   "execution_count": null,
   "id": "2487b641-e879-4a01-bea0-94b4940ec825",
   "metadata": {},
   "outputs": [],
   "source": [
    "# 2023-11カラムの値が0以下または50以上の行を削除\n",
    "# merged_df = merged_df[~merged_df.apply(lambda x: (x <= 0).any() or (x >= 50).any(), axis=1)]\n",
    "# merged_df = merged_df[(merged_df['2023-11'] > 0) & (merged_df['2023-11'] < 50)]\n",
    "# merged_df = merged_df[(merged_df['2023-11'] > 0)]\n",
    "# merged_df = merged_df[~merged_df.apply(lambda x: (x >= 50).any(), axis=1)]\n",
    "\n",
    "# 値が50以上の行を削除\n",
    "columns_to_check = ['2023-01', '2023-02', '2023-03', '2023-04', '2023-05', '2023-06',\n",
    "                    '2023-07', '2023-08', '2023-09', '2023-10', '2023-11'\n",
    "                   ]\n",
    "\n",
    "merged_df = merged_df[~merged_df[columns_to_check].gt(20).any(axis=1)]"
   ]
  },
  {
   "cell_type": "code",
   "execution_count": null,
   "id": "679e30b9-1f21-4a50-af22-0bdd1417483f",
   "metadata": {},
   "outputs": [],
   "source": [
    "# 'for'文を使わずに拡張されたデータフレームを作成\n",
    "fill_mean_df = pd.DataFrame(merged_df)\n",
    "# 平均値の計算に使用する日付カラムのみを選択\n",
    "date_columns_no_loop = fill_mean_df.columns[:11]\n",
    "# 日付カラム内の0をNaNに置換\n",
    "date_df_no_loop = fill_mean_df[date_columns_no_loop].replace(0, np.nan)\n",
    "# NaNを除外して日付カラムの各行ごとの平均値を計算\n",
    "row_mean_no_loop = date_df_no_loop.mean(axis=1)\n",
    "\n",
    "for col in date_columns_no_loop:\n",
    "    fill_mean_df[col] = date_df_no_loop[col].fillna(row_mean_no_loop)\n",
    "\n",
    "fill_mean_df = fill_mean_df.dropna(how = 'any')"
   ]
  },
  {
   "cell_type": "code",
   "execution_count": null,
   "id": "b94847c6-0042-471b-8904-d16573cc44c7",
   "metadata": {},
   "outputs": [],
   "source": [
    "# StandardScalerのインスタンスを作成\n",
    "scaler = StandardScaler()\n",
    "\n",
    "# データフレームの全列を標準化\n",
    "# ここでは、ID列など、標準化不要な列は除外する必要があります\n",
    "columns_to_scale = merged_df.columns.difference(['gender_女',\n",
    "                                               'gender_無回答',\n",
    "                                               'gender_男'])\n",
    "fill_mean_df[columns_to_scale] = scaler.fit_transform(fill_mean_df[columns_to_scale])"
   ]
  },
  {
   "cell_type": "code",
   "execution_count": null,
   "id": "27f04c39-94f6-4678-add0-cadc1df1b08f",
   "metadata": {},
   "outputs": [],
   "source": [
    "fill_mean_df.info()"
   ]
  },
  {
   "cell_type": "markdown",
   "id": "f54b5eda-b1c5-4541-a6e2-50ea73c4cecd",
   "metadata": {},
   "source": [
    "#### Xとyに分割"
   ]
  },
  {
   "cell_type": "code",
   "execution_count": null,
   "id": "2649847e-afe0-4953-aa34-9e9f5a59256f",
   "metadata": {},
   "outputs": [],
   "source": [
    "X = fill_mean_df.drop(['2023-11'], axis=1)\n",
    "y = fill_mean_df['2023-11']"
   ]
  },
  {
   "cell_type": "markdown",
   "id": "36971143",
   "metadata": {},
   "source": [
    "# 2. 予測"
   ]
  },
  {
   "cell_type": "markdown",
   "id": "7019ab7a-a09a-4186-9f87-57973bcb1520",
   "metadata": {},
   "source": [
    "#### trainとtestに分割"
   ]
  },
  {
   "cell_type": "code",
   "execution_count": null,
   "id": "cfdc26d2-857a-4a2b-9034-4aa602cc7bf3",
   "metadata": {},
   "outputs": [],
   "source": [
    "# trainとtestに分割\n",
    "X_train, X_test, y_train, y_test = train_test_split(X, y, test_size=0.2, random_state=42)\n",
    "\n",
    "evals_result = {}  # 学習過程を記録するための辞書\n",
    "\n",
    "# LightGBMのパラメータ設定\n",
    "lgb_params = {\n",
    "    'objective': 'regression',\n",
    "    'boosting_type': 'gbdt',\n",
    "    'seed': 0,\n",
    "    'num_iterations' : 1000, # 値を小さくするとよい\n",
    "    'learning_rate' : 0.02,\n",
    "    'max_depth': 10,\n",
    "    'num_leaves': 10,\n",
    "    'metric': 'rmse'\n",
    "}\n",
    "\n",
    "train_data = lgb.Dataset(X_train, label=y_train)\n",
    "test_data = lgb.Dataset(X_test, label=y_test)"
   ]
  },
  {
   "cell_type": "markdown",
   "id": "019609d5-947b-46e8-ac55-8ca0c156002e",
   "metadata": {},
   "source": [
    "#### 学習"
   ]
  },
  {
   "cell_type": "code",
   "execution_count": null,
   "id": "55400066-f987-4e91-bf62-00c038a72bd7",
   "metadata": {},
   "outputs": [],
   "source": [
    "# トレーニングの進捗を表示するコールバックを追加\n",
    "model = lgb.train(\n",
    "    lgb_params, \n",
    "    train_data, \n",
    "    valid_sets=[train_data, test_data], \n",
    "    callbacks=[\n",
    "        lgb.callback.record_evaluation(evals_result)\n",
    "    ]\n",
    ")"
   ]
  },
  {
   "cell_type": "code",
   "execution_count": null,
   "id": "57c69ce1-4ac9-4597-918e-6384f9911705",
   "metadata": {},
   "outputs": [],
   "source": [
    "# RMSE の学習曲線をプロット\n",
    "plt.plot(evals_result['training']['rmse'], label='train')\n",
    "plt.plot(evals_result['valid_1']['rmse'], label='val')\n",
    "plt.ylabel('RMSE')\n",
    "plt.xlabel('Boosting round')\n",
    "plt.title('Training and Validation RMSE')\n",
    "plt.legend()\n",
    "plt.show()"
   ]
  },
  {
   "cell_type": "markdown",
   "id": "a651e39c-e309-4bde-8160-9a02f0b557d2",
   "metadata": {},
   "source": [
    "#### 予測"
   ]
  },
  {
   "cell_type": "code",
   "execution_count": null,
   "id": "1a91d5a1-5096-40f3-816c-1607820e3815",
   "metadata": {},
   "outputs": [],
   "source": [
    "y_pred = model.predict(X_test, num_iteration=model.best_iteration)"
   ]
  },
  {
   "cell_type": "markdown",
   "id": "9bffa874-4661-43e5-9684-758bf1d0990f",
   "metadata": {},
   "source": [
    "#### 評価"
   ]
  },
  {
   "cell_type": "code",
   "execution_count": null,
   "id": "1e624dd8-2fae-4d10-baf2-afc7f17d061e",
   "metadata": {},
   "outputs": [],
   "source": [
    "# Evaluate the predictions\n",
    "# Calculate and print evaluation metrics\n",
    "mse = mean_squared_error(y_test, y_pred)\n",
    "mae = mean_absolute_error(y_test, y_pred)\n",
    "rmse = np.sqrt(mse)\n",
    "r2 = r2_score(y_test, y_pred)\n",
    "\n",
    "print(f'Mean Squared Error (MSE): {mse}')\n",
    "print(f'Mean Absolute Error (MAE): {mae}')\n",
    "print(f'Root Mean Squared Error (RMSE): {rmse}')\n",
    "print(f'R-squared (R2): {r2}')\n",
    "\n",
    "print(\"actual\")\n",
    "print(y_test[:10].values)\n",
    "print(\"pred\")\n",
    "print(y_pred[:10])"
   ]
  },
  {
   "cell_type": "code",
   "execution_count": null,
   "id": "e4ffa451-cba5-45c7-a7e3-55f3f5299110",
   "metadata": {},
   "outputs": [],
   "source": [
    "X_train.head()"
   ]
  },
  {
   "cell_type": "code",
   "execution_count": null,
   "id": "fea03693-054b-42b5-b90e-88e9ba61966b",
   "metadata": {},
   "outputs": [],
   "source": [
    "scale = scaler.scale_\n",
    "mean = scaler.mean_"
   ]
  },
  {
   "cell_type": "code",
   "execution_count": null,
   "id": "10b50bb8-6449-4ab4-aea5-4683881a897b",
   "metadata": {},
   "outputs": [],
   "source": [
    "#スケールをもとに戻す\n",
    "y_pred_rescale  = y_pred*scaler.scale_[10] + scaler.mean_[10]\n",
    "y_train_rescale = y_train*scaler.scale_[10] + scaler.mean_[10]\n",
    "y_test_rescale  = y_test*scaler.scale_[10] + scaler.mean_[10]"
   ]
  },
  {
   "cell_type": "code",
   "execution_count": null,
   "id": "f29f2117-fdac-4642-b051-26361a863449",
   "metadata": {},
   "outputs": [],
   "source": [
    "scale = np.delete(scale, 10)\n",
    "mean = np.delete(mean, 10)"
   ]
  },
  {
   "cell_type": "code",
   "execution_count": null,
   "id": "a9e24494-f9ac-4e9a-b936-3e83612d447c",
   "metadata": {},
   "outputs": [],
   "source": [
    "X_train_rescale = X_train*scale + mean\n",
    "X_test_rescale = X_test*scale + mean"
   ]
  },
  {
   "cell_type": "code",
   "execution_count": null,
   "id": "2e2de7f9-f44e-46a9-a5ab-4b52a7630dad",
   "metadata": {},
   "outputs": [],
   "source": [
    "# numpy.ndarray を pandas.Series に変換\n",
    "y_test_rescale_series = pd.Series(y_test_rescale, name='Real_Recycle_Amount')\n",
    "y_pred_rescale_series = pd.Series(y_pred_rescale, name='Predicted_Recycle_Amount')\n",
    "\n",
    "# 結合（インデックスを無視）\n",
    "combined_df = pd.concat([X_test_rescale.reset_index(), y_test_rescale_series.reset_index(), y_pred_rescale_series.reset_index()], axis=1, ignore_index=True)"
   ]
  },
  {
   "cell_type": "code",
   "execution_count": null,
   "id": "ed2834e4-7395-4f23-a7c5-e6f2b5ab9401",
   "metadata": {},
   "outputs": [],
   "source": [
    "combined_df = combined_df.drop(columns = [0, 22, 24, 11,12,13,14,15,16,17,18,19,20,21])\n"
   ]
  },
  {
   "cell_type": "code",
   "execution_count": null,
   "id": "7a63af03-2ef5-4541-aef9-3da994b2d250",
   "metadata": {},
   "outputs": [],
   "source": [
    "# '23' と '25' の値が 1 以上離れている行を抽出\n",
    "filtered_df = combined_df[abs(combined_df[23] - combined_df[25]) >= 5]\n",
    "filtered_df"
   ]
  },
  {
   "cell_type": "code",
   "execution_count": null,
   "id": "f736a83c-1834-4387-924f-4e0886126d8c",
   "metadata": {},
   "outputs": [],
   "source": [
    "# actual vs. pred の散布図\n",
    "plt.figure(figsize=(5, 5))\n",
    "sns.scatterplot(x=y_test_rescale, y=y_pred_rescale, alpha=0.4)\n",
    "plt.title('決定係数: {}'.format(round(r2, 2)))\n",
    "plt.xlabel('amount_kg_2023-11 (正解値）')\n",
    "plt.ylabel('amount_kg_2023-11（予測値）')\n",
    "\n",
    "# # 拡大用\n",
    "# plt.xlim([-1,15])\n",
    "# plt.ylim([-1,15])\n",
    "\n",
    "# Plot a line representing perfect predictions\n",
    "plt.plot([y_test_rescale.min(), y_test_rescale.max()], [y_test_rescale.min(), y_test_rescale.max()], color='red', lw=2, linestyle='--')\n",
    "plt.tight_layout()\n",
    "plt.show()"
   ]
  },
  {
   "cell_type": "code",
   "execution_count": null,
   "id": "0e0feb26-8732-47e5-9adb-f1089f036caf",
   "metadata": {},
   "outputs": [],
   "source": [
    "# 特徴量の重要度を取得\n",
    "feature_importances = model.feature_importance(importance_type='gain')\n",
    "\n",
    "# 特徴量の重要度をプロット\n",
    "plt.figure(figsize=(10, 6))\n",
    "sns.barplot(x=feature_importances, y=model.feature_name())\n",
    "plt.title('Feature Importances')\n",
    "plt.xlabel('Importance')\n",
    "plt.ylabel('Feature')\n",
    "plt.show()"
   ]
  },
  {
   "cell_type": "code",
   "execution_count": null,
   "id": "a1b19edc-8a51-4843-9956-4c4b3a7138cb",
   "metadata": {},
   "outputs": [],
   "source": []
  },
  {
   "cell_type": "code",
   "execution_count": null,
   "id": "b2e66742-feda-40e6-9edd-833d9c6b6285",
   "metadata": {},
   "outputs": [],
   "source": []
  },
  {
   "cell_type": "code",
   "execution_count": null,
   "id": "d6b3358f-151a-4f2b-ba91-2f89a5f442e9",
   "metadata": {},
   "outputs": [],
   "source": []
  },
  {
   "cell_type": "code",
   "execution_count": null,
   "id": "4deadc89-ed84-4e32-a5c0-8674feffc752",
   "metadata": {},
   "outputs": [],
   "source": []
  }
 ],
 "metadata": {
  "kernelspec": {
   "display_name": "Python 3 (ipykernel)",
   "language": "python",
   "name": "python3"
  },
  "language_info": {
   "codemirror_mode": {
    "name": "ipython",
    "version": 3
   },
   "file_extension": ".py",
   "mimetype": "text/x-python",
   "name": "python",
   "nbconvert_exporter": "python",
   "pygments_lexer": "ipython3",
   "version": "3.11.5"
  }
 },
 "nbformat": 4,
 "nbformat_minor": 5
}
